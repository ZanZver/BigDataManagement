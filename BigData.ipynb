{
  "cells": [
    {
      "attachments": {},
      "cell_type": "markdown",
      "metadata": {
        "id": "sVq6Gj3pFB5y"
      },
      "source": [
        "# Install libraries"
      ]
    },
    {
      "cell_type": "code",
      "execution_count": null,
      "metadata": {
        "colab": {
          "base_uri": "https://localhost:8080/"
        },
        "id": "Ddj0-JykGx5r",
        "outputId": "1f5de6ba-57e7-4324-eda1-12f8e17ca660"
      },
      "outputs": [],
      "source": [
        "# !pip install pyspark\n",
        "# !pip install missingno\n",
        "# !pip install squarify\n",
        "# !pip install geopy\n",
        "# !pip install geocoder\n",
        "# !pip install neo4j\n"
      ]
    },
    {
      "attachments": {},
      "cell_type": "markdown",
      "metadata": {
        "id": "EAXV4gTbG5zH"
      },
      "source": [
        "# Import libraries"
      ]
    },
    {
      "cell_type": "code",
      "execution_count": 1,
      "metadata": {
        "id": "f31oXgtlG6ON"
      },
      "outputs": [],
      "source": [
        "from pyspark.sql import SparkSession\n",
        "from pyspark.sql.functions import to_timestamp,col,lit, regexp_replace, to_date, unix_timestamp\n",
        "import pandas as pd\n",
        "from pyspark.sql.types import *\n",
        "import missingno as msno\n",
        "from sklearn.model_selection import train_test_split\n",
        "from geopy.geocoders import Nominatim\n",
        "import plotly.express as px\n",
        "import time\n",
        "\n",
        "from matplotlib.dates import MonthLocator, DateFormatter\n",
        "import matplotlib.pyplot as plt\n",
        "import squarify\n",
        "import seaborn as sns\n",
        "import numpy as np\n",
        "from matplotlib.dates import DateFormatter, DayLocator\n",
        "\n",
        "from pyspark.sql.functions import from_unixtime\n",
        "from pyspark.sql.functions import col\n",
        "\n",
        "from neo4j import GraphDatabase\n",
        "\n",
        "from pyspark import SparkContext\n",
        "from pyspark.sql import SQLContext\n",
        "from functools import reduce\n",
        "import pyspark.sql.functions as F\n",
        "from io import StringIO"
      ]
    },
    {
      "attachments": {},
      "cell_type": "markdown",
      "metadata": {
        "id": "49TkXBaKGz8q"
      },
      "source": [
        "# Setup Spark"
      ]
    },
    {
      "cell_type": "code",
      "execution_count": 2,
      "metadata": {
        "colab": {
          "base_uri": "https://localhost:8080/",
          "height": 330
        },
        "id": "h-KWu0IPG1gW",
        "outputId": "f58d0d03-dd12-44ca-903c-a580877f243b"
      },
      "outputs": [
        {
          "data": {
            "text/html": [
              "\n",
              "            <div>\n",
              "                <p><b>SparkSession - in-memory</b></p>\n",
              "                \n",
              "        <div>\n",
              "            <p><b>SparkContext</b></p>\n",
              "\n",
              "            <p><a href=\"http://10.10.10.14:4040\">Spark UI</a></p>\n",
              "\n",
              "            <dl>\n",
              "              <dt>Version</dt>\n",
              "                <dd><code>v3.3.2</code></dd>\n",
              "              <dt>Master</dt>\n",
              "                <dd><code>local[*]</code></dd>\n",
              "              <dt>AppName</dt>\n",
              "                <dd><code>pyspark-shell</code></dd>\n",
              "            </dl>\n",
              "        </div>\n",
              "        \n",
              "            </div>\n",
              "        "
            ],
            "text/plain": [
              "<pyspark.sql.session.SparkSession at 0x7f8e0de63340>"
            ]
          },
          "execution_count": 2,
          "metadata": {},
          "output_type": "execute_result"
        }
      ],
      "source": [
        "spark = SparkSession.builder.master(\"local[*]\").getOrCreate()\n",
        "spark"
      ]
    },
    {
      "attachments": {},
      "cell_type": "markdown",
      "metadata": {
        "id": "MByxeLFjJkpo"
      },
      "source": [
        "# Get Data"
      ]
    },
    {
      "attachments": {},
      "cell_type": "markdown",
      "metadata": {
        "id": "-2X1B-vTJmGm"
      },
      "source": [
        "## Data sources"
      ]
    },
    {
      "cell_type": "code",
      "execution_count": 3,
      "metadata": {
        "id": "9XnLDoZfKCvO"
      },
      "outputs": [],
      "source": [
        "base_url = \"https://raw.githubusercontent.com/ZanZver/BigDataManagement/main/Data/\"\n",
        "chat_data = \"chat-data/\"\n",
        "flamingo_data = \"flamingo-data/\"\n",
        "data_sources = {\n",
        "  \"chat-join-team-chat\": f\"{base_url}{chat_data}chat_join_team_chat.csv\",\n",
        "  \"chat-leave-team-chat\": f\"{base_url}{chat_data}chat_leave_team_chat.csv\",\n",
        "  \"chat-mention-team-chat\": f\"{base_url}{chat_data}chat_mention_team_chat.csv\",\n",
        "  \"chat-respond-team-chat\": f\"{base_url}{chat_data}chat_respond_team_chat.csv\",\n",
        "  \"ad-clicks\": f\"{base_url}{flamingo_data}ad-clicks.csv\",\n",
        "  \"buy-clicks\": f\"{base_url}{flamingo_data}buy-clicks.csv\",\n",
        "  \"game-clicks\": f\"{base_url}{flamingo_data}game-clicks.csv\",\n",
        "  \"level-events\": f\"{base_url}{flamingo_data}level-events.csv\",\n",
        "  \"team-assignments\": f\"{base_url}{flamingo_data}team-assignments.csv\",\n",
        "  \"team\": f\"{base_url}{flamingo_data}team.csv\",\n",
        "  \"user-session\": f\"{base_url}{flamingo_data}user-session.csv\",\n",
        "  \"users\": f\"{base_url}{flamingo_data}users.csv\",\n",
        "  \"combined-data\": f\"{base_url}combined-data.csv\",\n",
        "}"
      ]
    },
    {
      "attachments": {},
      "cell_type": "markdown",
      "metadata": {
        "id": "dOAfTMe6pv8G"
      },
      "source": [
        "## Load the data"
      ]
    },
    {
      "cell_type": "code",
      "execution_count": 4,
      "metadata": {
        "id": "d2ZiMYzZpx41"
      },
      "outputs": [],
      "source": [
        "data_loaded = {\n",
        "  \"chat_join_team_chat_pd\": pd.read_csv(data_sources[\"chat-join-team-chat\"]),\n",
        "  \"chat_leave_team_chat_pd\": pd.read_csv(data_sources[\"chat-leave-team-chat\"]),\n",
        "  \"chat_mention_team_chat_pd\": pd.read_csv(data_sources[\"chat-mention-team-chat\"]),\n",
        "  \"chat_respond_team_chat_pd\": pd.read_csv(data_sources[\"chat-respond-team-chat\"]),\n",
        "  \"ad_clicks_pd\": pd.read_csv(data_sources[\"ad-clicks\"]),\n",
        "  \"buy_clicks_pd\": pd.read_csv(data_sources[\"buy-clicks\"]),\n",
        "  \"game_clicks_pd\": pd.read_csv(data_sources[\"game-clicks\"]),\n",
        "  \"level_events_pd\": pd.read_csv(data_sources[\"level-events\"]),\n",
        "  \"team_assignments_pd\": pd.read_csv(data_sources[\"team-assignments\"]),\n",
        "  \"team_pd\": pd.read_csv(data_sources[\"team\"]),\n",
        "  \"user_session_pd\": pd.read_csv(data_sources[\"user-session\"]),\n",
        "  \"users_pd\": pd.read_csv(data_sources[\"users\"]),\n",
        "  \"combined_data_pd\": pd.read_csv(data_sources[\"combined-data\"]),\n",
        "}"
      ]
    },
    {
      "attachments": {},
      "cell_type": "markdown",
      "metadata": {},
      "source": [
        "### Date transformation"
      ]
    },
    {
      "cell_type": "code",
      "execution_count": 5,
      "metadata": {},
      "outputs": [],
      "source": [
        "def convert_date_time_to_unix(data_frame):\n",
        "    data_frame = pd.to_datetime(data_frame, format='%Y-%m-%d %H:%M:%S')\n",
        "    data_frame = data_frame.astype(int) // 10**9\n",
        "    return data_frame\n",
        "\n",
        "def convert_date_to_unix(data_frame):\n",
        "    data_frame = pd.to_datetime(data_frame, format='%Y-%m-%d %H:%M:%S')\n",
        "    data_frame = data_frame.astype(int) // 10**9\n",
        "    return data_frame\n",
        "\n",
        "data_frames = [\"ad_clicks_pd\", \"buy_clicks_pd\", \"game_clicks_pd\", \"level_events_pd\", \"team_assignments_pd\", \n",
        "               \"team_pd\", \"user_session_pd\", \"users_pd\"]\n",
        "for df_name in data_frames:\n",
        "    if df_name == \"team_pd\":\n",
        "        data_loaded[df_name][\"teamEndTime\"] = data_loaded[df_name][\"teamEndTime\"].replace('9999-12-31 23:59:59', \"2038-01-19 03:14:07\")\n",
        "        data_loaded[df_name][\"teamEndTime\"] = convert_date_time_to_unix(data_loaded[df_name][\"teamEndTime\"])\n",
        "        data_loaded[df_name][\"teamCreationTime\"] = convert_date_time_to_unix(data_loaded[df_name][\"teamCreationTime\"])\n",
        "    else:\n",
        "        data_loaded[df_name][\"timestamp\"] = convert_date_time_to_unix(data_loaded[df_name][\"timestamp\"])\n",
        "        \n",
        "data_loaded[\"users_pd\"][\"dob\"] = convert_date_time_to_unix(data_loaded[\"users_pd\"][\"dob\"])\n"
      ]
    },
    {
      "attachments": {},
      "cell_type": "markdown",
      "metadata": {
        "id": "iUX3NXutn3Wz"
      },
      "source": [
        "## EDA"
      ]
    },
    {
      "attachments": {},
      "cell_type": "markdown",
      "metadata": {
        "id": "gIg-zzxdzxEr"
      },
      "source": [
        "### Functions"
      ]
    },
    {
      "cell_type": "code",
      "execution_count": 6,
      "metadata": {
        "id": "TRhX0oDpz3RR"
      },
      "outputs": [],
      "source": [
        "def convert_unix_to_datetime(data_frame, column_name):\n",
        "    # Check if the column is already a datetime type or is null\n",
        "    if pd.api.types.is_datetime64_any_dtype(data_frame[column_name]) or pd.isnull(data_frame[column_name]).all():\n",
        "        return data_frame\n",
        "    \n",
        "    data_frame = data_frame.copy()\n",
        "    # Convert Unix time to datetime object\n",
        "    data_frame[column_name] = pd.to_datetime(data_frame[column_name], unit='s', errors='coerce')\n",
        "    \n",
        "    # Set null values to Unix 32-bit maximum value\n",
        "    #data_frame[column_name] = data_frame[column_name].fillna(pd.Timestamp(np.datetime64('2038-01-19 03:14:07')))\n",
        "    \n",
        "    # Return the updated dataframe\n",
        "    return data_frame\n",
        "\n",
        "import matplotlib.pyplot as plt\n",
        "from matplotlib.dates import DateFormatter, MonthLocator\n",
        "\n",
        "def generate_timeseries_plot(data_frame, col_1, x_label, y_label, title, file_Path):\n",
        "    \n",
        "    # Convert the 'created_utc' column to datetime\n",
        "    data_frame = convert_unix_to_datetime(data_frame[[col_1]], col_1)\n",
        "\n",
        "    # Group the data by month and count the number of posts per month\n",
        "    counts = data_frame.groupby(pd.Grouper(key=col_1, freq='D')).size()\n",
        "\n",
        "    # Create a figure and axis\n",
        "    fig, ax = plt.subplots()\n",
        "    plt.xticks(rotation=90)\n",
        "\n",
        "    # Plot the data as a line chart\n",
        "    ax.plot(counts.index, counts.values)\n",
        "\n",
        "    # Set the x-axis ticks to show every 4 months\n",
        "    ax.xaxis.set_major_locator(MonthLocator(interval=4))\n",
        "\n",
        "    # Set the x-axis tick labels to display the month and year\n",
        "    ax.xaxis.set_major_formatter(DateFormatter('%b %Y'))\n",
        "\n",
        "    # Set the axis labels\n",
        "    ax.set_xlabel(x_label)\n",
        "    ax.set_ylabel(y_label)\n",
        "\n",
        "    # Set the title\n",
        "    ax.set_title(title)\n",
        "\n",
        "    # Save the figure to the specified file path\n",
        "    plt.savefig(file_Path)\n",
        "\n",
        "    # Close the figure to free up resources\n",
        "    plt.close(fig)\n",
        "\n",
        "def count_occurrences(items):\n",
        "    # initialize an empty dictionary to store the counts\n",
        "    counts = {}\n",
        "    \n",
        "    # loop through the items\n",
        "    for item in items:\n",
        "        # check if the item is already in the dictionary\n",
        "        if item in counts:\n",
        "            # if it is, increment the count by 1\n",
        "            counts[item] += 1\n",
        "        else:\n",
        "            # if it's not, add it to the dictionary with a count of 1\n",
        "            counts[item] = 1\n",
        "    \n",
        "    # convert the dictionary to a DataFrame\n",
        "    df_counts = pd.DataFrame(list(counts.items()), columns=['item', 'count'])\n",
        "    \n",
        "    # return the DataFrame\n",
        "    return df_counts\n",
        "\n",
        "def generate_tree_map(data_frame, item_1, item_2, item_1_txt, item_2_txt, title, file_Path):\n",
        "    def format_label(item_1_val, item_2_val):\n",
        "        return f\"{item_1_txt}:\\n{item_1_val}\\n{item_2_txt}:\\n{item_2_val}\"\n",
        "\n",
        "    squarify.plot(sizes=data_frame[item_1], \n",
        "                label=[format_label(item_1, item_2) for item_1, item_2 \n",
        "                        in zip(data_frame[item_1], data_frame[item_2])],\n",
        "                color=sns.color_palette(\"pastel\", len(data_frame)))\n",
        "\n",
        "    # Save the treemap to the specified file path\n",
        "    plt.savefig(file_Path)\n",
        "\n",
        "    # Close the figure to free up resources\n",
        "    plt.close()\n",
        "    \n",
        "def create_ad_graph(data_frame, file_Path):\n",
        "    adIds_1 = data_frame[\"adId\"]\n",
        "    adCategories_1 = data_frame[\"adCategory\"]\n",
        "\n",
        "    # Create a dictionary to store the number of occurrences for each adCategory\n",
        "    categories_count = {}\n",
        "    for category in adCategories_1:\n",
        "        if category not in categories_count:\n",
        "            categories_count[category] = 0\n",
        "        categories_count[category] += 1\n",
        "    \n",
        "    # Create a list of colors to use for each adCategory\n",
        "    colors = []\n",
        "    for category in adCategories_1:\n",
        "        colors.append('C' + str(list(categories_count.keys()).index(category)))\n",
        "    \n",
        "    # Create a dictionary to store the handles and labels for each adCategory\n",
        "    handles = {}\n",
        "    for category in categories_count:\n",
        "        index = list(categories_count.keys()).index(category)\n",
        "        handles[category] = plt.scatter([], [], c='C' + str(index), label=category)\n",
        "    \n",
        "    # Create the scatter plot and legend\n",
        "    plt.scatter(adIds_1, adCategories_1, c=colors)\n",
        "    plt.xlabel('adId')\n",
        "    plt.ylabel('adCategory')\n",
        "    plt.legend(handles=handles.values(), labels=handles.keys(), bbox_to_anchor=(1.05, 1), loc='upper left')\n",
        "\n",
        "    # Save the scatter plot to the specified file path\n",
        "    plt.savefig(file_Path)\n",
        "\n",
        "    # Close the figure to free up resources\n",
        "    plt.close()\n",
        "\n",
        "def create_histogram(column, num_show, file_Path):\n",
        "    # create histogram data\n",
        "    hist_data = column.value_counts().sort_values(ascending=False).head(num_show)\n",
        "\n",
        "    # create histogram\n",
        "    hist = hist_data.plot(kind='bar', width=0.8)\n",
        "\n",
        "    # customize plot\n",
        "    plt.xlabel('Team ID')\n",
        "    plt.ylabel('Count')\n",
        "    plt.title('Team IDs Histogram')\n",
        "\n",
        "    # Save the histogram plot to the specified file path\n",
        "    plt.savefig(file_Path)\n",
        "\n",
        "    # Close the figure to free up resources\n",
        "    plt.close()\n",
        "\n",
        "\n",
        "def create_correlation_plot(data_frame, file_Path):\n",
        "    # create correlation plot\n",
        "    corr = data_frame.corr()\n",
        "    sns.heatmap(corr, annot=True, cmap='coolwarm')\n",
        "\n",
        "    # Save the correlation plot to the specified file path\n",
        "    plt.savefig(file_Path)\n",
        "\n",
        "    # Close the figure to free up resources\n",
        "    plt.close()\n",
        "\n",
        "\n",
        "def create_pie_chart(data_frame, file_Path):\n",
        "    # create pie chart data\n",
        "    pie_data = data_frame.value_counts()\n",
        "\n",
        "    # create pie chart\n",
        "    fig, ax = plt.subplots()\n",
        "    ax.pie(pie_data, labels=pie_data.index, autopct='%1.1f%%')\n",
        "\n",
        "    # customize plot\n",
        "    ax.set_title('Platform Type Distribution')\n",
        "\n",
        "    # Save the pie chart to the specified file path\n",
        "    plt.savefig(file_Path)\n",
        "\n",
        "    # Close the figure to free up resources\n",
        "    plt.close()\n",
        "\n",
        "\n",
        "def create_multi_graph(data_frame, file_Path):\n",
        "    # group data by platformType and calculate the sum of game clicks and hits\n",
        "    grouped_data = data_frame.groupby('platformType').sum()\n",
        "\n",
        "    # create grouped bar chart\n",
        "    x_labels = grouped_data.index.values\n",
        "    x = np.arange(len(x_labels))\n",
        "    width = 0.35\n",
        "    fig, ax = plt.subplots()\n",
        "    rects1 = ax.bar(x - width/2, grouped_data['count_gameclicks'], width, label='Game Clicks')\n",
        "    rects2 = ax.bar(x + width/2, grouped_data['count_hits'], width, label='Hits')\n",
        "\n",
        "    # customize plot\n",
        "    ax.set_xticks(x)\n",
        "    ax.set_xticklabels(x_labels)\n",
        "    ax.set_ylabel('Counts')\n",
        "    ax.set_title('Counts by Platform Type')\n",
        "    ax.legend()\n",
        "\n",
        "    # Save the grouped bar chart to the specified file path\n",
        "    plt.savefig(file_Path)\n",
        "\n",
        "    # Close the figure to free up resources\n",
        "    plt.close()\n",
        "\n",
        "\n",
        "def create_price_histogram(data_frame, file_Path):\n",
        "    # group data by platformType and calculate the average price\n",
        "    grouped_data = data_frame.groupby('platformType').mean()\n",
        "\n",
        "    # create bar chart\n",
        "    x_labels = grouped_data.index.values\n",
        "    x = np.arange(len(x_labels))\n",
        "    fig, ax = plt.subplots()\n",
        "    ax.bar(x, grouped_data['avg_price'])\n",
        "\n",
        "    # customize plot\n",
        "    ax.set_xticks(x)\n",
        "    ax.set_xticklabels(x_labels)\n",
        "    ax.set_ylabel('Average Price')\n",
        "    ax.set_title('Average Price by Platform Type')\n",
        "\n",
        "    # Save the bar chart to the specified file path\n",
        "    plt.savefig(file_Path)\n",
        "\n",
        "    # Close the figure to free up resources\n",
        "    plt.close()\n",
        "\n",
        "    \n",
        "def generate_timeseries_plot_2(data_frame, col_1, col_2, x_label, y_label, title, file_Path):\n",
        "    # Convert the 'created_utc' column to datetime\n",
        "    data_frame_1 = convert_unix_to_datetime(data_frame[[col_1]], col_1)\n",
        "    data_frame_2 = convert_unix_to_datetime(data_frame[[col_2]], col_2)\n",
        "\n",
        "    # Remove rows that contain datetime value '2038-01-19 03:14:07' in data_frame_1\n",
        "    data_frame_1 = data_frame_1[data_frame_1[col_1] != pd.to_datetime('2038-01-19 03:14:07')]\n",
        "\n",
        "    # Remove rows that contain datetime value '2038-01-19 03:14:07' in data_frame_2\n",
        "    data_frame_2 = data_frame_2[data_frame_2[col_2] != pd.to_datetime('2038-01-19 03:14:07')]\n",
        "\n",
        "    # Group the data by day and count the number of posts per day\n",
        "    counts_1 = data_frame_1.groupby(pd.Grouper(key=col_1, freq='D')).size()\n",
        "    counts_2 = data_frame_2.groupby(pd.Grouper(key=col_2, freq='D')).size()\n",
        "\n",
        "    # Create a figure and axis\n",
        "    fig, ax = plt.subplots()\n",
        "    plt.xticks(rotation=90)\n",
        "\n",
        "    # Plot the data as a line chart\n",
        "    ax.plot(counts_1.index, counts_1.values)\n",
        "    ax.plot(counts_2.index, counts_2.values, dashes=[4, 4])\n",
        "\n",
        "    # Set the x-axis ticks to show every day\n",
        "    ax.xaxis.set_major_locator(DayLocator())\n",
        "\n",
        "    # Set the x-axis tick labels to display the month and year\n",
        "    ax.xaxis.set_major_formatter(DateFormatter('%b %Y'))\n",
        "\n",
        "    # Set the axis labels\n",
        "    ax.set_xlabel(x_label)\n",
        "    ax.set_ylabel(y_label)\n",
        "\n",
        "    # Set the title\n",
        "    ax.set_title(title)\n",
        "\n",
        "    # Save the plot to a file\n",
        "    fig.savefig(file_Path)\n",
        "    plt.close(fig)\n",
        "\n",
        "\n",
        "def create_team_strength(data_frame, x_lab, y_lab, file_Path, asc=False, lim=20):\n",
        "    # sort, then reset index\n",
        "    data_frame = data_frame.sort_values('strength', ascending=asc).reset_index(drop=True).head(lim)\n",
        "\n",
        "    ax = sns.pointplot(x=data_frame.index, y=data_frame.strength)\n",
        "    ax.set_xlabel(x_lab)\n",
        "    ax.set_ylabel(y_lab)\n",
        "\n",
        "    # Use name column to label x ticks\n",
        "    _ = ax.set_xticklabels(data_frame.teamId.astype(str).values)\n",
        "\n",
        "    # Save the point plot to the specified file path\n",
        "    plt.savefig(file_Path)\n",
        "\n",
        "    # Close the figure to free up resources\n",
        "    plt.close()\n",
        "\n",
        "\n",
        "def create_histogram_session(data_frame, file_Path):\n",
        "    # group the data by sessionType and platformType, and count the occurrences\n",
        "    grouped = data_frame.groupby(['sessionType', 'platformType']).size().unstack()\n",
        "\n",
        "    # create a stacked bar chart\n",
        "    grouped.plot(kind='bar', stacked=True)\n",
        "\n",
        "    # set the x-axis label\n",
        "    plt.xlabel('Platform Type')\n",
        "\n",
        "    # set the y-axis label\n",
        "    plt.ylabel('Count')\n",
        "\n",
        "    # set the title\n",
        "    plt.title('Session Status by Platform Type')\n",
        "\n",
        "    # save the stacked bar chart to the specified file path\n",
        "    plt.savefig(file_Path)\n",
        "\n",
        "    # close the figure to free up resources\n",
        "    plt.close()\n",
        "\n",
        "\n",
        "def create_dob_histogram(data_frame, file_Path):\n",
        "    # Sample data\n",
        "    data = {'dob': data_frame}\n",
        "    df = pd.DataFrame(data)\n",
        "\n",
        "    # Convert dob to datetime object\n",
        "    df['dob'] = pd.to_datetime(df['dob'])\n",
        "\n",
        "    # Extract year from dob\n",
        "    df['year'] = df['dob'].dt.year\n",
        "\n",
        "    # Create histogram\n",
        "    plt.hist(df['year'], bins=10)\n",
        "    plt.xlabel('Year')\n",
        "    plt.ylabel('Frequency')\n",
        "    plt.title('Histogram of Birth Years')\n",
        "\n",
        "    # Save the histogram plot to the specified file path\n",
        "    plt.savefig(file_Path)\n",
        "\n",
        "    # Close the figure to free up resources\n",
        "    plt.close()\n",
        "\n",
        "\n",
        "def prepare_the_countries():\n",
        "    tmp_data = data_loaded[\"users_pd\"][\"country\"].to_list()\n",
        "    tmp_data = [str(x) for x in tmp_data]\n",
        "    return [x for x in tmp_data if x != 'nan']\n",
        "\n",
        "def create_world_map():\n",
        "    # Sample data\n",
        "    data = {'country': prepare_the_countries()}\n",
        "    df = pd.DataFrame(data)\n",
        "\n",
        "    # Initialize geolocator\n",
        "    geolocator = Nominatim(user_agent=\"big_data_application\")#, timeout=10)\n",
        "\n",
        "    # Define function to get latitude and longitude from country name\n",
        "    def get_lat_lon(country):\n",
        "        try:\n",
        "          #time.sleep(20)\n",
        "          location = geolocator.geocode(country)\n",
        "          return (location.latitude, location.longitude)\n",
        "        except:\n",
        "          return (42.1368853, 13.610341022538911)\n",
        "\n",
        "    # Add the latitude and longitude to the dataframe\n",
        "    df['lat'], df['lon'] = zip(*df['country'].apply(get_lat_lon))\n",
        "\n",
        "    # Create dictionary of counts for each country\n",
        "    counts = df['country'].value_counts().to_dict()\n",
        "\n",
        "    # Create list of circle sizes for each country\n",
        "    sizes = [1 * counts[c] for c in df['country']]\n",
        "\n",
        "    # Create map graph\n",
        "    fig = px.scatter_geo(df, lat='lat', lon='lon', color='country', size=sizes)\n",
        "    fig.update_layout(title='Map of Countries')\n",
        "    fig.show()\n"
      ]
    },
    {
      "attachments": {},
      "cell_type": "markdown",
      "metadata": {
        "id": "C3n7U-59_Z4m"
      },
      "source": [
        "### ad clicks"
      ]
    },
    {
      "cell_type": "code",
      "execution_count": 7,
      "metadata": {
        "colab": {
          "base_uri": "https://localhost:8080/",
          "height": 357
        },
        "id": "xZYtJ-IBA7Db",
        "outputId": "808a2087-f9af-4f8a-f59c-776e9c59ec88"
      },
      "outputs": [
        {
          "data": {
            "text/html": [
              "<div>\n",
              "<style scoped>\n",
              "    .dataframe tbody tr th:only-of-type {\n",
              "        vertical-align: middle;\n",
              "    }\n",
              "\n",
              "    .dataframe tbody tr th {\n",
              "        vertical-align: top;\n",
              "    }\n",
              "\n",
              "    .dataframe thead th {\n",
              "        text-align: right;\n",
              "    }\n",
              "</style>\n",
              "<table border=\"1\" class=\"dataframe\">\n",
              "  <thead>\n",
              "    <tr style=\"text-align: right;\">\n",
              "      <th></th>\n",
              "      <th>timestamp</th>\n",
              "      <th>txId</th>\n",
              "      <th>userSessionId</th>\n",
              "      <th>teamId</th>\n",
              "      <th>userId</th>\n",
              "      <th>adId</th>\n",
              "      <th>adCategory</th>\n",
              "    </tr>\n",
              "  </thead>\n",
              "  <tbody>\n",
              "    <tr>\n",
              "      <th>0</th>\n",
              "      <td>1464275602</td>\n",
              "      <td>5974</td>\n",
              "      <td>5809</td>\n",
              "      <td>27</td>\n",
              "      <td>611</td>\n",
              "      <td>2</td>\n",
              "      <td>electronics</td>\n",
              "    </tr>\n",
              "    <tr>\n",
              "      <th>1</th>\n",
              "      <td>1464275844</td>\n",
              "      <td>5976</td>\n",
              "      <td>5705</td>\n",
              "      <td>18</td>\n",
              "      <td>1874</td>\n",
              "      <td>21</td>\n",
              "      <td>movies</td>\n",
              "    </tr>\n",
              "    <tr>\n",
              "      <th>2</th>\n",
              "      <td>1464276172</td>\n",
              "      <td>5978</td>\n",
              "      <td>5791</td>\n",
              "      <td>53</td>\n",
              "      <td>2139</td>\n",
              "      <td>25</td>\n",
              "      <td>computers</td>\n",
              "    </tr>\n",
              "    <tr>\n",
              "      <th>3</th>\n",
              "      <td>1464276177</td>\n",
              "      <td>5973</td>\n",
              "      <td>5756</td>\n",
              "      <td>63</td>\n",
              "      <td>212</td>\n",
              "      <td>10</td>\n",
              "      <td>fashion</td>\n",
              "    </tr>\n",
              "    <tr>\n",
              "      <th>4</th>\n",
              "      <td>1464276178</td>\n",
              "      <td>5980</td>\n",
              "      <td>5920</td>\n",
              "      <td>9</td>\n",
              "      <td>1027</td>\n",
              "      <td>20</td>\n",
              "      <td>clothing</td>\n",
              "    </tr>\n",
              "  </tbody>\n",
              "</table>\n",
              "</div>"
            ],
            "text/plain": [
              "    timestamp  txId  userSessionId  teamId  userId  adId   adCategory\n",
              "0  1464275602  5974           5809      27     611     2  electronics\n",
              "1  1464275844  5976           5705      18    1874    21       movies\n",
              "2  1464276172  5978           5791      53    2139    25    computers\n",
              "3  1464276177  5973           5756      63     212    10      fashion\n",
              "4  1464276178  5980           5920       9    1027    20     clothing"
            ]
          },
          "execution_count": 7,
          "metadata": {},
          "output_type": "execute_result"
        }
      ],
      "source": [
        "data_loaded[\"ad_clicks_pd\"].head()"
      ]
    },
    {
      "cell_type": "code",
      "execution_count": 8,
      "metadata": {
        "colab": {
          "base_uri": "https://localhost:8080/",
          "height": 90
        },
        "id": "rhlwdqJeoYVD",
        "outputId": "8d900e3f-28dc-4f29-b7eb-65d88500d3c5"
      },
      "outputs": [
        {
          "data": {
            "text/plain": [
              "<AxesSubplot:>"
            ]
          },
          "execution_count": 8,
          "metadata": {},
          "output_type": "execute_result"
        },
        {
          "data": {
            "image/png": "[encoded data removed]",
            "text/plain": [
              "<Figure size 1800x720 with 2 Axes>"
            ]
          },
          "metadata": {
            "needs_background": "light"
          },
          "output_type": "display_data"
        }
      ],
      "source": [
        "msno.matrix(data_loaded[\"ad_clicks_pd\"])"
      ]
    },
    {
      "cell_type": "code",
      "execution_count": 9,
      "metadata": {
        "colab": {
          "base_uri": "https://localhost:8080/",
          "height": 54
        },
        "id": "TffCTduwstqy",
        "outputId": "0e597a91-309e-4766-f1ac-88076bd2b1f3"
      },
      "outputs": [],
      "source": [
        "generate_timeseries_plot(data_frame = data_loaded[\"ad_clicks_pd\"], \n",
        "                         col_1=\"timestamp\", \n",
        "                         x_label = \"Date\", \n",
        "                         y_label = \"Test\", \n",
        "                         title = \"Over time\", \n",
        "                         file_Path = \"Graphs/adClicks/timeseries_adClicks.png\")"
      ]
    },
    {
      "cell_type": "code",
      "execution_count": 10,
      "metadata": {
        "colab": {
          "base_uri": "https://localhost:8080/",
          "height": 54
        },
        "id": "s3BTKl8gy59e",
        "outputId": "d41894c5-5c4c-44fa-9fe9-0e1e66a443d0"
      },
      "outputs": [],
      "source": [
        "generate_tree_map(count_occurrences(data_loaded[\"ad_clicks_pd\"][\"teamId\"]).\\\n",
        "                  sort_values(by=['count'], ascending=False).head(10),\n",
        "                  item_1 = \"count\",\n",
        "                  item_2 = \"item\",\n",
        "                  item_1_txt= \"count\",\n",
        "                  item_2_txt= \"item\", \n",
        "                  title = \"Item vs count\",\n",
        "                  file_Path = \"Graphs/adClicks/tree_map_adClicks.png\")"
      ]
    },
    {
      "cell_type": "code",
      "execution_count": 11,
      "metadata": {
        "colab": {
          "base_uri": "https://localhost:8080/",
          "height": 54
        },
        "id": "ME98Hm4AJA3-",
        "outputId": "ec8b187f-191c-4f6f-e158-ea2cc79564ad"
      },
      "outputs": [],
      "source": [
        "create_ad_graph(data_frame = data_loaded[\"ad_clicks_pd\"][[\"adId\",\"adCategory\"]],\n",
        "                file_Path = \"Graphs/adClicks/create_ad_adClicks.png\")"
      ]
    },
    {
      "attachments": {},
      "cell_type": "markdown",
      "metadata": {
        "id": "s_WUQoQ0_dXA"
      },
      "source": [
        "### buy clicks"
      ]
    },
    {
      "cell_type": "code",
      "execution_count": 12,
      "metadata": {
        "colab": {
          "base_uri": "https://localhost:8080/",
          "height": 357
        },
        "id": "5Dd4x4e2bpjE",
        "outputId": "6bcb4e75-4104-4f9e-ee57-daf74f5665f2"
      },
      "outputs": [
        {
          "data": {
            "text/html": [
              "<div>\n",
              "<style scoped>\n",
              "    .dataframe tbody tr th:only-of-type {\n",
              "        vertical-align: middle;\n",
              "    }\n",
              "\n",
              "    .dataframe tbody tr th {\n",
              "        vertical-align: top;\n",
              "    }\n",
              "\n",
              "    .dataframe thead th {\n",
              "        text-align: right;\n",
              "    }\n",
              "</style>\n",
              "<table border=\"1\" class=\"dataframe\">\n",
              "  <thead>\n",
              "    <tr style=\"text-align: right;\">\n",
              "      <th></th>\n",
              "      <th>timestamp</th>\n",
              "      <th>txId</th>\n",
              "      <th>userSessionId</th>\n",
              "      <th>team</th>\n",
              "      <th>userId</th>\n",
              "      <th>buyId</th>\n",
              "      <th>price</th>\n",
              "    </tr>\n",
              "  </thead>\n",
              "  <tbody>\n",
              "    <tr>\n",
              "      <th>0</th>\n",
              "      <td>1464277014</td>\n",
              "      <td>6004</td>\n",
              "      <td>5820</td>\n",
              "      <td>9</td>\n",
              "      <td>1300</td>\n",
              "      <td>2</td>\n",
              "      <td>3.0</td>\n",
              "    </tr>\n",
              "    <tr>\n",
              "      <th>1</th>\n",
              "      <td>1464277014</td>\n",
              "      <td>6005</td>\n",
              "      <td>5775</td>\n",
              "      <td>35</td>\n",
              "      <td>868</td>\n",
              "      <td>4</td>\n",
              "      <td>10.0</td>\n",
              "    </tr>\n",
              "    <tr>\n",
              "      <th>2</th>\n",
              "      <td>1464277014</td>\n",
              "      <td>6006</td>\n",
              "      <td>5679</td>\n",
              "      <td>97</td>\n",
              "      <td>819</td>\n",
              "      <td>5</td>\n",
              "      <td>20.0</td>\n",
              "    </tr>\n",
              "    <tr>\n",
              "      <th>3</th>\n",
              "      <td>1464280614</td>\n",
              "      <td>6067</td>\n",
              "      <td>5665</td>\n",
              "      <td>18</td>\n",
              "      <td>121</td>\n",
              "      <td>2</td>\n",
              "      <td>3.0</td>\n",
              "    </tr>\n",
              "    <tr>\n",
              "      <th>4</th>\n",
              "      <td>1464282414</td>\n",
              "      <td>6093</td>\n",
              "      <td>5709</td>\n",
              "      <td>11</td>\n",
              "      <td>2222</td>\n",
              "      <td>5</td>\n",
              "      <td>20.0</td>\n",
              "    </tr>\n",
              "  </tbody>\n",
              "</table>\n",
              "</div>"
            ],
            "text/plain": [
              "    timestamp  txId  userSessionId  team  userId  buyId  price\n",
              "0  1464277014  6004           5820     9    1300      2    3.0\n",
              "1  1464277014  6005           5775    35     868      4   10.0\n",
              "2  1464277014  6006           5679    97     819      5   20.0\n",
              "3  1464280614  6067           5665    18     121      2    3.0\n",
              "4  1464282414  6093           5709    11    2222      5   20.0"
            ]
          },
          "execution_count": 12,
          "metadata": {},
          "output_type": "execute_result"
        }
      ],
      "source": [
        "data_loaded[\"buy_clicks_pd\"].head()"
      ]
    },
    {
      "cell_type": "code",
      "execution_count": 13,
      "metadata": {
        "colab": {
          "base_uri": "https://localhost:8080/",
          "height": 90
        },
        "id": "EkjKwa0UAQqO",
        "outputId": "58c49e7c-ef62-43a3-db01-ab3903cf4523"
      },
      "outputs": [
        {
          "data": {
            "text/plain": [
              "<AxesSubplot:>"
            ]
          },
          "execution_count": 13,
          "metadata": {},
          "output_type": "execute_result"
        },
        {
          "data": {
            "image/png": "[encoded data removed]",
            "text/plain": [
              "<Figure size 1800x720 with 2 Axes>"
            ]
          },
          "metadata": {
            "needs_background": "light"
          },
          "output_type": "display_data"
        }
      ],
      "source": [
        "msno.matrix(data_loaded[\"buy_clicks_pd\"])"
      ]
    },
    {
      "cell_type": "code",
      "execution_count": 14,
      "metadata": {
        "colab": {
          "base_uri": "https://localhost:8080/",
          "height": 54
        },
        "id": "VOHFglIzbv2t",
        "outputId": "2a400a56-e9a0-4736-c42b-3c3a691bc4ae"
      },
      "outputs": [],
      "source": [
        "generate_timeseries_plot(data_frame = data_loaded[\"buy_clicks_pd\"], \n",
        "                         col_1=\"timestamp\", \n",
        "                         x_label = \"Date\", \n",
        "                         y_label = \"Test\", \n",
        "                         title = \"Over time\",\n",
        "                         file_Path = \"Graphs/buyClicks/timeseries_buyClicks.png\")"
      ]
    },
    {
      "cell_type": "code",
      "execution_count": 15,
      "metadata": {
        "colab": {
          "base_uri": "https://localhost:8080/",
          "height": 54
        },
        "id": "QVFyrQnecuGC",
        "outputId": "b2fa013e-ad42-497e-f14c-760855b9c7d1"
      },
      "outputs": [],
      "source": [
        "create_histogram(column = data_loaded[\"buy_clicks_pd\"][\"team\"], \n",
        "                 num_show=20,\n",
        "                 file_Path = \"Graphs/buyClicks/histogram_buyClicks.png\")"
      ]
    },
    {
      "cell_type": "code",
      "execution_count": 16,
      "metadata": {
        "colab": {
          "base_uri": "https://localhost:8080/",
          "height": 54
        },
        "id": "0vYSNKPhmItg",
        "outputId": "205f9991-4656-4993-e981-7fa975261f97"
      },
      "outputs": [],
      "source": [
        "create_correlation_plot(data_frame = data_loaded[\"buy_clicks_pd\"][[\"team\",\"buyId\", \"price\"]],\n",
        "                        file_Path = \"Graphs/buyClicks/correlationPlot_buyClicks.png\")"
      ]
    },
    {
      "attachments": {},
      "cell_type": "markdown",
      "metadata": {
        "id": "svkVK29P_hZn"
      },
      "source": [
        "### combined data"
      ]
    },
    {
      "cell_type": "code",
      "execution_count": 17,
      "metadata": {
        "colab": {
          "base_uri": "https://localhost:8080/",
          "height": 270
        },
        "id": "__zftybcnB3r",
        "outputId": "a1d53c98-292c-4cef-c128-31f770786493"
      },
      "outputs": [
        {
          "data": {
            "text/html": [
              "<div>\n",
              "<style scoped>\n",
              "    .dataframe tbody tr th:only-of-type {\n",
              "        vertical-align: middle;\n",
              "    }\n",
              "\n",
              "    .dataframe tbody tr th {\n",
              "        vertical-align: top;\n",
              "    }\n",
              "\n",
              "    .dataframe thead th {\n",
              "        text-align: right;\n",
              "    }\n",
              "</style>\n",
              "<table border=\"1\" class=\"dataframe\">\n",
              "  <thead>\n",
              "    <tr style=\"text-align: right;\">\n",
              "      <th></th>\n",
              "      <th>userId</th>\n",
              "      <th>userSessionId</th>\n",
              "      <th>teamLevel</th>\n",
              "      <th>platformType</th>\n",
              "      <th>count_gameclicks</th>\n",
              "      <th>count_hits</th>\n",
              "      <th>count_buyId</th>\n",
              "      <th>avg_price</th>\n",
              "    </tr>\n",
              "  </thead>\n",
              "  <tbody>\n",
              "    <tr>\n",
              "      <th>0</th>\n",
              "      <td>812</td>\n",
              "      <td>5648</td>\n",
              "      <td>1</td>\n",
              "      <td>android</td>\n",
              "      <td>69</td>\n",
              "      <td>8</td>\n",
              "      <td>NaN</td>\n",
              "      <td>NaN</td>\n",
              "    </tr>\n",
              "    <tr>\n",
              "      <th>1</th>\n",
              "      <td>1658</td>\n",
              "      <td>5649</td>\n",
              "      <td>1</td>\n",
              "      <td>iphone</td>\n",
              "      <td>31</td>\n",
              "      <td>5</td>\n",
              "      <td>NaN</td>\n",
              "      <td>NaN</td>\n",
              "    </tr>\n",
              "    <tr>\n",
              "      <th>2</th>\n",
              "      <td>1589</td>\n",
              "      <td>5650</td>\n",
              "      <td>1</td>\n",
              "      <td>iphone</td>\n",
              "      <td>26</td>\n",
              "      <td>2</td>\n",
              "      <td>NaN</td>\n",
              "      <td>NaN</td>\n",
              "    </tr>\n",
              "    <tr>\n",
              "      <th>3</th>\n",
              "      <td>1863</td>\n",
              "      <td>5651</td>\n",
              "      <td>1</td>\n",
              "      <td>android</td>\n",
              "      <td>35</td>\n",
              "      <td>4</td>\n",
              "      <td>NaN</td>\n",
              "      <td>NaN</td>\n",
              "    </tr>\n",
              "    <tr>\n",
              "      <th>4</th>\n",
              "      <td>937</td>\n",
              "      <td>5652</td>\n",
              "      <td>1</td>\n",
              "      <td>android</td>\n",
              "      <td>39</td>\n",
              "      <td>0</td>\n",
              "      <td>1.0</td>\n",
              "      <td>1.0</td>\n",
              "    </tr>\n",
              "  </tbody>\n",
              "</table>\n",
              "</div>"
            ],
            "text/plain": [
              "   userId  userSessionId  teamLevel platformType  count_gameclicks  \\\n",
              "0     812           5648          1      android                69   \n",
              "1    1658           5649          1       iphone                31   \n",
              "2    1589           5650          1       iphone                26   \n",
              "3    1863           5651          1      android                35   \n",
              "4     937           5652          1      android                39   \n",
              "\n",
              "   count_hits  count_buyId  avg_price  \n",
              "0           8          NaN        NaN  \n",
              "1           5          NaN        NaN  \n",
              "2           2          NaN        NaN  \n",
              "3           4          NaN        NaN  \n",
              "4           0          1.0        1.0  "
            ]
          },
          "execution_count": 17,
          "metadata": {},
          "output_type": "execute_result"
        }
      ],
      "source": [
        "data_loaded[\"combined_data_pd\"].head()"
      ]
    },
    {
      "cell_type": "code",
      "execution_count": 18,
      "metadata": {
        "colab": {
          "base_uri": "https://localhost:8080/",
          "height": 90
        },
        "id": "gb3uL-gOAU0n",
        "outputId": "dd2b611b-e55e-42cd-c26b-a02d9d792623"
      },
      "outputs": [
        {
          "data": {
            "text/plain": [
              "<AxesSubplot:>"
            ]
          },
          "execution_count": 18,
          "metadata": {},
          "output_type": "execute_result"
        },
        {
          "data": {
            "image/png": "[encoded data removed]",
            "text/plain": [
              "<Figure size 1800x720 with 2 Axes>"
            ]
          },
          "metadata": {
            "needs_background": "light"
          },
          "output_type": "display_data"
        }
      ],
      "source": [
        "msno.matrix(data_loaded[\"combined_data_pd\"])"
      ]
    },
    {
      "cell_type": "code",
      "execution_count": 19,
      "metadata": {
        "colab": {
          "base_uri": "https://localhost:8080/",
          "height": 54
        },
        "id": "zyFN1Klpn2QW",
        "outputId": "7e1cac21-d7e7-495d-aebb-1ec4c688e55c"
      },
      "outputs": [],
      "source": [
        "create_pie_chart(data_frame = data_loaded[\"combined_data_pd\"][\"platformType\"],\n",
        "                 file_Path = \"Graphs/combinedData/correlationPlot_buyClicks.png\")"
      ]
    },
    {
      "cell_type": "code",
      "execution_count": 20,
      "metadata": {
        "colab": {
          "base_uri": "https://localhost:8080/",
          "height": 54
        },
        "id": "PiCYBC-rn2W9",
        "outputId": "b4e444cc-8ab0-4bf5-db62-0b91e9858131"
      },
      "outputs": [],
      "source": [
        "create_multi_graph(data_frame=data_loaded[\"combined_data_pd\"][[\"platformType\",\"count_gameclicks\",\"count_hits\"]],\n",
        "                   file_Path = \"Graphs/combinedData/multiGrap_buyClicks.png\")"
      ]
    },
    {
      "cell_type": "code",
      "execution_count": 21,
      "metadata": {
        "colab": {
          "base_uri": "https://localhost:8080/",
          "height": 54
        },
        "id": "aIzlewCOrjRS",
        "outputId": "002dc1d2-9774-4952-a3ab-4aabdb6bd8b5"
      },
      "outputs": [],
      "source": [
        "create_price_histogram(data_frame=data_loaded[\"combined_data_pd\"][[\"platformType\",\"avg_price\"]],\n",
        "                       file_Path = \"Graphs/combinedData/priceHistogram_buyClicks.png\")"
      ]
    },
    {
      "attachments": {},
      "cell_type": "markdown",
      "metadata": {
        "id": "udqShxwt_nKX"
      },
      "source": [
        "### game clicks"
      ]
    },
    {
      "cell_type": "code",
      "execution_count": 22,
      "metadata": {
        "colab": {
          "base_uri": "https://localhost:8080/",
          "height": 357
        },
        "id": "nyGkLV2PsM0i",
        "outputId": "87f846cb-db49-4400-f1f2-207c556f18db"
      },
      "outputs": [
        {
          "data": {
            "text/html": [
              "<div>\n",
              "<style scoped>\n",
              "    .dataframe tbody tr th:only-of-type {\n",
              "        vertical-align: middle;\n",
              "    }\n",
              "\n",
              "    .dataframe tbody tr th {\n",
              "        vertical-align: top;\n",
              "    }\n",
              "\n",
              "    .dataframe thead th {\n",
              "        text-align: right;\n",
              "    }\n",
              "</style>\n",
              "<table border=\"1\" class=\"dataframe\">\n",
              "  <thead>\n",
              "    <tr style=\"text-align: right;\">\n",
              "      <th></th>\n",
              "      <th>timestamp</th>\n",
              "      <th>clickId</th>\n",
              "      <th>userId</th>\n",
              "      <th>userSessionId</th>\n",
              "      <th>isHit</th>\n",
              "      <th>teamId</th>\n",
              "      <th>teamLevel</th>\n",
              "    </tr>\n",
              "  </thead>\n",
              "  <tbody>\n",
              "    <tr>\n",
              "      <th>0</th>\n",
              "      <td>1464275215</td>\n",
              "      <td>105</td>\n",
              "      <td>1038</td>\n",
              "      <td>5916</td>\n",
              "      <td>0</td>\n",
              "      <td>25</td>\n",
              "      <td>1</td>\n",
              "    </tr>\n",
              "    <tr>\n",
              "      <th>1</th>\n",
              "      <td>1464275229</td>\n",
              "      <td>154</td>\n",
              "      <td>1099</td>\n",
              "      <td>5898</td>\n",
              "      <td>0</td>\n",
              "      <td>44</td>\n",
              "      <td>1</td>\n",
              "    </tr>\n",
              "    <tr>\n",
              "      <th>2</th>\n",
              "      <td>1464275234</td>\n",
              "      <td>229</td>\n",
              "      <td>899</td>\n",
              "      <td>5757</td>\n",
              "      <td>0</td>\n",
              "      <td>71</td>\n",
              "      <td>1</td>\n",
              "    </tr>\n",
              "    <tr>\n",
              "      <th>3</th>\n",
              "      <td>1464275234</td>\n",
              "      <td>322</td>\n",
              "      <td>2197</td>\n",
              "      <td>5854</td>\n",
              "      <td>0</td>\n",
              "      <td>99</td>\n",
              "      <td>1</td>\n",
              "    </tr>\n",
              "    <tr>\n",
              "      <th>4</th>\n",
              "      <td>1464275240</td>\n",
              "      <td>22</td>\n",
              "      <td>1362</td>\n",
              "      <td>5739</td>\n",
              "      <td>0</td>\n",
              "      <td>13</td>\n",
              "      <td>1</td>\n",
              "    </tr>\n",
              "  </tbody>\n",
              "</table>\n",
              "</div>"
            ],
            "text/plain": [
              "    timestamp  clickId  userId  userSessionId  isHit  teamId  teamLevel\n",
              "0  1464275215      105    1038           5916      0      25          1\n",
              "1  1464275229      154    1099           5898      0      44          1\n",
              "2  1464275234      229     899           5757      0      71          1\n",
              "3  1464275234      322    2197           5854      0      99          1\n",
              "4  1464275240       22    1362           5739      0      13          1"
            ]
          },
          "execution_count": 22,
          "metadata": {},
          "output_type": "execute_result"
        }
      ],
      "source": [
        "data_loaded[\"game_clicks_pd\"].head()"
      ]
    },
    {
      "cell_type": "code",
      "execution_count": 23,
      "metadata": {
        "colab": {
          "base_uri": "https://localhost:8080/",
          "height": 90
        },
        "id": "UmbifNQvAcal",
        "outputId": "651907e9-48da-4b6a-efaf-01a25ce6a0f2"
      },
      "outputs": [
        {
          "data": {
            "text/plain": [
              "<AxesSubplot:>"
            ]
          },
          "execution_count": 23,
          "metadata": {},
          "output_type": "execute_result"
        },
        {
          "data": {
            "image/png": "[encoded data removed]",
            "text/plain": [
              "<Figure size 1800x720 with 2 Axes>"
            ]
          },
          "metadata": {
            "needs_background": "light"
          },
          "output_type": "display_data"
        }
      ],
      "source": [
        "msno.matrix(data_loaded[\"game_clicks_pd\"])"
      ]
    },
    {
      "cell_type": "code",
      "execution_count": 24,
      "metadata": {
        "colab": {
          "base_uri": "https://localhost:8080/",
          "height": 54
        },
        "id": "8UXUJHLOsUPS",
        "outputId": "e8260a17-6ef0-4624-898e-1daf5bcd61e6"
      },
      "outputs": [],
      "source": [
        "generate_timeseries_plot(data_frame = data_loaded[\"game_clicks_pd\"], \n",
        "                         col_1=\"timestamp\", \n",
        "                         x_label = \"Date\", \n",
        "                         y_label = \"Test\", \n",
        "                         title = \"Over time\",\n",
        "                         file_Path = \"Graphs/gameClicks/timeseries_gameClicks.png\")"
      ]
    },
    {
      "attachments": {},
      "cell_type": "markdown",
      "metadata": {
        "id": "V4RxktLq_qL1"
      },
      "source": [
        "### level events"
      ]
    },
    {
      "cell_type": "code",
      "execution_count": 25,
      "metadata": {
        "colab": {
          "base_uri": "https://localhost:8080/",
          "height": 357
        },
        "id": "x9m89XOotFSh",
        "outputId": "8ff88645-44bf-4a97-deae-2cb6981a2d83"
      },
      "outputs": [
        {
          "data": {
            "text/html": [
              "<div>\n",
              "<style scoped>\n",
              "    .dataframe tbody tr th:only-of-type {\n",
              "        vertical-align: middle;\n",
              "    }\n",
              "\n",
              "    .dataframe tbody tr th {\n",
              "        vertical-align: top;\n",
              "    }\n",
              "\n",
              "    .dataframe thead th {\n",
              "        text-align: right;\n",
              "    }\n",
              "</style>\n",
              "<table border=\"1\" class=\"dataframe\">\n",
              "  <thead>\n",
              "    <tr style=\"text-align: right;\">\n",
              "      <th></th>\n",
              "      <th>timestamp</th>\n",
              "      <th>eventId</th>\n",
              "      <th>teamId</th>\n",
              "      <th>teamLevel</th>\n",
              "      <th>eventType</th>\n",
              "    </tr>\n",
              "  </thead>\n",
              "  <tbody>\n",
              "    <tr>\n",
              "      <th>0</th>\n",
              "      <td>1464390414</td>\n",
              "      <td>0</td>\n",
              "      <td>2</td>\n",
              "      <td>1</td>\n",
              "      <td>end</td>\n",
              "    </tr>\n",
              "    <tr>\n",
              "      <th>1</th>\n",
              "      <td>1464390414</td>\n",
              "      <td>1</td>\n",
              "      <td>2</td>\n",
              "      <td>2</td>\n",
              "      <td>start</td>\n",
              "    </tr>\n",
              "    <tr>\n",
              "      <th>2</th>\n",
              "      <td>1464390414</td>\n",
              "      <td>2</td>\n",
              "      <td>8</td>\n",
              "      <td>1</td>\n",
              "      <td>end</td>\n",
              "    </tr>\n",
              "    <tr>\n",
              "      <th>3</th>\n",
              "      <td>1464390414</td>\n",
              "      <td>3</td>\n",
              "      <td>8</td>\n",
              "      <td>2</td>\n",
              "      <td>start</td>\n",
              "    </tr>\n",
              "    <tr>\n",
              "      <th>4</th>\n",
              "      <td>1464390414</td>\n",
              "      <td>4</td>\n",
              "      <td>9</td>\n",
              "      <td>1</td>\n",
              "      <td>end</td>\n",
              "    </tr>\n",
              "  </tbody>\n",
              "</table>\n",
              "</div>"
            ],
            "text/plain": [
              "    timestamp  eventId  teamId  teamLevel eventType\n",
              "0  1464390414        0       2          1       end\n",
              "1  1464390414        1       2          2     start\n",
              "2  1464390414        2       8          1       end\n",
              "3  1464390414        3       8          2     start\n",
              "4  1464390414        4       9          1       end"
            ]
          },
          "execution_count": 25,
          "metadata": {},
          "output_type": "execute_result"
        }
      ],
      "source": [
        "data_loaded[\"level_events_pd\"].head()"
      ]
    },
    {
      "cell_type": "code",
      "execution_count": 26,
      "metadata": {
        "colab": {
          "base_uri": "https://localhost:8080/",
          "height": 90
        },
        "id": "KLr2-peiAjhS",
        "outputId": "4e312d83-fab2-4176-8fcc-8c27e9ca51c0"
      },
      "outputs": [
        {
          "data": {
            "text/plain": [
              "<AxesSubplot:>"
            ]
          },
          "execution_count": 26,
          "metadata": {},
          "output_type": "execute_result"
        },
        {
          "data": {
            "image/png": "[encoded data removed]",
            "text/plain": [
              "<Figure size 1800x720 with 2 Axes>"
            ]
          },
          "metadata": {
            "needs_background": "light"
          },
          "output_type": "display_data"
        }
      ],
      "source": [
        "msno.matrix(data_loaded[\"level_events_pd\"])"
      ]
    },
    {
      "cell_type": "code",
      "execution_count": 27,
      "metadata": {
        "colab": {
          "base_uri": "https://localhost:8080/",
          "height": 54
        },
        "id": "xm9-71RIt6XB",
        "outputId": "c47b0986-ab2c-49fe-8d17-41ac106f9821"
      },
      "outputs": [],
      "source": [
        "generate_timeseries_plot(data_frame = data_loaded[\"level_events_pd\"], \n",
        "                         col_1=\"timestamp\", \n",
        "                         x_label = \"Date\", \n",
        "                         y_label = \"Test\", \n",
        "                         title = \"Over time\",\n",
        "                         file_Path = \"Graphs/levelEvents/timeseries_levelEvents.png\")"
      ]
    },
    {
      "attachments": {},
      "cell_type": "markdown",
      "metadata": {
        "id": "FgdSMzLz_1jx"
      },
      "source": [
        "### team assignments"
      ]
    },
    {
      "cell_type": "code",
      "execution_count": 28,
      "metadata": {
        "colab": {
          "base_uri": "https://localhost:8080/",
          "height": 357
        },
        "id": "nXHDWBbduD4-",
        "outputId": "c94d20f6-e9a6-4ebd-b3cc-d31a61607fcb"
      },
      "outputs": [
        {
          "data": {
            "text/html": [
              "<div>\n",
              "<style scoped>\n",
              "    .dataframe tbody tr th:only-of-type {\n",
              "        vertical-align: middle;\n",
              "    }\n",
              "\n",
              "    .dataframe tbody tr th {\n",
              "        vertical-align: top;\n",
              "    }\n",
              "\n",
              "    .dataframe thead th {\n",
              "        text-align: right;\n",
              "    }\n",
              "</style>\n",
              "<table border=\"1\" class=\"dataframe\">\n",
              "  <thead>\n",
              "    <tr style=\"text-align: right;\">\n",
              "      <th></th>\n",
              "      <th>timestamp</th>\n",
              "      <th>team</th>\n",
              "      <th>userId</th>\n",
              "      <th>assignmentId</th>\n",
              "    </tr>\n",
              "  </thead>\n",
              "  <tbody>\n",
              "    <tr>\n",
              "      <th>0</th>\n",
              "      <td>1464271614</td>\n",
              "      <td>64</td>\n",
              "      <td>504</td>\n",
              "      <td>5439</td>\n",
              "    </tr>\n",
              "    <tr>\n",
              "      <th>1</th>\n",
              "      <td>1464271620</td>\n",
              "      <td>39</td>\n",
              "      <td>1698</td>\n",
              "      <td>5301</td>\n",
              "    </tr>\n",
              "    <tr>\n",
              "      <th>2</th>\n",
              "      <td>1464271624</td>\n",
              "      <td>85</td>\n",
              "      <td>81</td>\n",
              "      <td>5540</td>\n",
              "    </tr>\n",
              "    <tr>\n",
              "      <th>3</th>\n",
              "      <td>1464271628</td>\n",
              "      <td>95</td>\n",
              "      <td>1976</td>\n",
              "      <td>5307</td>\n",
              "    </tr>\n",
              "    <tr>\n",
              "      <th>4</th>\n",
              "      <td>1464271629</td>\n",
              "      <td>97</td>\n",
              "      <td>1009</td>\n",
              "      <td>5368</td>\n",
              "    </tr>\n",
              "  </tbody>\n",
              "</table>\n",
              "</div>"
            ],
            "text/plain": [
              "    timestamp  team  userId  assignmentId\n",
              "0  1464271614    64     504          5439\n",
              "1  1464271620    39    1698          5301\n",
              "2  1464271624    85      81          5540\n",
              "3  1464271628    95    1976          5307\n",
              "4  1464271629    97    1009          5368"
            ]
          },
          "execution_count": 28,
          "metadata": {},
          "output_type": "execute_result"
        }
      ],
      "source": [
        "data_loaded[\"team_assignments_pd\"].head()"
      ]
    },
    {
      "cell_type": "code",
      "execution_count": 29,
      "metadata": {
        "colab": {
          "base_uri": "https://localhost:8080/",
          "height": 90
        },
        "id": "cbK0zsodAoku",
        "outputId": "7a038262-099e-4ef3-bcfd-b02165076159"
      },
      "outputs": [
        {
          "data": {
            "text/plain": [
              "<AxesSubplot:>"
            ]
          },
          "execution_count": 29,
          "metadata": {},
          "output_type": "execute_result"
        },
        {
          "data": {
            "image/png": "[encoded data removed]",
            "text/plain": [
              "<Figure size 1800x720 with 2 Axes>"
            ]
          },
          "metadata": {
            "needs_background": "light"
          },
          "output_type": "display_data"
        }
      ],
      "source": [
        "msno.matrix(data_loaded[\"team_assignments_pd\"])"
      ]
    },
    {
      "cell_type": "code",
      "execution_count": 30,
      "metadata": {
        "colab": {
          "base_uri": "https://localhost:8080/",
          "height": 54
        },
        "id": "b7k3tJTcuLSL",
        "outputId": "e7cd141b-65e2-4075-d532-b1bc192a8ba2"
      },
      "outputs": [],
      "source": [
        "generate_timeseries_plot(data_frame = data_loaded[\"team_assignments_pd\"], \n",
        "                         col_1=\"timestamp\", \n",
        "                         x_label = \"Date\", \n",
        "                         y_label = \"Test\", \n",
        "                         title = \"Over time\",\n",
        "                         file_Path = \"Graphs/teamAssignments/timeseries_teamAssignments.png\")"
      ]
    },
    {
      "attachments": {},
      "cell_type": "markdown",
      "metadata": {
        "id": "XPK7kBI2_4Jq"
      },
      "source": [
        "### team"
      ]
    },
    {
      "cell_type": "code",
      "execution_count": 31,
      "metadata": {
        "colab": {
          "base_uri": "https://localhost:8080/",
          "height": 357
        },
        "id": "sdXEDJVbuRdv",
        "outputId": "228d0272-aafa-4013-a6f2-f63995cd9c88"
      },
      "outputs": [
        {
          "data": {
            "text/html": [
              "<div>\n",
              "<style scoped>\n",
              "    .dataframe tbody tr th:only-of-type {\n",
              "        vertical-align: middle;\n",
              "    }\n",
              "\n",
              "    .dataframe tbody tr th {\n",
              "        vertical-align: top;\n",
              "    }\n",
              "\n",
              "    .dataframe thead th {\n",
              "        text-align: right;\n",
              "    }\n",
              "</style>\n",
              "<table border=\"1\" class=\"dataframe\">\n",
              "  <thead>\n",
              "    <tr style=\"text-align: right;\">\n",
              "      <th></th>\n",
              "      <th>teamId</th>\n",
              "      <th>name</th>\n",
              "      <th>teamCreationTime</th>\n",
              "      <th>teamEndTime</th>\n",
              "      <th>strength</th>\n",
              "      <th>currentLevel</th>\n",
              "    </tr>\n",
              "  </thead>\n",
              "  <tbody>\n",
              "    <tr>\n",
              "      <th>0</th>\n",
              "      <td>79</td>\n",
              "      <td>O1uJX7C</td>\n",
              "      <td>1465745607</td>\n",
              "      <td>2147483647</td>\n",
              "      <td>0.774474</td>\n",
              "      <td>1</td>\n",
              "    </tr>\n",
              "    <tr>\n",
              "      <th>1</th>\n",
              "      <td>92</td>\n",
              "      <td>WeLHp8HZ</td>\n",
              "      <td>1465768460</td>\n",
              "      <td>2147483647</td>\n",
              "      <td>0.171926</td>\n",
              "      <td>1</td>\n",
              "    </tr>\n",
              "    <tr>\n",
              "      <th>2</th>\n",
              "      <td>6</td>\n",
              "      <td>mARlfz</td>\n",
              "      <td>1465772536</td>\n",
              "      <td>2147483647</td>\n",
              "      <td>0.537353</td>\n",
              "      <td>1</td>\n",
              "    </tr>\n",
              "    <tr>\n",
              "      <th>3</th>\n",
              "      <td>7</td>\n",
              "      <td>xO41jlAo0Y</td>\n",
              "      <td>1465797783</td>\n",
              "      <td>2147483647</td>\n",
              "      <td>0.394370</td>\n",
              "      <td>1</td>\n",
              "    </tr>\n",
              "    <tr>\n",
              "      <th>4</th>\n",
              "      <td>40</td>\n",
              "      <td>vdwO0k1</td>\n",
              "      <td>1465801263</td>\n",
              "      <td>2147483647</td>\n",
              "      <td>0.706833</td>\n",
              "      <td>1</td>\n",
              "    </tr>\n",
              "  </tbody>\n",
              "</table>\n",
              "</div>"
            ],
            "text/plain": [
              "   teamId        name  teamCreationTime  teamEndTime  strength  currentLevel\n",
              "0      79     O1uJX7C        1465745607   2147483647  0.774474             1\n",
              "1      92    WeLHp8HZ        1465768460   2147483647  0.171926             1\n",
              "2       6      mARlfz        1465772536   2147483647  0.537353             1\n",
              "3       7  xO41jlAo0Y        1465797783   2147483647  0.394370             1\n",
              "4      40     vdwO0k1        1465801263   2147483647  0.706833             1"
            ]
          },
          "execution_count": 31,
          "metadata": {},
          "output_type": "execute_result"
        }
      ],
      "source": [
        "data_loaded[\"team_pd\"].head()"
      ]
    },
    {
      "cell_type": "code",
      "execution_count": 32,
      "metadata": {
        "colab": {
          "base_uri": "https://localhost:8080/",
          "height": 90
        },
        "id": "HY1_U5-cAscz",
        "outputId": "a09a6867-e016-472c-8fcb-857b29ac9471"
      },
      "outputs": [
        {
          "data": {
            "text/plain": [
              "<AxesSubplot:>"
            ]
          },
          "execution_count": 32,
          "metadata": {},
          "output_type": "execute_result"
        },
        {
          "data": {
            "image/png": "[encoded data removed]",
            "text/plain": [
              "<Figure size 1800x720 with 2 Axes>"
            ]
          },
          "metadata": {
            "needs_background": "light"
          },
          "output_type": "display_data"
        }
      ],
      "source": [
        "msno.matrix(data_loaded[\"team_pd\"])"
      ]
    },
    {
      "cell_type": "code",
      "execution_count": 33,
      "metadata": {
        "colab": {
          "base_uri": "https://localhost:8080/",
          "height": 54
        },
        "id": "qSIftIJB1B3f",
        "outputId": "4c13d215-9e00-466e-9360-3f0e6538b49a"
      },
      "outputs": [],
      "source": [
        "generate_timeseries_plot(data_frame = data_loaded[\"team_pd\"], \n",
        "                         col_1=\"teamCreationTime\", \n",
        "                         x_label = \"Date\", \n",
        "                         y_label = \"Test\", \n",
        "                         title = \"Over time\",\n",
        "                         file_Path = \"Graphs/team/timeseries_team.png\")"
      ]
    },
    {
      "cell_type": "code",
      "execution_count": 34,
      "metadata": {
        "colab": {
          "base_uri": "https://localhost:8080/",
          "height": 54
        },
        "id": "Mn_CVp3ku7LW",
        "outputId": "d6641cd3-c0db-4470-e8ca-98637dcfeaf5"
      },
      "outputs": [],
      "source": [
        "generate_timeseries_plot_2(data_frame = data_loaded[\"team_pd\"], \n",
        "                           col_1=\"teamCreationTime\", \n",
        "                           col_2=\"teamEndTime\", \n",
        "                           x_label = \"Date\", \n",
        "                           y_label = \"Test\", \n",
        "                           title = \"Over time\",\n",
        "                           file_Path = \"Graphs/team/timeseries2_team.png\")"
      ]
    },
    {
      "cell_type": "code",
      "execution_count": 35,
      "metadata": {
        "colab": {
          "base_uri": "https://localhost:8080/",
          "height": 54
        },
        "id": "cecyFDbyZVhd",
        "outputId": "a967dd9c-fe32-42e7-9d05-14010cd190c0"
      },
      "outputs": [],
      "source": [
        "create_team_strength(data_frame=data_loaded[\"team_pd\"], \n",
        "                     x_lab=\"Team ID\", \n",
        "                     y_lab=\"Strength\",\n",
        "                     file_Path = \"Graphs/team/teamSstrength_team.png\")"
      ]
    },
    {
      "cell_type": "code",
      "execution_count": 36,
      "metadata": {
        "colab": {
          "base_uri": "https://localhost:8080/",
          "height": 54
        },
        "id": "Sx5qJfwmsLCc",
        "outputId": "d718bbbe-8b59-48f6-9ae0-af17fdb60d7b"
      },
      "outputs": [],
      "source": [
        "create_team_strength(data_frame=data_loaded[\"team_pd\"], \n",
        "                     x_lab=\"Team ID\", \n",
        "                     y_lab=\"Strength\",\n",
        "                     file_Path = \"Graphs/team/teamSstrength_team2.png\",\n",
        "                     asc = True)"
      ]
    },
    {
      "attachments": {},
      "cell_type": "markdown",
      "metadata": {
        "id": "Q9UKQQge_5xj"
      },
      "source": [
        "### user session"
      ]
    },
    {
      "cell_type": "code",
      "execution_count": 37,
      "metadata": {
        "colab": {
          "base_uri": "https://localhost:8080/",
          "height": 357
        },
        "id": "cKzjK87Qs7W1",
        "outputId": "18a02038-41d9-40cc-b3c7-b3890fbf8bc3"
      },
      "outputs": [
        {
          "data": {
            "text/html": [
              "<div>\n",
              "<style scoped>\n",
              "    .dataframe tbody tr th:only-of-type {\n",
              "        vertical-align: middle;\n",
              "    }\n",
              "\n",
              "    .dataframe tbody tr th {\n",
              "        vertical-align: top;\n",
              "    }\n",
              "\n",
              "    .dataframe thead th {\n",
              "        text-align: right;\n",
              "    }\n",
              "</style>\n",
              "<table border=\"1\" class=\"dataframe\">\n",
              "  <thead>\n",
              "    <tr style=\"text-align: right;\">\n",
              "      <th></th>\n",
              "      <th>timestamp</th>\n",
              "      <th>userSessionId</th>\n",
              "      <th>userId</th>\n",
              "      <th>teamId</th>\n",
              "      <th>assignmentId</th>\n",
              "      <th>sessionType</th>\n",
              "      <th>teamLevel</th>\n",
              "      <th>platformType</th>\n",
              "    </tr>\n",
              "  </thead>\n",
              "  <tbody>\n",
              "    <tr>\n",
              "      <th>0</th>\n",
              "      <td>1464274050</td>\n",
              "      <td>5675</td>\n",
              "      <td>170</td>\n",
              "      <td>90</td>\n",
              "      <td>5423</td>\n",
              "      <td>start</td>\n",
              "      <td>1</td>\n",
              "      <td>iphone</td>\n",
              "    </tr>\n",
              "    <tr>\n",
              "      <th>1</th>\n",
              "      <td>1464307614</td>\n",
              "      <td>5675</td>\n",
              "      <td>170</td>\n",
              "      <td>90</td>\n",
              "      <td>5423</td>\n",
              "      <td>end</td>\n",
              "      <td>1</td>\n",
              "      <td>iphone</td>\n",
              "    </tr>\n",
              "    <tr>\n",
              "      <th>2</th>\n",
              "      <td>1464273789</td>\n",
              "      <td>5795</td>\n",
              "      <td>835</td>\n",
              "      <td>39</td>\n",
              "      <td>5300</td>\n",
              "      <td>start</td>\n",
              "      <td>1</td>\n",
              "      <td>android</td>\n",
              "    </tr>\n",
              "    <tr>\n",
              "      <th>3</th>\n",
              "      <td>1464336414</td>\n",
              "      <td>5795</td>\n",
              "      <td>835</td>\n",
              "      <td>39</td>\n",
              "      <td>5300</td>\n",
              "      <td>end</td>\n",
              "      <td>1</td>\n",
              "      <td>android</td>\n",
              "    </tr>\n",
              "    <tr>\n",
              "      <th>4</th>\n",
              "      <td>1464274040</td>\n",
              "      <td>5833</td>\n",
              "      <td>624</td>\n",
              "      <td>2</td>\n",
              "      <td>5529</td>\n",
              "      <td>start</td>\n",
              "      <td>1</td>\n",
              "      <td>iphone</td>\n",
              "    </tr>\n",
              "  </tbody>\n",
              "</table>\n",
              "</div>"
            ],
            "text/plain": [
              "    timestamp  userSessionId  userId  teamId  assignmentId sessionType  \\\n",
              "0  1464274050           5675     170      90          5423       start   \n",
              "1  1464307614           5675     170      90          5423         end   \n",
              "2  1464273789           5795     835      39          5300       start   \n",
              "3  1464336414           5795     835      39          5300         end   \n",
              "4  1464274040           5833     624       2          5529       start   \n",
              "\n",
              "   teamLevel platformType  \n",
              "0          1       iphone  \n",
              "1          1       iphone  \n",
              "2          1      android  \n",
              "3          1      android  \n",
              "4          1       iphone  "
            ]
          },
          "execution_count": 37,
          "metadata": {},
          "output_type": "execute_result"
        }
      ],
      "source": [
        "data_loaded[\"user_session_pd\"].head()"
      ]
    },
    {
      "cell_type": "code",
      "execution_count": 38,
      "metadata": {
        "colab": {
          "base_uri": "https://localhost:8080/",
          "height": 90
        },
        "id": "ITVJZF9KAwdU",
        "outputId": "926269ac-ce16-46d8-d978-4dc39395f821"
      },
      "outputs": [
        {
          "data": {
            "text/plain": [
              "<AxesSubplot:>"
            ]
          },
          "execution_count": 38,
          "metadata": {},
          "output_type": "execute_result"
        },
        {
          "data": {
            "image/png": "[encoded data removed]",
            "text/plain": [
              "<Figure size 1800x720 with 2 Axes>"
            ]
          },
          "metadata": {
            "needs_background": "light"
          },
          "output_type": "display_data"
        }
      ],
      "source": [
        "msno.matrix(data_loaded[\"user_session_pd\"])"
      ]
    },
    {
      "cell_type": "code",
      "execution_count": 39,
      "metadata": {
        "colab": {
          "base_uri": "https://localhost:8080/",
          "height": 54
        },
        "id": "YIb4tKyhtG-R",
        "outputId": "d0419d5a-8dac-4c74-c0e8-2225e7aee720"
      },
      "outputs": [],
      "source": [
        "generate_timeseries_plot(data_frame = data_loaded[\"user_session_pd\"], \n",
        "                         col_1=\"timestamp\", \n",
        "                         x_label = \"Date\", \n",
        "                         y_label = \"Test\", \n",
        "                         title = \"Over time\",\n",
        "                         file_Path = \"Graphs/userSession/timeseries_userSession.png\")"
      ]
    },
    {
      "cell_type": "code",
      "execution_count": 40,
      "metadata": {
        "colab": {
          "base_uri": "https://localhost:8080/",
          "height": 54
        },
        "id": "SAnU2WXxtpvR",
        "outputId": "75fd38cd-7ce6-4476-a6e1-b5d1088c9e18"
      },
      "outputs": [],
      "source": [
        "create_histogram_session(data_frame=data_loaded[\"user_session_pd\"][[\"sessionType\",\"platformType\"]],\n",
        "                         file_Path = \"Graphs/userSession/histogram_userSession.png\")"
      ]
    },
    {
      "attachments": {},
      "cell_type": "markdown",
      "metadata": {
        "id": "XP50Dk8H_8PG"
      },
      "source": [
        "### users"
      ]
    },
    {
      "cell_type": "code",
      "execution_count": 41,
      "metadata": {
        "colab": {
          "base_uri": "https://localhost:8080/",
          "height": 206
        },
        "id": "uEMrozQo_Uej",
        "outputId": "24dae6e1-9f22-4020-8a5d-efb4e11c237b"
      },
      "outputs": [
        {
          "data": {
            "text/html": [
              "<div>\n",
              "<style scoped>\n",
              "    .dataframe tbody tr th:only-of-type {\n",
              "        vertical-align: middle;\n",
              "    }\n",
              "\n",
              "    .dataframe tbody tr th {\n",
              "        vertical-align: top;\n",
              "    }\n",
              "\n",
              "    .dataframe thead th {\n",
              "        text-align: right;\n",
              "    }\n",
              "</style>\n",
              "<table border=\"1\" class=\"dataframe\">\n",
              "  <thead>\n",
              "    <tr style=\"text-align: right;\">\n",
              "      <th></th>\n",
              "      <th>timestamp</th>\n",
              "      <th>userId</th>\n",
              "      <th>nick</th>\n",
              "      <th>twitter</th>\n",
              "      <th>dob</th>\n",
              "      <th>country</th>\n",
              "    </tr>\n",
              "  </thead>\n",
              "  <tbody>\n",
              "    <tr>\n",
              "      <th>0</th>\n",
              "      <td>1340117621</td>\n",
              "      <td>442</td>\n",
              "      <td>pcjIOBKW</td>\n",
              "      <td>@SZhyOHv</td>\n",
              "      <td>774662400</td>\n",
              "      <td>BA</td>\n",
              "    </tr>\n",
              "    <tr>\n",
              "      <th>1</th>\n",
              "      <td>1340134141</td>\n",
              "      <td>949</td>\n",
              "      <td>vAOfUkf</td>\n",
              "      <td>@nkkNo</td>\n",
              "      <td>41126400</td>\n",
              "      <td>HU</td>\n",
              "    </tr>\n",
              "    <tr>\n",
              "      <th>2</th>\n",
              "      <td>1340220899</td>\n",
              "      <td>1654</td>\n",
              "      <td>qOOXSQ</td>\n",
              "      <td>@SwOlw</td>\n",
              "      <td>9331200</td>\n",
              "      <td>IS</td>\n",
              "    </tr>\n",
              "    <tr>\n",
              "      <th>3</th>\n",
              "      <td>1340241509</td>\n",
              "      <td>1586</td>\n",
              "      <td>px4gW51</td>\n",
              "      <td>@IrCHTnE</td>\n",
              "      <td>-129600000</td>\n",
              "      <td>AM</td>\n",
              "    </tr>\n",
              "    <tr>\n",
              "      <th>4</th>\n",
              "      <td>1340292900</td>\n",
              "      <td>599</td>\n",
              "      <td>9gkfwRC73Uc</td>\n",
              "      <td>@VJj0Az</td>\n",
              "      <td>777600000</td>\n",
              "      <td>CC</td>\n",
              "    </tr>\n",
              "  </tbody>\n",
              "</table>\n",
              "</div>"
            ],
            "text/plain": [
              "    timestamp  userId         nick   twitter        dob country\n",
              "0  1340117621     442     pcjIOBKW  @SZhyOHv  774662400      BA\n",
              "1  1340134141     949      vAOfUkf    @nkkNo   41126400      HU\n",
              "2  1340220899    1654       qOOXSQ    @SwOlw    9331200      IS\n",
              "3  1340241509    1586      px4gW51  @IrCHTnE -129600000      AM\n",
              "4  1340292900     599  9gkfwRC73Uc   @VJj0Az  777600000      CC"
            ]
          },
          "execution_count": 41,
          "metadata": {},
          "output_type": "execute_result"
        }
      ],
      "source": [
        "data_loaded[\"users_pd\"].head()"
      ]
    },
    {
      "cell_type": "code",
      "execution_count": 42,
      "metadata": {
        "colab": {
          "base_uri": "https://localhost:8080/",
          "height": 835
        },
        "id": "cLdh3_GMAzxz",
        "outputId": "fabc8b48-0d42-46ad-d6b7-76710b98174b"
      },
      "outputs": [
        {
          "data": {
            "text/plain": [
              "<AxesSubplot:>"
            ]
          },
          "execution_count": 42,
          "metadata": {},
          "output_type": "execute_result"
        },
        {
          "data": {
            "image/png": "[encoded data removed]",
            "text/plain": [
              "<Figure size 1800x720 with 2 Axes>"
            ]
          },
          "metadata": {
            "needs_background": "light"
          },
          "output_type": "display_data"
        }
      ],
      "source": [
        "msno.matrix(data_loaded[\"users_pd\"])"
      ]
    },
    {
      "cell_type": "code",
      "execution_count": 43,
      "metadata": {
        "colab": {
          "base_uri": "https://localhost:8080/",
          "height": 472
        },
        "id": "bd7TDYC9DocW",
        "outputId": "968bcb77-3049-4f80-dc7c-ca24bfc98562"
      },
      "outputs": [],
      "source": [
        "create_dob_histogram(data_frame= convert_unix_to_datetime(data_loaded[\"users_pd\"][[\"dob\"]], \"dob\")[\"dob\"],\n",
        "                     file_Path = \"Graphs/users/histogram_users.png\")"
      ]
    },
    {
      "cell_type": "code",
      "execution_count": 45,
      "metadata": {
        "colab": {
          "background_save": true,
          "base_uri": "https://localhost:8080/"
        },
        "id": "49gwTJYiy7QY",
        "outputId": "888d578e-74f3-426f-ceaa-c8cda0a07e2c"
      },
      "outputs": [
        {
          "data": {
            "application/vnd.plotly.v1+json": {
              "config": {
                "plotlyServerURL": "https://plot.ly"
              },
              "data": [
                {
                  "geo": "geo",
                  "hovertemplate": "country=BA<br>size=%{marker.size}<br>lat=%{lat}<br>lon=%{lon}<extra></extra>",
                  "lat": [
                    44.3053476,
                    44.3053476,
                    44.3053476,
                    44.3053476,
                    44.3053476,
                    44.3053476,
                    44.3053476,
                    44.3053476,
                    44.3053476,
                    44.3053476
                  ],
                  "legendgroup": "BA",
                  "lon": [
                    17.5961467,
                    17.5961467,
                    17.5961467,
                    17.5961467,
                    17.5961467,
                    17.5961467,
                    17.5961467,
                    17.5961467,
                    17.5961467,
                    17.5961467
                  ],
                  "marker": {
                    "color": "#636efa",
                    "size": [
                      10,
                      10,
                      10,
                      10,
                      10,
                      10,
                      10,
                      10,
                      10,
                      10
                    ],
                    "sizemode": "area",
                    "sizeref": 0.025,
                    "symbol": "circle"
                  },
                  "mode": "markers",
                  "name": "BA",
                  "showlegend": true,
                  "type": "scattergeo"
                },
                {
                  "geo": "geo",
                  "hovertemplate": "country=HU<br>size=%{marker.size}<br>lat=%{lat}<br>lon=%{lon}<extra></extra>",
                  "lat": [
                    47.1817585,
                    47.1817585,
                    47.1817585,
                    47.1817585,
                    47.1817585,
                    47.1817585,
                    47.1817585,
                    47.1817585,
                    47.1817585,
                    47.1817585
                  ],
                  "legendgroup": "HU",
                  "lon": [
                    19.5060937,
                    19.5060937,
                    19.5060937,
                    19.5060937,
                    19.5060937,
                    19.5060937,
                    19.5060937,
                    19.5060937,
                    19.5060937,
                    19.5060937
                  ],
                  "marker": {
                    "color": "#EF553B",
                    "size": [
                      10,
                      10,
                      10,
                      10,
                      10,
                      10,
                      10,
                      10,
                      10,
                      10
                    ],
                    "sizemode": "area",
                    "sizeref": 0.025,
                    "symbol": "circle"
                  },
                  "mode": "markers",
                  "name": "HU",
                  "showlegend": true,
                  "type": "scattergeo"
                },
                {
                  "geo": "geo",
                  "hovertemplate": "country=IS<br>size=%{marker.size}<br>lat=%{lat}<br>lon=%{lon}<extra></extra>",
                  "lat": [
                    64.9841821,
                    64.9841821,
                    64.9841821,
                    64.9841821,
                    64.9841821,
                    64.9841821,
                    64.9841821,
                    64.9841821,
                    64.9841821,
                    64.9841821
                  ],
                  "legendgroup": "IS",
                  "lon": [
                    -18.1059013,
                    -18.1059013,
                    -18.1059013,
                    -18.1059013,
                    -18.1059013,
                    -18.1059013,
                    -18.1059013,
                    -18.1059013,
                    -18.1059013,
                    -18.1059013
                  ],
                  "marker": {
                    "color": "#00cc96",
                    "size": [
                      10,
                      10,
                      10,
                      10,
                      10,
                      10,
                      10,
                      10,
                      10,
                      10
                    ],
                    "sizemode": "area",
                    "sizeref": 0.025,
                    "symbol": "circle"
                  },
                  "mode": "markers",
                  "name": "IS",
                  "showlegend": true,
                  "type": "scattergeo"
                },
                {
                  "geo": "geo",
                  "hovertemplate": "country=AM<br>size=%{marker.size}<br>lat=%{lat}<br>lon=%{lon}<extra></extra>",
                  "lat": [
                    40.7696272,
                    40.7696272,
                    40.7696272,
                    40.7696272,
                    40.7696272,
                    40.7696272,
                    40.7696272,
                    40.7696272,
                    40.7696272,
                    40.7696272
                  ],
                  "legendgroup": "AM",
                  "lon": [
                    44.6736646,
                    44.6736646,
                    44.6736646,
                    44.6736646,
                    44.6736646,
                    44.6736646,
                    44.6736646,
                    44.6736646,
                    44.6736646,
                    44.6736646
                  ],
                  "marker": {
                    "color": "#ab63fa",
                    "size": [
                      10,
                      10,
                      10,
                      10,
                      10,
                      10,
                      10,
                      10,
                      10,
                      10
                    ],
                    "sizemode": "area",
                    "sizeref": 0.025,
                    "symbol": "circle"
                  },
                  "mode": "markers",
                  "name": "AM",
                  "showlegend": true,
                  "type": "scattergeo"
                },
                {
                  "geo": "geo",
                  "hovertemplate": "country=CC<br>size=%{marker.size}<br>lat=%{lat}<br>lon=%{lon}<extra></extra>",
                  "lat": [
                    -12.0728315,
                    -12.0728315,
                    -12.0728315,
                    -12.0728315,
                    -12.0728315,
                    -12.0728315,
                    -12.0728315,
                    -12.0728315,
                    -12.0728315,
                    -12.0728315
                  ],
                  "legendgroup": "CC",
                  "lon": [
                    96.8409375,
                    96.8409375,
                    96.8409375,
                    96.8409375,
                    96.8409375,
                    96.8409375,
                    96.8409375,
                    96.8409375,
                    96.8409375,
                    96.8409375
                  ],
                  "marker": {
                    "color": "#FFA15A",
                    "size": [
                      10,
                      10,
                      10,
                      10,
                      10,
                      10,
                      10,
                      10,
                      10,
                      10
                    ],
                    "sizemode": "area",
                    "sizeref": 0.025,
                    "symbol": "circle"
                  },
                  "mode": "markers",
                  "name": "CC",
                  "showlegend": true,
                  "type": "scattergeo"
                },
                {
                  "geo": "geo",
                  "hovertemplate": "country=MH<br>size=%{marker.size}<br>lat=%{lat}<br>lon=%{lon}<extra></extra>",
                  "lat": [
                    18.9068356,
                    18.9068356,
                    18.9068356,
                    18.9068356,
                    18.9068356,
                    18.9068356,
                    18.9068356,
                    18.9068356,
                    18.9068356,
                    18.9068356
                  ],
                  "legendgroup": "MH",
                  "lon": [
                    75.6741579,
                    75.6741579,
                    75.6741579,
                    75.6741579,
                    75.6741579,
                    75.6741579,
                    75.6741579,
                    75.6741579,
                    75.6741579,
                    75.6741579
                  ],
                  "marker": {
                    "color": "#19d3f3",
                    "size": [
                      10,
                      10,
                      10,
                      10,
                      10,
                      10,
                      10,
                      10,
                      10,
                      10
                    ],
                    "sizemode": "area",
                    "sizeref": 0.025,
                    "symbol": "circle"
                  },
                  "mode": "markers",
                  "name": "MH",
                  "showlegend": true,
                  "type": "scattergeo"
                },
                {
                  "geo": "geo",
                  "hovertemplate": "country=SM<br>size=%{marker.size}<br>lat=%{lat}<br>lon=%{lon}<extra></extra>",
                  "lat": [
                    43.9458623,
                    43.9458623,
                    43.9458623,
                    43.9458623,
                    43.9458623,
                    43.9458623,
                    43.9458623,
                    43.9458623,
                    43.9458623,
                    43.9458623
                  ],
                  "legendgroup": "SM",
                  "lon": [
                    12.458306,
                    12.458306,
                    12.458306,
                    12.458306,
                    12.458306,
                    12.458306,
                    12.458306,
                    12.458306,
                    12.458306,
                    12.458306
                  ],
                  "marker": {
                    "color": "#FF6692",
                    "size": [
                      10,
                      10,
                      10,
                      10,
                      10,
                      10,
                      10,
                      10,
                      10,
                      10
                    ],
                    "sizemode": "area",
                    "sizeref": 0.025,
                    "symbol": "circle"
                  },
                  "mode": "markers",
                  "name": "SM",
                  "showlegend": true,
                  "type": "scattergeo"
                },
                {
                  "geo": "geo",
                  "hovertemplate": "country=BZ<br>size=%{marker.size}<br>lat=%{lat}<br>lon=%{lon}<extra></extra>",
                  "lat": [
                    16.8259793,
                    16.8259793,
                    16.8259793,
                    16.8259793,
                    16.8259793,
                    16.8259793,
                    16.8259793,
                    16.8259793,
                    16.8259793,
                    16.8259793
                  ],
                  "legendgroup": "BZ",
                  "lon": [
                    -88.7600927,
                    -88.7600927,
                    -88.7600927,
                    -88.7600927,
                    -88.7600927,
                    -88.7600927,
                    -88.7600927,
                    -88.7600927,
                    -88.7600927,
                    -88.7600927
                  ],
                  "marker": {
                    "color": "#B6E880",
                    "size": [
                      10,
                      10,
                      10,
                      10,
                      10,
                      10,
                      10,
                      10,
                      10,
                      10
                    ],
                    "sizemode": "area",
                    "sizeref": 0.025,
                    "symbol": "circle"
                  },
                  "mode": "markers",
                  "name": "BZ",
                  "showlegend": true,
                  "type": "scattergeo"
                },
                {
                  "geo": "geo",
                  "hovertemplate": "country=PF<br>size=%{marker.size}<br>lat=%{lat}<br>lon=%{lon}<extra></extra>",
                  "lat": [
                    52.84141645,
                    52.84141645,
                    52.84141645,
                    52.84141645,
                    52.84141645,
                    52.84141645,
                    52.84141645,
                    52.84141645,
                    52.84141645,
                    52.84141645
                  ],
                  "legendgroup": "PF",
                  "lon": [
                    26.0967247878145,
                    26.0967247878145,
                    26.0967247878145,
                    26.0967247878145,
                    26.0967247878145,
                    26.0967247878145,
                    26.0967247878145,
                    26.0967247878145,
                    26.0967247878145,
                    26.0967247878145
                  ],
                  "marker": {
                    "color": "#FF97FF",
                    "size": [
                      10,
                      10,
                      10,
                      10,
                      10,
                      10,
                      10,
                      10,
                      10,
                      10
                    ],
                    "sizemode": "area",
                    "sizeref": 0.025,
                    "symbol": "circle"
                  },
                  "mode": "markers",
                  "name": "PF",
                  "showlegend": true,
                  "type": "scattergeo"
                },
                {
                  "geo": "geo",
                  "hovertemplate": "country=JO<br>size=%{marker.size}<br>lat=%{lat}<br>lon=%{lon}<extra></extra>",
                  "lat": [
                    31.1667049,
                    31.1667049,
                    31.1667049,
                    31.1667049,
                    31.1667049,
                    31.1667049,
                    31.1667049,
                    31.1667049,
                    31.1667049,
                    31.1667049
                  ],
                  "legendgroup": "JO",
                  "lon": [
                    36.941628,
                    36.941628,
                    36.941628,
                    36.941628,
                    36.941628,
                    36.941628,
                    36.941628,
                    36.941628,
                    36.941628,
                    36.941628
                  ],
                  "marker": {
                    "color": "#FECB52",
                    "size": [
                      10,
                      10,
                      10,
                      10,
                      10,
                      10,
                      10,
                      10,
                      10,
                      10
                    ],
                    "sizemode": "area",
                    "sizeref": 0.025,
                    "symbol": "circle"
                  },
                  "mode": "markers",
                  "name": "JO",
                  "showlegend": true,
                  "type": "scattergeo"
                },
                {
                  "geo": "geo",
                  "hovertemplate": "country=GW<br>size=%{marker.size}<br>lat=%{lat}<br>lon=%{lon}<extra></extra>",
                  "lat": [
                    11.815215,
                    11.815215,
                    11.815215,
                    11.815215,
                    11.815215,
                    11.815215,
                    11.815215,
                    11.815215,
                    11.815215,
                    11.815215
                  ],
                  "legendgroup": "GW",
                  "lon": [
                    -15.2351044,
                    -15.2351044,
                    -15.2351044,
                    -15.2351044,
                    -15.2351044,
                    -15.2351044,
                    -15.2351044,
                    -15.2351044,
                    -15.2351044,
                    -15.2351044
                  ],
                  "marker": {
                    "color": "#636efa",
                    "size": [
                      10,
                      10,
                      10,
                      10,
                      10,
                      10,
                      10,
                      10,
                      10,
                      10
                    ],
                    "sizemode": "area",
                    "sizeref": 0.025,
                    "symbol": "circle"
                  },
                  "mode": "markers",
                  "name": "GW",
                  "showlegend": true,
                  "type": "scattergeo"
                },
                {
                  "geo": "geo",
                  "hovertemplate": "country=CK<br>size=%{marker.size}<br>lat=%{lat}<br>lon=%{lon}<extra></extra>",
                  "lat": [
                    -19.99697155,
                    -19.99697155,
                    -19.99697155,
                    -19.99697155,
                    -19.99697155,
                    -19.99697155,
                    -19.99697155,
                    -19.99697155,
                    -19.99697155,
                    -19.99697155
                  ],
                  "legendgroup": "CK",
                  "lon": [
                    -157.78587140620786,
                    -157.78587140620786,
                    -157.78587140620786,
                    -157.78587140620786,
                    -157.78587140620786,
                    -157.78587140620786,
                    -157.78587140620786,
                    -157.78587140620786,
                    -157.78587140620786,
                    -157.78587140620786
                  ],
                  "marker": {
                    "color": "#EF553B",
                    "size": [
                      10,
                      10,
                      10,
                      10,
                      10,
                      10,
                      10,
                      10,
                      10,
                      10
                    ],
                    "sizemode": "area",
                    "sizeref": 0.025,
                    "symbol": "circle"
                  },
                  "mode": "markers",
                  "name": "CK",
                  "showlegend": true,
                  "type": "scattergeo"
                },
                {
                  "geo": "geo",
                  "hovertemplate": "country=MD<br>size=%{marker.size}<br>lat=%{lat}<br>lon=%{lon}<extra></extra>",
                  "lat": [
                    39.5162401,
                    39.5162401,
                    39.5162401,
                    39.5162401,
                    39.5162401,
                    39.5162401,
                    39.5162401,
                    39.5162401,
                    39.5162401,
                    39.5162401
                  ],
                  "legendgroup": "MD",
                  "lon": [
                    -76.9382069,
                    -76.9382069,
                    -76.9382069,
                    -76.9382069,
                    -76.9382069,
                    -76.9382069,
                    -76.9382069,
                    -76.9382069,
                    -76.9382069,
                    -76.9382069
                  ],
                  "marker": {
                    "color": "#00cc96",
                    "size": [
                      10,
                      10,
                      10,
                      10,
                      10,
                      10,
                      10,
                      10,
                      10,
                      10
                    ],
                    "sizemode": "area",
                    "sizeref": 0.025,
                    "symbol": "circle"
                  },
                  "mode": "markers",
                  "name": "MD",
                  "showlegend": true,
                  "type": "scattergeo"
                },
                {
                  "geo": "geo",
                  "hovertemplate": "country=HK<br>size=%{marker.size}<br>lat=%{lat}<br>lon=%{lon}<extra></extra>",
                  "lat": [
                    22.350627,
                    22.350627,
                    22.350627,
                    22.350627,
                    22.350627,
                    22.350627,
                    22.350627,
                    22.350627,
                    22.350627,
                    22.350627
                  ],
                  "legendgroup": "HK",
                  "lon": [
                    114.1849161,
                    114.1849161,
                    114.1849161,
                    114.1849161,
                    114.1849161,
                    114.1849161,
                    114.1849161,
                    114.1849161,
                    114.1849161,
                    114.1849161
                  ],
                  "marker": {
                    "color": "#ab63fa",
                    "size": [
                      10,
                      10,
                      10,
                      10,
                      10,
                      10,
                      10,
                      10,
                      10,
                      10
                    ],
                    "sizemode": "area",
                    "sizeref": 0.025,
                    "symbol": "circle"
                  },
                  "mode": "markers",
                  "name": "HK",
                  "showlegend": true,
                  "type": "scattergeo"
                },
                {
                  "geo": "geo",
                  "hovertemplate": "country=QA<br>size=%{marker.size}<br>lat=%{lat}<br>lon=%{lon}<extra></extra>",
                  "lat": [
                    25.3336984,
                    25.3336984,
                    25.3336984,
                    25.3336984,
                    25.3336984,
                    25.3336984,
                    25.3336984,
                    25.3336984,
                    25.3336984,
                    25.3336984
                  ],
                  "legendgroup": "QA",
                  "lon": [
                    51.2295295,
                    51.2295295,
                    51.2295295,
                    51.2295295,
                    51.2295295,
                    51.2295295,
                    51.2295295,
                    51.2295295,
                    51.2295295,
                    51.2295295
                  ],
                  "marker": {
                    "color": "#FFA15A",
                    "size": [
                      10,
                      10,
                      10,
                      10,
                      10,
                      10,
                      10,
                      10,
                      10,
                      10
                    ],
                    "sizemode": "area",
                    "sizeref": 0.025,
                    "symbol": "circle"
                  },
                  "mode": "markers",
                  "name": "QA",
                  "showlegend": true,
                  "type": "scattergeo"
                },
                {
                  "geo": "geo",
                  "hovertemplate": "country=ZA<br>size=%{marker.size}<br>lat=%{lat}<br>lon=%{lon}<extra></extra>",
                  "lat": [
                    -28.8166236,
                    -28.8166236,
                    -28.8166236,
                    -28.8166236,
                    -28.8166236,
                    -28.8166236,
                    -28.8166236,
                    -28.8166236,
                    -28.8166236,
                    -28.8166236
                  ],
                  "legendgroup": "ZA",
                  "lon": [
                    24.991639,
                    24.991639,
                    24.991639,
                    24.991639,
                    24.991639,
                    24.991639,
                    24.991639,
                    24.991639,
                    24.991639,
                    24.991639
                  ],
                  "marker": {
                    "color": "#19d3f3",
                    "size": [
                      10,
                      10,
                      10,
                      10,
                      10,
                      10,
                      10,
                      10,
                      10,
                      10
                    ],
                    "sizemode": "area",
                    "sizeref": 0.025,
                    "symbol": "circle"
                  },
                  "mode": "markers",
                  "name": "ZA",
                  "showlegend": true,
                  "type": "scattergeo"
                },
                {
                  "geo": "geo",
                  "hovertemplate": "country=SE<br>size=%{marker.size}<br>lat=%{lat}<br>lon=%{lon}<extra></extra>",
                  "lat": [
                    59.6749712,
                    59.6749712,
                    59.6749712,
                    59.6749712,
                    59.6749712,
                    59.6749712,
                    59.6749712,
                    59.6749712,
                    59.6749712,
                    59.6749712
                  ],
                  "legendgroup": "SE",
                  "lon": [
                    14.5208584,
                    14.5208584,
                    14.5208584,
                    14.5208584,
                    14.5208584,
                    14.5208584,
                    14.5208584,
                    14.5208584,
                    14.5208584,
                    14.5208584
                  ],
                  "marker": {
                    "color": "#FF6692",
                    "size": [
                      10,
                      10,
                      10,
                      10,
                      10,
                      10,
                      10,
                      10,
                      10,
                      10
                    ],
                    "sizemode": "area",
                    "sizeref": 0.025,
                    "symbol": "circle"
                  },
                  "mode": "markers",
                  "name": "SE",
                  "showlegend": true,
                  "type": "scattergeo"
                },
                {
                  "geo": "geo",
                  "hovertemplate": "country=MM<br>size=%{marker.size}<br>lat=%{lat}<br>lon=%{lon}<extra></extra>",
                  "lat": [
                    17.1750495,
                    17.1750495,
                    17.1750495,
                    17.1750495,
                    17.1750495,
                    17.1750495,
                    17.1750495,
                    17.1750495,
                    17.1750495,
                    17.1750495
                  ],
                  "legendgroup": "MM",
                  "lon": [
                    95.9999652,
                    95.9999652,
                    95.9999652,
                    95.9999652,
                    95.9999652,
                    95.9999652,
                    95.9999652,
                    95.9999652,
                    95.9999652,
                    95.9999652
                  ],
                  "marker": {
                    "color": "#B6E880",
                    "size": [
                      10,
                      10,
                      10,
                      10,
                      10,
                      10,
                      10,
                      10,
                      10,
                      10
                    ],
                    "sizemode": "area",
                    "sizeref": 0.025,
                    "symbol": "circle"
                  },
                  "mode": "markers",
                  "name": "MM",
                  "showlegend": true,
                  "type": "scattergeo"
                },
                {
                  "geo": "geo",
                  "hovertemplate": "country=FO<br>size=%{marker.size}<br>lat=%{lat}<br>lon=%{lon}<extra></extra>",
                  "lat": [
                    19.1399952,
                    19.1399952,
                    19.1399952,
                    19.1399952,
                    19.1399952,
                    19.1399952,
                    19.1399952,
                    19.1399952,
                    19.1399952,
                    19.1399952
                  ],
                  "legendgroup": "FO",
                  "lon": [
                    -72.3570972,
                    -72.3570972,
                    -72.3570972,
                    -72.3570972,
                    -72.3570972,
                    -72.3570972,
                    -72.3570972,
                    -72.3570972,
                    -72.3570972,
                    -72.3570972
                  ],
                  "marker": {
                    "color": "#FF97FF",
                    "size": [
                      10,
                      10,
                      10,
                      10,
                      10,
                      10,
                      10,
                      10,
                      10,
                      10
                    ],
                    "sizemode": "area",
                    "sizeref": 0.025,
                    "symbol": "circle"
                  },
                  "mode": "markers",
                  "name": "FO",
                  "showlegend": true,
                  "type": "scattergeo"
                },
                {
                  "geo": "geo",
                  "hovertemplate": "country=DJ<br>size=%{marker.size}<br>lat=%{lat}<br>lon=%{lon}<extra></extra>",
                  "lat": [
                    11.8145966,
                    11.8145966,
                    11.8145966,
                    11.8145966,
                    11.8145966,
                    11.8145966,
                    11.8145966,
                    11.8145966,
                    11.8145966,
                    11.8145966
                  ],
                  "legendgroup": "DJ",
                  "lon": [
                    42.8453061,
                    42.8453061,
                    42.8453061,
                    42.8453061,
                    42.8453061,
                    42.8453061,
                    42.8453061,
                    42.8453061,
                    42.8453061,
                    42.8453061
                  ],
                  "marker": {
                    "color": "#FECB52",
                    "size": [
                      10,
                      10,
                      10,
                      10,
                      10,
                      10,
                      10,
                      10,
                      10,
                      10
                    ],
                    "sizemode": "area",
                    "sizeref": 0.025,
                    "symbol": "circle"
                  },
                  "mode": "markers",
                  "name": "DJ",
                  "showlegend": true,
                  "type": "scattergeo"
                },
                {
                  "geo": "geo",
                  "hovertemplate": "country=TH<br>size=%{marker.size}<br>lat=%{lat}<br>lon=%{lon}<extra></extra>",
                  "lat": [
                    50.9014721,
                    50.9014721,
                    50.9014721,
                    50.9014721,
                    50.9014721,
                    50.9014721,
                    50.9014721,
                    50.9014721,
                    50.9014721,
                    50.9014721
                  ],
                  "legendgroup": "TH",
                  "lon": [
                    11.0377839,
                    11.0377839,
                    11.0377839,
                    11.0377839,
                    11.0377839,
                    11.0377839,
                    11.0377839,
                    11.0377839,
                    11.0377839,
                    11.0377839
                  ],
                  "marker": {
                    "color": "#636efa",
                    "size": [
                      10,
                      10,
                      10,
                      10,
                      10,
                      10,
                      10,
                      10,
                      10,
                      10
                    ],
                    "sizemode": "area",
                    "sizeref": 0.025,
                    "symbol": "circle"
                  },
                  "mode": "markers",
                  "name": "TH",
                  "showlegend": true,
                  "type": "scattergeo"
                },
                {
                  "geo": "geo",
                  "hovertemplate": "country=RO<br>size=%{marker.size}<br>lat=%{lat}<br>lon=%{lon}<extra></extra>",
                  "lat": [
                    45.9852129,
                    45.9852129,
                    45.9852129,
                    45.9852129,
                    45.9852129,
                    45.9852129,
                    45.9852129,
                    45.9852129,
                    45.9852129,
                    45.9852129
                  ],
                  "legendgroup": "RO",
                  "lon": [
                    24.6859225,
                    24.6859225,
                    24.6859225,
                    24.6859225,
                    24.6859225,
                    24.6859225,
                    24.6859225,
                    24.6859225,
                    24.6859225,
                    24.6859225
                  ],
                  "marker": {
                    "color": "#EF553B",
                    "size": [
                      10,
                      10,
                      10,
                      10,
                      10,
                      10,
                      10,
                      10,
                      10,
                      10
                    ],
                    "sizemode": "area",
                    "sizeref": 0.025,
                    "symbol": "circle"
                  },
                  "mode": "markers",
                  "name": "RO",
                  "showlegend": true,
                  "type": "scattergeo"
                },
                {
                  "geo": "geo",
                  "hovertemplate": "country=IE<br>size=%{marker.size}<br>lat=%{lat}<br>lon=%{lon}<extra></extra>",
                  "lat": [
                    52.865196,
                    52.865196,
                    52.865196,
                    52.865196,
                    52.865196,
                    52.865196,
                    52.865196,
                    52.865196,
                    52.865196,
                    52.865196
                  ],
                  "legendgroup": "IE",
                  "lon": [
                    -7.9794599,
                    -7.9794599,
                    -7.9794599,
                    -7.9794599,
                    -7.9794599,
                    -7.9794599,
                    -7.9794599,
                    -7.9794599,
                    -7.9794599,
                    -7.9794599
                  ],
                  "marker": {
                    "color": "#00cc96",
                    "size": [
                      10,
                      10,
                      10,
                      10,
                      10,
                      10,
                      10,
                      10,
                      10,
                      10
                    ],
                    "sizemode": "area",
                    "sizeref": 0.025,
                    "symbol": "circle"
                  },
                  "mode": "markers",
                  "name": "IE",
                  "showlegend": true,
                  "type": "scattergeo"
                },
                {
                  "geo": "geo",
                  "hovertemplate": "country=BY<br>size=%{marker.size}<br>lat=%{lat}<br>lon=%{lon}<extra></extra>",
                  "lat": [
                    53.4250605,
                    53.4250605,
                    53.4250605,
                    53.4250605,
                    53.4250605,
                    53.4250605,
                    53.4250605,
                    53.4250605,
                    53.4250605,
                    53.4250605
                  ],
                  "legendgroup": "BY",
                  "lon": [
                    27.6971358,
                    27.6971358,
                    27.6971358,
                    27.6971358,
                    27.6971358,
                    27.6971358,
                    27.6971358,
                    27.6971358,
                    27.6971358,
                    27.6971358
                  ],
                  "marker": {
                    "color": "#ab63fa",
                    "size": [
                      10,
                      10,
                      10,
                      10,
                      10,
                      10,
                      10,
                      10,
                      10,
                      10
                    ],
                    "sizemode": "area",
                    "sizeref": 0.025,
                    "symbol": "circle"
                  },
                  "mode": "markers",
                  "name": "BY",
                  "showlegend": true,
                  "type": "scattergeo"
                },
                {
                  "geo": "geo",
                  "hovertemplate": "country=PA<br>size=%{marker.size}<br>lat=%{lat}<br>lon=%{lon}<extra></extra>",
                  "lat": [
                    8.559559,
                    8.559559,
                    8.559559,
                    8.559559,
                    8.559559,
                    8.559559,
                    8.559559,
                    8.559559,
                    8.559559,
                    8.559559
                  ],
                  "legendgroup": "PA",
                  "lon": [
                    -81.1308434,
                    -81.1308434,
                    -81.1308434,
                    -81.1308434,
                    -81.1308434,
                    -81.1308434,
                    -81.1308434,
                    -81.1308434,
                    -81.1308434,
                    -81.1308434
                  ],
                  "marker": {
                    "color": "#FFA15A",
                    "size": [
                      10,
                      10,
                      10,
                      10,
                      10,
                      10,
                      10,
                      10,
                      10,
                      10
                    ],
                    "sizemode": "area",
                    "sizeref": 0.025,
                    "symbol": "circle"
                  },
                  "mode": "markers",
                  "name": "PA",
                  "showlegend": true,
                  "type": "scattergeo"
                },
                {
                  "geo": "geo",
                  "hovertemplate": "country=AS<br>size=%{marker.size}<br>lat=%{lat}<br>lon=%{lon}<extra></extra>",
                  "lat": [
                    26.4073841,
                    26.4073841,
                    26.4073841,
                    26.4073841,
                    26.4073841,
                    26.4073841,
                    26.4073841,
                    26.4073841,
                    26.4073841,
                    26.4073841
                  ],
                  "legendgroup": "AS",
                  "lon": [
                    93.2551303,
                    93.2551303,
                    93.2551303,
                    93.2551303,
                    93.2551303,
                    93.2551303,
                    93.2551303,
                    93.2551303,
                    93.2551303,
                    93.2551303
                  ],
                  "marker": {
                    "color": "#19d3f3",
                    "size": [
                      10,
                      10,
                      10,
                      10,
                      10,
                      10,
                      10,
                      10,
                      10,
                      10
                    ],
                    "sizemode": "area",
                    "sizeref": 0.025,
                    "symbol": "circle"
                  },
                  "mode": "markers",
                  "name": "AS",
                  "showlegend": true,
                  "type": "scattergeo"
                },
                {
                  "geo": "geo",
                  "hovertemplate": "country=KE<br>size=%{marker.size}<br>lat=%{lat}<br>lon=%{lon}<extra></extra>",
                  "lat": [
                    1.4419683,
                    1.4419683,
                    1.4419683,
                    1.4419683,
                    1.4419683,
                    1.4419683,
                    1.4419683,
                    1.4419683,
                    1.4419683,
                    1.4419683
                  ],
                  "legendgroup": "KE",
                  "lon": [
                    38.4313975,
                    38.4313975,
                    38.4313975,
                    38.4313975,
                    38.4313975,
                    38.4313975,
                    38.4313975,
                    38.4313975,
                    38.4313975,
                    38.4313975
                  ],
                  "marker": {
                    "color": "#FF6692",
                    "size": [
                      10,
                      10,
                      10,
                      10,
                      10,
                      10,
                      10,
                      10,
                      10,
                      10
                    ],
                    "sizemode": "area",
                    "sizeref": 0.025,
                    "symbol": "circle"
                  },
                  "mode": "markers",
                  "name": "KE",
                  "showlegend": true,
                  "type": "scattergeo"
                },
                {
                  "geo": "geo",
                  "hovertemplate": "country=PG<br>size=%{marker.size}<br>lat=%{lat}<br>lon=%{lon}<extra></extra>",
                  "lat": [
                    -5.6816069,
                    -5.6816069,
                    -5.6816069,
                    -5.6816069,
                    -5.6816069,
                    -5.6816069,
                    -5.6816069,
                    -5.6816069,
                    -5.6816069,
                    -5.6816069
                  ],
                  "legendgroup": "PG",
                  "lon": [
                    144.2489081,
                    144.2489081,
                    144.2489081,
                    144.2489081,
                    144.2489081,
                    144.2489081,
                    144.2489081,
                    144.2489081,
                    144.2489081,
                    144.2489081
                  ],
                  "marker": {
                    "color": "#B6E880",
                    "size": [
                      10,
                      10,
                      10,
                      10,
                      10,
                      10,
                      10,
                      10,
                      10,
                      10
                    ],
                    "sizemode": "area",
                    "sizeref": 0.025,
                    "symbol": "circle"
                  },
                  "mode": "markers",
                  "name": "PG",
                  "showlegend": true,
                  "type": "scattergeo"
                },
                {
                  "geo": "geo",
                  "hovertemplate": "country=DM<br>size=%{marker.size}<br>lat=%{lat}<br>lon=%{lon}<extra></extra>",
                  "lat": [
                    15.4113138,
                    15.4113138,
                    15.4113138,
                    15.4113138,
                    15.4113138,
                    15.4113138,
                    15.4113138,
                    15.4113138,
                    15.4113138,
                    15.4113138
                  ],
                  "legendgroup": "DM",
                  "lon": [
                    -61.3653618,
                    -61.3653618,
                    -61.3653618,
                    -61.3653618,
                    -61.3653618,
                    -61.3653618,
                    -61.3653618,
                    -61.3653618,
                    -61.3653618,
                    -61.3653618
                  ],
                  "marker": {
                    "color": "#FF97FF",
                    "size": [
                      10,
                      10,
                      10,
                      10,
                      10,
                      10,
                      10,
                      10,
                      10,
                      10
                    ],
                    "sizemode": "area",
                    "sizeref": 0.025,
                    "symbol": "circle"
                  },
                  "mode": "markers",
                  "name": "DM",
                  "showlegend": true,
                  "type": "scattergeo"
                },
                {
                  "geo": "geo",
                  "hovertemplate": "country=MK<br>size=%{marker.size}<br>lat=%{lat}<br>lon=%{lon}<extra></extra>",
                  "lat": [
                    41.6171214,
                    41.6171214,
                    41.6171214,
                    41.6171214,
                    41.6171214,
                    41.6171214,
                    41.6171214,
                    41.6171214,
                    41.6171214,
                    41.6171214
                  ],
                  "legendgroup": "MK",
                  "lon": [
                    21.7168387,
                    21.7168387,
                    21.7168387,
                    21.7168387,
                    21.7168387,
                    21.7168387,
                    21.7168387,
                    21.7168387,
                    21.7168387,
                    21.7168387
                  ],
                  "marker": {
                    "color": "#FECB52",
                    "size": [
                      10,
                      10,
                      10,
                      10,
                      10,
                      10,
                      10,
                      10,
                      10,
                      10
                    ],
                    "sizemode": "area",
                    "sizeref": 0.025,
                    "symbol": "circle"
                  },
                  "mode": "markers",
                  "name": "MK",
                  "showlegend": true,
                  "type": "scattergeo"
                },
                {
                  "geo": "geo",
                  "hovertemplate": "country=UM<br>size=%{marker.size}<br>lat=%{lat}<br>lon=%{lon}<extra></extra>",
                  "lat": [
                    3.1257608,
                    3.1257608,
                    3.1257608,
                    3.1257608,
                    3.1257608,
                    3.1257608,
                    3.1257608,
                    3.1257608,
                    3.1257608,
                    3.1257608
                  ],
                  "legendgroup": "UM",
                  "lon": [
                    101.65553478301041,
                    101.65553478301041,
                    101.65553478301041,
                    101.65553478301041,
                    101.65553478301041,
                    101.65553478301041,
                    101.65553478301041,
                    101.65553478301041,
                    101.65553478301041,
                    101.65553478301041
                  ],
                  "marker": {
                    "color": "#636efa",
                    "size": [
                      10,
                      10,
                      10,
                      10,
                      10,
                      10,
                      10,
                      10,
                      10,
                      10
                    ],
                    "sizemode": "area",
                    "sizeref": 0.025,
                    "symbol": "circle"
                  },
                  "mode": "markers",
                  "name": "UM",
                  "showlegend": true,
                  "type": "scattergeo"
                },
                {
                  "geo": "geo",
                  "hovertemplate": "country=PY<br>size=%{marker.size}<br>lat=%{lat}<br>lon=%{lon}<extra></extra>",
                  "lat": [
                    -23.3165935,
                    -23.3165935,
                    -23.3165935,
                    -23.3165935,
                    -23.3165935,
                    -23.3165935,
                    -23.3165935,
                    -23.3165935,
                    -23.3165935,
                    -23.3165935
                  ],
                  "legendgroup": "PY",
                  "lon": [
                    -58.1693445,
                    -58.1693445,
                    -58.1693445,
                    -58.1693445,
                    -58.1693445,
                    -58.1693445,
                    -58.1693445,
                    -58.1693445,
                    -58.1693445,
                    -58.1693445
                  ],
                  "marker": {
                    "color": "#EF553B",
                    "size": [
                      10,
                      10,
                      10,
                      10,
                      10,
                      10,
                      10,
                      10,
                      10,
                      10
                    ],
                    "sizemode": "area",
                    "sizeref": 0.025,
                    "symbol": "circle"
                  },
                  "mode": "markers",
                  "name": "PY",
                  "showlegend": true,
                  "type": "scattergeo"
                },
                {
                  "geo": "geo",
                  "hovertemplate": "country=LT<br>size=%{marker.size}<br>lat=%{lat}<br>lon=%{lon}<extra></extra>",
                  "lat": [
                    55.3500003,
                    55.3500003,
                    55.3500003,
                    55.3500003,
                    55.3500003,
                    55.3500003,
                    55.3500003,
                    55.3500003,
                    55.3500003,
                    55.3500003
                  ],
                  "legendgroup": "LT",
                  "lon": [
                    23.7499997,
                    23.7499997,
                    23.7499997,
                    23.7499997,
                    23.7499997,
                    23.7499997,
                    23.7499997,
                    23.7499997,
                    23.7499997,
                    23.7499997
                  ],
                  "marker": {
                    "color": "#00cc96",
                    "size": [
                      10,
                      10,
                      10,
                      10,
                      10,
                      10,
                      10,
                      10,
                      10,
                      10
                    ],
                    "sizemode": "area",
                    "sizeref": 0.025,
                    "symbol": "circle"
                  },
                  "mode": "markers",
                  "name": "LT",
                  "showlegend": true,
                  "type": "scattergeo"
                },
                {
                  "geo": "geo",
                  "hovertemplate": "country=TD<br>size=%{marker.size}<br>lat=%{lat}<br>lon=%{lon}<extra></extra>",
                  "lat": [
                    15.6134137,
                    15.6134137,
                    15.6134137,
                    15.6134137,
                    15.6134137,
                    15.6134137,
                    15.6134137,
                    15.6134137,
                    15.6134137,
                    15.6134137
                  ],
                  "legendgroup": "TD",
                  "lon": [
                    19.0156172,
                    19.0156172,
                    19.0156172,
                    19.0156172,
                    19.0156172,
                    19.0156172,
                    19.0156172,
                    19.0156172,
                    19.0156172,
                    19.0156172
                  ],
                  "marker": {
                    "color": "#ab63fa",
                    "size": [
                      10,
                      10,
                      10,
                      10,
                      10,
                      10,
                      10,
                      10,
                      10,
                      10
                    ],
                    "sizemode": "area",
                    "sizeref": 0.025,
                    "symbol": "circle"
                  },
                  "mode": "markers",
                  "name": "TD",
                  "showlegend": true,
                  "type": "scattergeo"
                },
                {
                  "geo": "geo",
                  "hovertemplate": "country=PT<br>size=%{marker.size}<br>lat=%{lat}<br>lon=%{lon}<extra></extra>",
                  "lat": [
                    39.6621648,
                    39.6621648,
                    39.6621648,
                    39.6621648,
                    39.6621648,
                    39.6621648,
                    39.6621648,
                    39.6621648,
                    39.6621648,
                    39.6621648
                  ],
                  "legendgroup": "PT",
                  "lon": [
                    -8.1353519,
                    -8.1353519,
                    -8.1353519,
                    -8.1353519,
                    -8.1353519,
                    -8.1353519,
                    -8.1353519,
                    -8.1353519,
                    -8.1353519,
                    -8.1353519
                  ],
                  "marker": {
                    "color": "#FFA15A",
                    "size": [
                      10,
                      10,
                      10,
                      10,
                      10,
                      10,
                      10,
                      10,
                      10,
                      10
                    ],
                    "sizemode": "area",
                    "sizeref": 0.025,
                    "symbol": "circle"
                  },
                  "mode": "markers",
                  "name": "PT",
                  "showlegend": true,
                  "type": "scattergeo"
                },
                {
                  "geo": "geo",
                  "hovertemplate": "country=LR<br>size=%{marker.size}<br>lat=%{lat}<br>lon=%{lon}<extra></extra>",
                  "lat": [
                    5.7499721,
                    5.7499721,
                    5.7499721,
                    5.7499721,
                    5.7499721,
                    5.7499721,
                    5.7499721,
                    5.7499721,
                    5.7499721,
                    5.7499721
                  ],
                  "legendgroup": "LR",
                  "lon": [
                    -9.3658524,
                    -9.3658524,
                    -9.3658524,
                    -9.3658524,
                    -9.3658524,
                    -9.3658524,
                    -9.3658524,
                    -9.3658524,
                    -9.3658524,
                    -9.3658524
                  ],
                  "marker": {
                    "color": "#19d3f3",
                    "size": [
                      10,
                      10,
                      10,
                      10,
                      10,
                      10,
                      10,
                      10,
                      10,
                      10
                    ],
                    "sizemode": "area",
                    "sizeref": 0.025,
                    "symbol": "circle"
                  },
                  "mode": "markers",
                  "name": "LR",
                  "showlegend": true,
                  "type": "scattergeo"
                },
                {
                  "geo": "geo",
                  "hovertemplate": "country=FJ<br>size=%{marker.size}<br>lat=%{lat}<br>lon=%{lon}<extra></extra>",
                  "lat": [
                    -18.1239696,
                    -18.1239696,
                    -18.1239696,
                    -18.1239696,
                    -18.1239696,
                    -18.1239696,
                    -18.1239696,
                    -18.1239696,
                    -18.1239696
                  ],
                  "legendgroup": "FJ",
                  "lon": [
                    179.0122737,
                    179.0122737,
                    179.0122737,
                    179.0122737,
                    179.0122737,
                    179.0122737,
                    179.0122737,
                    179.0122737,
                    179.0122737
                  ],
                  "marker": {
                    "color": "#FF6692",
                    "size": [
                      9,
                      9,
                      9,
                      9,
                      9,
                      9,
                      9,
                      9,
                      9
                    ],
                    "sizemode": "area",
                    "sizeref": 0.025,
                    "symbol": "circle"
                  },
                  "mode": "markers",
                  "name": "FJ",
                  "showlegend": true,
                  "type": "scattergeo"
                },
                {
                  "geo": "geo",
                  "hovertemplate": "country=LS<br>size=%{marker.size}<br>lat=%{lat}<br>lon=%{lon}<extra></extra>",
                  "lat": [
                    20.0171109,
                    20.0171109,
                    20.0171109,
                    20.0171109,
                    20.0171109,
                    20.0171109,
                    20.0171109,
                    20.0171109,
                    20.0171109,
                    20.0171109
                  ],
                  "legendgroup": "LS",
                  "lon": [
                    103.378253,
                    103.378253,
                    103.378253,
                    103.378253,
                    103.378253,
                    103.378253,
                    103.378253,
                    103.378253,
                    103.378253,
                    103.378253
                  ],
                  "marker": {
                    "color": "#B6E880",
                    "size": [
                      10,
                      10,
                      10,
                      10,
                      10,
                      10,
                      10,
                      10,
                      10,
                      10
                    ],
                    "sizemode": "area",
                    "sizeref": 0.025,
                    "symbol": "circle"
                  },
                  "mode": "markers",
                  "name": "LS",
                  "showlegend": true,
                  "type": "scattergeo"
                },
                {
                  "geo": "geo",
                  "hovertemplate": "country=UA<br>size=%{marker.size}<br>lat=%{lat}<br>lon=%{lon}<extra></extra>",
                  "lat": [
                    49.4871968,
                    49.4871968,
                    49.4871968,
                    49.4871968,
                    49.4871968,
                    49.4871968,
                    49.4871968,
                    49.4871968,
                    49.4871968
                  ],
                  "legendgroup": "UA",
                  "lon": [
                    31.2718321,
                    31.2718321,
                    31.2718321,
                    31.2718321,
                    31.2718321,
                    31.2718321,
                    31.2718321,
                    31.2718321,
                    31.2718321
                  ],
                  "marker": {
                    "color": "#FF97FF",
                    "size": [
                      9,
                      9,
                      9,
                      9,
                      9,
                      9,
                      9,
                      9,
                      9
                    ],
                    "sizemode": "area",
                    "sizeref": 0.025,
                    "symbol": "circle"
                  },
                  "mode": "markers",
                  "name": "UA",
                  "showlegend": true,
                  "type": "scattergeo"
                },
                {
                  "geo": "geo",
                  "hovertemplate": "country=BR<br>size=%{marker.size}<br>lat=%{lat}<br>lon=%{lon}<extra></extra>",
                  "lat": [
                    -10.3333333,
                    -10.3333333,
                    -10.3333333,
                    -10.3333333,
                    -10.3333333,
                    -10.3333333,
                    -10.3333333,
                    -10.3333333,
                    -10.3333333,
                    -10.3333333
                  ],
                  "legendgroup": "BR",
                  "lon": [
                    -53.2,
                    -53.2,
                    -53.2,
                    -53.2,
                    -53.2,
                    -53.2,
                    -53.2,
                    -53.2,
                    -53.2,
                    -53.2
                  ],
                  "marker": {
                    "color": "#FECB52",
                    "size": [
                      10,
                      10,
                      10,
                      10,
                      10,
                      10,
                      10,
                      10,
                      10,
                      10
                    ],
                    "sizemode": "area",
                    "sizeref": 0.025,
                    "symbol": "circle"
                  },
                  "mode": "markers",
                  "name": "BR",
                  "showlegend": true,
                  "type": "scattergeo"
                },
                {
                  "geo": "geo",
                  "hovertemplate": "country=ML<br>size=%{marker.size}<br>lat=%{lat}<br>lon=%{lon}<extra></extra>",
                  "lat": [
                    16.3700359,
                    16.3700359,
                    16.3700359,
                    16.3700359,
                    16.3700359,
                    16.3700359,
                    16.3700359,
                    16.3700359,
                    16.3700359,
                    16.3700359
                  ],
                  "legendgroup": "ML",
                  "lon": [
                    -2.2900239,
                    -2.2900239,
                    -2.2900239,
                    -2.2900239,
                    -2.2900239,
                    -2.2900239,
                    -2.2900239,
                    -2.2900239,
                    -2.2900239,
                    -2.2900239
                  ],
                  "marker": {
                    "color": "#636efa",
                    "size": [
                      10,
                      10,
                      10,
                      10,
                      10,
                      10,
                      10,
                      10,
                      10,
                      10
                    ],
                    "sizemode": "area",
                    "sizeref": 0.025,
                    "symbol": "circle"
                  },
                  "mode": "markers",
                  "name": "ML",
                  "showlegend": true,
                  "type": "scattergeo"
                },
                {
                  "geo": "geo",
                  "hovertemplate": "country=VN<br>size=%{marker.size}<br>lat=%{lat}<br>lon=%{lon}<extra></extra>",
                  "lat": [
                    15.9266657,
                    15.9266657,
                    15.9266657,
                    15.9266657,
                    15.9266657,
                    15.9266657,
                    15.9266657,
                    15.9266657,
                    15.9266657,
                    15.9266657
                  ],
                  "legendgroup": "VN",
                  "lon": [
                    107.9650855,
                    107.9650855,
                    107.9650855,
                    107.9650855,
                    107.9650855,
                    107.9650855,
                    107.9650855,
                    107.9650855,
                    107.9650855,
                    107.9650855
                  ],
                  "marker": {
                    "color": "#EF553B",
                    "size": [
                      10,
                      10,
                      10,
                      10,
                      10,
                      10,
                      10,
                      10,
                      10,
                      10
                    ],
                    "sizemode": "area",
                    "sizeref": 0.025,
                    "symbol": "circle"
                  },
                  "mode": "markers",
                  "name": "VN",
                  "showlegend": true,
                  "type": "scattergeo"
                },
                {
                  "geo": "geo",
                  "hovertemplate": "country=AN<br>size=%{marker.size}<br>lat=%{lat}<br>lon=%{lon}<extra></extra>",
                  "lat": [
                    37.3399964,
                    37.3399964,
                    37.3399964,
                    37.3399964,
                    37.3399964,
                    37.3399964,
                    37.3399964,
                    37.3399964,
                    37.3399964,
                    37.3399964
                  ],
                  "legendgroup": "AN",
                  "lon": [
                    -4.5811614,
                    -4.5811614,
                    -4.5811614,
                    -4.5811614,
                    -4.5811614,
                    -4.5811614,
                    -4.5811614,
                    -4.5811614,
                    -4.5811614,
                    -4.5811614
                  ],
                  "marker": {
                    "color": "#00cc96",
                    "size": [
                      10,
                      10,
                      10,
                      10,
                      10,
                      10,
                      10,
                      10,
                      10,
                      10
                    ],
                    "sizemode": "area",
                    "sizeref": 0.025,
                    "symbol": "circle"
                  },
                  "mode": "markers",
                  "name": "AN",
                  "showlegend": true,
                  "type": "scattergeo"
                },
                {
                  "geo": "geo",
                  "hovertemplate": "country=JP<br>size=%{marker.size}<br>lat=%{lat}<br>lon=%{lon}<extra></extra>",
                  "lat": [
                    36.5748441,
                    36.5748441,
                    36.5748441,
                    36.5748441,
                    36.5748441,
                    36.5748441,
                    36.5748441,
                    36.5748441,
                    36.5748441
                  ],
                  "legendgroup": "JP",
                  "lon": [
                    139.2394179,
                    139.2394179,
                    139.2394179,
                    139.2394179,
                    139.2394179,
                    139.2394179,
                    139.2394179,
                    139.2394179,
                    139.2394179
                  ],
                  "marker": {
                    "color": "#ab63fa",
                    "size": [
                      9,
                      9,
                      9,
                      9,
                      9,
                      9,
                      9,
                      9,
                      9
                    ],
                    "sizemode": "area",
                    "sizeref": 0.025,
                    "symbol": "circle"
                  },
                  "mode": "markers",
                  "name": "JP",
                  "showlegend": true,
                  "type": "scattergeo"
                },
                {
                  "geo": "geo",
                  "hovertemplate": "country=KZ<br>size=%{marker.size}<br>lat=%{lat}<br>lon=%{lon}<extra></extra>",
                  "lat": [
                    48.1012954,
                    48.1012954,
                    48.1012954,
                    48.1012954,
                    48.1012954,
                    48.1012954,
                    48.1012954,
                    48.1012954,
                    48.1012954,
                    48.1012954
                  ],
                  "legendgroup": "KZ",
                  "lon": [
                    66.7780818,
                    66.7780818,
                    66.7780818,
                    66.7780818,
                    66.7780818,
                    66.7780818,
                    66.7780818,
                    66.7780818,
                    66.7780818,
                    66.7780818
                  ],
                  "marker": {
                    "color": "#FFA15A",
                    "size": [
                      10,
                      10,
                      10,
                      10,
                      10,
                      10,
                      10,
                      10,
                      10,
                      10
                    ],
                    "sizemode": "area",
                    "sizeref": 0.025,
                    "symbol": "circle"
                  },
                  "mode": "markers",
                  "name": "KZ",
                  "showlegend": true,
                  "type": "scattergeo"
                },
                {
                  "geo": "geo",
                  "hovertemplate": "country=CY<br>size=%{marker.size}<br>lat=%{lat}<br>lon=%{lon}<extra></extra>",
                  "lat": [
                    34.9823018,
                    34.9823018,
                    34.9823018,
                    34.9823018,
                    34.9823018,
                    34.9823018,
                    34.9823018,
                    34.9823018,
                    34.9823018,
                    34.9823018
                  ],
                  "legendgroup": "CY",
                  "lon": [
                    33.1451285,
                    33.1451285,
                    33.1451285,
                    33.1451285,
                    33.1451285,
                    33.1451285,
                    33.1451285,
                    33.1451285,
                    33.1451285,
                    33.1451285
                  ],
                  "marker": {
                    "color": "#19d3f3",
                    "size": [
                      10,
                      10,
                      10,
                      10,
                      10,
                      10,
                      10,
                      10,
                      10,
                      10
                    ],
                    "sizemode": "area",
                    "sizeref": 0.025,
                    "symbol": "circle"
                  },
                  "mode": "markers",
                  "name": "CY",
                  "showlegend": true,
                  "type": "scattergeo"
                },
                {
                  "geo": "geo",
                  "hovertemplate": "country=AQ<br>size=%{marker.size}<br>lat=%{lat}<br>lon=%{lon}<extra></extra>",
                  "lat": [
                    42.1368853,
                    42.1368853,
                    42.1368853,
                    42.1368853,
                    42.1368853,
                    42.1368853,
                    42.1368853,
                    42.1368853,
                    42.1368853,
                    42.1368853
                  ],
                  "legendgroup": "AQ",
                  "lon": [
                    13.610341022538911,
                    13.610341022538911,
                    13.610341022538911,
                    13.610341022538911,
                    13.610341022538911,
                    13.610341022538911,
                    13.610341022538911,
                    13.610341022538911,
                    13.610341022538911,
                    13.610341022538911
                  ],
                  "marker": {
                    "color": "#FF6692",
                    "size": [
                      10,
                      10,
                      10,
                      10,
                      10,
                      10,
                      10,
                      10,
                      10,
                      10
                    ],
                    "sizemode": "area",
                    "sizeref": 0.025,
                    "symbol": "circle"
                  },
                  "mode": "markers",
                  "name": "AQ",
                  "showlegend": true,
                  "type": "scattergeo"
                },
                {
                  "geo": "geo",
                  "hovertemplate": "country=GR<br>size=%{marker.size}<br>lat=%{lat}<br>lon=%{lon}<extra></extra>",
                  "lat": [
                    38.9953683,
                    38.9953683,
                    38.9953683,
                    38.9953683,
                    38.9953683,
                    38.9953683,
                    38.9953683,
                    38.9953683,
                    38.9953683,
                    38.9953683
                  ],
                  "legendgroup": "GR",
                  "lon": [
                    21.9877132,
                    21.9877132,
                    21.9877132,
                    21.9877132,
                    21.9877132,
                    21.9877132,
                    21.9877132,
                    21.9877132,
                    21.9877132,
                    21.9877132
                  ],
                  "marker": {
                    "color": "#B6E880",
                    "size": [
                      10,
                      10,
                      10,
                      10,
                      10,
                      10,
                      10,
                      10,
                      10,
                      10
                    ],
                    "sizemode": "area",
                    "sizeref": 0.025,
                    "symbol": "circle"
                  },
                  "mode": "markers",
                  "name": "GR",
                  "showlegend": true,
                  "type": "scattergeo"
                },
                {
                  "geo": "geo",
                  "hovertemplate": "country=ZM<br>size=%{marker.size}<br>lat=%{lat}<br>lon=%{lon}<extra></extra>",
                  "lat": [
                    -14.5189121,
                    -14.5189121,
                    -14.5189121,
                    -14.5189121,
                    -14.5189121,
                    -14.5189121,
                    -14.5189121,
                    -14.5189121,
                    -14.5189121,
                    -14.5189121
                  ],
                  "legendgroup": "ZM",
                  "lon": [
                    27.5589884,
                    27.5589884,
                    27.5589884,
                    27.5589884,
                    27.5589884,
                    27.5589884,
                    27.5589884,
                    27.5589884,
                    27.5589884,
                    27.5589884
                  ],
                  "marker": {
                    "color": "#FF97FF",
                    "size": [
                      10,
                      10,
                      10,
                      10,
                      10,
                      10,
                      10,
                      10,
                      10,
                      10
                    ],
                    "sizemode": "area",
                    "sizeref": 0.025,
                    "symbol": "circle"
                  },
                  "mode": "markers",
                  "name": "ZM",
                  "showlegend": true,
                  "type": "scattergeo"
                },
                {
                  "geo": "geo",
                  "hovertemplate": "country=TV<br>size=%{marker.size}<br>lat=%{lat}<br>lon=%{lon}<extra></extra>",
                  "lat": [
                    45.806691349999994,
                    45.806691349999994,
                    45.806691349999994,
                    45.806691349999994,
                    45.806691349999994,
                    45.806691349999994,
                    45.806691349999994,
                    45.806691349999994,
                    45.806691349999994,
                    45.806691349999994
                  ],
                  "legendgroup": "TV",
                  "lon": [
                    12.206315763116372,
                    12.206315763116372,
                    12.206315763116372,
                    12.206315763116372,
                    12.206315763116372,
                    12.206315763116372,
                    12.206315763116372,
                    12.206315763116372,
                    12.206315763116372,
                    12.206315763116372
                  ],
                  "marker": {
                    "color": "#FECB52",
                    "size": [
                      10,
                      10,
                      10,
                      10,
                      10,
                      10,
                      10,
                      10,
                      10,
                      10
                    ],
                    "sizemode": "area",
                    "sizeref": 0.025,
                    "symbol": "circle"
                  },
                  "mode": "markers",
                  "name": "TV",
                  "showlegend": true,
                  "type": "scattergeo"
                },
                {
                  "geo": "geo",
                  "hovertemplate": "country=GH<br>size=%{marker.size}<br>lat=%{lat}<br>lon=%{lon}<extra></extra>",
                  "lat": [
                    8.0300284,
                    8.0300284,
                    8.0300284,
                    8.0300284,
                    8.0300284,
                    8.0300284,
                    8.0300284,
                    8.0300284,
                    8.0300284,
                    8.0300284
                  ],
                  "legendgroup": "GH",
                  "lon": [
                    -1.0800271,
                    -1.0800271,
                    -1.0800271,
                    -1.0800271,
                    -1.0800271,
                    -1.0800271,
                    -1.0800271,
                    -1.0800271,
                    -1.0800271,
                    -1.0800271
                  ],
                  "marker": {
                    "color": "#636efa",
                    "size": [
                      10,
                      10,
                      10,
                      10,
                      10,
                      10,
                      10,
                      10,
                      10,
                      10
                    ],
                    "sizemode": "area",
                    "sizeref": 0.025,
                    "symbol": "circle"
                  },
                  "mode": "markers",
                  "name": "GH",
                  "showlegend": true,
                  "type": "scattergeo"
                },
                {
                  "geo": "geo",
                  "hovertemplate": "country=GE<br>size=%{marker.size}<br>lat=%{lat}<br>lon=%{lon}<extra></extra>",
                  "lat": [
                    41.6809707,
                    41.6809707,
                    41.6809707,
                    41.6809707,
                    41.6809707,
                    41.6809707,
                    41.6809707,
                    41.6809707,
                    41.6809707,
                    41.6809707
                  ],
                  "legendgroup": "GE",
                  "lon": [
                    44.0287382,
                    44.0287382,
                    44.0287382,
                    44.0287382,
                    44.0287382,
                    44.0287382,
                    44.0287382,
                    44.0287382,
                    44.0287382,
                    44.0287382
                  ],
                  "marker": {
                    "color": "#EF553B",
                    "size": [
                      10,
                      10,
                      10,
                      10,
                      10,
                      10,
                      10,
                      10,
                      10,
                      10
                    ],
                    "sizemode": "area",
                    "sizeref": 0.025,
                    "symbol": "circle"
                  },
                  "mode": "markers",
                  "name": "GE",
                  "showlegend": true,
                  "type": "scattergeo"
                },
                {
                  "geo": "geo",
                  "hovertemplate": "country=VA<br>size=%{marker.size}<br>lat=%{lat}<br>lon=%{lon}<extra></extra>",
                  "lat": [
                    41.903411,
                    41.903411,
                    41.903411,
                    41.903411,
                    41.903411,
                    41.903411,
                    41.903411,
                    41.903411,
                    41.903411,
                    41.903411
                  ],
                  "legendgroup": "VA",
                  "lon": [
                    12.4528527,
                    12.4528527,
                    12.4528527,
                    12.4528527,
                    12.4528527,
                    12.4528527,
                    12.4528527,
                    12.4528527,
                    12.4528527,
                    12.4528527
                  ],
                  "marker": {
                    "color": "#00cc96",
                    "size": [
                      10,
                      10,
                      10,
                      10,
                      10,
                      10,
                      10,
                      10,
                      10,
                      10
                    ],
                    "sizemode": "area",
                    "sizeref": 0.025,
                    "symbol": "circle"
                  },
                  "mode": "markers",
                  "name": "VA",
                  "showlegend": true,
                  "type": "scattergeo"
                },
                {
                  "geo": "geo",
                  "hovertemplate": "country=NG<br>size=%{marker.size}<br>lat=%{lat}<br>lon=%{lon}<extra></extra>",
                  "lat": [
                    9.6000359,
                    9.6000359,
                    9.6000359,
                    9.6000359,
                    9.6000359,
                    9.6000359,
                    9.6000359,
                    9.6000359,
                    9.6000359,
                    9.6000359
                  ],
                  "legendgroup": "NG",
                  "lon": [
                    7.9999721,
                    7.9999721,
                    7.9999721,
                    7.9999721,
                    7.9999721,
                    7.9999721,
                    7.9999721,
                    7.9999721,
                    7.9999721,
                    7.9999721
                  ],
                  "marker": {
                    "color": "#ab63fa",
                    "size": [
                      10,
                      10,
                      10,
                      10,
                      10,
                      10,
                      10,
                      10,
                      10,
                      10
                    ],
                    "sizemode": "area",
                    "sizeref": 0.025,
                    "symbol": "circle"
                  },
                  "mode": "markers",
                  "name": "NG",
                  "showlegend": true,
                  "type": "scattergeo"
                },
                {
                  "geo": "geo",
                  "hovertemplate": "country=KG<br>size=%{marker.size}<br>lat=%{lat}<br>lon=%{lon}<extra></extra>",
                  "lat": [
                    41.5089324,
                    41.5089324,
                    41.5089324,
                    41.5089324,
                    41.5089324,
                    41.5089324,
                    41.5089324,
                    41.5089324,
                    41.5089324,
                    41.5089324
                  ],
                  "legendgroup": "KG",
                  "lon": [
                    74.724091,
                    74.724091,
                    74.724091,
                    74.724091,
                    74.724091,
                    74.724091,
                    74.724091,
                    74.724091,
                    74.724091,
                    74.724091
                  ],
                  "marker": {
                    "color": "#FFA15A",
                    "size": [
                      10,
                      10,
                      10,
                      10,
                      10,
                      10,
                      10,
                      10,
                      10,
                      10
                    ],
                    "sizemode": "area",
                    "sizeref": 0.025,
                    "symbol": "circle"
                  },
                  "mode": "markers",
                  "name": "KG",
                  "showlegend": true,
                  "type": "scattergeo"
                },
                {
                  "geo": "geo",
                  "hovertemplate": "country=GI<br>size=%{marker.size}<br>lat=%{lat}<br>lon=%{lon}<extra></extra>",
                  "lat": [
                    36.1285933,
                    36.1285933,
                    36.1285933,
                    36.1285933,
                    36.1285933,
                    36.1285933,
                    36.1285933,
                    36.1285933,
                    36.1285933,
                    36.1285933
                  ],
                  "legendgroup": "GI",
                  "lon": [
                    -5.3474761,
                    -5.3474761,
                    -5.3474761,
                    -5.3474761,
                    -5.3474761,
                    -5.3474761,
                    -5.3474761,
                    -5.3474761,
                    -5.3474761,
                    -5.3474761
                  ],
                  "marker": {
                    "color": "#19d3f3",
                    "size": [
                      10,
                      10,
                      10,
                      10,
                      10,
                      10,
                      10,
                      10,
                      10,
                      10
                    ],
                    "sizemode": "area",
                    "sizeref": 0.025,
                    "symbol": "circle"
                  },
                  "mode": "markers",
                  "name": "GI",
                  "showlegend": true,
                  "type": "scattergeo"
                },
                {
                  "geo": "geo",
                  "hovertemplate": "country=ES<br>size=%{marker.size}<br>lat=%{lat}<br>lon=%{lon}<extra></extra>",
                  "lat": [
                    39.3260685,
                    39.3260685,
                    39.3260685,
                    39.3260685,
                    39.3260685,
                    39.3260685,
                    39.3260685,
                    39.3260685,
                    39.3260685,
                    39.3260685
                  ],
                  "legendgroup": "ES",
                  "lon": [
                    -4.8379791,
                    -4.8379791,
                    -4.8379791,
                    -4.8379791,
                    -4.8379791,
                    -4.8379791,
                    -4.8379791,
                    -4.8379791,
                    -4.8379791,
                    -4.8379791
                  ],
                  "marker": {
                    "color": "#FF6692",
                    "size": [
                      10,
                      10,
                      10,
                      10,
                      10,
                      10,
                      10,
                      10,
                      10,
                      10
                    ],
                    "sizemode": "area",
                    "sizeref": 0.025,
                    "symbol": "circle"
                  },
                  "mode": "markers",
                  "name": "ES",
                  "showlegend": true,
                  "type": "scattergeo"
                },
                {
                  "geo": "geo",
                  "hovertemplate": "country=VU<br>size=%{marker.size}<br>lat=%{lat}<br>lon=%{lon}<extra></extra>",
                  "lat": [
                    -16.5255069,
                    -16.5255069,
                    -16.5255069,
                    -16.5255069,
                    -16.5255069,
                    -16.5255069,
                    -16.5255069,
                    -16.5255069,
                    -16.5255069,
                    -16.5255069
                  ],
                  "legendgroup": "VU",
                  "lon": [
                    168.1069154,
                    168.1069154,
                    168.1069154,
                    168.1069154,
                    168.1069154,
                    168.1069154,
                    168.1069154,
                    168.1069154,
                    168.1069154,
                    168.1069154
                  ],
                  "marker": {
                    "color": "#B6E880",
                    "size": [
                      10,
                      10,
                      10,
                      10,
                      10,
                      10,
                      10,
                      10,
                      10,
                      10
                    ],
                    "sizemode": "area",
                    "sizeref": 0.025,
                    "symbol": "circle"
                  },
                  "mode": "markers",
                  "name": "VU",
                  "showlegend": true,
                  "type": "scattergeo"
                },
                {
                  "geo": "geo",
                  "hovertemplate": "country=BN<br>size=%{marker.size}<br>lat=%{lat}<br>lon=%{lon}<extra></extra>",
                  "lat": [
                    4.4137155,
                    4.4137155,
                    4.4137155,
                    4.4137155,
                    4.4137155,
                    4.4137155,
                    4.4137155,
                    4.4137155,
                    4.4137155,
                    4.4137155
                  ],
                  "legendgroup": "BN",
                  "lon": [
                    114.5653908,
                    114.5653908,
                    114.5653908,
                    114.5653908,
                    114.5653908,
                    114.5653908,
                    114.5653908,
                    114.5653908,
                    114.5653908,
                    114.5653908
                  ],
                  "marker": {
                    "color": "#FF97FF",
                    "size": [
                      10,
                      10,
                      10,
                      10,
                      10,
                      10,
                      10,
                      10,
                      10,
                      10
                    ],
                    "sizemode": "area",
                    "sizeref": 0.025,
                    "symbol": "circle"
                  },
                  "mode": "markers",
                  "name": "BN",
                  "showlegend": true,
                  "type": "scattergeo"
                },
                {
                  "geo": "geo",
                  "hovertemplate": "country=GM<br>size=%{marker.size}<br>lat=%{lat}<br>lon=%{lon}<extra></extra>",
                  "lat": [
                    13.470062,
                    13.470062,
                    13.470062,
                    13.470062,
                    13.470062,
                    13.470062,
                    13.470062,
                    13.470062,
                    13.470062,
                    13.470062
                  ],
                  "legendgroup": "GM",
                  "lon": [
                    -15.4900464,
                    -15.4900464,
                    -15.4900464,
                    -15.4900464,
                    -15.4900464,
                    -15.4900464,
                    -15.4900464,
                    -15.4900464,
                    -15.4900464,
                    -15.4900464
                  ],
                  "marker": {
                    "color": "#FECB52",
                    "size": [
                      10,
                      10,
                      10,
                      10,
                      10,
                      10,
                      10,
                      10,
                      10,
                      10
                    ],
                    "sizemode": "area",
                    "sizeref": 0.025,
                    "symbol": "circle"
                  },
                  "mode": "markers",
                  "name": "GM",
                  "showlegend": true,
                  "type": "scattergeo"
                },
                {
                  "geo": "geo",
                  "hovertemplate": "country=GL<br>size=%{marker.size}<br>lat=%{lat}<br>lon=%{lon}<extra></extra>",
                  "lat": [
                    77.6192349,
                    77.6192349,
                    77.6192349,
                    77.6192349,
                    77.6192349,
                    77.6192349,
                    77.6192349,
                    77.6192349,
                    77.6192349,
                    77.6192349
                  ],
                  "legendgroup": "GL",
                  "lon": [
                    -42.8125967,
                    -42.8125967,
                    -42.8125967,
                    -42.8125967,
                    -42.8125967,
                    -42.8125967,
                    -42.8125967,
                    -42.8125967,
                    -42.8125967,
                    -42.8125967
                  ],
                  "marker": {
                    "color": "#636efa",
                    "size": [
                      10,
                      10,
                      10,
                      10,
                      10,
                      10,
                      10,
                      10,
                      10,
                      10
                    ],
                    "sizemode": "area",
                    "sizeref": 0.025,
                    "symbol": "circle"
                  },
                  "mode": "markers",
                  "name": "GL",
                  "showlegend": true,
                  "type": "scattergeo"
                },
                {
                  "geo": "geo",
                  "hovertemplate": "country=MW<br>size=%{marker.size}<br>lat=%{lat}<br>lon=%{lon}<extra></extra>",
                  "lat": [
                    -13.2687204,
                    -13.2687204,
                    -13.2687204,
                    -13.2687204,
                    -13.2687204,
                    -13.2687204,
                    -13.2687204,
                    -13.2687204,
                    -13.2687204,
                    -13.2687204
                  ],
                  "legendgroup": "MW",
                  "lon": [
                    33.9301963,
                    33.9301963,
                    33.9301963,
                    33.9301963,
                    33.9301963,
                    33.9301963,
                    33.9301963,
                    33.9301963,
                    33.9301963,
                    33.9301963
                  ],
                  "marker": {
                    "color": "#EF553B",
                    "size": [
                      10,
                      10,
                      10,
                      10,
                      10,
                      10,
                      10,
                      10,
                      10,
                      10
                    ],
                    "sizemode": "area",
                    "sizeref": 0.025,
                    "symbol": "circle"
                  },
                  "mode": "markers",
                  "name": "MW",
                  "showlegend": true,
                  "type": "scattergeo"
                },
                {
                  "geo": "geo",
                  "hovertemplate": "country=FI<br>size=%{marker.size}<br>lat=%{lat}<br>lon=%{lon}<extra></extra>",
                  "lat": [
                    63.2467777,
                    63.2467777,
                    63.2467777,
                    63.2467777,
                    63.2467777,
                    63.2467777,
                    63.2467777,
                    63.2467777,
                    63.2467777,
                    63.2467777
                  ],
                  "legendgroup": "FI",
                  "lon": [
                    25.9209164,
                    25.9209164,
                    25.9209164,
                    25.9209164,
                    25.9209164,
                    25.9209164,
                    25.9209164,
                    25.9209164,
                    25.9209164,
                    25.9209164
                  ],
                  "marker": {
                    "color": "#00cc96",
                    "size": [
                      10,
                      10,
                      10,
                      10,
                      10,
                      10,
                      10,
                      10,
                      10,
                      10
                    ],
                    "sizemode": "area",
                    "sizeref": 0.025,
                    "symbol": "circle"
                  },
                  "mode": "markers",
                  "name": "FI",
                  "showlegend": true,
                  "type": "scattergeo"
                },
                {
                  "geo": "geo",
                  "hovertemplate": "country=RW<br>size=%{marker.size}<br>lat=%{lat}<br>lon=%{lon}<extra></extra>",
                  "lat": [
                    -1.9646631,
                    -1.9646631,
                    -1.9646631,
                    -1.9646631,
                    -1.9646631,
                    -1.9646631,
                    -1.9646631,
                    -1.9646631,
                    -1.9646631,
                    -1.9646631
                  ],
                  "legendgroup": "RW",
                  "lon": [
                    30.0644358,
                    30.0644358,
                    30.0644358,
                    30.0644358,
                    30.0644358,
                    30.0644358,
                    30.0644358,
                    30.0644358,
                    30.0644358,
                    30.0644358
                  ],
                  "marker": {
                    "color": "#ab63fa",
                    "size": [
                      10,
                      10,
                      10,
                      10,
                      10,
                      10,
                      10,
                      10,
                      10,
                      10
                    ],
                    "sizemode": "area",
                    "sizeref": 0.025,
                    "symbol": "circle"
                  },
                  "mode": "markers",
                  "name": "RW",
                  "showlegend": true,
                  "type": "scattergeo"
                },
                {
                  "geo": "geo",
                  "hovertemplate": "country=LU<br>size=%{marker.size}<br>lat=%{lat}<br>lon=%{lon}<extra></extra>",
                  "lat": [
                    51.0012996,
                    51.0012996,
                    51.0012996,
                    51.0012996,
                    51.0012996,
                    51.0012996,
                    51.0012996,
                    51.0012996,
                    51.0012996,
                    51.0012996
                  ],
                  "legendgroup": "LU",
                  "lon": [
                    22.7748497,
                    22.7748497,
                    22.7748497,
                    22.7748497,
                    22.7748497,
                    22.7748497,
                    22.7748497,
                    22.7748497,
                    22.7748497,
                    22.7748497
                  ],
                  "marker": {
                    "color": "#FFA15A",
                    "size": [
                      10,
                      10,
                      10,
                      10,
                      10,
                      10,
                      10,
                      10,
                      10,
                      10
                    ],
                    "sizemode": "area",
                    "sizeref": 0.025,
                    "symbol": "circle"
                  },
                  "mode": "markers",
                  "name": "LU",
                  "showlegend": true,
                  "type": "scattergeo"
                },
                {
                  "geo": "geo",
                  "hovertemplate": "country=VG<br>size=%{marker.size}<br>lat=%{lat}<br>lon=%{lon}<extra></extra>",
                  "lat": [
                    18.4024395,
                    18.4024395,
                    18.4024395,
                    18.4024395,
                    18.4024395,
                    18.4024395,
                    18.4024395,
                    18.4024395,
                    18.4024395,
                    18.4024395
                  ],
                  "legendgroup": "VG",
                  "lon": [
                    -64.5661642,
                    -64.5661642,
                    -64.5661642,
                    -64.5661642,
                    -64.5661642,
                    -64.5661642,
                    -64.5661642,
                    -64.5661642,
                    -64.5661642,
                    -64.5661642
                  ],
                  "marker": {
                    "color": "#19d3f3",
                    "size": [
                      10,
                      10,
                      10,
                      10,
                      10,
                      10,
                      10,
                      10,
                      10,
                      10
                    ],
                    "sizemode": "area",
                    "sizeref": 0.025,
                    "symbol": "circle"
                  },
                  "mode": "markers",
                  "name": "VG",
                  "showlegend": true,
                  "type": "scattergeo"
                },
                {
                  "geo": "geo",
                  "hovertemplate": "country=SZ<br>size=%{marker.size}<br>lat=%{lat}<br>lon=%{lon}<extra></extra>",
                  "lat": [
                    -26.5624806,
                    -26.5624806,
                    -26.5624806,
                    -26.5624806,
                    -26.5624806,
                    -26.5624806,
                    -26.5624806,
                    -26.5624806,
                    -26.5624806,
                    -26.5624806
                  ],
                  "legendgroup": "SZ",
                  "lon": [
                    31.3991317,
                    31.3991317,
                    31.3991317,
                    31.3991317,
                    31.3991317,
                    31.3991317,
                    31.3991317,
                    31.3991317,
                    31.3991317,
                    31.3991317
                  ],
                  "marker": {
                    "color": "#FF6692",
                    "size": [
                      10,
                      10,
                      10,
                      10,
                      10,
                      10,
                      10,
                      10,
                      10,
                      10
                    ],
                    "sizemode": "area",
                    "sizeref": 0.025,
                    "symbol": "circle"
                  },
                  "mode": "markers",
                  "name": "SZ",
                  "showlegend": true,
                  "type": "scattergeo"
                },
                {
                  "geo": "geo",
                  "hovertemplate": "country=BT<br>size=%{marker.size}<br>lat=%{lat}<br>lon=%{lon}<extra></extra>",
                  "lat": [
                    27.549511,
                    27.549511,
                    27.549511,
                    27.549511,
                    27.549511,
                    27.549511,
                    27.549511,
                    27.549511,
                    27.549511,
                    27.549511
                  ],
                  "legendgroup": "BT",
                  "lon": [
                    90.5119273,
                    90.5119273,
                    90.5119273,
                    90.5119273,
                    90.5119273,
                    90.5119273,
                    90.5119273,
                    90.5119273,
                    90.5119273,
                    90.5119273
                  ],
                  "marker": {
                    "color": "#B6E880",
                    "size": [
                      10,
                      10,
                      10,
                      10,
                      10,
                      10,
                      10,
                      10,
                      10,
                      10
                    ],
                    "sizemode": "area",
                    "sizeref": 0.025,
                    "symbol": "circle"
                  },
                  "mode": "markers",
                  "name": "BT",
                  "showlegend": true,
                  "type": "scattergeo"
                },
                {
                  "geo": "geo",
                  "hovertemplate": "country=SH<br>size=%{marker.size}<br>lat=%{lat}<br>lon=%{lon}<extra></extra>",
                  "lat": [
                    54.1853998,
                    54.1853998,
                    54.1853998,
                    54.1853998,
                    54.1853998,
                    54.1853998,
                    54.1853998,
                    54.1853998,
                    54.1853998,
                    54.1853998
                  ],
                  "legendgroup": "SH",
                  "lon": [
                    9.8220089,
                    9.8220089,
                    9.8220089,
                    9.8220089,
                    9.8220089,
                    9.8220089,
                    9.8220089,
                    9.8220089,
                    9.8220089,
                    9.8220089
                  ],
                  "marker": {
                    "color": "#FF97FF",
                    "size": [
                      10,
                      10,
                      10,
                      10,
                      10,
                      10,
                      10,
                      10,
                      10,
                      10
                    ],
                    "sizemode": "area",
                    "sizeref": 0.025,
                    "symbol": "circle"
                  },
                  "mode": "markers",
                  "name": "SH",
                  "showlegend": true,
                  "type": "scattergeo"
                },
                {
                  "geo": "geo",
                  "hovertemplate": "country=MG<br>size=%{marker.size}<br>lat=%{lat}<br>lon=%{lon}<extra></extra>",
                  "lat": [
                    -18.9249604,
                    -18.9249604,
                    -18.9249604,
                    -18.9249604,
                    -18.9249604,
                    -18.9249604,
                    -18.9249604,
                    -18.9249604,
                    -18.9249604,
                    -18.9249604
                  ],
                  "legendgroup": "MG",
                  "lon": [
                    46.4416422,
                    46.4416422,
                    46.4416422,
                    46.4416422,
                    46.4416422,
                    46.4416422,
                    46.4416422,
                    46.4416422,
                    46.4416422,
                    46.4416422
                  ],
                  "marker": {
                    "color": "#FECB52",
                    "size": [
                      10,
                      10,
                      10,
                      10,
                      10,
                      10,
                      10,
                      10,
                      10,
                      10
                    ],
                    "sizemode": "area",
                    "sizeref": 0.025,
                    "symbol": "circle"
                  },
                  "mode": "markers",
                  "name": "MG",
                  "showlegend": true,
                  "type": "scattergeo"
                },
                {
                  "geo": "geo",
                  "hovertemplate": "country=CU<br>size=%{marker.size}<br>lat=%{lat}<br>lon=%{lon}<extra></extra>",
                  "lat": [
                    23.0131338,
                    23.0131338,
                    23.0131338,
                    23.0131338,
                    23.0131338,
                    23.0131338,
                    23.0131338,
                    23.0131338,
                    23.0131338
                  ],
                  "legendgroup": "CU",
                  "lon": [
                    -80.8328748,
                    -80.8328748,
                    -80.8328748,
                    -80.8328748,
                    -80.8328748,
                    -80.8328748,
                    -80.8328748,
                    -80.8328748,
                    -80.8328748
                  ],
                  "marker": {
                    "color": "#636efa",
                    "size": [
                      9,
                      9,
                      9,
                      9,
                      9,
                      9,
                      9,
                      9,
                      9
                    ],
                    "sizemode": "area",
                    "sizeref": 0.025,
                    "symbol": "circle"
                  },
                  "mode": "markers",
                  "name": "CU",
                  "showlegend": true,
                  "type": "scattergeo"
                },
                {
                  "geo": "geo",
                  "hovertemplate": "country=BW<br>size=%{marker.size}<br>lat=%{lat}<br>lon=%{lon}<extra></extra>",
                  "lat": [
                    48.53775,
                    48.53775,
                    48.53775,
                    48.53775,
                    48.53775,
                    48.53775,
                    48.53775,
                    48.53775,
                    48.53775,
                    48.53775
                  ],
                  "legendgroup": "BW",
                  "lon": [
                    9.041169,
                    9.041169,
                    9.041169,
                    9.041169,
                    9.041169,
                    9.041169,
                    9.041169,
                    9.041169,
                    9.041169,
                    9.041169
                  ],
                  "marker": {
                    "color": "#EF553B",
                    "size": [
                      10,
                      10,
                      10,
                      10,
                      10,
                      10,
                      10,
                      10,
                      10,
                      10
                    ],
                    "sizemode": "area",
                    "sizeref": 0.025,
                    "symbol": "circle"
                  },
                  "mode": "markers",
                  "name": "BW",
                  "showlegend": true,
                  "type": "scattergeo"
                },
                {
                  "geo": "geo",
                  "hovertemplate": "country=AG<br>size=%{marker.size}<br>lat=%{lat}<br>lon=%{lon}<extra></extra>",
                  "lat": [
                    17.2234721,
                    17.2234721,
                    17.2234721,
                    17.2234721,
                    17.2234721,
                    17.2234721,
                    17.2234721,
                    17.2234721,
                    17.2234721
                  ],
                  "legendgroup": "AG",
                  "lon": [
                    -61.9554608,
                    -61.9554608,
                    -61.9554608,
                    -61.9554608,
                    -61.9554608,
                    -61.9554608,
                    -61.9554608,
                    -61.9554608,
                    -61.9554608
                  ],
                  "marker": {
                    "color": "#00cc96",
                    "size": [
                      9,
                      9,
                      9,
                      9,
                      9,
                      9,
                      9,
                      9,
                      9
                    ],
                    "sizemode": "area",
                    "sizeref": 0.025,
                    "symbol": "circle"
                  },
                  "mode": "markers",
                  "name": "AG",
                  "showlegend": true,
                  "type": "scattergeo"
                },
                {
                  "geo": "geo",
                  "hovertemplate": "country=MS<br>size=%{marker.size}<br>lat=%{lat}<br>lon=%{lon}<extra></extra>",
                  "lat": [
                    32.9715285,
                    32.9715285,
                    32.9715285,
                    32.9715285,
                    32.9715285,
                    32.9715285,
                    32.9715285,
                    32.9715285,
                    32.9715285,
                    32.9715285
                  ],
                  "legendgroup": "MS",
                  "lon": [
                    -89.7348497,
                    -89.7348497,
                    -89.7348497,
                    -89.7348497,
                    -89.7348497,
                    -89.7348497,
                    -89.7348497,
                    -89.7348497,
                    -89.7348497,
                    -89.7348497
                  ],
                  "marker": {
                    "color": "#ab63fa",
                    "size": [
                      10,
                      10,
                      10,
                      10,
                      10,
                      10,
                      10,
                      10,
                      10,
                      10
                    ],
                    "sizemode": "area",
                    "sizeref": 0.025,
                    "symbol": "circle"
                  },
                  "mode": "markers",
                  "name": "MS",
                  "showlegend": true,
                  "type": "scattergeo"
                },
                {
                  "geo": "geo",
                  "hovertemplate": "country=MA<br>size=%{marker.size}<br>lat=%{lat}<br>lon=%{lon}<extra></extra>",
                  "lat": [
                    31.1728205,
                    31.1728205,
                    31.1728205,
                    31.1728205,
                    31.1728205,
                    31.1728205,
                    31.1728205,
                    31.1728205,
                    31.1728205,
                    31.1728205
                  ],
                  "legendgroup": "MA",
                  "lon": [
                    -7.3362482,
                    -7.3362482,
                    -7.3362482,
                    -7.3362482,
                    -7.3362482,
                    -7.3362482,
                    -7.3362482,
                    -7.3362482,
                    -7.3362482,
                    -7.3362482
                  ],
                  "marker": {
                    "color": "#FFA15A",
                    "size": [
                      10,
                      10,
                      10,
                      10,
                      10,
                      10,
                      10,
                      10,
                      10,
                      10
                    ],
                    "sizemode": "area",
                    "sizeref": 0.025,
                    "symbol": "circle"
                  },
                  "mode": "markers",
                  "name": "MA",
                  "showlegend": true,
                  "type": "scattergeo"
                },
                {
                  "geo": "geo",
                  "hovertemplate": "country=MC<br>size=%{marker.size}<br>lat=%{lat}<br>lon=%{lon}<extra></extra>",
                  "lat": [
                    43.7323492,
                    43.7323492,
                    43.7323492,
                    43.7323492,
                    43.7323492,
                    43.7323492,
                    43.7323492,
                    43.7323492,
                    43.7323492,
                    43.7323492
                  ],
                  "legendgroup": "MC",
                  "lon": [
                    7.4276832,
                    7.4276832,
                    7.4276832,
                    7.4276832,
                    7.4276832,
                    7.4276832,
                    7.4276832,
                    7.4276832,
                    7.4276832,
                    7.4276832
                  ],
                  "marker": {
                    "color": "#19d3f3",
                    "size": [
                      10,
                      10,
                      10,
                      10,
                      10,
                      10,
                      10,
                      10,
                      10,
                      10
                    ],
                    "sizemode": "area",
                    "sizeref": 0.025,
                    "symbol": "circle"
                  },
                  "mode": "markers",
                  "name": "MC",
                  "showlegend": true,
                  "type": "scattergeo"
                },
                {
                  "geo": "geo",
                  "hovertemplate": "country=PN<br>size=%{marker.size}<br>lat=%{lat}<br>lon=%{lon}<extra></extra>",
                  "lat": [
                    -25.0657719,
                    -25.0657719,
                    -25.0657719,
                    -25.0657719,
                    -25.0657719,
                    -25.0657719,
                    -25.0657719,
                    -25.0657719,
                    -25.0657719,
                    -25.0657719
                  ],
                  "legendgroup": "PN",
                  "lon": [
                    -130.101782,
                    -130.101782,
                    -130.101782,
                    -130.101782,
                    -130.101782,
                    -130.101782,
                    -130.101782,
                    -130.101782,
                    -130.101782,
                    -130.101782
                  ],
                  "marker": {
                    "color": "#FF6692",
                    "size": [
                      10,
                      10,
                      10,
                      10,
                      10,
                      10,
                      10,
                      10,
                      10,
                      10
                    ],
                    "sizemode": "area",
                    "sizeref": 0.025,
                    "symbol": "circle"
                  },
                  "mode": "markers",
                  "name": "PN",
                  "showlegend": true,
                  "type": "scattergeo"
                },
                {
                  "geo": "geo",
                  "hovertemplate": "country=NR<br>size=%{marker.size}<br>lat=%{lat}<br>lon=%{lon}<extra></extra>",
                  "lat": [
                    -0.5252306,
                    -0.5252306,
                    -0.5252306,
                    -0.5252306,
                    -0.5252306,
                    -0.5252306,
                    -0.5252306,
                    -0.5252306,
                    -0.5252306,
                    -0.5252306
                  ],
                  "legendgroup": "NR",
                  "lon": [
                    166.9324426,
                    166.9324426,
                    166.9324426,
                    166.9324426,
                    166.9324426,
                    166.9324426,
                    166.9324426,
                    166.9324426,
                    166.9324426,
                    166.9324426
                  ],
                  "marker": {
                    "color": "#B6E880",
                    "size": [
                      10,
                      10,
                      10,
                      10,
                      10,
                      10,
                      10,
                      10,
                      10,
                      10
                    ],
                    "sizemode": "area",
                    "sizeref": 0.025,
                    "symbol": "circle"
                  },
                  "mode": "markers",
                  "name": "NR",
                  "showlegend": true,
                  "type": "scattergeo"
                },
                {
                  "geo": "geo",
                  "hovertemplate": "country=ID<br>size=%{marker.size}<br>lat=%{lat}<br>lon=%{lon}<extra></extra>",
                  "lat": [
                    -2.4833826,
                    -2.4833826,
                    -2.4833826,
                    -2.4833826,
                    -2.4833826,
                    -2.4833826,
                    -2.4833826,
                    -2.4833826,
                    -2.4833826,
                    -2.4833826
                  ],
                  "legendgroup": "ID",
                  "lon": [
                    117.8902853,
                    117.8902853,
                    117.8902853,
                    117.8902853,
                    117.8902853,
                    117.8902853,
                    117.8902853,
                    117.8902853,
                    117.8902853,
                    117.8902853
                  ],
                  "marker": {
                    "color": "#FF97FF",
                    "size": [
                      10,
                      10,
                      10,
                      10,
                      10,
                      10,
                      10,
                      10,
                      10,
                      10
                    ],
                    "sizemode": "area",
                    "sizeref": 0.025,
                    "symbol": "circle"
                  },
                  "mode": "markers",
                  "name": "ID",
                  "showlegend": true,
                  "type": "scattergeo"
                },
                {
                  "geo": "geo",
                  "hovertemplate": "country=LY<br>size=%{marker.size}<br>lat=%{lat}<br>lon=%{lon}<extra></extra>",
                  "lat": [
                    26.8234472,
                    26.8234472,
                    26.8234472,
                    26.8234472,
                    26.8234472,
                    26.8234472,
                    26.8234472,
                    26.8234472,
                    26.8234472,
                    26.8234472
                  ],
                  "legendgroup": "LY",
                  "lon": [
                    18.1236723,
                    18.1236723,
                    18.1236723,
                    18.1236723,
                    18.1236723,
                    18.1236723,
                    18.1236723,
                    18.1236723,
                    18.1236723,
                    18.1236723
                  ],
                  "marker": {
                    "color": "#FECB52",
                    "size": [
                      10,
                      10,
                      10,
                      10,
                      10,
                      10,
                      10,
                      10,
                      10,
                      10
                    ],
                    "sizemode": "area",
                    "sizeref": 0.025,
                    "symbol": "circle"
                  },
                  "mode": "markers",
                  "name": "LY",
                  "showlegend": true,
                  "type": "scattergeo"
                },
                {
                  "geo": "geo",
                  "hovertemplate": "country=VI<br>size=%{marker.size}<br>lat=%{lat}<br>lon=%{lon}<extra></extra>",
                  "lat": [
                    17.789187,
                    17.789187,
                    17.789187,
                    17.789187,
                    17.789187,
                    17.789187,
                    17.789187,
                    17.789187,
                    17.789187,
                    17.789187
                  ],
                  "legendgroup": "VI",
                  "lon": [
                    -64.7080574,
                    -64.7080574,
                    -64.7080574,
                    -64.7080574,
                    -64.7080574,
                    -64.7080574,
                    -64.7080574,
                    -64.7080574,
                    -64.7080574,
                    -64.7080574
                  ],
                  "marker": {
                    "color": "#636efa",
                    "size": [
                      10,
                      10,
                      10,
                      10,
                      10,
                      10,
                      10,
                      10,
                      10,
                      10
                    ],
                    "sizemode": "area",
                    "sizeref": 0.025,
                    "symbol": "circle"
                  },
                  "mode": "markers",
                  "name": "VI",
                  "showlegend": true,
                  "type": "scattergeo"
                },
                {
                  "geo": "geo",
                  "hovertemplate": "country=AR<br>size=%{marker.size}<br>lat=%{lat}<br>lon=%{lon}<extra></extra>",
                  "lat": [
                    -34.9964963,
                    -34.9964963,
                    -34.9964963,
                    -34.9964963,
                    -34.9964963,
                    -34.9964963,
                    -34.9964963,
                    -34.9964963,
                    -34.9964963,
                    -34.9964963
                  ],
                  "legendgroup": "AR",
                  "lon": [
                    -64.9672817,
                    -64.9672817,
                    -64.9672817,
                    -64.9672817,
                    -64.9672817,
                    -64.9672817,
                    -64.9672817,
                    -64.9672817,
                    -64.9672817,
                    -64.9672817
                  ],
                  "marker": {
                    "color": "#EF553B",
                    "size": [
                      10,
                      10,
                      10,
                      10,
                      10,
                      10,
                      10,
                      10,
                      10,
                      10
                    ],
                    "sizemode": "area",
                    "sizeref": 0.025,
                    "symbol": "circle"
                  },
                  "mode": "markers",
                  "name": "AR",
                  "showlegend": true,
                  "type": "scattergeo"
                },
                {
                  "geo": "geo",
                  "hovertemplate": "country=RE<br>size=%{marker.size}<br>lat=%{lat}<br>lon=%{lon}<extra></extra>",
                  "lat": [
                    44.608664,
                    44.608664,
                    44.608664,
                    44.608664,
                    44.608664,
                    44.608664,
                    44.608664,
                    44.608664,
                    44.608664,
                    44.608664
                  ],
                  "legendgroup": "RE",
                  "lon": [
                    10.594796841892734,
                    10.594796841892734,
                    10.594796841892734,
                    10.594796841892734,
                    10.594796841892734,
                    10.594796841892734,
                    10.594796841892734,
                    10.594796841892734,
                    10.594796841892734,
                    10.594796841892734
                  ],
                  "marker": {
                    "color": "#00cc96",
                    "size": [
                      10,
                      10,
                      10,
                      10,
                      10,
                      10,
                      10,
                      10,
                      10,
                      10
                    ],
                    "sizemode": "area",
                    "sizeref": 0.025,
                    "symbol": "circle"
                  },
                  "mode": "markers",
                  "name": "RE",
                  "showlegend": true,
                  "type": "scattergeo"
                },
                {
                  "geo": "geo",
                  "hovertemplate": "country=FR<br>size=%{marker.size}<br>lat=%{lat}<br>lon=%{lon}<extra></extra>",
                  "lat": [
                    46.603354,
                    46.603354,
                    46.603354,
                    46.603354,
                    46.603354,
                    46.603354,
                    46.603354,
                    46.603354,
                    46.603354,
                    46.603354
                  ],
                  "legendgroup": "FR",
                  "lon": [
                    1.8883335,
                    1.8883335,
                    1.8883335,
                    1.8883335,
                    1.8883335,
                    1.8883335,
                    1.8883335,
                    1.8883335,
                    1.8883335,
                    1.8883335
                  ],
                  "marker": {
                    "color": "#ab63fa",
                    "size": [
                      10,
                      10,
                      10,
                      10,
                      10,
                      10,
                      10,
                      10,
                      10,
                      10
                    ],
                    "sizemode": "area",
                    "sizeref": 0.025,
                    "symbol": "circle"
                  },
                  "mode": "markers",
                  "name": "FR",
                  "showlegend": true,
                  "type": "scattergeo"
                },
                {
                  "geo": "geo",
                  "hovertemplate": "country=CA<br>size=%{marker.size}<br>lat=%{lat}<br>lon=%{lon}<extra></extra>",
                  "lat": [
                    61.0666922,
                    61.0666922,
                    61.0666922,
                    61.0666922,
                    61.0666922,
                    61.0666922,
                    61.0666922,
                    61.0666922,
                    61.0666922,
                    61.0666922
                  ],
                  "legendgroup": "CA",
                  "lon": [
                    -107.991707,
                    -107.991707,
                    -107.991707,
                    -107.991707,
                    -107.991707,
                    -107.991707,
                    -107.991707,
                    -107.991707,
                    -107.991707,
                    -107.991707
                  ],
                  "marker": {
                    "color": "#FFA15A",
                    "size": [
                      10,
                      10,
                      10,
                      10,
                      10,
                      10,
                      10,
                      10,
                      10,
                      10
                    ],
                    "sizemode": "area",
                    "sizeref": 0.025,
                    "symbol": "circle"
                  },
                  "mode": "markers",
                  "name": "CA",
                  "showlegend": true,
                  "type": "scattergeo"
                },
                {
                  "geo": "geo",
                  "hovertemplate": "country=US<br>size=%{marker.size}<br>lat=%{lat}<br>lon=%{lon}<extra></extra>",
                  "lat": [
                    39.7837304,
                    39.7837304,
                    39.7837304,
                    39.7837304,
                    39.7837304,
                    39.7837304,
                    39.7837304,
                    39.7837304,
                    39.7837304,
                    39.7837304
                  ],
                  "legendgroup": "US",
                  "lon": [
                    -100.445882,
                    -100.445882,
                    -100.445882,
                    -100.445882,
                    -100.445882,
                    -100.445882,
                    -100.445882,
                    -100.445882,
                    -100.445882,
                    -100.445882
                  ],
                  "marker": {
                    "color": "#19d3f3",
                    "size": [
                      10,
                      10,
                      10,
                      10,
                      10,
                      10,
                      10,
                      10,
                      10,
                      10
                    ],
                    "sizemode": "area",
                    "sizeref": 0.025,
                    "symbol": "circle"
                  },
                  "mode": "markers",
                  "name": "US",
                  "showlegend": true,
                  "type": "scattergeo"
                },
                {
                  "geo": "geo",
                  "hovertemplate": "country=LK<br>size=%{marker.size}<br>lat=%{lat}<br>lon=%{lon}<extra></extra>",
                  "lat": [
                    7.5554942,
                    7.5554942,
                    7.5554942,
                    7.5554942,
                    7.5554942,
                    7.5554942,
                    7.5554942,
                    7.5554942,
                    7.5554942,
                    7.5554942
                  ],
                  "legendgroup": "LK",
                  "lon": [
                    80.7137847,
                    80.7137847,
                    80.7137847,
                    80.7137847,
                    80.7137847,
                    80.7137847,
                    80.7137847,
                    80.7137847,
                    80.7137847,
                    80.7137847
                  ],
                  "marker": {
                    "color": "#FF6692",
                    "size": [
                      10,
                      10,
                      10,
                      10,
                      10,
                      10,
                      10,
                      10,
                      10,
                      10
                    ],
                    "sizemode": "area",
                    "sizeref": 0.025,
                    "symbol": "circle"
                  },
                  "mode": "markers",
                  "name": "LK",
                  "showlegend": true,
                  "type": "scattergeo"
                },
                {
                  "geo": "geo",
                  "hovertemplate": "country=GD<br>size=%{marker.size}<br>lat=%{lat}<br>lon=%{lon}<extra></extra>",
                  "lat": [
                    12.1360374,
                    12.1360374,
                    12.1360374,
                    12.1360374,
                    12.1360374,
                    12.1360374,
                    12.1360374,
                    12.1360374,
                    12.1360374,
                    12.1360374
                  ],
                  "legendgroup": "GD",
                  "lon": [
                    -61.6904045,
                    -61.6904045,
                    -61.6904045,
                    -61.6904045,
                    -61.6904045,
                    -61.6904045,
                    -61.6904045,
                    -61.6904045,
                    -61.6904045,
                    -61.6904045
                  ],
                  "marker": {
                    "color": "#B6E880",
                    "size": [
                      10,
                      10,
                      10,
                      10,
                      10,
                      10,
                      10,
                      10,
                      10,
                      10
                    ],
                    "sizemode": "area",
                    "sizeref": 0.025,
                    "symbol": "circle"
                  },
                  "mode": "markers",
                  "name": "GD",
                  "showlegend": true,
                  "type": "scattergeo"
                },
                {
                  "geo": "geo",
                  "hovertemplate": "country=AI<br>size=%{marker.size}<br>lat=%{lat}<br>lon=%{lon}<extra></extra>",
                  "lat": [
                    18.1954947,
                    18.1954947,
                    18.1954947,
                    18.1954947,
                    18.1954947,
                    18.1954947,
                    18.1954947,
                    18.1954947,
                    18.1954947,
                    18.1954947
                  ],
                  "legendgroup": "AI",
                  "lon": [
                    -63.0750234,
                    -63.0750234,
                    -63.0750234,
                    -63.0750234,
                    -63.0750234,
                    -63.0750234,
                    -63.0750234,
                    -63.0750234,
                    -63.0750234,
                    -63.0750234
                  ],
                  "marker": {
                    "color": "#FF97FF",
                    "size": [
                      10,
                      10,
                      10,
                      10,
                      10,
                      10,
                      10,
                      10,
                      10,
                      10
                    ],
                    "sizemode": "area",
                    "sizeref": 0.025,
                    "symbol": "circle"
                  },
                  "mode": "markers",
                  "name": "AI",
                  "showlegend": true,
                  "type": "scattergeo"
                },
                {
                  "geo": "geo",
                  "hovertemplate": "country=SY<br>size=%{marker.size}<br>lat=%{lat}<br>lon=%{lon}<extra></extra>",
                  "lat": [
                    34.6401861,
                    34.6401861,
                    34.6401861,
                    34.6401861,
                    34.6401861,
                    34.6401861,
                    34.6401861,
                    34.6401861,
                    34.6401861,
                    34.6401861
                  ],
                  "legendgroup": "SY",
                  "lon": [
                    39.0494106,
                    39.0494106,
                    39.0494106,
                    39.0494106,
                    39.0494106,
                    39.0494106,
                    39.0494106,
                    39.0494106,
                    39.0494106,
                    39.0494106
                  ],
                  "marker": {
                    "color": "#FECB52",
                    "size": [
                      10,
                      10,
                      10,
                      10,
                      10,
                      10,
                      10,
                      10,
                      10,
                      10
                    ],
                    "sizemode": "area",
                    "sizeref": 0.025,
                    "symbol": "circle"
                  },
                  "mode": "markers",
                  "name": "SY",
                  "showlegend": true,
                  "type": "scattergeo"
                },
                {
                  "geo": "geo",
                  "hovertemplate": "country=DO<br>size=%{marker.size}<br>lat=%{lat}<br>lon=%{lon}<extra></extra>",
                  "lat": [
                    19.0974031,
                    19.0974031,
                    19.0974031,
                    19.0974031,
                    19.0974031,
                    19.0974031,
                    19.0974031,
                    19.0974031,
                    19.0974031,
                    19.0974031
                  ],
                  "legendgroup": "DO",
                  "lon": [
                    -70.3028026,
                    -70.3028026,
                    -70.3028026,
                    -70.3028026,
                    -70.3028026,
                    -70.3028026,
                    -70.3028026,
                    -70.3028026,
                    -70.3028026,
                    -70.3028026
                  ],
                  "marker": {
                    "color": "#636efa",
                    "size": [
                      10,
                      10,
                      10,
                      10,
                      10,
                      10,
                      10,
                      10,
                      10,
                      10
                    ],
                    "sizemode": "area",
                    "sizeref": 0.025,
                    "symbol": "circle"
                  },
                  "mode": "markers",
                  "name": "DO",
                  "showlegend": true,
                  "type": "scattergeo"
                },
                {
                  "geo": "geo",
                  "hovertemplate": "country=AE<br>size=%{marker.size}<br>lat=%{lat}<br>lon=%{lon}<extra></extra>",
                  "lat": [
                    24.0002488,
                    24.0002488,
                    24.0002488,
                    24.0002488,
                    24.0002488,
                    24.0002488,
                    24.0002488,
                    24.0002488,
                    24.0002488,
                    24.0002488
                  ],
                  "legendgroup": "AE",
                  "lon": [
                    53.9994829,
                    53.9994829,
                    53.9994829,
                    53.9994829,
                    53.9994829,
                    53.9994829,
                    53.9994829,
                    53.9994829,
                    53.9994829,
                    53.9994829
                  ],
                  "marker": {
                    "color": "#EF553B",
                    "size": [
                      10,
                      10,
                      10,
                      10,
                      10,
                      10,
                      10,
                      10,
                      10,
                      10
                    ],
                    "sizemode": "area",
                    "sizeref": 0.025,
                    "symbol": "circle"
                  },
                  "mode": "markers",
                  "name": "AE",
                  "showlegend": true,
                  "type": "scattergeo"
                },
                {
                  "geo": "geo",
                  "hovertemplate": "country=AF<br>size=%{marker.size}<br>lat=%{lat}<br>lon=%{lon}<extra></extra>",
                  "lat": [
                    33.7680065,
                    33.7680065,
                    33.7680065,
                    33.7680065,
                    33.7680065,
                    33.7680065,
                    33.7680065,
                    33.7680065,
                    33.7680065,
                    33.7680065
                  ],
                  "legendgroup": "AF",
                  "lon": [
                    66.2385139,
                    66.2385139,
                    66.2385139,
                    66.2385139,
                    66.2385139,
                    66.2385139,
                    66.2385139,
                    66.2385139,
                    66.2385139,
                    66.2385139
                  ],
                  "marker": {
                    "color": "#00cc96",
                    "size": [
                      10,
                      10,
                      10,
                      10,
                      10,
                      10,
                      10,
                      10,
                      10,
                      10
                    ],
                    "sizemode": "area",
                    "sizeref": 0.025,
                    "symbol": "circle"
                  },
                  "mode": "markers",
                  "name": "AF",
                  "showlegend": true,
                  "type": "scattergeo"
                },
                {
                  "geo": "geo",
                  "hovertemplate": "country=HN<br>size=%{marker.size}<br>lat=%{lat}<br>lon=%{lon}<extra></extra>",
                  "lat": [
                    15.2572432,
                    15.2572432,
                    15.2572432,
                    15.2572432,
                    15.2572432,
                    15.2572432,
                    15.2572432,
                    15.2572432,
                    15.2572432,
                    15.2572432
                  ],
                  "legendgroup": "HN",
                  "lon": [
                    -86.0755145,
                    -86.0755145,
                    -86.0755145,
                    -86.0755145,
                    -86.0755145,
                    -86.0755145,
                    -86.0755145,
                    -86.0755145,
                    -86.0755145,
                    -86.0755145
                  ],
                  "marker": {
                    "color": "#ab63fa",
                    "size": [
                      10,
                      10,
                      10,
                      10,
                      10,
                      10,
                      10,
                      10,
                      10,
                      10
                    ],
                    "sizemode": "area",
                    "sizeref": 0.025,
                    "symbol": "circle"
                  },
                  "mode": "markers",
                  "name": "HN",
                  "showlegend": true,
                  "type": "scattergeo"
                },
                {
                  "geo": "geo",
                  "hovertemplate": "country=LB<br>size=%{marker.size}<br>lat=%{lat}<br>lon=%{lon}<extra></extra>",
                  "lat": [
                    33.8750629,
                    33.8750629,
                    33.8750629,
                    33.8750629,
                    33.8750629,
                    33.8750629,
                    33.8750629,
                    33.8750629,
                    33.8750629,
                    33.8750629
                  ],
                  "legendgroup": "LB",
                  "lon": [
                    35.843409,
                    35.843409,
                    35.843409,
                    35.843409,
                    35.843409,
                    35.843409,
                    35.843409,
                    35.843409,
                    35.843409,
                    35.843409
                  ],
                  "marker": {
                    "color": "#FFA15A",
                    "size": [
                      10,
                      10,
                      10,
                      10,
                      10,
                      10,
                      10,
                      10,
                      10,
                      10
                    ],
                    "sizemode": "area",
                    "sizeref": 0.025,
                    "symbol": "circle"
                  },
                  "mode": "markers",
                  "name": "LB",
                  "showlegend": true,
                  "type": "scattergeo"
                },
                {
                  "geo": "geo",
                  "hovertemplate": "country=TF<br>size=%{marker.size}<br>lat=%{lat}<br>lon=%{lon}<extra></extra>",
                  "lat": [
                    60.1860107,
                    60.1860107,
                    60.1860107,
                    60.1860107,
                    60.1860107,
                    60.1860107,
                    60.1860107,
                    60.1860107,
                    60.1860107,
                    60.1860107
                  ],
                  "legendgroup": "TF",
                  "lon": [
                    24.832667609018262,
                    24.832667609018262,
                    24.832667609018262,
                    24.832667609018262,
                    24.832667609018262,
                    24.832667609018262,
                    24.832667609018262,
                    24.832667609018262,
                    24.832667609018262,
                    24.832667609018262
                  ],
                  "marker": {
                    "color": "#19d3f3",
                    "size": [
                      10,
                      10,
                      10,
                      10,
                      10,
                      10,
                      10,
                      10,
                      10,
                      10
                    ],
                    "sizemode": "area",
                    "sizeref": 0.025,
                    "symbol": "circle"
                  },
                  "mode": "markers",
                  "name": "TF",
                  "showlegend": true,
                  "type": "scattergeo"
                },
                {
                  "geo": "geo",
                  "hovertemplate": "country=TC<br>size=%{marker.size}<br>lat=%{lat}<br>lon=%{lon}<extra></extra>",
                  "lat": [
                    21.721746,
                    21.721746,
                    21.721746,
                    21.721746,
                    21.721746,
                    21.721746,
                    21.721746,
                    21.721746,
                    21.721746,
                    21.721746
                  ],
                  "legendgroup": "TC",
                  "lon": [
                    -71.5527809,
                    -71.5527809,
                    -71.5527809,
                    -71.5527809,
                    -71.5527809,
                    -71.5527809,
                    -71.5527809,
                    -71.5527809,
                    -71.5527809,
                    -71.5527809
                  ],
                  "marker": {
                    "color": "#FF6692",
                    "size": [
                      10,
                      10,
                      10,
                      10,
                      10,
                      10,
                      10,
                      10,
                      10,
                      10
                    ],
                    "sizemode": "area",
                    "sizeref": 0.025,
                    "symbol": "circle"
                  },
                  "mode": "markers",
                  "name": "TC",
                  "showlegend": true,
                  "type": "scattergeo"
                },
                {
                  "geo": "geo",
                  "hovertemplate": "country=KP<br>size=%{marker.size}<br>lat=%{lat}<br>lon=%{lon}<extra></extra>",
                  "lat": [
                    40.3736611,
                    40.3736611,
                    40.3736611,
                    40.3736611,
                    40.3736611,
                    40.3736611,
                    40.3736611,
                    40.3736611,
                    40.3736611,
                    40.3736611
                  ],
                  "legendgroup": "KP",
                  "lon": [
                    127.0870417,
                    127.0870417,
                    127.0870417,
                    127.0870417,
                    127.0870417,
                    127.0870417,
                    127.0870417,
                    127.0870417,
                    127.0870417,
                    127.0870417
                  ],
                  "marker": {
                    "color": "#B6E880",
                    "size": [
                      10,
                      10,
                      10,
                      10,
                      10,
                      10,
                      10,
                      10,
                      10,
                      10
                    ],
                    "sizemode": "area",
                    "sizeref": 0.025,
                    "symbol": "circle"
                  },
                  "mode": "markers",
                  "name": "KP",
                  "showlegend": true,
                  "type": "scattergeo"
                },
                {
                  "geo": "geo",
                  "hovertemplate": "country=FK<br>size=%{marker.size}<br>lat=%{lat}<br>lon=%{lon}<extra></extra>",
                  "lat": [
                    -51.9492937,
                    -51.9492937,
                    -51.9492937,
                    -51.9492937,
                    -51.9492937,
                    -51.9492937,
                    -51.9492937,
                    -51.9492937,
                    -51.9492937,
                    -51.9492937
                  ],
                  "legendgroup": "FK",
                  "lon": [
                    -59.5383657,
                    -59.5383657,
                    -59.5383657,
                    -59.5383657,
                    -59.5383657,
                    -59.5383657,
                    -59.5383657,
                    -59.5383657,
                    -59.5383657,
                    -59.5383657
                  ],
                  "marker": {
                    "color": "#FF97FF",
                    "size": [
                      10,
                      10,
                      10,
                      10,
                      10,
                      10,
                      10,
                      10,
                      10,
                      10
                    ],
                    "sizemode": "area",
                    "sizeref": 0.025,
                    "symbol": "circle"
                  },
                  "mode": "markers",
                  "name": "FK",
                  "showlegend": true,
                  "type": "scattergeo"
                },
                {
                  "geo": "geo",
                  "hovertemplate": "country=MZ<br>size=%{marker.size}<br>lat=%{lat}<br>lon=%{lon}<extra></extra>",
                  "lat": [
                    -19.302233,
                    -19.302233,
                    -19.302233,
                    -19.302233,
                    -19.302233,
                    -19.302233,
                    -19.302233,
                    -19.302233,
                    -19.302233
                  ],
                  "legendgroup": "MZ",
                  "lon": [
                    34.9144977,
                    34.9144977,
                    34.9144977,
                    34.9144977,
                    34.9144977,
                    34.9144977,
                    34.9144977,
                    34.9144977,
                    34.9144977
                  ],
                  "marker": {
                    "color": "#FECB52",
                    "size": [
                      9,
                      9,
                      9,
                      9,
                      9,
                      9,
                      9,
                      9,
                      9
                    ],
                    "sizemode": "area",
                    "sizeref": 0.025,
                    "symbol": "circle"
                  },
                  "mode": "markers",
                  "name": "MZ",
                  "showlegend": true,
                  "type": "scattergeo"
                },
                {
                  "geo": "geo",
                  "hovertemplate": "country=RS<br>size=%{marker.size}<br>lat=%{lat}<br>lon=%{lon}<extra></extra>",
                  "lat": [
                    44.1534121,
                    44.1534121,
                    44.1534121,
                    44.1534121,
                    44.1534121,
                    44.1534121,
                    44.1534121,
                    44.1534121,
                    44.1534121,
                    44.1534121
                  ],
                  "legendgroup": "RS",
                  "lon": [
                    20.55144,
                    20.55144,
                    20.55144,
                    20.55144,
                    20.55144,
                    20.55144,
                    20.55144,
                    20.55144,
                    20.55144,
                    20.55144
                  ],
                  "marker": {
                    "color": "#636efa",
                    "size": [
                      10,
                      10,
                      10,
                      10,
                      10,
                      10,
                      10,
                      10,
                      10,
                      10
                    ],
                    "sizemode": "area",
                    "sizeref": 0.025,
                    "symbol": "circle"
                  },
                  "mode": "markers",
                  "name": "RS",
                  "showlegend": true,
                  "type": "scattergeo"
                },
                {
                  "geo": "geo",
                  "hovertemplate": "country=SK<br>size=%{marker.size}<br>lat=%{lat}<br>lon=%{lon}<extra></extra>",
                  "lat": [
                    48.7411522,
                    48.7411522,
                    48.7411522,
                    48.7411522,
                    48.7411522,
                    48.7411522,
                    48.7411522,
                    48.7411522,
                    48.7411522,
                    48.7411522
                  ],
                  "legendgroup": "SK",
                  "lon": [
                    19.4528646,
                    19.4528646,
                    19.4528646,
                    19.4528646,
                    19.4528646,
                    19.4528646,
                    19.4528646,
                    19.4528646,
                    19.4528646,
                    19.4528646
                  ],
                  "marker": {
                    "color": "#EF553B",
                    "size": [
                      10,
                      10,
                      10,
                      10,
                      10,
                      10,
                      10,
                      10,
                      10,
                      10
                    ],
                    "sizemode": "area",
                    "sizeref": 0.025,
                    "symbol": "circle"
                  },
                  "mode": "markers",
                  "name": "SK",
                  "showlegend": true,
                  "type": "scattergeo"
                },
                {
                  "geo": "geo",
                  "hovertemplate": "country=NU<br>size=%{marker.size}<br>lat=%{lat}<br>lon=%{lon}<extra></extra>",
                  "lat": [
                    40.263970549999996,
                    40.263970549999996,
                    40.263970549999996,
                    40.263970549999996,
                    40.263970549999996,
                    40.263970549999996,
                    40.263970549999996,
                    40.263970549999996,
                    40.263970549999996,
                    40.263970549999996
                  ],
                  "legendgroup": "NU",
                  "lon": [
                    9.12722009781746,
                    9.12722009781746,
                    9.12722009781746,
                    9.12722009781746,
                    9.12722009781746,
                    9.12722009781746,
                    9.12722009781746,
                    9.12722009781746,
                    9.12722009781746,
                    9.12722009781746
                  ],
                  "marker": {
                    "color": "#00cc96",
                    "size": [
                      10,
                      10,
                      10,
                      10,
                      10,
                      10,
                      10,
                      10,
                      10,
                      10
                    ],
                    "sizemode": "area",
                    "sizeref": 0.025,
                    "symbol": "circle"
                  },
                  "mode": "markers",
                  "name": "NU",
                  "showlegend": true,
                  "type": "scattergeo"
                },
                {
                  "geo": "geo",
                  "hovertemplate": "country=NC<br>size=%{marker.size}<br>lat=%{lat}<br>lon=%{lon}<extra></extra>",
                  "lat": [
                    35.6729639,
                    35.6729639,
                    35.6729639,
                    35.6729639,
                    35.6729639,
                    35.6729639,
                    35.6729639,
                    35.6729639,
                    35.6729639,
                    35.6729639
                  ],
                  "legendgroup": "NC",
                  "lon": [
                    -79.0392919,
                    -79.0392919,
                    -79.0392919,
                    -79.0392919,
                    -79.0392919,
                    -79.0392919,
                    -79.0392919,
                    -79.0392919,
                    -79.0392919,
                    -79.0392919
                  ],
                  "marker": {
                    "color": "#ab63fa",
                    "size": [
                      10,
                      10,
                      10,
                      10,
                      10,
                      10,
                      10,
                      10,
                      10,
                      10
                    ],
                    "sizemode": "area",
                    "sizeref": 0.025,
                    "symbol": "circle"
                  },
                  "mode": "markers",
                  "name": "NC",
                  "showlegend": true,
                  "type": "scattergeo"
                },
                {
                  "geo": "geo",
                  "hovertemplate": "country=PH<br>size=%{marker.size}<br>lat=%{lat}<br>lon=%{lon}<extra></extra>",
                  "lat": [
                    12.7503486,
                    12.7503486,
                    12.7503486,
                    12.7503486,
                    12.7503486,
                    12.7503486,
                    12.7503486,
                    12.7503486,
                    12.7503486,
                    12.7503486
                  ],
                  "legendgroup": "PH",
                  "lon": [
                    122.7312101,
                    122.7312101,
                    122.7312101,
                    122.7312101,
                    122.7312101,
                    122.7312101,
                    122.7312101,
                    122.7312101,
                    122.7312101,
                    122.7312101
                  ],
                  "marker": {
                    "color": "#FFA15A",
                    "size": [
                      10,
                      10,
                      10,
                      10,
                      10,
                      10,
                      10,
                      10,
                      10,
                      10
                    ],
                    "sizemode": "area",
                    "sizeref": 0.025,
                    "symbol": "circle"
                  },
                  "mode": "markers",
                  "name": "PH",
                  "showlegend": true,
                  "type": "scattergeo"
                },
                {
                  "geo": "geo",
                  "hovertemplate": "country=CM<br>size=%{marker.size}<br>lat=%{lat}<br>lon=%{lon}<extra></extra>",
                  "lat": [
                    4.6125522,
                    4.6125522,
                    4.6125522,
                    4.6125522,
                    4.6125522,
                    4.6125522,
                    4.6125522,
                    4.6125522,
                    4.6125522
                  ],
                  "legendgroup": "CM",
                  "lon": [
                    13.1535811,
                    13.1535811,
                    13.1535811,
                    13.1535811,
                    13.1535811,
                    13.1535811,
                    13.1535811,
                    13.1535811,
                    13.1535811
                  ],
                  "marker": {
                    "color": "#19d3f3",
                    "size": [
                      9,
                      9,
                      9,
                      9,
                      9,
                      9,
                      9,
                      9,
                      9
                    ],
                    "sizemode": "area",
                    "sizeref": 0.025,
                    "symbol": "circle"
                  },
                  "mode": "markers",
                  "name": "CM",
                  "showlegend": true,
                  "type": "scattergeo"
                },
                {
                  "geo": "geo",
                  "hovertemplate": "country=TK<br>size=%{marker.size}<br>lat=%{lat}<br>lon=%{lon}<extra></extra>",
                  "lat": [
                    50.10391985,
                    50.10391985,
                    50.10391985,
                    50.10391985,
                    50.10391985,
                    50.10391985,
                    50.10391985,
                    50.10391985,
                    50.10391985,
                    50.10391985
                  ],
                  "legendgroup": "TK",
                  "lon": [
                    14.39064348186416,
                    14.39064348186416,
                    14.39064348186416,
                    14.39064348186416,
                    14.39064348186416,
                    14.39064348186416,
                    14.39064348186416,
                    14.39064348186416,
                    14.39064348186416,
                    14.39064348186416
                  ],
                  "marker": {
                    "color": "#FF6692",
                    "size": [
                      10,
                      10,
                      10,
                      10,
                      10,
                      10,
                      10,
                      10,
                      10,
                      10
                    ],
                    "sizemode": "area",
                    "sizeref": 0.025,
                    "symbol": "circle"
                  },
                  "mode": "markers",
                  "name": "TK",
                  "showlegend": true,
                  "type": "scattergeo"
                },
                {
                  "geo": "geo",
                  "hovertemplate": "country=KW<br>size=%{marker.size}<br>lat=%{lat}<br>lon=%{lon}<extra></extra>",
                  "lat": [
                    29.2733964,
                    29.2733964,
                    29.2733964,
                    29.2733964,
                    29.2733964,
                    29.2733964,
                    29.2733964,
                    29.2733964,
                    29.2733964,
                    29.2733964
                  ],
                  "legendgroup": "KW",
                  "lon": [
                    47.4979476,
                    47.4979476,
                    47.4979476,
                    47.4979476,
                    47.4979476,
                    47.4979476,
                    47.4979476,
                    47.4979476,
                    47.4979476,
                    47.4979476
                  ],
                  "marker": {
                    "color": "#B6E880",
                    "size": [
                      10,
                      10,
                      10,
                      10,
                      10,
                      10,
                      10,
                      10,
                      10,
                      10
                    ],
                    "sizemode": "area",
                    "sizeref": 0.025,
                    "symbol": "circle"
                  },
                  "mode": "markers",
                  "name": "KW",
                  "showlegend": true,
                  "type": "scattergeo"
                },
                {
                  "geo": "geo",
                  "hovertemplate": "country=LI<br>size=%{marker.size}<br>lat=%{lat}<br>lon=%{lon}<extra></extra>",
                  "lat": [
                    47.1416307,
                    47.1416307,
                    47.1416307,
                    47.1416307,
                    47.1416307,
                    47.1416307,
                    47.1416307,
                    47.1416307,
                    47.1416307,
                    47.1416307
                  ],
                  "legendgroup": "LI",
                  "lon": [
                    9.5531527,
                    9.5531527,
                    9.5531527,
                    9.5531527,
                    9.5531527,
                    9.5531527,
                    9.5531527,
                    9.5531527,
                    9.5531527,
                    9.5531527
                  ],
                  "marker": {
                    "color": "#FF97FF",
                    "size": [
                      10,
                      10,
                      10,
                      10,
                      10,
                      10,
                      10,
                      10,
                      10,
                      10
                    ],
                    "sizemode": "area",
                    "sizeref": 0.025,
                    "symbol": "circle"
                  },
                  "mode": "markers",
                  "name": "LI",
                  "showlegend": true,
                  "type": "scattergeo"
                },
                {
                  "geo": "geo",
                  "hovertemplate": "country=IL<br>size=%{marker.size}<br>lat=%{lat}<br>lon=%{lon}<extra></extra>",
                  "lat": [
                    40.0796606,
                    40.0796606,
                    40.0796606,
                    40.0796606,
                    40.0796606,
                    40.0796606,
                    40.0796606,
                    40.0796606,
                    40.0796606
                  ],
                  "legendgroup": "IL",
                  "lon": [
                    -89.4337288,
                    -89.4337288,
                    -89.4337288,
                    -89.4337288,
                    -89.4337288,
                    -89.4337288,
                    -89.4337288,
                    -89.4337288,
                    -89.4337288
                  ],
                  "marker": {
                    "color": "#FECB52",
                    "size": [
                      9,
                      9,
                      9,
                      9,
                      9,
                      9,
                      9,
                      9,
                      9
                    ],
                    "sizemode": "area",
                    "sizeref": 0.025,
                    "symbol": "circle"
                  },
                  "mode": "markers",
                  "name": "IL",
                  "showlegend": true,
                  "type": "scattergeo"
                },
                {
                  "geo": "geo",
                  "hovertemplate": "country=PR<br>size=%{marker.size}<br>lat=%{lat}<br>lon=%{lon}<extra></extra>",
                  "lat": [
                    50.0874654,
                    50.0874654,
                    50.0874654,
                    50.0874654,
                    50.0874654,
                    50.0874654,
                    50.0874654,
                    50.0874654,
                    50.0874654,
                    50.0874654
                  ],
                  "legendgroup": "PR",
                  "lon": [
                    14.4212535,
                    14.4212535,
                    14.4212535,
                    14.4212535,
                    14.4212535,
                    14.4212535,
                    14.4212535,
                    14.4212535,
                    14.4212535,
                    14.4212535
                  ],
                  "marker": {
                    "color": "#636efa",
                    "size": [
                      10,
                      10,
                      10,
                      10,
                      10,
                      10,
                      10,
                      10,
                      10,
                      10
                    ],
                    "sizemode": "area",
                    "sizeref": 0.025,
                    "symbol": "circle"
                  },
                  "mode": "markers",
                  "name": "PR",
                  "showlegend": true,
                  "type": "scattergeo"
                },
                {
                  "geo": "geo",
                  "hovertemplate": "country=BJ<br>size=%{marker.size}<br>lat=%{lat}<br>lon=%{lon}<extra></extra>",
                  "lat": [
                    9.5293472,
                    9.5293472,
                    9.5293472,
                    9.5293472,
                    9.5293472,
                    9.5293472,
                    9.5293472,
                    9.5293472,
                    9.5293472,
                    9.5293472
                  ],
                  "legendgroup": "BJ",
                  "lon": [
                    2.2584408,
                    2.2584408,
                    2.2584408,
                    2.2584408,
                    2.2584408,
                    2.2584408,
                    2.2584408,
                    2.2584408,
                    2.2584408,
                    2.2584408
                  ],
                  "marker": {
                    "color": "#EF553B",
                    "size": [
                      10,
                      10,
                      10,
                      10,
                      10,
                      10,
                      10,
                      10,
                      10,
                      10
                    ],
                    "sizemode": "area",
                    "sizeref": 0.025,
                    "symbol": "circle"
                  },
                  "mode": "markers",
                  "name": "BJ",
                  "showlegend": true,
                  "type": "scattergeo"
                },
                {
                  "geo": "geo",
                  "hovertemplate": "country=TT<br>size=%{marker.size}<br>lat=%{lat}<br>lon=%{lon}<extra></extra>",
                  "lat": [
                    10.7466905,
                    10.7466905,
                    10.7466905,
                    10.7466905,
                    10.7466905,
                    10.7466905,
                    10.7466905,
                    10.7466905,
                    10.7466905,
                    10.7466905
                  ],
                  "legendgroup": "TT",
                  "lon": [
                    -61.0840075,
                    -61.0840075,
                    -61.0840075,
                    -61.0840075,
                    -61.0840075,
                    -61.0840075,
                    -61.0840075,
                    -61.0840075,
                    -61.0840075,
                    -61.0840075
                  ],
                  "marker": {
                    "color": "#00cc96",
                    "size": [
                      10,
                      10,
                      10,
                      10,
                      10,
                      10,
                      10,
                      10,
                      10,
                      10
                    ],
                    "sizemode": "area",
                    "sizeref": 0.025,
                    "symbol": "circle"
                  },
                  "mode": "markers",
                  "name": "TT",
                  "showlegend": true,
                  "type": "scattergeo"
                },
                {
                  "geo": "geo",
                  "hovertemplate": "country=NO<br>size=%{marker.size}<br>lat=%{lat}<br>lon=%{lon}<extra></extra>",
                  "lat": [
                    61.1529386,
                    61.1529386,
                    61.1529386,
                    61.1529386,
                    61.1529386,
                    61.1529386,
                    61.1529386,
                    61.1529386,
                    61.1529386,
                    61.1529386
                  ],
                  "legendgroup": "NO",
                  "lon": [
                    8.7876653,
                    8.7876653,
                    8.7876653,
                    8.7876653,
                    8.7876653,
                    8.7876653,
                    8.7876653,
                    8.7876653,
                    8.7876653,
                    8.7876653
                  ],
                  "marker": {
                    "color": "#ab63fa",
                    "size": [
                      10,
                      10,
                      10,
                      10,
                      10,
                      10,
                      10,
                      10,
                      10,
                      10
                    ],
                    "sizemode": "area",
                    "sizeref": 0.025,
                    "symbol": "circle"
                  },
                  "mode": "markers",
                  "name": "NO",
                  "showlegend": true,
                  "type": "scattergeo"
                },
                {
                  "geo": "geo",
                  "hovertemplate": "country=CG<br>size=%{marker.size}<br>lat=%{lat}<br>lon=%{lon}<extra></extra>",
                  "lat": [
                    -0.7264327,
                    -0.7264327,
                    -0.7264327,
                    -0.7264327,
                    -0.7264327,
                    -0.7264327,
                    -0.7264327,
                    -0.7264327,
                    -0.7264327,
                    -0.7264327
                  ],
                  "legendgroup": "CG",
                  "lon": [
                    15.6419155,
                    15.6419155,
                    15.6419155,
                    15.6419155,
                    15.6419155,
                    15.6419155,
                    15.6419155,
                    15.6419155,
                    15.6419155,
                    15.6419155
                  ],
                  "marker": {
                    "color": "#FFA15A",
                    "size": [
                      10,
                      10,
                      10,
                      10,
                      10,
                      10,
                      10,
                      10,
                      10,
                      10
                    ],
                    "sizemode": "area",
                    "sizeref": 0.025,
                    "symbol": "circle"
                  },
                  "mode": "markers",
                  "name": "CG",
                  "showlegend": true,
                  "type": "scattergeo"
                },
                {
                  "geo": "geo",
                  "hovertemplate": "country=WF<br>size=%{marker.size}<br>lat=%{lat}<br>lon=%{lon}<extra></extra>",
                  "lat": [
                    35.0971656,
                    35.0971656,
                    35.0971656,
                    35.0971656,
                    35.0971656,
                    35.0971656,
                    35.0971656,
                    35.0971656,
                    35.0971656,
                    35.0971656
                  ],
                  "legendgroup": "WF",
                  "lon": [
                    0.3563773,
                    0.3563773,
                    0.3563773,
                    0.3563773,
                    0.3563773,
                    0.3563773,
                    0.3563773,
                    0.3563773,
                    0.3563773,
                    0.3563773
                  ],
                  "marker": {
                    "color": "#19d3f3",
                    "size": [
                      10,
                      10,
                      10,
                      10,
                      10,
                      10,
                      10,
                      10,
                      10,
                      10
                    ],
                    "sizemode": "area",
                    "sizeref": 0.025,
                    "symbol": "circle"
                  },
                  "mode": "markers",
                  "name": "WF",
                  "showlegend": true,
                  "type": "scattergeo"
                },
                {
                  "geo": "geo",
                  "hovertemplate": "country=GT<br>size=%{marker.size}<br>lat=%{lat}<br>lon=%{lon}<extra></extra>",
                  "lat": [
                    15.5855545,
                    15.5855545,
                    15.5855545,
                    15.5855545,
                    15.5855545,
                    15.5855545,
                    15.5855545,
                    15.5855545,
                    15.5855545,
                    15.5855545
                  ],
                  "legendgroup": "GT",
                  "lon": [
                    -90.345759,
                    -90.345759,
                    -90.345759,
                    -90.345759,
                    -90.345759,
                    -90.345759,
                    -90.345759,
                    -90.345759,
                    -90.345759,
                    -90.345759
                  ],
                  "marker": {
                    "color": "#FF6692",
                    "size": [
                      10,
                      10,
                      10,
                      10,
                      10,
                      10,
                      10,
                      10,
                      10,
                      10
                    ],
                    "sizemode": "area",
                    "sizeref": 0.025,
                    "symbol": "circle"
                  },
                  "mode": "markers",
                  "name": "GT",
                  "showlegend": true,
                  "type": "scattergeo"
                },
                {
                  "geo": "geo",
                  "hovertemplate": "country=BF<br>size=%{marker.size}<br>lat=%{lat}<br>lon=%{lon}<extra></extra>",
                  "lat": [
                    12.0753083,
                    12.0753083,
                    12.0753083,
                    12.0753083,
                    12.0753083,
                    12.0753083,
                    12.0753083,
                    12.0753083,
                    12.0753083,
                    12.0753083
                  ],
                  "legendgroup": "BF",
                  "lon": [
                    -1.6880314,
                    -1.6880314,
                    -1.6880314,
                    -1.6880314,
                    -1.6880314,
                    -1.6880314,
                    -1.6880314,
                    -1.6880314,
                    -1.6880314,
                    -1.6880314
                  ],
                  "marker": {
                    "color": "#B6E880",
                    "size": [
                      10,
                      10,
                      10,
                      10,
                      10,
                      10,
                      10,
                      10,
                      10,
                      10
                    ],
                    "sizemode": "area",
                    "sizeref": 0.025,
                    "symbol": "circle"
                  },
                  "mode": "markers",
                  "name": "BF",
                  "showlegend": true,
                  "type": "scattergeo"
                },
                {
                  "geo": "geo",
                  "hovertemplate": "country=HT<br>size=%{marker.size}<br>lat=%{lat}<br>lon=%{lon}<extra></extra>",
                  "lat": [
                    19.1399952,
                    19.1399952,
                    19.1399952,
                    19.1399952,
                    19.1399952,
                    19.1399952,
                    19.1399952,
                    19.1399952,
                    19.1399952,
                    19.1399952
                  ],
                  "legendgroup": "HT",
                  "lon": [
                    -72.3570972,
                    -72.3570972,
                    -72.3570972,
                    -72.3570972,
                    -72.3570972,
                    -72.3570972,
                    -72.3570972,
                    -72.3570972,
                    -72.3570972,
                    -72.3570972
                  ],
                  "marker": {
                    "color": "#FF97FF",
                    "size": [
                      10,
                      10,
                      10,
                      10,
                      10,
                      10,
                      10,
                      10,
                      10,
                      10
                    ],
                    "sizemode": "area",
                    "sizeref": 0.025,
                    "symbol": "circle"
                  },
                  "mode": "markers",
                  "name": "HT",
                  "showlegend": true,
                  "type": "scattergeo"
                },
                {
                  "geo": "geo",
                  "hovertemplate": "country=JM<br>size=%{marker.size}<br>lat=%{lat}<br>lon=%{lon}<extra></extra>",
                  "lat": [
                    18.1850507,
                    18.1850507,
                    18.1850507,
                    18.1850507,
                    18.1850507,
                    18.1850507,
                    18.1850507,
                    18.1850507,
                    18.1850507,
                    18.1850507
                  ],
                  "legendgroup": "JM",
                  "lon": [
                    -77.3947693,
                    -77.3947693,
                    -77.3947693,
                    -77.3947693,
                    -77.3947693,
                    -77.3947693,
                    -77.3947693,
                    -77.3947693,
                    -77.3947693,
                    -77.3947693
                  ],
                  "marker": {
                    "color": "#FECB52",
                    "size": [
                      10,
                      10,
                      10,
                      10,
                      10,
                      10,
                      10,
                      10,
                      10,
                      10
                    ],
                    "sizemode": "area",
                    "sizeref": 0.025,
                    "symbol": "circle"
                  },
                  "mode": "markers",
                  "name": "JM",
                  "showlegend": true,
                  "type": "scattergeo"
                },
                {
                  "geo": "geo",
                  "hovertemplate": "country=LV<br>size=%{marker.size}<br>lat=%{lat}<br>lon=%{lon}<extra></extra>",
                  "lat": [
                    56.8406494,
                    56.8406494,
                    56.8406494,
                    56.8406494,
                    56.8406494,
                    56.8406494,
                    56.8406494,
                    56.8406494,
                    56.8406494,
                    56.8406494
                  ],
                  "legendgroup": "LV",
                  "lon": [
                    24.7537645,
                    24.7537645,
                    24.7537645,
                    24.7537645,
                    24.7537645,
                    24.7537645,
                    24.7537645,
                    24.7537645,
                    24.7537645,
                    24.7537645
                  ],
                  "marker": {
                    "color": "#636efa",
                    "size": [
                      10,
                      10,
                      10,
                      10,
                      10,
                      10,
                      10,
                      10,
                      10,
                      10
                    ],
                    "sizemode": "area",
                    "sizeref": 0.025,
                    "symbol": "circle"
                  },
                  "mode": "markers",
                  "name": "LV",
                  "showlegend": true,
                  "type": "scattergeo"
                },
                {
                  "geo": "geo",
                  "hovertemplate": "country=EG<br>size=%{marker.size}<br>lat=%{lat}<br>lon=%{lon}<extra></extra>",
                  "lat": [
                    26.2540493,
                    26.2540493,
                    26.2540493,
                    26.2540493,
                    26.2540493,
                    26.2540493,
                    26.2540493,
                    26.2540493,
                    26.2540493
                  ],
                  "legendgroup": "EG",
                  "lon": [
                    29.2675469,
                    29.2675469,
                    29.2675469,
                    29.2675469,
                    29.2675469,
                    29.2675469,
                    29.2675469,
                    29.2675469,
                    29.2675469
                  ],
                  "marker": {
                    "color": "#EF553B",
                    "size": [
                      9,
                      9,
                      9,
                      9,
                      9,
                      9,
                      9,
                      9,
                      9
                    ],
                    "sizemode": "area",
                    "sizeref": 0.025,
                    "symbol": "circle"
                  },
                  "mode": "markers",
                  "name": "EG",
                  "showlegend": true,
                  "type": "scattergeo"
                },
                {
                  "geo": "geo",
                  "hovertemplate": "country=CO<br>size=%{marker.size}<br>lat=%{lat}<br>lon=%{lon}<extra></extra>",
                  "lat": [
                    4.099917,
                    4.099917,
                    4.099917,
                    4.099917,
                    4.099917,
                    4.099917,
                    4.099917,
                    4.099917,
                    4.099917
                  ],
                  "legendgroup": "CO",
                  "lon": [
                    -72.9088133,
                    -72.9088133,
                    -72.9088133,
                    -72.9088133,
                    -72.9088133,
                    -72.9088133,
                    -72.9088133,
                    -72.9088133,
                    -72.9088133
                  ],
                  "marker": {
                    "color": "#00cc96",
                    "size": [
                      9,
                      9,
                      9,
                      9,
                      9,
                      9,
                      9,
                      9,
                      9
                    ],
                    "sizemode": "area",
                    "sizeref": 0.025,
                    "symbol": "circle"
                  },
                  "mode": "markers",
                  "name": "CO",
                  "showlegend": true,
                  "type": "scattergeo"
                },
                {
                  "geo": "geo",
                  "hovertemplate": "country=EE<br>size=%{marker.size}<br>lat=%{lat}<br>lon=%{lon}<extra></extra>",
                  "lat": [
                    58.7523778,
                    58.7523778,
                    58.7523778,
                    58.7523778,
                    58.7523778,
                    58.7523778,
                    58.7523778,
                    58.7523778,
                    58.7523778
                  ],
                  "legendgroup": "EE",
                  "lon": [
                    25.3319078,
                    25.3319078,
                    25.3319078,
                    25.3319078,
                    25.3319078,
                    25.3319078,
                    25.3319078,
                    25.3319078,
                    25.3319078
                  ],
                  "marker": {
                    "color": "#ab63fa",
                    "size": [
                      9,
                      9,
                      9,
                      9,
                      9,
                      9,
                      9,
                      9,
                      9
                    ],
                    "sizemode": "area",
                    "sizeref": 0.025,
                    "symbol": "circle"
                  },
                  "mode": "markers",
                  "name": "EE",
                  "showlegend": true,
                  "type": "scattergeo"
                },
                {
                  "geo": "geo",
                  "hovertemplate": "country=CH<br>size=%{marker.size}<br>lat=%{lat}<br>lon=%{lon}<extra></extra>",
                  "lat": [
                    46.7985624,
                    46.7985624,
                    46.7985624,
                    46.7985624,
                    46.7985624,
                    46.7985624,
                    46.7985624,
                    46.7985624,
                    46.7985624
                  ],
                  "legendgroup": "CH",
                  "lon": [
                    8.2319736,
                    8.2319736,
                    8.2319736,
                    8.2319736,
                    8.2319736,
                    8.2319736,
                    8.2319736,
                    8.2319736,
                    8.2319736
                  ],
                  "marker": {
                    "color": "#FFA15A",
                    "size": [
                      9,
                      9,
                      9,
                      9,
                      9,
                      9,
                      9,
                      9,
                      9
                    ],
                    "sizemode": "area",
                    "sizeref": 0.025,
                    "symbol": "circle"
                  },
                  "mode": "markers",
                  "name": "CH",
                  "showlegend": true,
                  "type": "scattergeo"
                },
                {
                  "geo": "geo",
                  "hovertemplate": "country=SV<br>size=%{marker.size}<br>lat=%{lat}<br>lon=%{lon}<extra></extra>",
                  "lat": [
                    13.8000382,
                    13.8000382,
                    13.8000382,
                    13.8000382,
                    13.8000382,
                    13.8000382,
                    13.8000382,
                    13.8000382,
                    13.8000382,
                    13.8000382
                  ],
                  "legendgroup": "SV",
                  "lon": [
                    -88.9140683,
                    -88.9140683,
                    -88.9140683,
                    -88.9140683,
                    -88.9140683,
                    -88.9140683,
                    -88.9140683,
                    -88.9140683,
                    -88.9140683,
                    -88.9140683
                  ],
                  "marker": {
                    "color": "#19d3f3",
                    "size": [
                      10,
                      10,
                      10,
                      10,
                      10,
                      10,
                      10,
                      10,
                      10,
                      10
                    ],
                    "sizemode": "area",
                    "sizeref": 0.025,
                    "symbol": "circle"
                  },
                  "mode": "markers",
                  "name": "SV",
                  "showlegend": true,
                  "type": "scattergeo"
                },
                {
                  "geo": "geo",
                  "hovertemplate": "country=AO<br>size=%{marker.size}<br>lat=%{lat}<br>lon=%{lon}<extra></extra>",
                  "lat": [
                    47.59397,
                    47.59397,
                    47.59397,
                    47.59397,
                    47.59397,
                    47.59397,
                    47.59397,
                    47.59397,
                    47.59397,
                    47.59397
                  ],
                  "legendgroup": "AO",
                  "lon": [
                    14.12456,
                    14.12456,
                    14.12456,
                    14.12456,
                    14.12456,
                    14.12456,
                    14.12456,
                    14.12456,
                    14.12456,
                    14.12456
                  ],
                  "marker": {
                    "color": "#FF6692",
                    "size": [
                      10,
                      10,
                      10,
                      10,
                      10,
                      10,
                      10,
                      10,
                      10,
                      10
                    ],
                    "sizemode": "area",
                    "sizeref": 0.025,
                    "symbol": "circle"
                  },
                  "mode": "markers",
                  "name": "AO",
                  "showlegend": true,
                  "type": "scattergeo"
                },
                {
                  "geo": "geo",
                  "hovertemplate": "country=AT<br>size=%{marker.size}<br>lat=%{lat}<br>lon=%{lon}<extra></extra>",
                  "lat": [
                    47.59397,
                    47.59397,
                    47.59397,
                    47.59397,
                    47.59397,
                    47.59397,
                    47.59397,
                    47.59397,
                    47.59397,
                    47.59397
                  ],
                  "legendgroup": "AT",
                  "lon": [
                    14.12456,
                    14.12456,
                    14.12456,
                    14.12456,
                    14.12456,
                    14.12456,
                    14.12456,
                    14.12456,
                    14.12456,
                    14.12456
                  ],
                  "marker": {
                    "color": "#B6E880",
                    "size": [
                      10,
                      10,
                      10,
                      10,
                      10,
                      10,
                      10,
                      10,
                      10,
                      10
                    ],
                    "sizemode": "area",
                    "sizeref": 0.025,
                    "symbol": "circle"
                  },
                  "mode": "markers",
                  "name": "AT",
                  "showlegend": true,
                  "type": "scattergeo"
                },
                {
                  "geo": "geo",
                  "hovertemplate": "country=NF<br>size=%{marker.size}<br>lat=%{lat}<br>lon=%{lon}<extra></extra>",
                  "lat": [
                    51.44137655,
                    51.44137655,
                    51.44137655,
                    51.44137655,
                    51.44137655,
                    51.44137655,
                    51.44137655,
                    51.44137655,
                    51.44137655,
                    51.44137655
                  ],
                  "legendgroup": "NF",
                  "lon": [
                    0.35070154455704117,
                    0.35070154455704117,
                    0.35070154455704117,
                    0.35070154455704117,
                    0.35070154455704117,
                    0.35070154455704117,
                    0.35070154455704117,
                    0.35070154455704117,
                    0.35070154455704117,
                    0.35070154455704117
                  ],
                  "marker": {
                    "color": "#FF97FF",
                    "size": [
                      10,
                      10,
                      10,
                      10,
                      10,
                      10,
                      10,
                      10,
                      10,
                      10
                    ],
                    "sizemode": "area",
                    "sizeref": 0.025,
                    "symbol": "circle"
                  },
                  "mode": "markers",
                  "name": "NF",
                  "showlegend": true,
                  "type": "scattergeo"
                },
                {
                  "geo": "geo",
                  "hovertemplate": "country=GN<br>size=%{marker.size}<br>lat=%{lat}<br>lon=%{lon}<extra></extra>",
                  "lat": [
                    8.0300284,
                    8.0300284,
                    8.0300284,
                    8.0300284,
                    8.0300284,
                    8.0300284,
                    8.0300284,
                    8.0300284,
                    8.0300284,
                    8.0300284
                  ],
                  "legendgroup": "GN",
                  "lon": [
                    -1.0800271,
                    -1.0800271,
                    -1.0800271,
                    -1.0800271,
                    -1.0800271,
                    -1.0800271,
                    -1.0800271,
                    -1.0800271,
                    -1.0800271,
                    -1.0800271
                  ],
                  "marker": {
                    "color": "#FECB52",
                    "size": [
                      10,
                      10,
                      10,
                      10,
                      10,
                      10,
                      10,
                      10,
                      10,
                      10
                    ],
                    "sizemode": "area",
                    "sizeref": 0.025,
                    "symbol": "circle"
                  },
                  "mode": "markers",
                  "name": "GN",
                  "showlegend": true,
                  "type": "scattergeo"
                },
                {
                  "geo": "geo",
                  "hovertemplate": "country=TO<br>size=%{marker.size}<br>lat=%{lat}<br>lon=%{lon}<extra></extra>",
                  "lat": [
                    -19.9160819,
                    -19.9160819,
                    -19.9160819,
                    -19.9160819,
                    -19.9160819,
                    -19.9160819,
                    -19.9160819,
                    -19.9160819,
                    -19.9160819,
                    -19.9160819
                  ],
                  "legendgroup": "TO",
                  "lon": [
                    -175.202642,
                    -175.202642,
                    -175.202642,
                    -175.202642,
                    -175.202642,
                    -175.202642,
                    -175.202642,
                    -175.202642,
                    -175.202642,
                    -175.202642
                  ],
                  "marker": {
                    "color": "#636efa",
                    "size": [
                      10,
                      10,
                      10,
                      10,
                      10,
                      10,
                      10,
                      10,
                      10,
                      10
                    ],
                    "sizemode": "area",
                    "sizeref": 0.025,
                    "symbol": "circle"
                  },
                  "mode": "markers",
                  "name": "TO",
                  "showlegend": true,
                  "type": "scattergeo"
                },
                {
                  "geo": "geo",
                  "hovertemplate": "country=GY<br>size=%{marker.size}<br>lat=%{lat}<br>lon=%{lon}<extra></extra>",
                  "lat": [
                    4.8417097,
                    4.8417097,
                    4.8417097,
                    4.8417097,
                    4.8417097,
                    4.8417097,
                    4.8417097,
                    4.8417097,
                    4.8417097,
                    4.8417097
                  ],
                  "legendgroup": "GY",
                  "lon": [
                    -58.6416891,
                    -58.6416891,
                    -58.6416891,
                    -58.6416891,
                    -58.6416891,
                    -58.6416891,
                    -58.6416891,
                    -58.6416891,
                    -58.6416891,
                    -58.6416891
                  ],
                  "marker": {
                    "color": "#EF553B",
                    "size": [
                      10,
                      10,
                      10,
                      10,
                      10,
                      10,
                      10,
                      10,
                      10,
                      10
                    ],
                    "sizemode": "area",
                    "sizeref": 0.025,
                    "symbol": "circle"
                  },
                  "mode": "markers",
                  "name": "GY",
                  "showlegend": true,
                  "type": "scattergeo"
                },
                {
                  "geo": "geo",
                  "hovertemplate": "country=SG<br>size=%{marker.size}<br>lat=%{lat}<br>lon=%{lon}<extra></extra>",
                  "lat": [
                    1.357107,
                    1.357107,
                    1.357107,
                    1.357107,
                    1.357107,
                    1.357107,
                    1.357107,
                    1.357107,
                    1.357107,
                    1.357107
                  ],
                  "legendgroup": "SG",
                  "lon": [
                    103.8194992,
                    103.8194992,
                    103.8194992,
                    103.8194992,
                    103.8194992,
                    103.8194992,
                    103.8194992,
                    103.8194992,
                    103.8194992,
                    103.8194992
                  ],
                  "marker": {
                    "color": "#00cc96",
                    "size": [
                      10,
                      10,
                      10,
                      10,
                      10,
                      10,
                      10,
                      10,
                      10,
                      10
                    ],
                    "sizemode": "area",
                    "sizeref": 0.025,
                    "symbol": "circle"
                  },
                  "mode": "markers",
                  "name": "SG",
                  "showlegend": true,
                  "type": "scattergeo"
                },
                {
                  "geo": "geo",
                  "hovertemplate": "country=NI<br>size=%{marker.size}<br>lat=%{lat}<br>lon=%{lon}<extra></extra>",
                  "lat": [
                    54.5859836,
                    54.5859836,
                    54.5859836,
                    54.5859836,
                    54.5859836,
                    54.5859836,
                    54.5859836,
                    54.5859836,
                    54.5859836,
                    54.5859836
                  ],
                  "legendgroup": "NI",
                  "lon": [
                    -6.9591554,
                    -6.9591554,
                    -6.9591554,
                    -6.9591554,
                    -6.9591554,
                    -6.9591554,
                    -6.9591554,
                    -6.9591554,
                    -6.9591554,
                    -6.9591554
                  ],
                  "marker": {
                    "color": "#ab63fa",
                    "size": [
                      10,
                      10,
                      10,
                      10,
                      10,
                      10,
                      10,
                      10,
                      10,
                      10
                    ],
                    "sizemode": "area",
                    "sizeref": 0.025,
                    "symbol": "circle"
                  },
                  "mode": "markers",
                  "name": "NI",
                  "showlegend": true,
                  "type": "scattergeo"
                },
                {
                  "geo": "geo",
                  "hovertemplate": "country=NL<br>size=%{marker.size}<br>lat=%{lat}<br>lon=%{lon}<extra></extra>",
                  "lat": [
                    52.24764975,
                    52.24764975,
                    52.24764975,
                    52.24764975,
                    52.24764975,
                    52.24764975,
                    52.24764975,
                    52.24764975,
                    52.24764975,
                    52.24764975
                  ],
                  "legendgroup": "NL",
                  "lon": [
                    5.541246849406163,
                    5.541246849406163,
                    5.541246849406163,
                    5.541246849406163,
                    5.541246849406163,
                    5.541246849406163,
                    5.541246849406163,
                    5.541246849406163,
                    5.541246849406163,
                    5.541246849406163
                  ],
                  "marker": {
                    "color": "#FFA15A",
                    "size": [
                      10,
                      10,
                      10,
                      10,
                      10,
                      10,
                      10,
                      10,
                      10,
                      10
                    ],
                    "sizemode": "area",
                    "sizeref": 0.025,
                    "symbol": "circle"
                  },
                  "mode": "markers",
                  "name": "NL",
                  "showlegend": true,
                  "type": "scattergeo"
                },
                {
                  "geo": "geo",
                  "hovertemplate": "country=AZ<br>size=%{marker.size}<br>lat=%{lat}<br>lon=%{lon}<extra></extra>",
                  "lat": [
                    40.3936294,
                    40.3936294,
                    40.3936294,
                    40.3936294,
                    40.3936294,
                    40.3936294,
                    40.3936294,
                    40.3936294,
                    40.3936294
                  ],
                  "legendgroup": "AZ",
                  "lon": [
                    47.7872508,
                    47.7872508,
                    47.7872508,
                    47.7872508,
                    47.7872508,
                    47.7872508,
                    47.7872508,
                    47.7872508,
                    47.7872508
                  ],
                  "marker": {
                    "color": "#19d3f3",
                    "size": [
                      9,
                      9,
                      9,
                      9,
                      9,
                      9,
                      9,
                      9,
                      9
                    ],
                    "sizemode": "area",
                    "sizeref": 0.025,
                    "symbol": "circle"
                  },
                  "mode": "markers",
                  "name": "AZ",
                  "showlegend": true,
                  "type": "scattergeo"
                },
                {
                  "geo": "geo",
                  "hovertemplate": "country=MT<br>size=%{marker.size}<br>lat=%{lat}<br>lon=%{lon}<extra></extra>",
                  "lat": [
                    35.8885993,
                    35.8885993,
                    35.8885993,
                    35.8885993,
                    35.8885993,
                    35.8885993,
                    35.8885993,
                    35.8885993,
                    35.8885993,
                    35.8885993
                  ],
                  "legendgroup": "MT",
                  "lon": [
                    14.4476911,
                    14.4476911,
                    14.4476911,
                    14.4476911,
                    14.4476911,
                    14.4476911,
                    14.4476911,
                    14.4476911,
                    14.4476911,
                    14.4476911
                  ],
                  "marker": {
                    "color": "#FF6692",
                    "size": [
                      10,
                      10,
                      10,
                      10,
                      10,
                      10,
                      10,
                      10,
                      10,
                      10
                    ],
                    "sizemode": "area",
                    "sizeref": 0.025,
                    "symbol": "circle"
                  },
                  "mode": "markers",
                  "name": "MT",
                  "showlegend": true,
                  "type": "scattergeo"
                },
                {
                  "geo": "geo",
                  "hovertemplate": "country=BE<br>size=%{marker.size}<br>lat=%{lat}<br>lon=%{lon}<extra></extra>",
                  "lat": [
                    50.6402809,
                    50.6402809,
                    50.6402809,
                    50.6402809,
                    50.6402809,
                    50.6402809,
                    50.6402809,
                    50.6402809,
                    50.6402809,
                    50.6402809
                  ],
                  "legendgroup": "BE",
                  "lon": [
                    4.6667145,
                    4.6667145,
                    4.6667145,
                    4.6667145,
                    4.6667145,
                    4.6667145,
                    4.6667145,
                    4.6667145,
                    4.6667145,
                    4.6667145
                  ],
                  "marker": {
                    "color": "#B6E880",
                    "size": [
                      10,
                      10,
                      10,
                      10,
                      10,
                      10,
                      10,
                      10,
                      10,
                      10
                    ],
                    "sizemode": "area",
                    "sizeref": 0.025,
                    "symbol": "circle"
                  },
                  "mode": "markers",
                  "name": "BE",
                  "showlegend": true,
                  "type": "scattergeo"
                },
                {
                  "geo": "geo",
                  "hovertemplate": "country=IQ<br>size=%{marker.size}<br>lat=%{lat}<br>lon=%{lon}<extra></extra>",
                  "lat": [
                    33.0955793,
                    33.0955793,
                    33.0955793,
                    33.0955793,
                    33.0955793,
                    33.0955793,
                    33.0955793,
                    33.0955793,
                    33.0955793,
                    33.0955793
                  ],
                  "legendgroup": "IQ",
                  "lon": [
                    44.1749775,
                    44.1749775,
                    44.1749775,
                    44.1749775,
                    44.1749775,
                    44.1749775,
                    44.1749775,
                    44.1749775,
                    44.1749775,
                    44.1749775
                  ],
                  "marker": {
                    "color": "#FF97FF",
                    "size": [
                      10,
                      10,
                      10,
                      10,
                      10,
                      10,
                      10,
                      10,
                      10,
                      10
                    ],
                    "sizemode": "area",
                    "sizeref": 0.025,
                    "symbol": "circle"
                  },
                  "mode": "markers",
                  "name": "IQ",
                  "showlegend": true,
                  "type": "scattergeo"
                },
                {
                  "geo": "geo",
                  "hovertemplate": "country=KR<br>size=%{marker.size}<br>lat=%{lat}<br>lon=%{lon}<extra></extra>",
                  "lat": [
                    36.638392,
                    36.638392,
                    36.638392,
                    36.638392,
                    36.638392,
                    36.638392,
                    36.638392,
                    36.638392,
                    36.638392,
                    36.638392
                  ],
                  "legendgroup": "KR",
                  "lon": [
                    127.6961188,
                    127.6961188,
                    127.6961188,
                    127.6961188,
                    127.6961188,
                    127.6961188,
                    127.6961188,
                    127.6961188,
                    127.6961188,
                    127.6961188
                  ],
                  "marker": {
                    "color": "#FECB52",
                    "size": [
                      10,
                      10,
                      10,
                      10,
                      10,
                      10,
                      10,
                      10,
                      10,
                      10
                    ],
                    "sizemode": "area",
                    "sizeref": 0.025,
                    "symbol": "circle"
                  },
                  "mode": "markers",
                  "name": "KR",
                  "showlegend": true,
                  "type": "scattergeo"
                },
                {
                  "geo": "geo",
                  "hovertemplate": "country=KY<br>size=%{marker.size}<br>lat=%{lat}<br>lon=%{lon}<extra></extra>",
                  "lat": [
                    37.5726028,
                    37.5726028,
                    37.5726028,
                    37.5726028,
                    37.5726028,
                    37.5726028,
                    37.5726028,
                    37.5726028,
                    37.5726028,
                    37.5726028
                  ],
                  "legendgroup": "KY",
                  "lon": [
                    -85.1551411,
                    -85.1551411,
                    -85.1551411,
                    -85.1551411,
                    -85.1551411,
                    -85.1551411,
                    -85.1551411,
                    -85.1551411,
                    -85.1551411,
                    -85.1551411
                  ],
                  "marker": {
                    "color": "#636efa",
                    "size": [
                      10,
                      10,
                      10,
                      10,
                      10,
                      10,
                      10,
                      10,
                      10,
                      10
                    ],
                    "sizemode": "area",
                    "sizeref": 0.025,
                    "symbol": "circle"
                  },
                  "mode": "markers",
                  "name": "KY",
                  "showlegend": true,
                  "type": "scattergeo"
                },
                {
                  "geo": "geo",
                  "hovertemplate": "country=ME<br>size=%{marker.size}<br>lat=%{lat}<br>lon=%{lon}<extra></extra>",
                  "lat": [
                    23.6585116,
                    23.6585116,
                    23.6585116,
                    23.6585116,
                    23.6585116,
                    23.6585116,
                    23.6585116,
                    23.6585116,
                    23.6585116,
                    23.6585116
                  ],
                  "legendgroup": "ME",
                  "lon": [
                    -102.0077097,
                    -102.0077097,
                    -102.0077097,
                    -102.0077097,
                    -102.0077097,
                    -102.0077097,
                    -102.0077097,
                    -102.0077097,
                    -102.0077097,
                    -102.0077097
                  ],
                  "marker": {
                    "color": "#EF553B",
                    "size": [
                      10,
                      10,
                      10,
                      10,
                      10,
                      10,
                      10,
                      10,
                      10,
                      10
                    ],
                    "sizemode": "area",
                    "sizeref": 0.025,
                    "symbol": "circle"
                  },
                  "mode": "markers",
                  "name": "ME",
                  "showlegend": true,
                  "type": "scattergeo"
                },
                {
                  "geo": "geo",
                  "hovertemplate": "country=GQ<br>size=%{marker.size}<br>lat=%{lat}<br>lon=%{lon}<extra></extra>",
                  "lat": [
                    1.613172,
                    1.613172,
                    1.613172,
                    1.613172,
                    1.613172,
                    1.613172,
                    1.613172,
                    1.613172,
                    1.613172,
                    1.613172
                  ],
                  "legendgroup": "GQ",
                  "lon": [
                    10.5170357,
                    10.5170357,
                    10.5170357,
                    10.5170357,
                    10.5170357,
                    10.5170357,
                    10.5170357,
                    10.5170357,
                    10.5170357,
                    10.5170357
                  ],
                  "marker": {
                    "color": "#00cc96",
                    "size": [
                      10,
                      10,
                      10,
                      10,
                      10,
                      10,
                      10,
                      10,
                      10,
                      10
                    ],
                    "sizemode": "area",
                    "sizeref": 0.025,
                    "symbol": "circle"
                  },
                  "mode": "markers",
                  "name": "GQ",
                  "showlegend": true,
                  "type": "scattergeo"
                },
                {
                  "geo": "geo",
                  "hovertemplate": "country=BS<br>size=%{marker.size}<br>lat=%{lat}<br>lon=%{lon}<extra></extra>",
                  "lat": [
                    24.7736546,
                    24.7736546,
                    24.7736546,
                    24.7736546,
                    24.7736546,
                    24.7736546,
                    24.7736546,
                    24.7736546,
                    24.7736546,
                    24.7736546
                  ],
                  "legendgroup": "BS",
                  "lon": [
                    -78.0000547,
                    -78.0000547,
                    -78.0000547,
                    -78.0000547,
                    -78.0000547,
                    -78.0000547,
                    -78.0000547,
                    -78.0000547,
                    -78.0000547,
                    -78.0000547
                  ],
                  "marker": {
                    "color": "#ab63fa",
                    "size": [
                      10,
                      10,
                      10,
                      10,
                      10,
                      10,
                      10,
                      10,
                      10,
                      10
                    ],
                    "sizemode": "area",
                    "sizeref": 0.025,
                    "symbol": "circle"
                  },
                  "mode": "markers",
                  "name": "BS",
                  "showlegend": true,
                  "type": "scattergeo"
                },
                {
                  "geo": "geo",
                  "hovertemplate": "country=MV<br>size=%{marker.size}<br>lat=%{lat}<br>lon=%{lon}<extra></extra>",
                  "lat": [
                    3.7203503,
                    3.7203503,
                    3.7203503,
                    3.7203503,
                    3.7203503,
                    3.7203503,
                    3.7203503,
                    3.7203503,
                    3.7203503,
                    3.7203503
                  ],
                  "legendgroup": "MV",
                  "lon": [
                    73.2244152,
                    73.2244152,
                    73.2244152,
                    73.2244152,
                    73.2244152,
                    73.2244152,
                    73.2244152,
                    73.2244152,
                    73.2244152,
                    73.2244152
                  ],
                  "marker": {
                    "color": "#FFA15A",
                    "size": [
                      10,
                      10,
                      10,
                      10,
                      10,
                      10,
                      10,
                      10,
                      10,
                      10
                    ],
                    "sizemode": "area",
                    "sizeref": 0.025,
                    "symbol": "circle"
                  },
                  "mode": "markers",
                  "name": "MV",
                  "showlegend": true,
                  "type": "scattergeo"
                },
                {
                  "geo": "geo",
                  "hovertemplate": "country=UG<br>size=%{marker.size}<br>lat=%{lat}<br>lon=%{lon}<extra></extra>",
                  "lat": [
                    1.5333554,
                    1.5333554,
                    1.5333554,
                    1.5333554,
                    1.5333554,
                    1.5333554,
                    1.5333554,
                    1.5333554,
                    1.5333554,
                    1.5333554
                  ],
                  "legendgroup": "UG",
                  "lon": [
                    32.2166578,
                    32.2166578,
                    32.2166578,
                    32.2166578,
                    32.2166578,
                    32.2166578,
                    32.2166578,
                    32.2166578,
                    32.2166578,
                    32.2166578
                  ],
                  "marker": {
                    "color": "#19d3f3",
                    "size": [
                      10,
                      10,
                      10,
                      10,
                      10,
                      10,
                      10,
                      10,
                      10,
                      10
                    ],
                    "sizemode": "area",
                    "sizeref": 0.025,
                    "symbol": "circle"
                  },
                  "mode": "markers",
                  "name": "UG",
                  "showlegend": true,
                  "type": "scattergeo"
                },
                {
                  "geo": "geo",
                  "hovertemplate": "country=PS<br>size=%{marker.size}<br>lat=%{lat}<br>lon=%{lon}<extra></extra>",
                  "lat": [
                    34.0346534,
                    34.0346534,
                    34.0346534,
                    34.0346534,
                    34.0346534,
                    34.0346534,
                    34.0346534,
                    34.0346534,
                    34.0346534,
                    34.0346534
                  ],
                  "legendgroup": "PS",
                  "lon": [
                    -5.0161926,
                    -5.0161926,
                    -5.0161926,
                    -5.0161926,
                    -5.0161926,
                    -5.0161926,
                    -5.0161926,
                    -5.0161926,
                    -5.0161926,
                    -5.0161926
                  ],
                  "marker": {
                    "color": "#FF6692",
                    "size": [
                      10,
                      10,
                      10,
                      10,
                      10,
                      10,
                      10,
                      10,
                      10,
                      10
                    ],
                    "sizemode": "area",
                    "sizeref": 0.025,
                    "symbol": "circle"
                  },
                  "mode": "markers",
                  "name": "PS",
                  "showlegend": true,
                  "type": "scattergeo"
                },
                {
                  "geo": "geo",
                  "hovertemplate": "country=NE<br>size=%{marker.size}<br>lat=%{lat}<br>lon=%{lon}<extra></extra>",
                  "lat": [
                    35.000074,
                    35.000074,
                    35.000074,
                    35.000074,
                    35.000074,
                    35.000074,
                    35.000074,
                    35.000074,
                    35.000074,
                    35.000074
                  ],
                  "legendgroup": "NE",
                  "lon": [
                    104.999927,
                    104.999927,
                    104.999927,
                    104.999927,
                    104.999927,
                    104.999927,
                    104.999927,
                    104.999927,
                    104.999927,
                    104.999927
                  ],
                  "marker": {
                    "color": "#B6E880",
                    "size": [
                      10,
                      10,
                      10,
                      10,
                      10,
                      10,
                      10,
                      10,
                      10,
                      10
                    ],
                    "sizemode": "area",
                    "sizeref": 0.025,
                    "symbol": "circle"
                  },
                  "mode": "markers",
                  "name": "NE",
                  "showlegend": true,
                  "type": "scattergeo"
                },
                {
                  "geo": "geo",
                  "hovertemplate": "country=PW<br>size=%{marker.size}<br>lat=%{lat}<br>lon=%{lon}<extra></extra>",
                  "lat": [
                    5.3783537,
                    5.3783537,
                    5.3783537,
                    5.3783537,
                    5.3783537,
                    5.3783537,
                    5.3783537,
                    5.3783537,
                    5.3783537,
                    5.3783537
                  ],
                  "legendgroup": "PW",
                  "lon": [
                    132.9102573,
                    132.9102573,
                    132.9102573,
                    132.9102573,
                    132.9102573,
                    132.9102573,
                    132.9102573,
                    132.9102573,
                    132.9102573,
                    132.9102573
                  ],
                  "marker": {
                    "color": "#FF97FF",
                    "size": [
                      10,
                      10,
                      10,
                      10,
                      10,
                      10,
                      10,
                      10,
                      10,
                      10
                    ],
                    "sizemode": "area",
                    "sizeref": 0.025,
                    "symbol": "circle"
                  },
                  "mode": "markers",
                  "name": "PW",
                  "showlegend": true,
                  "type": "scattergeo"
                },
                {
                  "geo": "geo",
                  "hovertemplate": "country=SC<br>size=%{marker.size}<br>lat=%{lat}<br>lon=%{lon}<extra></extra>",
                  "lat": [
                    33.6874388,
                    33.6874388,
                    33.6874388,
                    33.6874388,
                    33.6874388,
                    33.6874388,
                    33.6874388,
                    33.6874388,
                    33.6874388,
                    33.6874388
                  ],
                  "legendgroup": "SC",
                  "lon": [
                    -80.4363743,
                    -80.4363743,
                    -80.4363743,
                    -80.4363743,
                    -80.4363743,
                    -80.4363743,
                    -80.4363743,
                    -80.4363743,
                    -80.4363743,
                    -80.4363743
                  ],
                  "marker": {
                    "color": "#FECB52",
                    "size": [
                      10,
                      10,
                      10,
                      10,
                      10,
                      10,
                      10,
                      10,
                      10,
                      10
                    ],
                    "sizemode": "area",
                    "sizeref": 0.025,
                    "symbol": "circle"
                  },
                  "mode": "markers",
                  "name": "SC",
                  "showlegend": true,
                  "type": "scattergeo"
                },
                {
                  "geo": "geo",
                  "hovertemplate": "country=ET<br>size=%{marker.size}<br>lat=%{lat}<br>lon=%{lon}<extra></extra>",
                  "lat": [
                    10.2116702,
                    10.2116702,
                    10.2116702,
                    10.2116702,
                    10.2116702,
                    10.2116702,
                    10.2116702,
                    10.2116702,
                    10.2116702,
                    10.2116702
                  ],
                  "legendgroup": "ET",
                  "lon": [
                    38.6521203,
                    38.6521203,
                    38.6521203,
                    38.6521203,
                    38.6521203,
                    38.6521203,
                    38.6521203,
                    38.6521203,
                    38.6521203,
                    38.6521203
                  ],
                  "marker": {
                    "color": "#636efa",
                    "size": [
                      10,
                      10,
                      10,
                      10,
                      10,
                      10,
                      10,
                      10,
                      10,
                      10
                    ],
                    "sizemode": "area",
                    "sizeref": 0.025,
                    "symbol": "circle"
                  },
                  "mode": "markers",
                  "name": "ET",
                  "showlegend": true,
                  "type": "scattergeo"
                },
                {
                  "geo": "geo",
                  "hovertemplate": "country=CX<br>size=%{marker.size}<br>lat=%{lat}<br>lon=%{lon}<extra></extra>",
                  "lat": [
                    -10.4837768,
                    -10.4837768,
                    -10.4837768,
                    -10.4837768,
                    -10.4837768,
                    -10.4837768,
                    -10.4837768,
                    -10.4837768,
                    -10.4837768,
                    -10.4837768
                  ],
                  "legendgroup": "CX",
                  "lon": [
                    105.64723,
                    105.64723,
                    105.64723,
                    105.64723,
                    105.64723,
                    105.64723,
                    105.64723,
                    105.64723,
                    105.64723,
                    105.64723
                  ],
                  "marker": {
                    "color": "#EF553B",
                    "size": [
                      10,
                      10,
                      10,
                      10,
                      10,
                      10,
                      10,
                      10,
                      10,
                      10
                    ],
                    "sizemode": "area",
                    "sizeref": 0.025,
                    "symbol": "circle"
                  },
                  "mode": "markers",
                  "name": "CX",
                  "showlegend": true,
                  "type": "scattergeo"
                },
                {
                  "geo": "geo",
                  "hovertemplate": "country=MU<br>size=%{marker.size}<br>lat=%{lat}<br>lon=%{lon}<extra></extra>",
                  "lat": [
                    -20.2759451,
                    -20.2759451,
                    -20.2759451,
                    -20.2759451,
                    -20.2759451,
                    -20.2759451,
                    -20.2759451,
                    -20.2759451,
                    -20.2759451,
                    -20.2759451
                  ],
                  "legendgroup": "MU",
                  "lon": [
                    57.5703566,
                    57.5703566,
                    57.5703566,
                    57.5703566,
                    57.5703566,
                    57.5703566,
                    57.5703566,
                    57.5703566,
                    57.5703566,
                    57.5703566
                  ],
                  "marker": {
                    "color": "#00cc96",
                    "size": [
                      10,
                      10,
                      10,
                      10,
                      10,
                      10,
                      10,
                      10,
                      10,
                      10
                    ],
                    "sizemode": "area",
                    "sizeref": 0.025,
                    "symbol": "circle"
                  },
                  "mode": "markers",
                  "name": "MU",
                  "showlegend": true,
                  "type": "scattergeo"
                },
                {
                  "geo": "geo",
                  "hovertemplate": "country=CV<br>size=%{marker.size}<br>lat=%{lat}<br>lon=%{lon}<extra></extra>",
                  "lat": [
                    16.0000552,
                    16.0000552,
                    16.0000552,
                    16.0000552,
                    16.0000552,
                    16.0000552,
                    16.0000552,
                    16.0000552,
                    16.0000552,
                    16.0000552
                  ],
                  "legendgroup": "CV",
                  "lon": [
                    -24.0083947,
                    -24.0083947,
                    -24.0083947,
                    -24.0083947,
                    -24.0083947,
                    -24.0083947,
                    -24.0083947,
                    -24.0083947,
                    -24.0083947,
                    -24.0083947
                  ],
                  "marker": {
                    "color": "#ab63fa",
                    "size": [
                      10,
                      10,
                      10,
                      10,
                      10,
                      10,
                      10,
                      10,
                      10,
                      10
                    ],
                    "sizemode": "area",
                    "sizeref": 0.025,
                    "symbol": "circle"
                  },
                  "mode": "markers",
                  "name": "CV",
                  "showlegend": true,
                  "type": "scattergeo"
                },
                {
                  "geo": "geo",
                  "hovertemplate": "country=FM<br>size=%{marker.size}<br>lat=%{lat}<br>lon=%{lon}<extra></extra>",
                  "lat": [
                    43.0922489,
                    43.0922489,
                    43.0922489,
                    43.0922489,
                    43.0922489,
                    43.0922489,
                    43.0922489,
                    43.0922489,
                    43.0922489,
                    43.0922489
                  ],
                  "legendgroup": "FM",
                  "lon": [
                    13.638768067263769,
                    13.638768067263769,
                    13.638768067263769,
                    13.638768067263769,
                    13.638768067263769,
                    13.638768067263769,
                    13.638768067263769,
                    13.638768067263769,
                    13.638768067263769,
                    13.638768067263769
                  ],
                  "marker": {
                    "color": "#FFA15A",
                    "size": [
                      10,
                      10,
                      10,
                      10,
                      10,
                      10,
                      10,
                      10,
                      10,
                      10
                    ],
                    "sizemode": "area",
                    "sizeref": 0.025,
                    "symbol": "circle"
                  },
                  "mode": "markers",
                  "name": "FM",
                  "showlegend": true,
                  "type": "scattergeo"
                },
                {
                  "geo": "geo",
                  "hovertemplate": "country=TG<br>size=%{marker.size}<br>lat=%{lat}<br>lon=%{lon}<extra></extra>",
                  "lat": [
                    8.7800265,
                    8.7800265,
                    8.7800265,
                    8.7800265,
                    8.7800265,
                    8.7800265,
                    8.7800265,
                    8.7800265,
                    8.7800265,
                    8.7800265
                  ],
                  "legendgroup": "TG",
                  "lon": [
                    1.0199765,
                    1.0199765,
                    1.0199765,
                    1.0199765,
                    1.0199765,
                    1.0199765,
                    1.0199765,
                    1.0199765,
                    1.0199765,
                    1.0199765
                  ],
                  "marker": {
                    "color": "#19d3f3",
                    "size": [
                      10,
                      10,
                      10,
                      10,
                      10,
                      10,
                      10,
                      10,
                      10,
                      10
                    ],
                    "sizemode": "area",
                    "sizeref": 0.025,
                    "symbol": "circle"
                  },
                  "mode": "markers",
                  "name": "TG",
                  "showlegend": true,
                  "type": "scattergeo"
                },
                {
                  "geo": "geo",
                  "hovertemplate": "country=IT<br>size=%{marker.size}<br>lat=%{lat}<br>lon=%{lon}<extra></extra>",
                  "lat": [
                    42.6384261,
                    42.6384261,
                    42.6384261,
                    42.6384261,
                    42.6384261,
                    42.6384261,
                    42.6384261,
                    42.6384261,
                    42.6384261,
                    42.6384261
                  ],
                  "legendgroup": "IT",
                  "lon": [
                    12.674297,
                    12.674297,
                    12.674297,
                    12.674297,
                    12.674297,
                    12.674297,
                    12.674297,
                    12.674297,
                    12.674297,
                    12.674297
                  ],
                  "marker": {
                    "color": "#FF6692",
                    "size": [
                      10,
                      10,
                      10,
                      10,
                      10,
                      10,
                      10,
                      10,
                      10,
                      10
                    ],
                    "sizemode": "area",
                    "sizeref": 0.025,
                    "symbol": "circle"
                  },
                  "mode": "markers",
                  "name": "IT",
                  "showlegend": true,
                  "type": "scattergeo"
                },
                {
                  "geo": "geo",
                  "hovertemplate": "country=GF<br>size=%{marker.size}<br>lat=%{lat}<br>lon=%{lon}<extra></extra>",
                  "lat": [
                    48.38003005,
                    48.38003005,
                    48.38003005,
                    48.38003005,
                    48.38003005,
                    48.38003005,
                    48.38003005,
                    48.38003005,
                    48.38003005,
                    48.38003005
                  ],
                  "legendgroup": "GF",
                  "lon": [
                    16.715760431090658,
                    16.715760431090658,
                    16.715760431090658,
                    16.715760431090658,
                    16.715760431090658,
                    16.715760431090658,
                    16.715760431090658,
                    16.715760431090658,
                    16.715760431090658,
                    16.715760431090658
                  ],
                  "marker": {
                    "color": "#B6E880",
                    "size": [
                      10,
                      10,
                      10,
                      10,
                      10,
                      10,
                      10,
                      10,
                      10,
                      10
                    ],
                    "sizemode": "area",
                    "sizeref": 0.025,
                    "symbol": "circle"
                  },
                  "mode": "markers",
                  "name": "GF",
                  "showlegend": true,
                  "type": "scattergeo"
                },
                {
                  "geo": "geo",
                  "hovertemplate": "country=IR<br>size=%{marker.size}<br>lat=%{lat}<br>lon=%{lon}<extra></extra>",
                  "lat": [
                    32.6475314,
                    32.6475314,
                    32.6475314,
                    32.6475314,
                    32.6475314,
                    32.6475314,
                    32.6475314,
                    32.6475314,
                    32.6475314,
                    32.6475314
                  ],
                  "legendgroup": "IR",
                  "lon": [
                    54.5643516,
                    54.5643516,
                    54.5643516,
                    54.5643516,
                    54.5643516,
                    54.5643516,
                    54.5643516,
                    54.5643516,
                    54.5643516,
                    54.5643516
                  ],
                  "marker": {
                    "color": "#FF97FF",
                    "size": [
                      10,
                      10,
                      10,
                      10,
                      10,
                      10,
                      10,
                      10,
                      10,
                      10
                    ],
                    "sizemode": "area",
                    "sizeref": 0.025,
                    "symbol": "circle"
                  },
                  "mode": "markers",
                  "name": "IR",
                  "showlegend": true,
                  "type": "scattergeo"
                },
                {
                  "geo": "geo",
                  "hovertemplate": "country=KM<br>size=%{marker.size}<br>lat=%{lat}<br>lon=%{lon}<extra></extra>",
                  "lat": [
                    -12.2045176,
                    -12.2045176,
                    -12.2045176,
                    -12.2045176,
                    -12.2045176,
                    -12.2045176,
                    -12.2045176,
                    -12.2045176,
                    -12.2045176,
                    -12.2045176
                  ],
                  "legendgroup": "KM",
                  "lon": [
                    44.2832964,
                    44.2832964,
                    44.2832964,
                    44.2832964,
                    44.2832964,
                    44.2832964,
                    44.2832964,
                    44.2832964,
                    44.2832964,
                    44.2832964
                  ],
                  "marker": {
                    "color": "#FECB52",
                    "size": [
                      10,
                      10,
                      10,
                      10,
                      10,
                      10,
                      10,
                      10,
                      10,
                      10
                    ],
                    "sizemode": "area",
                    "sizeref": 0.025,
                    "symbol": "circle"
                  },
                  "mode": "markers",
                  "name": "KM",
                  "showlegend": true,
                  "type": "scattergeo"
                },
                {
                  "geo": "geo",
                  "hovertemplate": "country=BV<br>size=%{marker.size}<br>lat=%{lat}<br>lon=%{lon}<extra></extra>",
                  "lat": [
                    15.1009234,
                    15.1009234,
                    15.1009234,
                    15.1009234,
                    15.1009234,
                    15.1009234,
                    15.1009234,
                    15.1009234,
                    15.1009234,
                    15.1009234
                  ],
                  "legendgroup": "BV",
                  "lon": [
                    -90.3139743,
                    -90.3139743,
                    -90.3139743,
                    -90.3139743,
                    -90.3139743,
                    -90.3139743,
                    -90.3139743,
                    -90.3139743,
                    -90.3139743,
                    -90.3139743
                  ],
                  "marker": {
                    "color": "#636efa",
                    "size": [
                      10,
                      10,
                      10,
                      10,
                      10,
                      10,
                      10,
                      10,
                      10,
                      10
                    ],
                    "sizemode": "area",
                    "sizeref": 0.025,
                    "symbol": "circle"
                  },
                  "mode": "markers",
                  "name": "BV",
                  "showlegend": true,
                  "type": "scattergeo"
                },
                {
                  "geo": "geo",
                  "hovertemplate": "country=CI<br>size=%{marker.size}<br>lat=%{lat}<br>lon=%{lon}<extra></extra>",
                  "lat": [
                    7.9897371,
                    7.9897371,
                    7.9897371,
                    7.9897371,
                    7.9897371,
                    7.9897371,
                    7.9897371,
                    7.9897371,
                    7.9897371,
                    7.9897371
                  ],
                  "legendgroup": "CI",
                  "lon": [
                    -5.5679458,
                    -5.5679458,
                    -5.5679458,
                    -5.5679458,
                    -5.5679458,
                    -5.5679458,
                    -5.5679458,
                    -5.5679458,
                    -5.5679458,
                    -5.5679458
                  ],
                  "marker": {
                    "color": "#EF553B",
                    "size": [
                      10,
                      10,
                      10,
                      10,
                      10,
                      10,
                      10,
                      10,
                      10,
                      10
                    ],
                    "sizemode": "area",
                    "sizeref": 0.025,
                    "symbol": "circle"
                  },
                  "mode": "markers",
                  "name": "CI",
                  "showlegend": true,
                  "type": "scattergeo"
                },
                {
                  "geo": "geo",
                  "hovertemplate": "country=OM<br>size=%{marker.size}<br>lat=%{lat}<br>lon=%{lon}<extra></extra>",
                  "lat": [
                    21.0000287,
                    21.0000287,
                    21.0000287,
                    21.0000287,
                    21.0000287,
                    21.0000287,
                    21.0000287,
                    21.0000287,
                    21.0000287,
                    21.0000287
                  ],
                  "legendgroup": "OM",
                  "lon": [
                    57.0036901,
                    57.0036901,
                    57.0036901,
                    57.0036901,
                    57.0036901,
                    57.0036901,
                    57.0036901,
                    57.0036901,
                    57.0036901,
                    57.0036901
                  ],
                  "marker": {
                    "color": "#00cc96",
                    "size": [
                      10,
                      10,
                      10,
                      10,
                      10,
                      10,
                      10,
                      10,
                      10,
                      10
                    ],
                    "sizemode": "area",
                    "sizeref": 0.025,
                    "symbol": "circle"
                  },
                  "mode": "markers",
                  "name": "OM",
                  "showlegend": true,
                  "type": "scattergeo"
                },
                {
                  "geo": "geo",
                  "hovertemplate": "country=TJ<br>size=%{marker.size}<br>lat=%{lat}<br>lon=%{lon}<extra></extra>",
                  "lat": [
                    38.6281733,
                    38.6281733,
                    38.6281733,
                    38.6281733,
                    38.6281733,
                    38.6281733,
                    38.6281733,
                    38.6281733,
                    38.6281733,
                    38.6281733
                  ],
                  "legendgroup": "TJ",
                  "lon": [
                    70.8156541,
                    70.8156541,
                    70.8156541,
                    70.8156541,
                    70.8156541,
                    70.8156541,
                    70.8156541,
                    70.8156541,
                    70.8156541,
                    70.8156541
                  ],
                  "marker": {
                    "color": "#ab63fa",
                    "size": [
                      10,
                      10,
                      10,
                      10,
                      10,
                      10,
                      10,
                      10,
                      10,
                      10
                    ],
                    "sizemode": "area",
                    "sizeref": 0.025,
                    "symbol": "circle"
                  },
                  "mode": "markers",
                  "name": "TJ",
                  "showlegend": true,
                  "type": "scattergeo"
                },
                {
                  "geo": "geo",
                  "hovertemplate": "country=BD<br>size=%{marker.size}<br>lat=%{lat}<br>lon=%{lon}<extra></extra>",
                  "lat": [
                    24.4769288,
                    24.4769288,
                    24.4769288,
                    24.4769288,
                    24.4769288,
                    24.4769288,
                    24.4769288,
                    24.4769288,
                    24.4769288,
                    24.4769288
                  ],
                  "legendgroup": "BD",
                  "lon": [
                    90.2934413,
                    90.2934413,
                    90.2934413,
                    90.2934413,
                    90.2934413,
                    90.2934413,
                    90.2934413,
                    90.2934413,
                    90.2934413,
                    90.2934413
                  ],
                  "marker": {
                    "color": "#FFA15A",
                    "size": [
                      10,
                      10,
                      10,
                      10,
                      10,
                      10,
                      10,
                      10,
                      10,
                      10
                    ],
                    "sizemode": "area",
                    "sizeref": 0.025,
                    "symbol": "circle"
                  },
                  "mode": "markers",
                  "name": "BD",
                  "showlegend": true,
                  "type": "scattergeo"
                },
                {
                  "geo": "geo",
                  "hovertemplate": "country=SD<br>size=%{marker.size}<br>lat=%{lat}<br>lon=%{lon}<extra></extra>",
                  "lat": [
                    14.5844444,
                    14.5844444,
                    14.5844444,
                    14.5844444,
                    14.5844444,
                    14.5844444,
                    14.5844444,
                    14.5844444,
                    14.5844444
                  ],
                  "legendgroup": "SD",
                  "lon": [
                    29.4917691,
                    29.4917691,
                    29.4917691,
                    29.4917691,
                    29.4917691,
                    29.4917691,
                    29.4917691,
                    29.4917691,
                    29.4917691
                  ],
                  "marker": {
                    "color": "#19d3f3",
                    "size": [
                      9,
                      9,
                      9,
                      9,
                      9,
                      9,
                      9,
                      9,
                      9
                    ],
                    "sizemode": "area",
                    "sizeref": 0.025,
                    "symbol": "circle"
                  },
                  "mode": "markers",
                  "name": "SD",
                  "showlegend": true,
                  "type": "scattergeo"
                },
                {
                  "geo": "geo",
                  "hovertemplate": "country=HM<br>size=%{marker.size}<br>lat=%{lat}<br>lon=%{lon}<extra></extra>",
                  "lat": [
                    51.6804093,
                    51.6804093,
                    51.6804093,
                    51.6804093,
                    51.6804093,
                    51.6804093,
                    51.6804093,
                    51.6804093,
                    51.6804093,
                    51.6804093
                  ],
                  "legendgroup": "HM",
                  "lon": [
                    7.815197,
                    7.815197,
                    7.815197,
                    7.815197,
                    7.815197,
                    7.815197,
                    7.815197,
                    7.815197,
                    7.815197,
                    7.815197
                  ],
                  "marker": {
                    "color": "#FF6692",
                    "size": [
                      10,
                      10,
                      10,
                      10,
                      10,
                      10,
                      10,
                      10,
                      10,
                      10
                    ],
                    "sizemode": "area",
                    "sizeref": 0.025,
                    "symbol": "circle"
                  },
                  "mode": "markers",
                  "name": "HM",
                  "showlegend": true,
                  "type": "scattergeo"
                },
                {
                  "geo": "geo",
                  "hovertemplate": "country=KV<br>size=%{marker.size}<br>lat=%{lat}<br>lon=%{lon}<extra></extra>",
                  "lat": [
                    51.2517675,
                    51.2517675,
                    51.2517675,
                    51.2517675,
                    51.2517675,
                    51.2517675,
                    51.2517675,
                    51.2517675,
                    51.2517675,
                    51.2517675
                  ],
                  "legendgroup": "KV",
                  "lon": [
                    6.7648099,
                    6.7648099,
                    6.7648099,
                    6.7648099,
                    6.7648099,
                    6.7648099,
                    6.7648099,
                    6.7648099,
                    6.7648099,
                    6.7648099
                  ],
                  "marker": {
                    "color": "#B6E880",
                    "size": [
                      10,
                      10,
                      10,
                      10,
                      10,
                      10,
                      10,
                      10,
                      10,
                      10
                    ],
                    "sizemode": "area",
                    "sizeref": 0.025,
                    "symbol": "circle"
                  },
                  "mode": "markers",
                  "name": "KV",
                  "showlegend": true,
                  "type": "scattergeo"
                },
                {
                  "geo": "geo",
                  "hovertemplate": "country=SR<br>size=%{marker.size}<br>lat=%{lat}<br>lon=%{lon}<extra></extra>",
                  "lat": [
                    4.1413025,
                    4.1413025,
                    4.1413025,
                    4.1413025,
                    4.1413025,
                    4.1413025,
                    4.1413025,
                    4.1413025,
                    4.1413025
                  ],
                  "legendgroup": "SR",
                  "lon": [
                    -56.0771187,
                    -56.0771187,
                    -56.0771187,
                    -56.0771187,
                    -56.0771187,
                    -56.0771187,
                    -56.0771187,
                    -56.0771187,
                    -56.0771187
                  ],
                  "marker": {
                    "color": "#FF97FF",
                    "size": [
                      9,
                      9,
                      9,
                      9,
                      9,
                      9,
                      9,
                      9,
                      9
                    ],
                    "sizemode": "area",
                    "sizeref": 0.025,
                    "symbol": "circle"
                  },
                  "mode": "markers",
                  "name": "SR",
                  "showlegend": true,
                  "type": "scattergeo"
                },
                {
                  "geo": "geo",
                  "hovertemplate": "country=VE<br>size=%{marker.size}<br>lat=%{lat}<br>lon=%{lon}<extra></extra>",
                  "lat": [
                    8.0018709,
                    8.0018709,
                    8.0018709,
                    8.0018709,
                    8.0018709,
                    8.0018709,
                    8.0018709,
                    8.0018709,
                    8.0018709,
                    8.0018709
                  ],
                  "legendgroup": "VE",
                  "lon": [
                    -66.1109318,
                    -66.1109318,
                    -66.1109318,
                    -66.1109318,
                    -66.1109318,
                    -66.1109318,
                    -66.1109318,
                    -66.1109318,
                    -66.1109318,
                    -66.1109318
                  ],
                  "marker": {
                    "color": "#FECB52",
                    "size": [
                      10,
                      10,
                      10,
                      10,
                      10,
                      10,
                      10,
                      10,
                      10,
                      10
                    ],
                    "sizemode": "area",
                    "sizeref": 0.025,
                    "symbol": "circle"
                  },
                  "mode": "markers",
                  "name": "VE",
                  "showlegend": true,
                  "type": "scattergeo"
                },
                {
                  "geo": "geo",
                  "hovertemplate": "country=GA<br>size=%{marker.size}<br>lat=%{lat}<br>lon=%{lon}<extra></extra>",
                  "lat": [
                    -0.8999695,
                    -0.8999695,
                    -0.8999695,
                    -0.8999695,
                    -0.8999695,
                    -0.8999695,
                    -0.8999695,
                    -0.8999695,
                    -0.8999695,
                    -0.8999695
                  ],
                  "legendgroup": "GA",
                  "lon": [
                    11.6899699,
                    11.6899699,
                    11.6899699,
                    11.6899699,
                    11.6899699,
                    11.6899699,
                    11.6899699,
                    11.6899699,
                    11.6899699,
                    11.6899699
                  ],
                  "marker": {
                    "color": "#636efa",
                    "size": [
                      10,
                      10,
                      10,
                      10,
                      10,
                      10,
                      10,
                      10,
                      10,
                      10
                    ],
                    "sizemode": "area",
                    "sizeref": 0.025,
                    "symbol": "circle"
                  },
                  "mode": "markers",
                  "name": "GA",
                  "showlegend": true,
                  "type": "scattergeo"
                },
                {
                  "geo": "geo",
                  "hovertemplate": "country=CD<br>size=%{marker.size}<br>lat=%{lat}<br>lon=%{lon}<extra></extra>",
                  "lat": [
                    -2.9814344,
                    -2.9814344,
                    -2.9814344,
                    -2.9814344,
                    -2.9814344,
                    -2.9814344,
                    -2.9814344,
                    -2.9814344,
                    -2.9814344,
                    -2.9814344
                  ],
                  "legendgroup": "CD",
                  "lon": [
                    23.8222636,
                    23.8222636,
                    23.8222636,
                    23.8222636,
                    23.8222636,
                    23.8222636,
                    23.8222636,
                    23.8222636,
                    23.8222636,
                    23.8222636
                  ],
                  "marker": {
                    "color": "#EF553B",
                    "size": [
                      10,
                      10,
                      10,
                      10,
                      10,
                      10,
                      10,
                      10,
                      10,
                      10
                    ],
                    "sizemode": "area",
                    "sizeref": 0.025,
                    "symbol": "circle"
                  },
                  "mode": "markers",
                  "name": "CD",
                  "showlegend": true,
                  "type": "scattergeo"
                },
                {
                  "geo": "geo",
                  "hovertemplate": "country=MO<br>size=%{marker.size}<br>lat=%{lat}<br>lon=%{lon}<extra></extra>",
                  "lat": [
                    38.7604815,
                    38.7604815,
                    38.7604815,
                    38.7604815,
                    38.7604815,
                    38.7604815,
                    38.7604815,
                    38.7604815,
                    38.7604815,
                    38.7604815
                  ],
                  "legendgroup": "MO",
                  "lon": [
                    -92.5617875,
                    -92.5617875,
                    -92.5617875,
                    -92.5617875,
                    -92.5617875,
                    -92.5617875,
                    -92.5617875,
                    -92.5617875,
                    -92.5617875,
                    -92.5617875
                  ],
                  "marker": {
                    "color": "#00cc96",
                    "size": [
                      10,
                      10,
                      10,
                      10,
                      10,
                      10,
                      10,
                      10,
                      10,
                      10
                    ],
                    "sizemode": "area",
                    "sizeref": 0.025,
                    "symbol": "circle"
                  },
                  "mode": "markers",
                  "name": "MO",
                  "showlegend": true,
                  "type": "scattergeo"
                },
                {
                  "geo": "geo",
                  "hovertemplate": "country=IO<br>size=%{marker.size}<br>lat=%{lat}<br>lon=%{lon}<extra></extra>",
                  "lat": [
                    -5.3497093499999995,
                    -5.3497093499999995,
                    -5.3497093499999995,
                    -5.3497093499999995,
                    -5.3497093499999995,
                    -5.3497093499999995,
                    -5.3497093499999995,
                    -5.3497093499999995,
                    -5.3497093499999995,
                    -5.3497093499999995
                  ],
                  "legendgroup": "IO",
                  "lon": [
                    71.86064227010121,
                    71.86064227010121,
                    71.86064227010121,
                    71.86064227010121,
                    71.86064227010121,
                    71.86064227010121,
                    71.86064227010121,
                    71.86064227010121,
                    71.86064227010121,
                    71.86064227010121
                  ],
                  "marker": {
                    "color": "#ab63fa",
                    "size": [
                      10,
                      10,
                      10,
                      10,
                      10,
                      10,
                      10,
                      10,
                      10,
                      10
                    ],
                    "sizemode": "area",
                    "sizeref": 0.025,
                    "symbol": "circle"
                  },
                  "mode": "markers",
                  "name": "IO",
                  "showlegend": true,
                  "type": "scattergeo"
                },
                {
                  "geo": "geo",
                  "hovertemplate": "country=GS<br>size=%{marker.size}<br>lat=%{lat}<br>lon=%{lon}<extra></extra>",
                  "lat": [
                    -54.8432857,
                    -54.8432857,
                    -54.8432857,
                    -54.8432857,
                    -54.8432857,
                    -54.8432857,
                    -54.8432857,
                    -54.8432857,
                    -54.8432857
                  ],
                  "legendgroup": "GS",
                  "lon": [
                    -35.8090698,
                    -35.8090698,
                    -35.8090698,
                    -35.8090698,
                    -35.8090698,
                    -35.8090698,
                    -35.8090698,
                    -35.8090698,
                    -35.8090698
                  ],
                  "marker": {
                    "color": "#FFA15A",
                    "size": [
                      9,
                      9,
                      9,
                      9,
                      9,
                      9,
                      9,
                      9,
                      9
                    ],
                    "sizemode": "area",
                    "sizeref": 0.025,
                    "symbol": "circle"
                  },
                  "mode": "markers",
                  "name": "GS",
                  "showlegend": true,
                  "type": "scattergeo"
                },
                {
                  "geo": "geo",
                  "hovertemplate": "country=GP<br>size=%{marker.size}<br>lat=%{lat}<br>lon=%{lon}<extra></extra>",
                  "lat": [
                    16.2528827,
                    16.2528827,
                    16.2528827,
                    16.2528827,
                    16.2528827,
                    16.2528827,
                    16.2528827,
                    16.2528827,
                    16.2528827,
                    16.2528827
                  ],
                  "legendgroup": "GP",
                  "lon": [
                    -61.5686855,
                    -61.5686855,
                    -61.5686855,
                    -61.5686855,
                    -61.5686855,
                    -61.5686855,
                    -61.5686855,
                    -61.5686855,
                    -61.5686855,
                    -61.5686855
                  ],
                  "marker": {
                    "color": "#19d3f3",
                    "size": [
                      10,
                      10,
                      10,
                      10,
                      10,
                      10,
                      10,
                      10,
                      10,
                      10
                    ],
                    "sizemode": "area",
                    "sizeref": 0.025,
                    "symbol": "circle"
                  },
                  "mode": "markers",
                  "name": "GP",
                  "showlegend": true,
                  "type": "scattergeo"
                },
                {
                  "geo": "geo",
                  "hovertemplate": "country=KI<br>size=%{marker.size}<br>lat=%{lat}<br>lon=%{lon}<extra></extra>",
                  "lat": [
                    0.3448612,
                    0.3448612,
                    0.3448612,
                    0.3448612,
                    0.3448612,
                    0.3448612,
                    0.3448612,
                    0.3448612,
                    0.3448612,
                    0.3448612
                  ],
                  "legendgroup": "KI",
                  "lon": [
                    173.6641773,
                    173.6641773,
                    173.6641773,
                    173.6641773,
                    173.6641773,
                    173.6641773,
                    173.6641773,
                    173.6641773,
                    173.6641773,
                    173.6641773
                  ],
                  "marker": {
                    "color": "#FF6692",
                    "size": [
                      10,
                      10,
                      10,
                      10,
                      10,
                      10,
                      10,
                      10,
                      10,
                      10
                    ],
                    "sizemode": "area",
                    "sizeref": 0.025,
                    "symbol": "circle"
                  },
                  "mode": "markers",
                  "name": "KI",
                  "showlegend": true,
                  "type": "scattergeo"
                },
                {
                  "geo": "geo",
                  "hovertemplate": "country=HR<br>size=%{marker.size}<br>lat=%{lat}<br>lon=%{lon}<extra></extra>",
                  "lat": [
                    45.3658443,
                    45.3658443,
                    45.3658443,
                    45.3658443,
                    45.3658443,
                    45.3658443,
                    45.3658443,
                    45.3658443,
                    45.3658443,
                    45.3658443
                  ],
                  "legendgroup": "HR",
                  "lon": [
                    15.6575209,
                    15.6575209,
                    15.6575209,
                    15.6575209,
                    15.6575209,
                    15.6575209,
                    15.6575209,
                    15.6575209,
                    15.6575209,
                    15.6575209
                  ],
                  "marker": {
                    "color": "#B6E880",
                    "size": [
                      10,
                      10,
                      10,
                      10,
                      10,
                      10,
                      10,
                      10,
                      10,
                      10
                    ],
                    "sizemode": "area",
                    "sizeref": 0.025,
                    "symbol": "circle"
                  },
                  "mode": "markers",
                  "name": "HR",
                  "showlegend": true,
                  "type": "scattergeo"
                },
                {
                  "geo": "geo",
                  "hovertemplate": "country=AW<br>size=%{marker.size}<br>lat=%{lat}<br>lon=%{lon}<extra></extra>",
                  "lat": [
                    49.92582385,
                    49.92582385,
                    49.92582385,
                    49.92582385,
                    49.92582385,
                    49.92582385,
                    49.92582385,
                    49.92582385,
                    49.92582385,
                    49.92582385
                  ],
                  "legendgroup": "AW",
                  "lon": [
                    11.540006379771075,
                    11.540006379771075,
                    11.540006379771075,
                    11.540006379771075,
                    11.540006379771075,
                    11.540006379771075,
                    11.540006379771075,
                    11.540006379771075,
                    11.540006379771075,
                    11.540006379771075
                  ],
                  "marker": {
                    "color": "#FF97FF",
                    "size": [
                      10,
                      10,
                      10,
                      10,
                      10,
                      10,
                      10,
                      10,
                      10,
                      10
                    ],
                    "sizemode": "area",
                    "sizeref": 0.025,
                    "symbol": "circle"
                  },
                  "mode": "markers",
                  "name": "AW",
                  "showlegend": true,
                  "type": "scattergeo"
                },
                {
                  "geo": "geo",
                  "hovertemplate": "country=CL<br>size=%{marker.size}<br>lat=%{lat}<br>lon=%{lon}<extra></extra>",
                  "lat": [
                    -31.7613365,
                    -31.7613365,
                    -31.7613365,
                    -31.7613365,
                    -31.7613365,
                    -31.7613365,
                    -31.7613365,
                    -31.7613365,
                    -31.7613365,
                    -31.7613365
                  ],
                  "legendgroup": "CL",
                  "lon": [
                    -71.3187697,
                    -71.3187697,
                    -71.3187697,
                    -71.3187697,
                    -71.3187697,
                    -71.3187697,
                    -71.3187697,
                    -71.3187697,
                    -71.3187697,
                    -71.3187697
                  ],
                  "marker": {
                    "color": "#FECB52",
                    "size": [
                      10,
                      10,
                      10,
                      10,
                      10,
                      10,
                      10,
                      10,
                      10,
                      10
                    ],
                    "sizemode": "area",
                    "sizeref": 0.025,
                    "symbol": "circle"
                  },
                  "mode": "markers",
                  "name": "CL",
                  "showlegend": true,
                  "type": "scattergeo"
                },
                {
                  "geo": "geo",
                  "hovertemplate": "country=ST<br>size=%{marker.size}<br>lat=%{lat}<br>lon=%{lon}<extra></extra>",
                  "lat": [
                    50.0601579,
                    50.0601579,
                    50.0601579,
                    50.0601579,
                    50.0601579,
                    50.0601579,
                    50.0601579,
                    50.0601579,
                    50.0601579,
                    50.0601579
                  ],
                  "legendgroup": "ST",
                  "lon": [
                    13.83074794209991,
                    13.83074794209991,
                    13.83074794209991,
                    13.83074794209991,
                    13.83074794209991,
                    13.83074794209991,
                    13.83074794209991,
                    13.83074794209991,
                    13.83074794209991,
                    13.83074794209991
                  ],
                  "marker": {
                    "color": "#636efa",
                    "size": [
                      10,
                      10,
                      10,
                      10,
                      10,
                      10,
                      10,
                      10,
                      10,
                      10
                    ],
                    "sizemode": "area",
                    "sizeref": 0.025,
                    "symbol": "circle"
                  },
                  "mode": "markers",
                  "name": "ST",
                  "showlegend": true,
                  "type": "scattergeo"
                },
                {
                  "geo": "geo",
                  "hovertemplate": "country=KN<br>size=%{marker.size}<br>lat=%{lat}<br>lon=%{lon}<extra></extra>",
                  "lat": [
                    50.776351,
                    50.776351,
                    50.776351,
                    50.776351,
                    50.776351,
                    50.776351,
                    50.776351,
                    50.776351,
                    50.776351,
                    50.776351
                  ],
                  "legendgroup": "KN",
                  "lon": [
                    6.083862,
                    6.083862,
                    6.083862,
                    6.083862,
                    6.083862,
                    6.083862,
                    6.083862,
                    6.083862,
                    6.083862,
                    6.083862
                  ],
                  "marker": {
                    "color": "#EF553B",
                    "size": [
                      10,
                      10,
                      10,
                      10,
                      10,
                      10,
                      10,
                      10,
                      10,
                      10
                    ],
                    "sizemode": "area",
                    "sizeref": 0.025,
                    "symbol": "circle"
                  },
                  "mode": "markers",
                  "name": "KN",
                  "showlegend": true,
                  "type": "scattergeo"
                },
                {
                  "geo": "geo",
                  "hovertemplate": "country=SN<br>size=%{marker.size}<br>lat=%{lat}<br>lon=%{lon}<extra></extra>",
                  "lat": [
                    14.4750607,
                    14.4750607,
                    14.4750607,
                    14.4750607,
                    14.4750607,
                    14.4750607,
                    14.4750607,
                    14.4750607,
                    14.4750607,
                    14.4750607
                  ],
                  "legendgroup": "SN",
                  "lon": [
                    -14.4529612,
                    -14.4529612,
                    -14.4529612,
                    -14.4529612,
                    -14.4529612,
                    -14.4529612,
                    -14.4529612,
                    -14.4529612,
                    -14.4529612,
                    -14.4529612
                  ],
                  "marker": {
                    "color": "#00cc96",
                    "size": [
                      10,
                      10,
                      10,
                      10,
                      10,
                      10,
                      10,
                      10,
                      10,
                      10
                    ],
                    "sizemode": "area",
                    "sizeref": 0.025,
                    "symbol": "circle"
                  },
                  "mode": "markers",
                  "name": "SN",
                  "showlegend": true,
                  "type": "scattergeo"
                },
                {
                  "geo": "geo",
                  "hovertemplate": "country=ZW<br>size=%{marker.size}<br>lat=%{lat}<br>lon=%{lon}<extra></extra>",
                  "lat": [
                    -18.4554963,
                    -18.4554963,
                    -18.4554963,
                    -18.4554963,
                    -18.4554963,
                    -18.4554963,
                    -18.4554963,
                    -18.4554963,
                    -18.4554963,
                    -18.4554963
                  ],
                  "legendgroup": "ZW",
                  "lon": [
                    29.7468414,
                    29.7468414,
                    29.7468414,
                    29.7468414,
                    29.7468414,
                    29.7468414,
                    29.7468414,
                    29.7468414,
                    29.7468414,
                    29.7468414
                  ],
                  "marker": {
                    "color": "#ab63fa",
                    "size": [
                      10,
                      10,
                      10,
                      10,
                      10,
                      10,
                      10,
                      10,
                      10,
                      10
                    ],
                    "sizemode": "area",
                    "sizeref": 0.025,
                    "symbol": "circle"
                  },
                  "mode": "markers",
                  "name": "ZW",
                  "showlegend": true,
                  "type": "scattergeo"
                },
                {
                  "geo": "geo",
                  "hovertemplate": "country=IN<br>size=%{marker.size}<br>lat=%{lat}<br>lon=%{lon}<extra></extra>",
                  "lat": [
                    22.3511148,
                    22.3511148,
                    22.3511148,
                    22.3511148,
                    22.3511148,
                    22.3511148,
                    22.3511148,
                    22.3511148,
                    22.3511148,
                    22.3511148
                  ],
                  "legendgroup": "IN",
                  "lon": [
                    78.6677428,
                    78.6677428,
                    78.6677428,
                    78.6677428,
                    78.6677428,
                    78.6677428,
                    78.6677428,
                    78.6677428,
                    78.6677428,
                    78.6677428
                  ],
                  "marker": {
                    "color": "#FFA15A",
                    "size": [
                      10,
                      10,
                      10,
                      10,
                      10,
                      10,
                      10,
                      10,
                      10,
                      10
                    ],
                    "sizemode": "area",
                    "sizeref": 0.025,
                    "symbol": "circle"
                  },
                  "mode": "markers",
                  "name": "IN",
                  "showlegend": true,
                  "type": "scattergeo"
                },
                {
                  "geo": "geo",
                  "hovertemplate": "country=TZ<br>size=%{marker.size}<br>lat=%{lat}<br>lon=%{lon}<extra></extra>",
                  "lat": [
                    -6.5247123,
                    -6.5247123,
                    -6.5247123,
                    -6.5247123,
                    -6.5247123,
                    -6.5247123,
                    -6.5247123,
                    -6.5247123,
                    -6.5247123,
                    -6.5247123
                  ],
                  "legendgroup": "TZ",
                  "lon": [
                    35.7878438,
                    35.7878438,
                    35.7878438,
                    35.7878438,
                    35.7878438,
                    35.7878438,
                    35.7878438,
                    35.7878438,
                    35.7878438,
                    35.7878438
                  ],
                  "marker": {
                    "color": "#19d3f3",
                    "size": [
                      10,
                      10,
                      10,
                      10,
                      10,
                      10,
                      10,
                      10,
                      10,
                      10
                    ],
                    "sizemode": "area",
                    "sizeref": 0.025,
                    "symbol": "circle"
                  },
                  "mode": "markers",
                  "name": "TZ",
                  "showlegend": true,
                  "type": "scattergeo"
                },
                {
                  "geo": "geo",
                  "hovertemplate": "country=VC<br>size=%{marker.size}<br>lat=%{lat}<br>lon=%{lon}<extra></extra>",
                  "lat": [
                    39.6819591,
                    39.6819591,
                    39.6819591,
                    39.6819591,
                    39.6819591,
                    39.6819591,
                    39.6819591,
                    39.6819591,
                    39.6819591,
                    39.6819591
                  ],
                  "legendgroup": "VC",
                  "lon": [
                    -0.7654406,
                    -0.7654406,
                    -0.7654406,
                    -0.7654406,
                    -0.7654406,
                    -0.7654406,
                    -0.7654406,
                    -0.7654406,
                    -0.7654406,
                    -0.7654406
                  ],
                  "marker": {
                    "color": "#FF6692",
                    "size": [
                      10,
                      10,
                      10,
                      10,
                      10,
                      10,
                      10,
                      10,
                      10,
                      10
                    ],
                    "sizemode": "area",
                    "sizeref": 0.025,
                    "symbol": "circle"
                  },
                  "mode": "markers",
                  "name": "VC",
                  "showlegend": true,
                  "type": "scattergeo"
                },
                {
                  "geo": "geo",
                  "hovertemplate": "country=SB<br>size=%{marker.size}<br>lat=%{lat}<br>lon=%{lon}<extra></extra>",
                  "lat": [
                    44.1534121,
                    44.1534121,
                    44.1534121,
                    44.1534121,
                    44.1534121,
                    44.1534121,
                    44.1534121,
                    44.1534121,
                    44.1534121,
                    44.1534121
                  ],
                  "legendgroup": "SB",
                  "lon": [
                    20.55144,
                    20.55144,
                    20.55144,
                    20.55144,
                    20.55144,
                    20.55144,
                    20.55144,
                    20.55144,
                    20.55144,
                    20.55144
                  ],
                  "marker": {
                    "color": "#B6E880",
                    "size": [
                      10,
                      10,
                      10,
                      10,
                      10,
                      10,
                      10,
                      10,
                      10,
                      10
                    ],
                    "sizemode": "area",
                    "sizeref": 0.025,
                    "symbol": "circle"
                  },
                  "mode": "markers",
                  "name": "SB",
                  "showlegend": true,
                  "type": "scattergeo"
                },
                {
                  "geo": "geo",
                  "hovertemplate": "country=DZ<br>size=%{marker.size}<br>lat=%{lat}<br>lon=%{lon}<extra></extra>",
                  "lat": [
                    28.0000272,
                    28.0000272,
                    28.0000272,
                    28.0000272,
                    28.0000272,
                    28.0000272,
                    28.0000272,
                    28.0000272,
                    28.0000272,
                    28.0000272
                  ],
                  "legendgroup": "DZ",
                  "lon": [
                    2.9999825,
                    2.9999825,
                    2.9999825,
                    2.9999825,
                    2.9999825,
                    2.9999825,
                    2.9999825,
                    2.9999825,
                    2.9999825,
                    2.9999825
                  ],
                  "marker": {
                    "color": "#FF97FF",
                    "size": [
                      10,
                      10,
                      10,
                      10,
                      10,
                      10,
                      10,
                      10,
                      10,
                      10
                    ],
                    "sizemode": "area",
                    "sizeref": 0.025,
                    "symbol": "circle"
                  },
                  "mode": "markers",
                  "name": "DZ",
                  "showlegend": true,
                  "type": "scattergeo"
                },
                {
                  "geo": "geo",
                  "hovertemplate": "country=DK<br>size=%{marker.size}<br>lat=%{lat}<br>lon=%{lon}<extra></extra>",
                  "lat": [
                    55.670249,
                    55.670249,
                    55.670249,
                    55.670249,
                    55.670249,
                    55.670249,
                    55.670249,
                    55.670249,
                    55.670249,
                    55.670249
                  ],
                  "legendgroup": "DK",
                  "lon": [
                    10.3333283,
                    10.3333283,
                    10.3333283,
                    10.3333283,
                    10.3333283,
                    10.3333283,
                    10.3333283,
                    10.3333283,
                    10.3333283,
                    10.3333283
                  ],
                  "marker": {
                    "color": "#FECB52",
                    "size": [
                      10,
                      10,
                      10,
                      10,
                      10,
                      10,
                      10,
                      10,
                      10,
                      10
                    ],
                    "sizemode": "area",
                    "sizeref": 0.025,
                    "symbol": "circle"
                  },
                  "mode": "markers",
                  "name": "DK",
                  "showlegend": true,
                  "type": "scattergeo"
                },
                {
                  "geo": "geo",
                  "hovertemplate": "country=EH<br>size=%{marker.size}<br>lat=%{lat}<br>lon=%{lon}<extra></extra>",
                  "lat": [
                    23.340694499999998,
                    23.340694499999998,
                    23.340694499999998,
                    23.340694499999998,
                    23.340694499999998,
                    23.340694499999998,
                    23.340694499999998,
                    23.340694499999998,
                    23.340694499999998,
                    23.340694499999998
                  ],
                  "legendgroup": "EH",
                  "lon": [
                    -13.129132651166511,
                    -13.129132651166511,
                    -13.129132651166511,
                    -13.129132651166511,
                    -13.129132651166511,
                    -13.129132651166511,
                    -13.129132651166511,
                    -13.129132651166511,
                    -13.129132651166511,
                    -13.129132651166511
                  ],
                  "marker": {
                    "color": "#636efa",
                    "size": [
                      10,
                      10,
                      10,
                      10,
                      10,
                      10,
                      10,
                      10,
                      10,
                      10
                    ],
                    "sizemode": "area",
                    "sizeref": 0.025,
                    "symbol": "circle"
                  },
                  "mode": "markers",
                  "name": "EH",
                  "showlegend": true,
                  "type": "scattergeo"
                },
                {
                  "geo": "geo",
                  "hovertemplate": "country=SA<br>size=%{marker.size}<br>lat=%{lat}<br>lon=%{lon}<extra></extra>",
                  "lat": [
                    25.6242618,
                    25.6242618,
                    25.6242618,
                    25.6242618,
                    25.6242618,
                    25.6242618,
                    25.6242618,
                    25.6242618,
                    25.6242618,
                    25.6242618
                  ],
                  "legendgroup": "SA",
                  "lon": [
                    42.3528328,
                    42.3528328,
                    42.3528328,
                    42.3528328,
                    42.3528328,
                    42.3528328,
                    42.3528328,
                    42.3528328,
                    42.3528328,
                    42.3528328
                  ],
                  "marker": {
                    "color": "#EF553B",
                    "size": [
                      10,
                      10,
                      10,
                      10,
                      10,
                      10,
                      10,
                      10,
                      10,
                      10
                    ],
                    "sizemode": "area",
                    "sizeref": 0.025,
                    "symbol": "circle"
                  },
                  "mode": "markers",
                  "name": "SA",
                  "showlegend": true,
                  "type": "scattergeo"
                },
                {
                  "geo": "geo",
                  "hovertemplate": "country=NZ<br>size=%{marker.size}<br>lat=%{lat}<br>lon=%{lon}<extra></extra>",
                  "lat": [
                    -41.5000831,
                    -41.5000831,
                    -41.5000831,
                    -41.5000831,
                    -41.5000831,
                    -41.5000831,
                    -41.5000831,
                    -41.5000831,
                    -41.5000831,
                    -41.5000831
                  ],
                  "legendgroup": "NZ",
                  "lon": [
                    172.8344077,
                    172.8344077,
                    172.8344077,
                    172.8344077,
                    172.8344077,
                    172.8344077,
                    172.8344077,
                    172.8344077,
                    172.8344077,
                    172.8344077
                  ],
                  "marker": {
                    "color": "#00cc96",
                    "size": [
                      10,
                      10,
                      10,
                      10,
                      10,
                      10,
                      10,
                      10,
                      10,
                      10
                    ],
                    "sizemode": "area",
                    "sizeref": 0.025,
                    "symbol": "circle"
                  },
                  "mode": "markers",
                  "name": "NZ",
                  "showlegend": true,
                  "type": "scattergeo"
                },
                {
                  "geo": "geo",
                  "hovertemplate": "country=RU<br>size=%{marker.size}<br>lat=%{lat}<br>lon=%{lon}<extra></extra>",
                  "lat": [
                    54.7023545,
                    54.7023545,
                    54.7023545,
                    54.7023545,
                    54.7023545,
                    54.7023545,
                    54.7023545,
                    54.7023545,
                    54.7023545,
                    54.7023545
                  ],
                  "legendgroup": "RU",
                  "lon": [
                    -3.2765753,
                    -3.2765753,
                    -3.2765753,
                    -3.2765753,
                    -3.2765753,
                    -3.2765753,
                    -3.2765753,
                    -3.2765753,
                    -3.2765753,
                    -3.2765753
                  ],
                  "marker": {
                    "color": "#ab63fa",
                    "size": [
                      10,
                      10,
                      10,
                      10,
                      10,
                      10,
                      10,
                      10,
                      10,
                      10
                    ],
                    "sizemode": "area",
                    "sizeref": 0.025,
                    "symbol": "circle"
                  },
                  "mode": "markers",
                  "name": "RU",
                  "showlegend": true,
                  "type": "scattergeo"
                },
                {
                  "geo": "geo",
                  "hovertemplate": "country=BB<br>size=%{marker.size}<br>lat=%{lat}<br>lon=%{lon}<extra></extra>",
                  "lat": [
                    13.1500331,
                    13.1500331,
                    13.1500331,
                    13.1500331,
                    13.1500331,
                    13.1500331,
                    13.1500331,
                    13.1500331,
                    13.1500331,
                    13.1500331
                  ],
                  "legendgroup": "BB",
                  "lon": [
                    -59.5250305,
                    -59.5250305,
                    -59.5250305,
                    -59.5250305,
                    -59.5250305,
                    -59.5250305,
                    -59.5250305,
                    -59.5250305,
                    -59.5250305,
                    -59.5250305
                  ],
                  "marker": {
                    "color": "#FFA15A",
                    "size": [
                      10,
                      10,
                      10,
                      10,
                      10,
                      10,
                      10,
                      10,
                      10,
                      10
                    ],
                    "sizemode": "area",
                    "sizeref": 0.025,
                    "symbol": "circle"
                  },
                  "mode": "markers",
                  "name": "BB",
                  "showlegend": true,
                  "type": "scattergeo"
                },
                {
                  "geo": "geo",
                  "hovertemplate": "country=CN<br>size=%{marker.size}<br>lat=%{lat}<br>lon=%{lon}<extra></extra>",
                  "lat": [
                    35.000074,
                    35.000074,
                    35.000074,
                    35.000074,
                    35.000074,
                    35.000074,
                    35.000074,
                    35.000074,
                    35.000074,
                    35.000074
                  ],
                  "legendgroup": "CN",
                  "lon": [
                    104.999927,
                    104.999927,
                    104.999927,
                    104.999927,
                    104.999927,
                    104.999927,
                    104.999927,
                    104.999927,
                    104.999927,
                    104.999927
                  ],
                  "marker": {
                    "color": "#19d3f3",
                    "size": [
                      10,
                      10,
                      10,
                      10,
                      10,
                      10,
                      10,
                      10,
                      10,
                      10
                    ],
                    "sizemode": "area",
                    "sizeref": 0.025,
                    "symbol": "circle"
                  },
                  "mode": "markers",
                  "name": "CN",
                  "showlegend": true,
                  "type": "scattergeo"
                },
                {
                  "geo": "geo",
                  "hovertemplate": "country=NP<br>size=%{marker.size}<br>lat=%{lat}<br>lon=%{lon}<extra></extra>",
                  "lat": [
                    28.1083929,
                    28.1083929,
                    28.1083929,
                    28.1083929,
                    28.1083929,
                    28.1083929,
                    28.1083929,
                    28.1083929,
                    28.1083929,
                    28.1083929
                  ],
                  "legendgroup": "NP",
                  "lon": [
                    84.0917139,
                    84.0917139,
                    84.0917139,
                    84.0917139,
                    84.0917139,
                    84.0917139,
                    84.0917139,
                    84.0917139,
                    84.0917139,
                    84.0917139
                  ],
                  "marker": {
                    "color": "#FF6692",
                    "size": [
                      10,
                      10,
                      10,
                      10,
                      10,
                      10,
                      10,
                      10,
                      10,
                      10
                    ],
                    "sizemode": "area",
                    "sizeref": 0.025,
                    "symbol": "circle"
                  },
                  "mode": "markers",
                  "name": "NP",
                  "showlegend": true,
                  "type": "scattergeo"
                },
                {
                  "geo": "geo",
                  "hovertemplate": "country=PK<br>size=%{marker.size}<br>lat=%{lat}<br>lon=%{lon}<extra></extra>",
                  "lat": [
                    30.3308401,
                    30.3308401,
                    30.3308401,
                    30.3308401,
                    30.3308401,
                    30.3308401,
                    30.3308401,
                    30.3308401,
                    30.3308401,
                    30.3308401
                  ],
                  "legendgroup": "PK",
                  "lon": [
                    71.247499,
                    71.247499,
                    71.247499,
                    71.247499,
                    71.247499,
                    71.247499,
                    71.247499,
                    71.247499,
                    71.247499,
                    71.247499
                  ],
                  "marker": {
                    "color": "#B6E880",
                    "size": [
                      10,
                      10,
                      10,
                      10,
                      10,
                      10,
                      10,
                      10,
                      10,
                      10
                    ],
                    "sizemode": "area",
                    "sizeref": 0.025,
                    "symbol": "circle"
                  },
                  "mode": "markers",
                  "name": "PK",
                  "showlegend": true,
                  "type": "scattergeo"
                },
                {
                  "geo": "geo",
                  "hovertemplate": "country=UZ<br>size=%{marker.size}<br>lat=%{lat}<br>lon=%{lon}<extra></extra>",
                  "lat": [
                    41.32373,
                    41.32373,
                    41.32373,
                    41.32373,
                    41.32373,
                    41.32373,
                    41.32373,
                    41.32373,
                    41.32373,
                    41.32373
                  ],
                  "legendgroup": "UZ",
                  "lon": [
                    63.9528098,
                    63.9528098,
                    63.9528098,
                    63.9528098,
                    63.9528098,
                    63.9528098,
                    63.9528098,
                    63.9528098,
                    63.9528098,
                    63.9528098
                  ],
                  "marker": {
                    "color": "#FF97FF",
                    "size": [
                      10,
                      10,
                      10,
                      10,
                      10,
                      10,
                      10,
                      10,
                      10,
                      10
                    ],
                    "sizemode": "area",
                    "sizeref": 0.025,
                    "symbol": "circle"
                  },
                  "mode": "markers",
                  "name": "UZ",
                  "showlegend": true,
                  "type": "scattergeo"
                },
                {
                  "geo": "geo",
                  "hovertemplate": "country=AD<br>size=%{marker.size}<br>lat=%{lat}<br>lon=%{lon}<extra></extra>",
                  "lat": [
                    42.5407167,
                    42.5407167,
                    42.5407167,
                    42.5407167,
                    42.5407167,
                    42.5407167,
                    42.5407167,
                    42.5407167,
                    42.5407167,
                    42.5407167
                  ],
                  "legendgroup": "AD",
                  "lon": [
                    1.5732033,
                    1.5732033,
                    1.5732033,
                    1.5732033,
                    1.5732033,
                    1.5732033,
                    1.5732033,
                    1.5732033,
                    1.5732033,
                    1.5732033
                  ],
                  "marker": {
                    "color": "#FECB52",
                    "size": [
                      10,
                      10,
                      10,
                      10,
                      10,
                      10,
                      10,
                      10,
                      10,
                      10
                    ],
                    "sizemode": "area",
                    "sizeref": 0.025,
                    "symbol": "circle"
                  },
                  "mode": "markers",
                  "name": "AD",
                  "showlegend": true,
                  "type": "scattergeo"
                },
                {
                  "geo": "geo",
                  "hovertemplate": "country=BM<br>size=%{marker.size}<br>lat=%{lat}<br>lon=%{lon}<extra></extra>",
                  "lat": [
                    32.30382,
                    32.30382,
                    32.30382,
                    32.30382,
                    32.30382,
                    32.30382,
                    32.30382,
                    32.30382,
                    32.30382,
                    32.30382
                  ],
                  "legendgroup": "BM",
                  "lon": [
                    -64.7561647,
                    -64.7561647,
                    -64.7561647,
                    -64.7561647,
                    -64.7561647,
                    -64.7561647,
                    -64.7561647,
                    -64.7561647,
                    -64.7561647,
                    -64.7561647
                  ],
                  "marker": {
                    "color": "#636efa",
                    "size": [
                      10,
                      10,
                      10,
                      10,
                      10,
                      10,
                      10,
                      10,
                      10,
                      10
                    ],
                    "sizemode": "area",
                    "sizeref": 0.025,
                    "symbol": "circle"
                  },
                  "mode": "markers",
                  "name": "BM",
                  "showlegend": true,
                  "type": "scattergeo"
                },
                {
                  "geo": "geo",
                  "hovertemplate": "country=GB<br>size=%{marker.size}<br>lat=%{lat}<br>lon=%{lon}<extra></extra>",
                  "lat": [
                    54.7023545,
                    54.7023545,
                    54.7023545,
                    54.7023545,
                    54.7023545,
                    54.7023545,
                    54.7023545,
                    54.7023545,
                    54.7023545,
                    54.7023545
                  ],
                  "legendgroup": "GB",
                  "lon": [
                    -3.2765753,
                    -3.2765753,
                    -3.2765753,
                    -3.2765753,
                    -3.2765753,
                    -3.2765753,
                    -3.2765753,
                    -3.2765753,
                    -3.2765753,
                    -3.2765753
                  ],
                  "marker": {
                    "color": "#EF553B",
                    "size": [
                      10,
                      10,
                      10,
                      10,
                      10,
                      10,
                      10,
                      10,
                      10,
                      10
                    ],
                    "sizemode": "area",
                    "sizeref": 0.025,
                    "symbol": "circle"
                  },
                  "mode": "markers",
                  "name": "GB",
                  "showlegend": true,
                  "type": "scattergeo"
                },
                {
                  "geo": "geo",
                  "hovertemplate": "country=GU<br>size=%{marker.size}<br>lat=%{lat}<br>lon=%{lon}<extra></extra>",
                  "lat": [
                    13.4499943,
                    13.4499943,
                    13.4499943,
                    13.4499943,
                    13.4499943,
                    13.4499943,
                    13.4499943,
                    13.4499943,
                    13.4499943,
                    13.4499943
                  ],
                  "legendgroup": "GU",
                  "lon": [
                    144.7651677,
                    144.7651677,
                    144.7651677,
                    144.7651677,
                    144.7651677,
                    144.7651677,
                    144.7651677,
                    144.7651677,
                    144.7651677,
                    144.7651677
                  ],
                  "marker": {
                    "color": "#00cc96",
                    "size": [
                      10,
                      10,
                      10,
                      10,
                      10,
                      10,
                      10,
                      10,
                      10,
                      10
                    ],
                    "sizemode": "area",
                    "sizeref": 0.025,
                    "symbol": "circle"
                  },
                  "mode": "markers",
                  "name": "GU",
                  "showlegend": true,
                  "type": "scattergeo"
                },
                {
                  "geo": "geo",
                  "hovertemplate": "country=DE<br>size=%{marker.size}<br>lat=%{lat}<br>lon=%{lon}<extra></extra>",
                  "lat": [
                    51.1638175,
                    51.1638175,
                    51.1638175,
                    51.1638175,
                    51.1638175,
                    51.1638175,
                    51.1638175,
                    51.1638175,
                    51.1638175,
                    51.1638175
                  ],
                  "legendgroup": "DE",
                  "lon": [
                    10.4478313,
                    10.4478313,
                    10.4478313,
                    10.4478313,
                    10.4478313,
                    10.4478313,
                    10.4478313,
                    10.4478313,
                    10.4478313,
                    10.4478313
                  ],
                  "marker": {
                    "color": "#ab63fa",
                    "size": [
                      10,
                      10,
                      10,
                      10,
                      10,
                      10,
                      10,
                      10,
                      10,
                      10
                    ],
                    "sizemode": "area",
                    "sizeref": 0.025,
                    "symbol": "circle"
                  },
                  "mode": "markers",
                  "name": "DE",
                  "showlegend": true,
                  "type": "scattergeo"
                },
                {
                  "geo": "geo",
                  "hovertemplate": "country=CR<br>size=%{marker.size}<br>lat=%{lat}<br>lon=%{lon}<extra></extra>",
                  "lat": [
                    45.22086405,
                    45.22086405,
                    45.22086405,
                    45.22086405,
                    45.22086405,
                    45.22086405,
                    45.22086405,
                    45.22086405,
                    45.22086405,
                    45.22086405
                  ],
                  "legendgroup": "CR",
                  "lon": [
                    10.037037979628856,
                    10.037037979628856,
                    10.037037979628856,
                    10.037037979628856,
                    10.037037979628856,
                    10.037037979628856,
                    10.037037979628856,
                    10.037037979628856,
                    10.037037979628856,
                    10.037037979628856
                  ],
                  "marker": {
                    "color": "#FFA15A",
                    "size": [
                      10,
                      10,
                      10,
                      10,
                      10,
                      10,
                      10,
                      10,
                      10,
                      10
                    ],
                    "sizemode": "area",
                    "sizeref": 0.025,
                    "symbol": "circle"
                  },
                  "mode": "markers",
                  "name": "CR",
                  "showlegend": true,
                  "type": "scattergeo"
                },
                {
                  "geo": "geo",
                  "hovertemplate": "country=TW<br>size=%{marker.size}<br>lat=%{lat}<br>lon=%{lon}<extra></extra>",
                  "lat": [
                    23.9739374,
                    23.9739374,
                    23.9739374,
                    23.9739374,
                    23.9739374,
                    23.9739374,
                    23.9739374,
                    23.9739374,
                    23.9739374,
                    23.9739374
                  ],
                  "legendgroup": "TW",
                  "lon": [
                    120.9820179,
                    120.9820179,
                    120.9820179,
                    120.9820179,
                    120.9820179,
                    120.9820179,
                    120.9820179,
                    120.9820179,
                    120.9820179,
                    120.9820179
                  ],
                  "marker": {
                    "color": "#19d3f3",
                    "size": [
                      10,
                      10,
                      10,
                      10,
                      10,
                      10,
                      10,
                      10,
                      10,
                      10
                    ],
                    "sizemode": "area",
                    "sizeref": 0.025,
                    "symbol": "circle"
                  },
                  "mode": "markers",
                  "name": "TW",
                  "showlegend": true,
                  "type": "scattergeo"
                },
                {
                  "geo": "geo",
                  "hovertemplate": "country=SI<br>size=%{marker.size}<br>lat=%{lat}<br>lon=%{lon}<extra></extra>",
                  "lat": [
                    46.1199444,
                    46.1199444,
                    46.1199444,
                    46.1199444,
                    46.1199444,
                    46.1199444,
                    46.1199444,
                    46.1199444,
                    46.1199444,
                    46.1199444
                  ],
                  "legendgroup": "SI",
                  "lon": [
                    14.8153333,
                    14.8153333,
                    14.8153333,
                    14.8153333,
                    14.8153333,
                    14.8153333,
                    14.8153333,
                    14.8153333,
                    14.8153333,
                    14.8153333
                  ],
                  "marker": {
                    "color": "#FF6692",
                    "size": [
                      10,
                      10,
                      10,
                      10,
                      10,
                      10,
                      10,
                      10,
                      10,
                      10
                    ],
                    "sizemode": "area",
                    "sizeref": 0.025,
                    "symbol": "circle"
                  },
                  "mode": "markers",
                  "name": "SI",
                  "showlegend": true,
                  "type": "scattergeo"
                },
                {
                  "geo": "geo",
                  "hovertemplate": "country=YT<br>size=%{marker.size}<br>lat=%{lat}<br>lon=%{lon}<extra></extra>",
                  "lat": [
                    63.000147,
                    63.000147,
                    63.000147,
                    63.000147,
                    63.000147,
                    63.000147,
                    63.000147,
                    63.000147,
                    63.000147,
                    63.000147
                  ],
                  "legendgroup": "YT",
                  "lon": [
                    -136.002502,
                    -136.002502,
                    -136.002502,
                    -136.002502,
                    -136.002502,
                    -136.002502,
                    -136.002502,
                    -136.002502,
                    -136.002502,
                    -136.002502
                  ],
                  "marker": {
                    "color": "#B6E880",
                    "size": [
                      10,
                      10,
                      10,
                      10,
                      10,
                      10,
                      10,
                      10,
                      10,
                      10
                    ],
                    "sizemode": "area",
                    "sizeref": 0.025,
                    "symbol": "circle"
                  },
                  "mode": "markers",
                  "name": "YT",
                  "showlegend": true,
                  "type": "scattergeo"
                },
                {
                  "geo": "geo",
                  "hovertemplate": "country=WS<br>size=%{marker.size}<br>lat=%{lat}<br>lon=%{lon}<extra></extra>",
                  "lat": [
                    -13.7693895,
                    -13.7693895,
                    -13.7693895,
                    -13.7693895,
                    -13.7693895,
                    -13.7693895,
                    -13.7693895,
                    -13.7693895,
                    -13.7693895,
                    -13.7693895
                  ],
                  "legendgroup": "WS",
                  "lon": [
                    -172.12005,
                    -172.12005,
                    -172.12005,
                    -172.12005,
                    -172.12005,
                    -172.12005,
                    -172.12005,
                    -172.12005,
                    -172.12005,
                    -172.12005
                  ],
                  "marker": {
                    "color": "#FF97FF",
                    "size": [
                      10,
                      10,
                      10,
                      10,
                      10,
                      10,
                      10,
                      10,
                      10,
                      10
                    ],
                    "sizemode": "area",
                    "sizeref": 0.025,
                    "symbol": "circle"
                  },
                  "mode": "markers",
                  "name": "WS",
                  "showlegend": true,
                  "type": "scattergeo"
                },
                {
                  "geo": "geo",
                  "hovertemplate": "country=TP<br>size=%{marker.size}<br>lat=%{lat}<br>lon=%{lon}<extra></extra>",
                  "lat": [
                    42.3749126,
                    42.3749126,
                    42.3749126,
                    42.3749126,
                    42.3749126,
                    42.3749126,
                    42.3749126,
                    42.3749126,
                    42.3749126,
                    42.3749126
                  ],
                  "legendgroup": "TP",
                  "lon": [
                    20.031227487185916,
                    20.031227487185916,
                    20.031227487185916,
                    20.031227487185916,
                    20.031227487185916,
                    20.031227487185916,
                    20.031227487185916,
                    20.031227487185916,
                    20.031227487185916,
                    20.031227487185916
                  ],
                  "marker": {
                    "color": "#FECB52",
                    "size": [
                      10,
                      10,
                      10,
                      10,
                      10,
                      10,
                      10,
                      10,
                      10,
                      10
                    ],
                    "sizemode": "area",
                    "sizeref": 0.025,
                    "symbol": "circle"
                  },
                  "mode": "markers",
                  "name": "TP",
                  "showlegend": true,
                  "type": "scattergeo"
                },
                {
                  "geo": "geo",
                  "hovertemplate": "country=LC<br>size=%{marker.size}<br>lat=%{lat}<br>lon=%{lon}<extra></extra>",
                  "lat": [
                    13.8250489,
                    13.8250489,
                    13.8250489,
                    13.8250489,
                    13.8250489,
                    13.8250489,
                    13.8250489,
                    13.8250489,
                    13.8250489,
                    13.8250489
                  ],
                  "legendgroup": "LC",
                  "lon": [
                    -60.975036,
                    -60.975036,
                    -60.975036,
                    -60.975036,
                    -60.975036,
                    -60.975036,
                    -60.975036,
                    -60.975036,
                    -60.975036,
                    -60.975036
                  ],
                  "marker": {
                    "color": "#636efa",
                    "size": [
                      10,
                      10,
                      10,
                      10,
                      10,
                      10,
                      10,
                      10,
                      10,
                      10
                    ],
                    "sizemode": "area",
                    "sizeref": 0.025,
                    "symbol": "circle"
                  },
                  "mode": "markers",
                  "name": "LC",
                  "showlegend": true,
                  "type": "scattergeo"
                },
                {
                  "geo": "geo",
                  "hovertemplate": "country=SO<br>size=%{marker.size}<br>lat=%{lat}<br>lon=%{lon}<extra></extra>",
                  "lat": [
                    8.3676771,
                    8.3676771,
                    8.3676771,
                    8.3676771,
                    8.3676771,
                    8.3676771,
                    8.3676771,
                    8.3676771,
                    8.3676771,
                    8.3676771
                  ],
                  "legendgroup": "SO",
                  "lon": [
                    49.083416,
                    49.083416,
                    49.083416,
                    49.083416,
                    49.083416,
                    49.083416,
                    49.083416,
                    49.083416,
                    49.083416,
                    49.083416
                  ],
                  "marker": {
                    "color": "#EF553B",
                    "size": [
                      10,
                      10,
                      10,
                      10,
                      10,
                      10,
                      10,
                      10,
                      10,
                      10
                    ],
                    "sizemode": "area",
                    "sizeref": 0.025,
                    "symbol": "circle"
                  },
                  "mode": "markers",
                  "name": "SO",
                  "showlegend": true,
                  "type": "scattergeo"
                },
                {
                  "geo": "geo",
                  "hovertemplate": "country=CF<br>size=%{marker.size}<br>lat=%{lat}<br>lon=%{lon}<extra></extra>",
                  "lat": [
                    7.0323598,
                    7.0323598,
                    7.0323598,
                    7.0323598,
                    7.0323598,
                    7.0323598,
                    7.0323598,
                    7.0323598,
                    7.0323598,
                    7.0323598
                  ],
                  "legendgroup": "CF",
                  "lon": [
                    19.9981227,
                    19.9981227,
                    19.9981227,
                    19.9981227,
                    19.9981227,
                    19.9981227,
                    19.9981227,
                    19.9981227,
                    19.9981227,
                    19.9981227
                  ],
                  "marker": {
                    "color": "#00cc96",
                    "size": [
                      10,
                      10,
                      10,
                      10,
                      10,
                      10,
                      10,
                      10,
                      10,
                      10
                    ],
                    "sizemode": "area",
                    "sizeref": 0.025,
                    "symbol": "circle"
                  },
                  "mode": "markers",
                  "name": "CF",
                  "showlegend": true,
                  "type": "scattergeo"
                },
                {
                  "geo": "geo",
                  "hovertemplate": "country=LA<br>size=%{marker.size}<br>lat=%{lat}<br>lon=%{lon}<extra></extra>",
                  "lat": [
                    34.0536909,
                    34.0536909,
                    34.0536909,
                    34.0536909,
                    34.0536909,
                    34.0536909,
                    34.0536909,
                    34.0536909,
                    34.0536909,
                    34.0536909
                  ],
                  "legendgroup": "LA",
                  "lon": [
                    -118.242766,
                    -118.242766,
                    -118.242766,
                    -118.242766,
                    -118.242766,
                    -118.242766,
                    -118.242766,
                    -118.242766,
                    -118.242766,
                    -118.242766
                  ],
                  "marker": {
                    "color": "#ab63fa",
                    "size": [
                      10,
                      10,
                      10,
                      10,
                      10,
                      10,
                      10,
                      10,
                      10,
                      10
                    ],
                    "sizemode": "area",
                    "sizeref": 0.025,
                    "symbol": "circle"
                  },
                  "mode": "markers",
                  "name": "LA",
                  "showlegend": true,
                  "type": "scattergeo"
                },
                {
                  "geo": "geo",
                  "hovertemplate": "country=PE<br>size=%{marker.size}<br>lat=%{lat}<br>lon=%{lon}<extra></extra>",
                  "lat": [
                    -6.8699697,
                    -6.8699697,
                    -6.8699697,
                    -6.8699697,
                    -6.8699697,
                    -6.8699697,
                    -6.8699697,
                    -6.8699697,
                    -6.8699697,
                    -6.8699697
                  ],
                  "legendgroup": "PE",
                  "lon": [
                    -75.0458515,
                    -75.0458515,
                    -75.0458515,
                    -75.0458515,
                    -75.0458515,
                    -75.0458515,
                    -75.0458515,
                    -75.0458515,
                    -75.0458515,
                    -75.0458515
                  ],
                  "marker": {
                    "color": "#FFA15A",
                    "size": [
                      10,
                      10,
                      10,
                      10,
                      10,
                      10,
                      10,
                      10,
                      10,
                      10
                    ],
                    "sizemode": "area",
                    "sizeref": 0.025,
                    "symbol": "circle"
                  },
                  "mode": "markers",
                  "name": "PE",
                  "showlegend": true,
                  "type": "scattergeo"
                },
                {
                  "geo": "geo",
                  "hovertemplate": "country=SL<br>size=%{marker.size}<br>lat=%{lat}<br>lon=%{lon}<extra></extra>",
                  "lat": [
                    8.6400349,
                    8.6400349,
                    8.6400349,
                    8.6400349,
                    8.6400349,
                    8.6400349,
                    8.6400349,
                    8.6400349,
                    8.6400349,
                    8.6400349
                  ],
                  "legendgroup": "SL",
                  "lon": [
                    -11.8400269,
                    -11.8400269,
                    -11.8400269,
                    -11.8400269,
                    -11.8400269,
                    -11.8400269,
                    -11.8400269,
                    -11.8400269,
                    -11.8400269,
                    -11.8400269
                  ],
                  "marker": {
                    "color": "#19d3f3",
                    "size": [
                      10,
                      10,
                      10,
                      10,
                      10,
                      10,
                      10,
                      10,
                      10,
                      10
                    ],
                    "sizemode": "area",
                    "sizeref": 0.025,
                    "symbol": "circle"
                  },
                  "mode": "markers",
                  "name": "SL",
                  "showlegend": true,
                  "type": "scattergeo"
                },
                {
                  "geo": "geo",
                  "hovertemplate": "country=MQ<br>size=%{marker.size}<br>lat=%{lat}<br>lon=%{lon}<extra></extra>",
                  "lat": [
                    48.2031834,
                    48.2031834,
                    48.2031834,
                    48.2031834,
                    48.2031834,
                    48.2031834,
                    48.2031834,
                    48.2031834,
                    48.2031834,
                    48.2031834
                  ],
                  "legendgroup": "MQ",
                  "lon": [
                    16.35835028079548,
                    16.35835028079548,
                    16.35835028079548,
                    16.35835028079548,
                    16.35835028079548,
                    16.35835028079548,
                    16.35835028079548,
                    16.35835028079548,
                    16.35835028079548,
                    16.35835028079548
                  ],
                  "marker": {
                    "color": "#FF6692",
                    "size": [
                      10,
                      10,
                      10,
                      10,
                      10,
                      10,
                      10,
                      10,
                      10,
                      10
                    ],
                    "sizemode": "area",
                    "sizeref": 0.025,
                    "symbol": "circle"
                  },
                  "mode": "markers",
                  "name": "MQ",
                  "showlegend": true,
                  "type": "scattergeo"
                },
                {
                  "geo": "geo",
                  "hovertemplate": "country=CZ<br>size=%{marker.size}<br>lat=%{lat}<br>lon=%{lon}<extra></extra>",
                  "lat": [
                    49.7439047,
                    49.7439047,
                    49.7439047,
                    49.7439047,
                    49.7439047,
                    49.7439047,
                    49.7439047,
                    49.7439047,
                    49.7439047,
                    49.7439047
                  ],
                  "legendgroup": "CZ",
                  "lon": [
                    15.3381061,
                    15.3381061,
                    15.3381061,
                    15.3381061,
                    15.3381061,
                    15.3381061,
                    15.3381061,
                    15.3381061,
                    15.3381061,
                    15.3381061
                  ],
                  "marker": {
                    "color": "#B6E880",
                    "size": [
                      10,
                      10,
                      10,
                      10,
                      10,
                      10,
                      10,
                      10,
                      10,
                      10
                    ],
                    "sizemode": "area",
                    "sizeref": 0.025,
                    "symbol": "circle"
                  },
                  "mode": "markers",
                  "name": "CZ",
                  "showlegend": true,
                  "type": "scattergeo"
                },
                {
                  "geo": "geo",
                  "hovertemplate": "country=PL<br>size=%{marker.size}<br>lat=%{lat}<br>lon=%{lon}<extra></extra>",
                  "lat": [
                    52.215933,
                    52.215933,
                    52.215933,
                    52.215933,
                    52.215933,
                    52.215933,
                    52.215933,
                    52.215933,
                    52.215933,
                    52.215933
                  ],
                  "legendgroup": "PL",
                  "lon": [
                    19.134422,
                    19.134422,
                    19.134422,
                    19.134422,
                    19.134422,
                    19.134422,
                    19.134422,
                    19.134422,
                    19.134422,
                    19.134422
                  ],
                  "marker": {
                    "color": "#FF97FF",
                    "size": [
                      10,
                      10,
                      10,
                      10,
                      10,
                      10,
                      10,
                      10,
                      10,
                      10
                    ],
                    "sizemode": "area",
                    "sizeref": 0.025,
                    "symbol": "circle"
                  },
                  "mode": "markers",
                  "name": "PL",
                  "showlegend": true,
                  "type": "scattergeo"
                },
                {
                  "geo": "geo",
                  "hovertemplate": "country=MP<br>size=%{marker.size}<br>lat=%{lat}<br>lon=%{lon}<extra></extra>",
                  "lat": [
                    15.1753648,
                    15.1753648,
                    15.1753648,
                    15.1753648,
                    15.1753648,
                    15.1753648,
                    15.1753648,
                    15.1753648,
                    15.1753648,
                    15.1753648
                  ],
                  "legendgroup": "MP",
                  "lon": [
                    145.7379338,
                    145.7379338,
                    145.7379338,
                    145.7379338,
                    145.7379338,
                    145.7379338,
                    145.7379338,
                    145.7379338,
                    145.7379338,
                    145.7379338
                  ],
                  "marker": {
                    "color": "#FECB52",
                    "size": [
                      10,
                      10,
                      10,
                      10,
                      10,
                      10,
                      10,
                      10,
                      10,
                      10
                    ],
                    "sizemode": "area",
                    "sizeref": 0.025,
                    "symbol": "circle"
                  },
                  "mode": "markers",
                  "name": "MP",
                  "showlegend": true,
                  "type": "scattergeo"
                },
                {
                  "geo": "geo",
                  "hovertemplate": "country=PM<br>size=%{marker.size}<br>lat=%{lat}<br>lon=%{lon}<extra></extra>",
                  "lat": [
                    54.24556,
                    54.24556,
                    54.24556,
                    54.24556,
                    54.24556,
                    54.24556,
                    54.24556,
                    54.24556,
                    54.24556,
                    54.24556
                  ],
                  "legendgroup": "PM",
                  "lon": [
                    18.1099,
                    18.1099,
                    18.1099,
                    18.1099,
                    18.1099,
                    18.1099,
                    18.1099,
                    18.1099,
                    18.1099,
                    18.1099
                  ],
                  "marker": {
                    "color": "#636efa",
                    "size": [
                      10,
                      10,
                      10,
                      10,
                      10,
                      10,
                      10,
                      10,
                      10,
                      10
                    ],
                    "sizemode": "area",
                    "sizeref": 0.025,
                    "symbol": "circle"
                  },
                  "mode": "markers",
                  "name": "PM",
                  "showlegend": true,
                  "type": "scattergeo"
                },
                {
                  "geo": "geo",
                  "hovertemplate": "country=BG<br>size=%{marker.size}<br>lat=%{lat}<br>lon=%{lon}<extra></extra>",
                  "lat": [
                    42.6073975,
                    42.6073975,
                    42.6073975,
                    42.6073975,
                    42.6073975,
                    42.6073975,
                    42.6073975,
                    42.6073975,
                    42.6073975,
                    42.6073975
                  ],
                  "legendgroup": "BG",
                  "lon": [
                    25.4856617,
                    25.4856617,
                    25.4856617,
                    25.4856617,
                    25.4856617,
                    25.4856617,
                    25.4856617,
                    25.4856617,
                    25.4856617,
                    25.4856617
                  ],
                  "marker": {
                    "color": "#EF553B",
                    "size": [
                      10,
                      10,
                      10,
                      10,
                      10,
                      10,
                      10,
                      10,
                      10,
                      10
                    ],
                    "sizemode": "area",
                    "sizeref": 0.025,
                    "symbol": "circle"
                  },
                  "mode": "markers",
                  "name": "BG",
                  "showlegend": true,
                  "type": "scattergeo"
                },
                {
                  "geo": "geo",
                  "hovertemplate": "country=AL<br>size=%{marker.size}<br>lat=%{lat}<br>lon=%{lon}<extra></extra>",
                  "lat": [
                    33.2588817,
                    33.2588817,
                    33.2588817,
                    33.2588817,
                    33.2588817,
                    33.2588817,
                    33.2588817,
                    33.2588817,
                    33.2588817,
                    33.2588817
                  ],
                  "legendgroup": "AL",
                  "lon": [
                    -86.8295337,
                    -86.8295337,
                    -86.8295337,
                    -86.8295337,
                    -86.8295337,
                    -86.8295337,
                    -86.8295337,
                    -86.8295337,
                    -86.8295337,
                    -86.8295337
                  ],
                  "marker": {
                    "color": "#00cc96",
                    "size": [
                      10,
                      10,
                      10,
                      10,
                      10,
                      10,
                      10,
                      10,
                      10,
                      10
                    ],
                    "sizemode": "area",
                    "sizeref": 0.025,
                    "symbol": "circle"
                  },
                  "mode": "markers",
                  "name": "AL",
                  "showlegend": true,
                  "type": "scattergeo"
                },
                {
                  "geo": "geo",
                  "hovertemplate": "country=KH<br>size=%{marker.size}<br>lat=%{lat}<br>lon=%{lon}<extra></extra>",
                  "lat": [
                    12.5433216,
                    12.5433216,
                    12.5433216,
                    12.5433216,
                    12.5433216,
                    12.5433216,
                    12.5433216,
                    12.5433216,
                    12.5433216,
                    12.5433216
                  ],
                  "legendgroup": "KH",
                  "lon": [
                    104.8144914,
                    104.8144914,
                    104.8144914,
                    104.8144914,
                    104.8144914,
                    104.8144914,
                    104.8144914,
                    104.8144914,
                    104.8144914,
                    104.8144914
                  ],
                  "marker": {
                    "color": "#ab63fa",
                    "size": [
                      10,
                      10,
                      10,
                      10,
                      10,
                      10,
                      10,
                      10,
                      10,
                      10
                    ],
                    "sizemode": "area",
                    "sizeref": 0.025,
                    "symbol": "circle"
                  },
                  "mode": "markers",
                  "name": "KH",
                  "showlegend": true,
                  "type": "scattergeo"
                },
                {
                  "geo": "geo",
                  "hovertemplate": "country=TR<br>size=%{marker.size}<br>lat=%{lat}<br>lon=%{lon}<extra></extra>",
                  "lat": [
                    38.9597594,
                    38.9597594,
                    38.9597594,
                    38.9597594,
                    38.9597594,
                    38.9597594,
                    38.9597594,
                    38.9597594,
                    38.9597594,
                    38.9597594
                  ],
                  "legendgroup": "TR",
                  "lon": [
                    34.9249653,
                    34.9249653,
                    34.9249653,
                    34.9249653,
                    34.9249653,
                    34.9249653,
                    34.9249653,
                    34.9249653,
                    34.9249653,
                    34.9249653
                  ],
                  "marker": {
                    "color": "#FFA15A",
                    "size": [
                      10,
                      10,
                      10,
                      10,
                      10,
                      10,
                      10,
                      10,
                      10,
                      10
                    ],
                    "sizemode": "area",
                    "sizeref": 0.025,
                    "symbol": "circle"
                  },
                  "mode": "markers",
                  "name": "TR",
                  "showlegend": true,
                  "type": "scattergeo"
                },
                {
                  "geo": "geo",
                  "hovertemplate": "country=MX<br>size=%{marker.size}<br>lat=%{lat}<br>lon=%{lon}<extra></extra>",
                  "lat": [
                    23.6585116,
                    23.6585116,
                    23.6585116,
                    23.6585116,
                    23.6585116,
                    23.6585116,
                    23.6585116,
                    23.6585116,
                    23.6585116,
                    23.6585116
                  ],
                  "legendgroup": "MX",
                  "lon": [
                    -102.0077097,
                    -102.0077097,
                    -102.0077097,
                    -102.0077097,
                    -102.0077097,
                    -102.0077097,
                    -102.0077097,
                    -102.0077097,
                    -102.0077097,
                    -102.0077097
                  ],
                  "marker": {
                    "color": "#19d3f3",
                    "size": [
                      10,
                      10,
                      10,
                      10,
                      10,
                      10,
                      10,
                      10,
                      10,
                      10
                    ],
                    "sizemode": "area",
                    "sizeref": 0.025,
                    "symbol": "circle"
                  },
                  "mode": "markers",
                  "name": "MX",
                  "showlegend": true,
                  "type": "scattergeo"
                },
                {
                  "geo": "geo",
                  "hovertemplate": "country=BO<br>size=%{marker.size}<br>lat=%{lat}<br>lon=%{lon}<extra></extra>",
                  "lat": [
                    -17.0568696,
                    -17.0568696,
                    -17.0568696,
                    -17.0568696,
                    -17.0568696,
                    -17.0568696,
                    -17.0568696,
                    -17.0568696,
                    -17.0568696,
                    -17.0568696
                  ],
                  "legendgroup": "BO",
                  "lon": [
                    -64.9912286,
                    -64.9912286,
                    -64.9912286,
                    -64.9912286,
                    -64.9912286,
                    -64.9912286,
                    -64.9912286,
                    -64.9912286,
                    -64.9912286,
                    -64.9912286
                  ],
                  "marker": {
                    "color": "#FF6692",
                    "size": [
                      10,
                      10,
                      10,
                      10,
                      10,
                      10,
                      10,
                      10,
                      10,
                      10
                    ],
                    "sizemode": "area",
                    "sizeref": 0.025,
                    "symbol": "circle"
                  },
                  "mode": "markers",
                  "name": "BO",
                  "showlegend": true,
                  "type": "scattergeo"
                },
                {
                  "geo": "geo",
                  "hovertemplate": "country=EC<br>size=%{marker.size}<br>lat=%{lat}<br>lon=%{lon}<extra></extra>",
                  "lat": [
                    -1.3397668,
                    -1.3397668,
                    -1.3397668,
                    -1.3397668,
                    -1.3397668,
                    -1.3397668,
                    -1.3397668,
                    -1.3397668,
                    -1.3397668,
                    -1.3397668
                  ],
                  "legendgroup": "EC",
                  "lon": [
                    -79.3666965,
                    -79.3666965,
                    -79.3666965,
                    -79.3666965,
                    -79.3666965,
                    -79.3666965,
                    -79.3666965,
                    -79.3666965,
                    -79.3666965,
                    -79.3666965
                  ],
                  "marker": {
                    "color": "#B6E880",
                    "size": [
                      10,
                      10,
                      10,
                      10,
                      10,
                      10,
                      10,
                      10,
                      10,
                      10
                    ],
                    "sizemode": "area",
                    "sizeref": 0.025,
                    "symbol": "circle"
                  },
                  "mode": "markers",
                  "name": "EC",
                  "showlegend": true,
                  "type": "scattergeo"
                },
                {
                  "geo": "geo",
                  "hovertemplate": "country=TN<br>size=%{marker.size}<br>lat=%{lat}<br>lon=%{lon}<extra></extra>",
                  "lat": [
                    33.8439408,
                    33.8439408,
                    33.8439408,
                    33.8439408,
                    33.8439408,
                    33.8439408,
                    33.8439408,
                    33.8439408,
                    33.8439408,
                    33.8439408
                  ],
                  "legendgroup": "TN",
                  "lon": [
                    9.400138,
                    9.400138,
                    9.400138,
                    9.400138,
                    9.400138,
                    9.400138,
                    9.400138,
                    9.400138,
                    9.400138,
                    9.400138
                  ],
                  "marker": {
                    "color": "#FF97FF",
                    "size": [
                      10,
                      10,
                      10,
                      10,
                      10,
                      10,
                      10,
                      10,
                      10,
                      10
                    ],
                    "sizemode": "area",
                    "sizeref": 0.025,
                    "symbol": "circle"
                  },
                  "mode": "markers",
                  "name": "TN",
                  "showlegend": true,
                  "type": "scattergeo"
                },
                {
                  "geo": "geo",
                  "hovertemplate": "country=YE<br>size=%{marker.size}<br>lat=%{lat}<br>lon=%{lon}<extra></extra>",
                  "lat": [
                    16.3471243,
                    16.3471243,
                    16.3471243,
                    16.3471243,
                    16.3471243,
                    16.3471243,
                    16.3471243,
                    16.3471243,
                    16.3471243,
                    16.3471243
                  ],
                  "legendgroup": "YE",
                  "lon": [
                    47.8915271,
                    47.8915271,
                    47.8915271,
                    47.8915271,
                    47.8915271,
                    47.8915271,
                    47.8915271,
                    47.8915271,
                    47.8915271,
                    47.8915271
                  ],
                  "marker": {
                    "color": "#FECB52",
                    "size": [
                      10,
                      10,
                      10,
                      10,
                      10,
                      10,
                      10,
                      10,
                      10,
                      10
                    ],
                    "sizemode": "area",
                    "sizeref": 0.025,
                    "symbol": "circle"
                  },
                  "mode": "markers",
                  "name": "YE",
                  "showlegend": true,
                  "type": "scattergeo"
                },
                {
                  "geo": "geo",
                  "hovertemplate": "country=BI<br>size=%{marker.size}<br>lat=%{lat}<br>lon=%{lon}<extra></extra>",
                  "lat": [
                    50.6402809,
                    50.6402809,
                    50.6402809,
                    50.6402809,
                    50.6402809,
                    50.6402809,
                    50.6402809,
                    50.6402809,
                    50.6402809,
                    50.6402809
                  ],
                  "legendgroup": "BI",
                  "lon": [
                    4.6667145,
                    4.6667145,
                    4.6667145,
                    4.6667145,
                    4.6667145,
                    4.6667145,
                    4.6667145,
                    4.6667145,
                    4.6667145,
                    4.6667145
                  ],
                  "marker": {
                    "color": "#636efa",
                    "size": [
                      10,
                      10,
                      10,
                      10,
                      10,
                      10,
                      10,
                      10,
                      10,
                      10
                    ],
                    "sizemode": "area",
                    "sizeref": 0.025,
                    "symbol": "circle"
                  },
                  "mode": "markers",
                  "name": "BI",
                  "showlegend": true,
                  "type": "scattergeo"
                },
                {
                  "geo": "geo",
                  "hovertemplate": "country=SJ<br>size=%{marker.size}<br>lat=%{lat}<br>lon=%{lon}<extra></extra>",
                  "lat": [
                    -30.7054363,
                    -30.7054363,
                    -30.7054363,
                    -30.7054363,
                    -30.7054363,
                    -30.7054363,
                    -30.7054363,
                    -30.7054363,
                    -30.7054363,
                    -30.7054363
                  ],
                  "legendgroup": "SJ",
                  "lon": [
                    -69.1988222,
                    -69.1988222,
                    -69.1988222,
                    -69.1988222,
                    -69.1988222,
                    -69.1988222,
                    -69.1988222,
                    -69.1988222,
                    -69.1988222,
                    -69.1988222
                  ],
                  "marker": {
                    "color": "#EF553B",
                    "size": [
                      10,
                      10,
                      10,
                      10,
                      10,
                      10,
                      10,
                      10,
                      10,
                      10
                    ],
                    "sizemode": "area",
                    "sizeref": 0.025,
                    "symbol": "circle"
                  },
                  "mode": "markers",
                  "name": "SJ",
                  "showlegend": true,
                  "type": "scattergeo"
                },
                {
                  "geo": "geo",
                  "hovertemplate": "country=TM<br>size=%{marker.size}<br>lat=%{lat}<br>lon=%{lon}<extra></extra>",
                  "lat": [
                    39.3763807,
                    39.3763807,
                    39.3763807,
                    39.3763807,
                    39.3763807,
                    39.3763807,
                    39.3763807,
                    39.3763807,
                    39.3763807,
                    39.3763807
                  ],
                  "legendgroup": "TM",
                  "lon": [
                    59.3924609,
                    59.3924609,
                    59.3924609,
                    59.3924609,
                    59.3924609,
                    59.3924609,
                    59.3924609,
                    59.3924609,
                    59.3924609,
                    59.3924609
                  ],
                  "marker": {
                    "color": "#00cc96",
                    "size": [
                      10,
                      10,
                      10,
                      10,
                      10,
                      10,
                      10,
                      10,
                      10,
                      10
                    ],
                    "sizemode": "area",
                    "sizeref": 0.025,
                    "symbol": "circle"
                  },
                  "mode": "markers",
                  "name": "TM",
                  "showlegend": true,
                  "type": "scattergeo"
                },
                {
                  "geo": "geo",
                  "hovertemplate": "country=UY<br>size=%{marker.size}<br>lat=%{lat}<br>lon=%{lon}<extra></extra>",
                  "lat": [
                    -32.8755548,
                    -32.8755548,
                    -32.8755548,
                    -32.8755548,
                    -32.8755548,
                    -32.8755548,
                    -32.8755548,
                    -32.8755548,
                    -32.8755548,
                    -32.8755548
                  ],
                  "legendgroup": "UY",
                  "lon": [
                    -56.0201525,
                    -56.0201525,
                    -56.0201525,
                    -56.0201525,
                    -56.0201525,
                    -56.0201525,
                    -56.0201525,
                    -56.0201525,
                    -56.0201525,
                    -56.0201525
                  ],
                  "marker": {
                    "color": "#ab63fa",
                    "size": [
                      10,
                      10,
                      10,
                      10,
                      10,
                      10,
                      10,
                      10,
                      10,
                      10
                    ],
                    "sizemode": "area",
                    "sizeref": 0.025,
                    "symbol": "circle"
                  },
                  "mode": "markers",
                  "name": "UY",
                  "showlegend": true,
                  "type": "scattergeo"
                },
                {
                  "geo": "geo",
                  "hovertemplate": "country=MN<br>size=%{marker.size}<br>lat=%{lat}<br>lon=%{lon}<extra></extra>",
                  "lat": [
                    45.9896587,
                    45.9896587,
                    45.9896587,
                    45.9896587,
                    45.9896587,
                    45.9896587,
                    45.9896587,
                    45.9896587,
                    45.9896587,
                    45.9896587
                  ],
                  "legendgroup": "MN",
                  "lon": [
                    -94.6113288,
                    -94.6113288,
                    -94.6113288,
                    -94.6113288,
                    -94.6113288,
                    -94.6113288,
                    -94.6113288,
                    -94.6113288,
                    -94.6113288,
                    -94.6113288
                  ],
                  "marker": {
                    "color": "#FFA15A",
                    "size": [
                      10,
                      10,
                      10,
                      10,
                      10,
                      10,
                      10,
                      10,
                      10,
                      10
                    ],
                    "sizemode": "area",
                    "sizeref": 0.025,
                    "symbol": "circle"
                  },
                  "mode": "markers",
                  "name": "MN",
                  "showlegend": true,
                  "type": "scattergeo"
                },
                {
                  "geo": "geo",
                  "hovertemplate": "country=BH<br>size=%{marker.size}<br>lat=%{lat}<br>lon=%{lon}<extra></extra>",
                  "lat": [
                    44.3053476,
                    44.3053476,
                    44.3053476,
                    44.3053476,
                    44.3053476,
                    44.3053476,
                    44.3053476,
                    44.3053476,
                    44.3053476,
                    44.3053476
                  ],
                  "legendgroup": "BH",
                  "lon": [
                    17.5961467,
                    17.5961467,
                    17.5961467,
                    17.5961467,
                    17.5961467,
                    17.5961467,
                    17.5961467,
                    17.5961467,
                    17.5961467,
                    17.5961467
                  ],
                  "marker": {
                    "color": "#19d3f3",
                    "size": [
                      10,
                      10,
                      10,
                      10,
                      10,
                      10,
                      10,
                      10,
                      10,
                      10
                    ],
                    "sizemode": "area",
                    "sizeref": 0.025,
                    "symbol": "circle"
                  },
                  "mode": "markers",
                  "name": "BH",
                  "showlegend": true,
                  "type": "scattergeo"
                },
                {
                  "geo": "geo",
                  "hovertemplate": "country=MY<br>size=%{marker.size}<br>lat=%{lat}<br>lon=%{lon}<extra></extra>",
                  "lat": [
                    39.7837304,
                    39.7837304,
                    39.7837304,
                    39.7837304,
                    39.7837304,
                    39.7837304,
                    39.7837304,
                    39.7837304,
                    39.7837304,
                    39.7837304
                  ],
                  "legendgroup": "MY",
                  "lon": [
                    -100.445882,
                    -100.445882,
                    -100.445882,
                    -100.445882,
                    -100.445882,
                    -100.445882,
                    -100.445882,
                    -100.445882,
                    -100.445882,
                    -100.445882
                  ],
                  "marker": {
                    "color": "#FF6692",
                    "size": [
                      10,
                      10,
                      10,
                      10,
                      10,
                      10,
                      10,
                      10,
                      10,
                      10
                    ],
                    "sizemode": "area",
                    "sizeref": 0.025,
                    "symbol": "circle"
                  },
                  "mode": "markers",
                  "name": "MY",
                  "showlegend": true,
                  "type": "scattergeo"
                },
                {
                  "geo": "geo",
                  "hovertemplate": "country=AU<br>size=%{marker.size}<br>lat=%{lat}<br>lon=%{lon}<extra></extra>",
                  "lat": [
                    -24.7761086,
                    -24.7761086,
                    -24.7761086,
                    -24.7761086,
                    -24.7761086,
                    -24.7761086,
                    -24.7761086,
                    -24.7761086,
                    -24.7761086,
                    -24.7761086
                  ],
                  "legendgroup": "AU",
                  "lon": [
                    134.755,
                    134.755,
                    134.755,
                    134.755,
                    134.755,
                    134.755,
                    134.755,
                    134.755,
                    134.755,
                    134.755
                  ],
                  "marker": {
                    "color": "#B6E880",
                    "size": [
                      10,
                      10,
                      10,
                      10,
                      10,
                      10,
                      10,
                      10,
                      10,
                      10
                    ],
                    "sizemode": "area",
                    "sizeref": 0.025,
                    "symbol": "circle"
                  },
                  "mode": "markers",
                  "name": "AU",
                  "showlegend": true,
                  "type": "scattergeo"
                },
                {
                  "geo": "geo",
                  "hovertemplate": "country=MR<br>size=%{marker.size}<br>lat=%{lat}<br>lon=%{lon}<extra></extra>",
                  "lat": [
                    20.2540382,
                    20.2540382,
                    20.2540382,
                    20.2540382,
                    20.2540382,
                    20.2540382,
                    20.2540382,
                    20.2540382,
                    20.2540382
                  ],
                  "legendgroup": "MR",
                  "lon": [
                    -9.2399263,
                    -9.2399263,
                    -9.2399263,
                    -9.2399263,
                    -9.2399263,
                    -9.2399263,
                    -9.2399263,
                    -9.2399263,
                    -9.2399263
                  ],
                  "marker": {
                    "color": "#FF97FF",
                    "size": [
                      9,
                      9,
                      9,
                      9,
                      9,
                      9,
                      9,
                      9,
                      9
                    ],
                    "sizemode": "area",
                    "sizeref": 0.025,
                    "symbol": "circle"
                  },
                  "mode": "markers",
                  "name": "MR",
                  "showlegend": true,
                  "type": "scattergeo"
                },
                {
                  "geo": "geo",
                  "hovertemplate": "country=ER<br>size=%{marker.size}<br>lat=%{lat}<br>lon=%{lon}<extra></extra>",
                  "lat": [
                    52.865196,
                    52.865196,
                    52.865196,
                    52.865196,
                    52.865196,
                    52.865196,
                    52.865196,
                    52.865196,
                    52.865196,
                    52.865196
                  ],
                  "legendgroup": "ER",
                  "lon": [
                    -7.9794599,
                    -7.9794599,
                    -7.9794599,
                    -7.9794599,
                    -7.9794599,
                    -7.9794599,
                    -7.9794599,
                    -7.9794599,
                    -7.9794599,
                    -7.9794599
                  ],
                  "marker": {
                    "color": "#FECB52",
                    "size": [
                      10,
                      10,
                      10,
                      10,
                      10,
                      10,
                      10,
                      10,
                      10,
                      10
                    ],
                    "sizemode": "area",
                    "sizeref": 0.025,
                    "symbol": "circle"
                  },
                  "mode": "markers",
                  "name": "ER",
                  "showlegend": true,
                  "type": "scattergeo"
                }
              ],
              "layout": {
                "geo": {
                  "center": {},
                  "domain": {
                    "x": [
                      0,
                      1
                    ],
                    "y": [
                      0,
                      1
                    ]
                  }
                },
                "legend": {
                  "itemsizing": "constant",
                  "title": {
                    "text": "country"
                  },
                  "tracegroupgap": 0
                },
                "margin": {
                  "t": 60
                },
                "template": {
                  "data": {
                    "bar": [
                      {
                        "error_x": {
                          "color": "#2a3f5f"
                        },
                        "error_y": {
                          "color": "#2a3f5f"
                        },
                        "marker": {
                          "line": {
                            "color": "#E5ECF6",
                            "width": 0.5
                          },
                          "pattern": {
                            "fillmode": "overlay",
                            "size": 10,
                            "solidity": 0.2
                          }
                        },
                        "type": "bar"
                      }
                    ],
                    "barpolar": [
                      {
                        "marker": {
                          "line": {
                            "color": "#E5ECF6",
                            "width": 0.5
                          },
                          "pattern": {
                            "fillmode": "overlay",
                            "size": 10,
                            "solidity": 0.2
                          }
                        },
                        "type": "barpolar"
                      }
                    ],
                    "carpet": [
                      {
                        "aaxis": {
                          "endlinecolor": "#2a3f5f",
                          "gridcolor": "white",
                          "linecolor": "white",
                          "minorgridcolor": "white",
                          "startlinecolor": "#2a3f5f"
                        },
                        "baxis": {
                          "endlinecolor": "#2a3f5f",
                          "gridcolor": "white",
                          "linecolor": "white",
                          "minorgridcolor": "white",
                          "startlinecolor": "#2a3f5f"
                        },
                        "type": "carpet"
                      }
                    ],
                    "choropleth": [
                      {
                        "colorbar": {
                          "outlinewidth": 0,
                          "ticks": ""
                        },
                        "type": "choropleth"
                      }
                    ],
                    "contour": [
                      {
                        "colorbar": {
                          "outlinewidth": 0,
                          "ticks": ""
                        },
                        "colorscale": [
                          [
                            0,
                            "#0d0887"
                          ],
                          [
                            0.1111111111111111,
                            "#46039f"
                          ],
                          [
                            0.2222222222222222,
                            "#7201a8"
                          ],
                          [
                            0.3333333333333333,
                            "#9c179e"
                          ],
                          [
                            0.4444444444444444,
                            "#bd3786"
                          ],
                          [
                            0.5555555555555556,
                            "#d8576b"
                          ],
                          [
                            0.6666666666666666,
                            "#ed7953"
                          ],
                          [
                            0.7777777777777778,
                            "#fb9f3a"
                          ],
                          [
                            0.8888888888888888,
                            "#fdca26"
                          ],
                          [
                            1,
                            "#f0f921"
                          ]
                        ],
                        "type": "contour"
                      }
                    ],
                    "contourcarpet": [
                      {
                        "colorbar": {
                          "outlinewidth": 0,
                          "ticks": ""
                        },
                        "type": "contourcarpet"
                      }
                    ],
                    "heatmap": [
                      {
                        "colorbar": {
                          "outlinewidth": 0,
                          "ticks": ""
                        },
                        "colorscale": [
                          [
                            0,
                            "#0d0887"
                          ],
                          [
                            0.1111111111111111,
                            "#46039f"
                          ],
                          [
                            0.2222222222222222,
                            "#7201a8"
                          ],
                          [
                            0.3333333333333333,
                            "#9c179e"
                          ],
                          [
                            0.4444444444444444,
                            "#bd3786"
                          ],
                          [
                            0.5555555555555556,
                            "#d8576b"
                          ],
                          [
                            0.6666666666666666,
                            "#ed7953"
                          ],
                          [
                            0.7777777777777778,
                            "#fb9f3a"
                          ],
                          [
                            0.8888888888888888,
                            "#fdca26"
                          ],
                          [
                            1,
                            "#f0f921"
                          ]
                        ],
                        "type": "heatmap"
                      }
                    ],
                    "heatmapgl": [
                      {
                        "colorbar": {
                          "outlinewidth": 0,
                          "ticks": ""
                        },
                        "colorscale": [
                          [
                            0,
                            "#0d0887"
                          ],
                          [
                            0.1111111111111111,
                            "#46039f"
                          ],
                          [
                            0.2222222222222222,
                            "#7201a8"
                          ],
                          [
                            0.3333333333333333,
                            "#9c179e"
                          ],
                          [
                            0.4444444444444444,
                            "#bd3786"
                          ],
                          [
                            0.5555555555555556,
                            "#d8576b"
                          ],
                          [
                            0.6666666666666666,
                            "#ed7953"
                          ],
                          [
                            0.7777777777777778,
                            "#fb9f3a"
                          ],
                          [
                            0.8888888888888888,
                            "#fdca26"
                          ],
                          [
                            1,
                            "#f0f921"
                          ]
                        ],
                        "type": "heatmapgl"
                      }
                    ],
                    "histogram": [
                      {
                        "marker": {
                          "pattern": {
                            "fillmode": "overlay",
                            "size": 10,
                            "solidity": 0.2
                          }
                        },
                        "type": "histogram"
                      }
                    ],
                    "histogram2d": [
                      {
                        "colorbar": {
                          "outlinewidth": 0,
                          "ticks": ""
                        },
                        "colorscale": [
                          [
                            0,
                            "#0d0887"
                          ],
                          [
                            0.1111111111111111,
                            "#46039f"
                          ],
                          [
                            0.2222222222222222,
                            "#7201a8"
                          ],
                          [
                            0.3333333333333333,
                            "#9c179e"
                          ],
                          [
                            0.4444444444444444,
                            "#bd3786"
                          ],
                          [
                            0.5555555555555556,
                            "#d8576b"
                          ],
                          [
                            0.6666666666666666,
                            "#ed7953"
                          ],
                          [
                            0.7777777777777778,
                            "#fb9f3a"
                          ],
                          [
                            0.8888888888888888,
                            "#fdca26"
                          ],
                          [
                            1,
                            "#f0f921"
                          ]
                        ],
                        "type": "histogram2d"
                      }
                    ],
                    "histogram2dcontour": [
                      {
                        "colorbar": {
                          "outlinewidth": 0,
                          "ticks": ""
                        },
                        "colorscale": [
                          [
                            0,
                            "#0d0887"
                          ],
                          [
                            0.1111111111111111,
                            "#46039f"
                          ],
                          [
                            0.2222222222222222,
                            "#7201a8"
                          ],
                          [
                            0.3333333333333333,
                            "#9c179e"
                          ],
                          [
                            0.4444444444444444,
                            "#bd3786"
                          ],
                          [
                            0.5555555555555556,
                            "#d8576b"
                          ],
                          [
                            0.6666666666666666,
                            "#ed7953"
                          ],
                          [
                            0.7777777777777778,
                            "#fb9f3a"
                          ],
                          [
                            0.8888888888888888,
                            "#fdca26"
                          ],
                          [
                            1,
                            "#f0f921"
                          ]
                        ],
                        "type": "histogram2dcontour"
                      }
                    ],
                    "mesh3d": [
                      {
                        "colorbar": {
                          "outlinewidth": 0,
                          "ticks": ""
                        },
                        "type": "mesh3d"
                      }
                    ],
                    "parcoords": [
                      {
                        "line": {
                          "colorbar": {
                            "outlinewidth": 0,
                            "ticks": ""
                          }
                        },
                        "type": "parcoords"
                      }
                    ],
                    "pie": [
                      {
                        "automargin": true,
                        "type": "pie"
                      }
                    ],
                    "scatter": [
                      {
                        "marker": {
                          "colorbar": {
                            "outlinewidth": 0,
                            "ticks": ""
                          }
                        },
                        "type": "scatter"
                      }
                    ],
                    "scatter3d": [
                      {
                        "line": {
                          "colorbar": {
                            "outlinewidth": 0,
                            "ticks": ""
                          }
                        },
                        "marker": {
                          "colorbar": {
                            "outlinewidth": 0,
                            "ticks": ""
                          }
                        },
                        "type": "scatter3d"
                      }
                    ],
                    "scattercarpet": [
                      {
                        "marker": {
                          "colorbar": {
                            "outlinewidth": 0,
                            "ticks": ""
                          }
                        },
                        "type": "scattercarpet"
                      }
                    ],
                    "scattergeo": [
                      {
                        "marker": {
                          "colorbar": {
                            "outlinewidth": 0,
                            "ticks": ""
                          }
                        },
                        "type": "scattergeo"
                      }
                    ],
                    "scattergl": [
                      {
                        "marker": {
                          "colorbar": {
                            "outlinewidth": 0,
                            "ticks": ""
                          }
                        },
                        "type": "scattergl"
                      }
                    ],
                    "scattermapbox": [
                      {
                        "marker": {
                          "colorbar": {
                            "outlinewidth": 0,
                            "ticks": ""
                          }
                        },
                        "type": "scattermapbox"
                      }
                    ],
                    "scatterpolar": [
                      {
                        "marker": {
                          "colorbar": {
                            "outlinewidth": 0,
                            "ticks": ""
                          }
                        },
                        "type": "scatterpolar"
                      }
                    ],
                    "scatterpolargl": [
                      {
                        "marker": {
                          "colorbar": {
                            "outlinewidth": 0,
                            "ticks": ""
                          }
                        },
                        "type": "scatterpolargl"
                      }
                    ],
                    "scatterternary": [
                      {
                        "marker": {
                          "colorbar": {
                            "outlinewidth": 0,
                            "ticks": ""
                          }
                        },
                        "type": "scatterternary"
                      }
                    ],
                    "surface": [
                      {
                        "colorbar": {
                          "outlinewidth": 0,
                          "ticks": ""
                        },
                        "colorscale": [
                          [
                            0,
                            "#0d0887"
                          ],
                          [
                            0.1111111111111111,
                            "#46039f"
                          ],
                          [
                            0.2222222222222222,
                            "#7201a8"
                          ],
                          [
                            0.3333333333333333,
                            "#9c179e"
                          ],
                          [
                            0.4444444444444444,
                            "#bd3786"
                          ],
                          [
                            0.5555555555555556,
                            "#d8576b"
                          ],
                          [
                            0.6666666666666666,
                            "#ed7953"
                          ],
                          [
                            0.7777777777777778,
                            "#fb9f3a"
                          ],
                          [
                            0.8888888888888888,
                            "#fdca26"
                          ],
                          [
                            1,
                            "#f0f921"
                          ]
                        ],
                        "type": "surface"
                      }
                    ],
                    "table": [
                      {
                        "cells": {
                          "fill": {
                            "color": "#EBF0F8"
                          },
                          "line": {
                            "color": "white"
                          }
                        },
                        "header": {
                          "fill": {
                            "color": "#C8D4E3"
                          },
                          "line": {
                            "color": "white"
                          }
                        },
                        "type": "table"
                      }
                    ]
                  },
                  "layout": {
                    "annotationdefaults": {
                      "arrowcolor": "#2a3f5f",
                      "arrowhead": 0,
                      "arrowwidth": 1
                    },
                    "autotypenumbers": "strict",
                    "coloraxis": {
                      "colorbar": {
                        "outlinewidth": 0,
                        "ticks": ""
                      }
                    },
                    "colorscale": {
                      "diverging": [
                        [
                          0,
                          "#8e0152"
                        ],
                        [
                          0.1,
                          "#c51b7d"
                        ],
                        [
                          0.2,
                          "#de77ae"
                        ],
                        [
                          0.3,
                          "#f1b6da"
                        ],
                        [
                          0.4,
                          "#fde0ef"
                        ],
                        [
                          0.5,
                          "#f7f7f7"
                        ],
                        [
                          0.6,
                          "#e6f5d0"
                        ],
                        [
                          0.7,
                          "#b8e186"
                        ],
                        [
                          0.8,
                          "#7fbc41"
                        ],
                        [
                          0.9,
                          "#4d9221"
                        ],
                        [
                          1,
                          "#276419"
                        ]
                      ],
                      "sequential": [
                        [
                          0,
                          "#0d0887"
                        ],
                        [
                          0.1111111111111111,
                          "#46039f"
                        ],
                        [
                          0.2222222222222222,
                          "#7201a8"
                        ],
                        [
                          0.3333333333333333,
                          "#9c179e"
                        ],
                        [
                          0.4444444444444444,
                          "#bd3786"
                        ],
                        [
                          0.5555555555555556,
                          "#d8576b"
                        ],
                        [
                          0.6666666666666666,
                          "#ed7953"
                        ],
                        [
                          0.7777777777777778,
                          "#fb9f3a"
                        ],
                        [
                          0.8888888888888888,
                          "#fdca26"
                        ],
                        [
                          1,
                          "#f0f921"
                        ]
                      ],
                      "sequentialminus": [
                        [
                          0,
                          "#0d0887"
                        ],
                        [
                          0.1111111111111111,
                          "#46039f"
                        ],
                        [
                          0.2222222222222222,
                          "#7201a8"
                        ],
                        [
                          0.3333333333333333,
                          "#9c179e"
                        ],
                        [
                          0.4444444444444444,
                          "#bd3786"
                        ],
                        [
                          0.5555555555555556,
                          "#d8576b"
                        ],
                        [
                          0.6666666666666666,
                          "#ed7953"
                        ],
                        [
                          0.7777777777777778,
                          "#fb9f3a"
                        ],
                        [
                          0.8888888888888888,
                          "#fdca26"
                        ],
                        [
                          1,
                          "#f0f921"
                        ]
                      ]
                    },
                    "colorway": [
                      "#636efa",
                      "#EF553B",
                      "#00cc96",
                      "#ab63fa",
                      "#FFA15A",
                      "#19d3f3",
                      "#FF6692",
                      "#B6E880",
                      "#FF97FF",
                      "#FECB52"
                    ],
                    "font": {
                      "color": "#2a3f5f"
                    },
                    "geo": {
                      "bgcolor": "white",
                      "lakecolor": "white",
                      "landcolor": "#E5ECF6",
                      "showlakes": true,
                      "showland": true,
                      "subunitcolor": "white"
                    },
                    "hoverlabel": {
                      "align": "left"
                    },
                    "hovermode": "closest",
                    "mapbox": {
                      "style": "light"
                    },
                    "paper_bgcolor": "white",
                    "plot_bgcolor": "#E5ECF6",
                    "polar": {
                      "angularaxis": {
                        "gridcolor": "white",
                        "linecolor": "white",
                        "ticks": ""
                      },
                      "bgcolor": "#E5ECF6",
                      "radialaxis": {
                        "gridcolor": "white",
                        "linecolor": "white",
                        "ticks": ""
                      }
                    },
                    "scene": {
                      "xaxis": {
                        "backgroundcolor": "#E5ECF6",
                        "gridcolor": "white",
                        "gridwidth": 2,
                        "linecolor": "white",
                        "showbackground": true,
                        "ticks": "",
                        "zerolinecolor": "white"
                      },
                      "yaxis": {
                        "backgroundcolor": "#E5ECF6",
                        "gridcolor": "white",
                        "gridwidth": 2,
                        "linecolor": "white",
                        "showbackground": true,
                        "ticks": "",
                        "zerolinecolor": "white"
                      },
                      "zaxis": {
                        "backgroundcolor": "#E5ECF6",
                        "gridcolor": "white",
                        "gridwidth": 2,
                        "linecolor": "white",
                        "showbackground": true,
                        "ticks": "",
                        "zerolinecolor": "white"
                      }
                    },
                    "shapedefaults": {
                      "line": {
                        "color": "#2a3f5f"
                      }
                    },
                    "ternary": {
                      "aaxis": {
                        "gridcolor": "white",
                        "linecolor": "white",
                        "ticks": ""
                      },
                      "baxis": {
                        "gridcolor": "white",
                        "linecolor": "white",
                        "ticks": ""
                      },
                      "bgcolor": "#E5ECF6",
                      "caxis": {
                        "gridcolor": "white",
                        "linecolor": "white",
                        "ticks": ""
                      }
                    },
                    "title": {
                      "x": 0.05
                    },
                    "xaxis": {
                      "automargin": true,
                      "gridcolor": "white",
                      "linecolor": "white",
                      "ticks": "",
                      "title": {
                        "standoff": 15
                      },
                      "zerolinecolor": "white",
                      "zerolinewidth": 2
                    },
                    "yaxis": {
                      "automargin": true,
                      "gridcolor": "white",
                      "linecolor": "white",
                      "ticks": "",
                      "title": {
                        "standoff": 15
                      },
                      "zerolinecolor": "white",
                      "zerolinewidth": 2
                    }
                  }
                },
                "title": {
                  "text": "Map of Countries"
                }
              }
            }
          },
          "metadata": {},
          "output_type": "display_data"
        }
      ],
      "source": [
        "create_world_map()"
      ]
    },
    {
      "attachments": {},
      "cell_type": "markdown",
      "metadata": {
        "id": "nWkjaGLFm75j"
      },
      "source": [
        "## Data schema"
      ]
    },
    {
      "cell_type": "code",
      "execution_count": 46,
      "metadata": {
        "id": "n8btK3XrPvzx"
      },
      "outputs": [],
      "source": [
        "schema_dict = {\n",
        "    \"chat-join-team-chat\" : [\n",
        "        StructField(\"user_id\", IntegerType(), True),\\\n",
        "        StructField(\"teamchat_session_id\", IntegerType(), True),\\\n",
        "        StructField(\"date\", IntegerType(), True)\n",
        "    ],\n",
        "    \"chat-leave-team-chat\" : [\n",
        "        StructField(\"user_id\", IntegerType(), True),\\\n",
        "        StructField(\"teamchat_session_id\", IntegerType(), True),\\\n",
        "        StructField(\"date\", IntegerType(), True)\n",
        "    ],\n",
        "    \"chat-mention-team-chat\" : [\n",
        "        StructField(\"chat_item\", IntegerType(), True),\\\n",
        "        StructField(\"user_id\", IntegerType(), True),\\\n",
        "        StructField(\"date\", IntegerType(), True)\n",
        "    ],\n",
        "    \"chat-respond-team-chat\" : [\n",
        "        StructField(\"chatid1\", IntegerType(), True),\\\n",
        "        StructField(\"chatid2\", IntegerType(), True),\\\n",
        "        StructField(\"date\", IntegerType(), True)\n",
        "    ],\n",
        "    \"ad-clicks\" : [\n",
        "        StructField(\"timestamp\", IntegerType(), True),\\\n",
        "        StructField(\"txId\", IntegerType(), True),\\\n",
        "        StructField(\"userSessionId\", IntegerType(), True),\\\n",
        "        StructField(\"teamId\", IntegerType(), True),\\\n",
        "        StructField(\"userId\", IntegerType(), True),\\\n",
        "        StructField(\"adId\", IntegerType(), True),\\\n",
        "        StructField(\"adCategory\", StringType(), True)\n",
        "    ],\n",
        "    \"buy-clicks\" : [\n",
        "        StructField(\"timestamp\", IntegerType(), True),\\\n",
        "        StructField(\"txId\", IntegerType(), True),\\\n",
        "        StructField(\"userSessionId\", IntegerType(), True),\\\n",
        "        StructField(\"team\", IntegerType(), True),\\\n",
        "        StructField(\"userId\", IntegerType(), True),\\\n",
        "        StructField(\"buyId\", IntegerType(), True),\\\n",
        "        StructField(\"price\", DoubleType(), True)\n",
        "    ],\n",
        "    \"game-clicks\" : [\n",
        "        StructField(\"timestamp\", IntegerType(), True),\\\n",
        "        StructField(\"clickId\", IntegerType(), True),\\\n",
        "        StructField(\"userId\", IntegerType(), True),\\\n",
        "        StructField(\"userSessionId\", IntegerType(), True),\\\n",
        "        StructField(\"isHit\", StringType(), True),\\\n",
        "        StructField(\"teamId\", IntegerType(), True),\\\n",
        "        StructField(\"teamLevel\", IntegerType(), True)\n",
        "    ],\n",
        "    \"level-events\" : [\n",
        "        StructField(\"timestamp\", IntegerType(), True),\\\n",
        "        StructField(\"eventId\", IntegerType(), True),\\\n",
        "        StructField(\"teamId\", IntegerType(), True),\\\n",
        "        StructField(\"teamLevel\", IntegerType(), True),\\\n",
        "        StructField(\"eventType\", StringType(), True)\n",
        "    ],\n",
        "    \"team-assignments\" : [\n",
        "        StructField(\"timestamp\", IntegerType(), True),\\\n",
        "        StructField(\"team\", IntegerType(), True),\\\n",
        "        StructField(\"userId\", IntegerType(), True),\\\n",
        "        StructField(\"assignmentId\", IntegerType(), True)\n",
        "    ],\n",
        "    \"team\" : [\n",
        "        StructField(\"teamId\", IntegerType(), True),\\\n",
        "        StructField(\"name\", StringType(), True),\\\n",
        "        StructField(\"teamCreationTime\", IntegerType(), True),\\\n",
        "        StructField(\"teamEndTime\", IntegerType(), True),\\\n",
        "        StructField(\"strength\", FloatType(), True),\\\n",
        "        StructField(\"currentLevel\", IntegerType(), True)\n",
        "    ],\n",
        "    \"user-session\" : [\n",
        "        StructField(\"timestamp\", IntegerType(), True),\\\n",
        "        StructField(\"userSessionId\", IntegerType(), True),\\\n",
        "        StructField(\"userId\", IntegerType(), True),\\\n",
        "        StructField(\"teamId\", IntegerType(), True),\\\n",
        "        StructField(\"assignmentId\", IntegerType(), True),\\\n",
        "        StructField(\"sessionType\", StringType(), True),\\\n",
        "        StructField(\"teamLevel\", IntegerType(), True),\\\n",
        "        StructField(\"platformType\", StringType(), True)\n",
        "    ],\n",
        "    \"users\" : [\n",
        "        StructField(\"timestamp\", IntegerType(), True),\\\n",
        "        StructField(\"userId\", IntegerType(), True),\\\n",
        "        StructField(\"nick\", StringType(), True),\\\n",
        "        StructField(\"twitter\", StringType(), True),\\\n",
        "        StructField(\"dob\", IntegerType(), True),\\\n",
        "        StructField(\"country\", StringType(), True)\n",
        "    ],\n",
        "    \"combined-data\" : [\n",
        "        StructField(\"userId\", IntegerType(), True),\\\n",
        "        StructField(\"userSessionId\", IntegerType(), True),\\\n",
        "        StructField(\"teamLevel\", IntegerType(), True),\\\n",
        "        StructField(\"platformType\", StringType(), True),\\\n",
        "        StructField(\"count_gameclicks\", IntegerType(), True),\\\n",
        "        StructField(\"count_hits\", IntegerType(), True),\\\n",
        "        StructField(\"count_buyId\", StringType(), True),\\\n",
        "        StructField(\"avg_price\", StringType(), True)\n",
        "    ]\n",
        "}"
      ]
    },
    {
      "attachments": {},
      "cell_type": "markdown",
      "metadata": {
        "id": "kvQpbpR_nASC"
      },
      "source": [
        "## Load data"
      ]
    },
    {
      "cell_type": "code",
      "execution_count": 47,
      "metadata": {
        "id": "Dkae_sEpJsDW"
      },
      "outputs": [],
      "source": [
        "data_chat_join_team_chat = spark.createDataFrame(\n",
        "                              data_loaded[\"chat_join_team_chat_pd\"], \n",
        "                              schema=StructType(schema_dict[\"chat-join-team-chat\"])\n",
        "                              )\n",
        "\n",
        "data_chat_leave_team_chat = spark.createDataFrame(\n",
        "                              data_loaded[\"chat_leave_team_chat_pd\"], \n",
        "                              schema=StructType(schema_dict[\"chat-leave-team-chat\"])\n",
        "                              )\n",
        "\n",
        "data_chat_mention_team_chat = spark.createDataFrame(\n",
        "                              data_loaded[\"chat_mention_team_chat_pd\"], \n",
        "                              schema=StructType(schema_dict[\"chat-mention-team-chat\"])\n",
        "                              )\n",
        "\n",
        "data_chat_respond_team_chat = spark.createDataFrame(\n",
        "                              data_loaded[\"chat_respond_team_chat_pd\"], \n",
        "                              schema=StructType(schema_dict[\"chat-respond-team-chat\"])\n",
        "                              )\n",
        "\n",
        "data_ad_clicks = spark.createDataFrame(\n",
        "                              data_loaded[\"ad_clicks_pd\"], \n",
        "                              schema=StructType(schema_dict[\"ad-clicks\"])\n",
        "                              )\n",
        "\n",
        "data_buy_clicks = spark.createDataFrame(\n",
        "                              data_loaded[\"buy_clicks_pd\"], \n",
        "                              schema=StructType(schema_dict[\"buy-clicks\"])\n",
        "                              )\n",
        "\n",
        "data_game_clicks = spark.createDataFrame(\n",
        "                              data_loaded[\"game_clicks_pd\"], \n",
        "                              schema=StructType(schema_dict[\"game-clicks\"])\n",
        "                              )\n",
        "\n",
        "data_level_events = spark.createDataFrame(\n",
        "                              data_loaded[\"level_events_pd\"], \n",
        "                              schema=StructType(schema_dict[\"level-events\"])\n",
        "                              )\n",
        "\n",
        "data_team_assignments = spark.createDataFrame(\n",
        "                              data_loaded[\"team_assignments_pd\"], \n",
        "                              schema=StructType(schema_dict[\"team-assignments\"])\n",
        "                              )\n",
        "\n",
        "data_team = spark.createDataFrame(\n",
        "                              data_loaded[\"team_pd\"],\n",
        "                              schema=StructType(schema_dict[\"team\"])\n",
        "                              )\n",
        "                \n",
        "data_user_session = spark.createDataFrame(\n",
        "                              data_loaded[\"user_session_pd\"], \n",
        "                              schema=StructType(schema_dict[\"user-session\"])\n",
        "                              )\n",
        "\n",
        "data_users = spark.createDataFrame(\n",
        "                              data_loaded[\"users_pd\"], \n",
        "                              schema=StructType(schema_dict[\"users\"])\n",
        "                              )\n",
        "\n",
        "data_combined_data = spark.createDataFrame(\n",
        "                              data_loaded[\"combined_data_pd\"], \n",
        "                              schema=StructType(schema_dict[\"combined-data\"])\n",
        "                              )\n"
      ]
    },
    {
      "attachments": {},
      "cell_type": "markdown",
      "metadata": {
        "id": "HIHR6bkZllRw"
      },
      "source": [
        "# Data transformation"
      ]
    },
    {
      "cell_type": "code",
      "execution_count": 48,
      "metadata": {
        "id": "4mROtV_GllsG"
      },
      "outputs": [],
      "source": [
        "def replace_value(df, column, to_replace, replace_with):\n",
        "  return df.withColumn(column, regexp_replace(col(column), to_replace, replace_with))\n",
        "\n",
        "def change_datatype(df, column, data_type):\n",
        "  return df.withColumn(column, col(column).cast(data_type))"
      ]
    },
    {
      "cell_type": "code",
      "execution_count": 49,
      "metadata": {
        "id": "WlrWXgWplxkg"
      },
      "outputs": [],
      "source": [
        "data_combined_data = replace_value(data_combined_data, \"count_buyId\", \"NaN\", \"null\")\n",
        "data_combined_data = change_datatype(data_combined_data, \"count_buyId\", \"double\")\n",
        "\n",
        "data_combined_data = replace_value(data_combined_data, \"avg_price\", \"NaN\", \"null\")\n",
        "data_combined_data = change_datatype(data_combined_data, \"avg_price\", \"double\")\n",
        "\n",
        "data_game_clicks = replace_value(data_game_clicks, \"isHit\", \"0\", \"False\")\n",
        "data_game_clicks = replace_value(data_game_clicks, \"isHit\", \"1\", \"True\")\n",
        "data_game_clicks = change_datatype(data_game_clicks, \"isHit\", \"boolean\")"
      ]
    },
    {
      "attachments": {},
      "cell_type": "markdown",
      "metadata": {},
      "source": [
        "# Join dataframes"
      ]
    },
    {
      "attachments": {},
      "cell_type": "markdown",
      "metadata": {},
      "source": [
        "## Mega frame"
      ]
    },
    {
      "cell_type": "code",
      "execution_count": 50,
      "metadata": {},
      "outputs": [],
      "source": [
        "from pyspark.sql import functions as F\n",
        "mega_dataframe = data_users.select(\"userId\",\"nick\",\"twitter\", from_unixtime(\"dob\", \"yyyy-MM-dd\").alias(\"dob\"),\"country\")\\\n",
        "                .join(data_user_session.select(\"userId\",\"teamId\",\"platformType\"), [\"userId\"], 'right')\\\n",
        "                .join(data_team.select(\"teamId\",\"name\",\"strength\"), [\"teamId\"], 'left')\\\n",
        "                .join(data_ad_clicks.select(\"userId\",\"adId\",\"adCategory\"), [\"userId\"], 'full')\\\n",
        "                .dropDuplicates()\\\n",
        "                .fillna({\n",
        "                         \"strength\":0\n",
        "                         })\n",
        "mega_dataframe = mega_dataframe.select( *[ F.when(F.col(column).isNull(),'').otherwise(F.col(column)).alias(column) for column in mega_dataframe.columns])                    \n",
        "#mega_dataframe.show()"
      ]
    },
    {
      "attachments": {},
      "cell_type": "markdown",
      "metadata": {},
      "source": [
        "## Ads frame"
      ]
    },
    {
      "cell_type": "code",
      "execution_count": 51,
      "metadata": {},
      "outputs": [],
      "source": [
        "ad_dataframe = data_ad_clicks.select(\"teamId\",\"userId\",\"adId\",\"adCategory\")\\\n",
        "                .join(data_buy_clicks.select(\"team\",\"userId\",\"price\"), [\"userId\"], 'full')\\\n",
        "                .join(data_users.select(\"userId\",\"country\"), [\"userId\"], 'full')\\\n",
        "                .dropDuplicates()\\\n",
        "                .fillna({\n",
        "                         \"teamId\":0,\n",
        "                         \"adId\":999,\n",
        "                         \"team\":999,\n",
        "                         \"price\":0\n",
        "                         })\n",
        "ad_dataframe = ad_dataframe.select( *[ F.when(F.col(column).isNull(),'').otherwise(F.col(column)).alias(column) for column in ad_dataframe.columns])                \n",
        "#ad_dataframe.show()"
      ]
    },
    {
      "attachments": {},
      "cell_type": "markdown",
      "metadata": {},
      "source": [
        "## Double check nulls in columns"
      ]
    },
    {
      "cell_type": "code",
      "execution_count": 52,
      "metadata": {},
      "outputs": [
        {
          "name": "stderr",
          "output_type": "stream",
          "text": [
            "/Users/zanzver/opt/anaconda3/lib/python3.8/site-packages/pyspark/sql/context.py:112: FutureWarning:\n",
            "\n",
            "Deprecated in 3.0.0. Use SparkSession.builder.getOrCreate() instead.\n",
            "\n"
          ]
        }
      ],
      "source": [
        "sc = SparkContext.getOrCreate()\n",
        "sql = SQLContext(sc)\n",
        "\n",
        "def calc_null_percent(spark_df,sort=True):\n",
        "    pd_col_count = spark_df.select([F.count(F.col(c)).alias(c) \n",
        "                                        for (c,c_type) in spark_df.dtypes]\n",
        "                                  ).toPandas().T.reset_index().rename(columns={0: 'total_count'\n",
        "                                                                               ,'index':'column'})\n",
        "    \n",
        "    pd_col_null_count = spark_df.select([F.sum(F.when(F.isnan(c) | F.isnull(c),1).otherwise(0)).alias(c)\n",
        "                                         for (c,c_type) in spark_df.dtypes]\n",
        "                                       ).toPandas().T.reset_index().rename(columns={0: 'null_count'\n",
        "                                                                                    ,'index':'column'})\n",
        "    \n",
        "    final_df = pd.merge(pd_col_count,pd_col_null_count,on=['column'])\n",
        "    \n",
        "    final_df['null_percentage'] = final_df['null_count'] * 100 / final_df['total_count']\n",
        "\n",
        "    if len(final_df) == 0:\n",
        "        print(\"There are no any missing values!\")\n",
        "        return None\n",
        "\n",
        "    return final_df"
      ]
    },
    {
      "cell_type": "code",
      "execution_count": null,
      "metadata": {},
      "outputs": [],
      "source": [
        "nullStatsDF = sql.createDataFrame(calc_null_percent(mega_dataframe))\n",
        "\n",
        "nullStatsDF.show()\n",
        "\n",
        "nullStatsDF = sql.createDataFrame(calc_null_percent(ad_dataframe))\n",
        "\n",
        "nullStatsDF.show()"
      ]
    },
    {
      "attachments": {},
      "cell_type": "markdown",
      "metadata": {},
      "source": [
        "# Insert data into Neo4j"
      ]
    },
    {
      "attachments": {},
      "cell_type": "markdown",
      "metadata": {},
      "source": [
        "## Functions"
      ]
    },
    {
      "cell_type": "code",
      "execution_count": null,
      "metadata": {},
      "outputs": [],
      "source": [
        "def get_creds(port_end):\n",
        "    return f\"bolt://localhost:768{port_end}\", \"neo4j\", \"password\"\n",
        "\n",
        "def create_user_sessions(data_chat_join_team_chat, data_chat_leave_team_chat, data_chat_mention_team_chat, data_chat_respond_team_chat):\n",
        "    # Connect to Neo4j instance\n",
        "    uri, user, password = get_creds(0)\n",
        "    driver = GraphDatabase.driver(uri, auth=(user, password))\n",
        "\n",
        "    # Define Cypher queries\n",
        "    create_user_query = \"CREATE (:User {id: $user_id})\"\n",
        "    create_teamchat_session_query = \"CREATE (:TeamchatSession {id: $teamchat_session_id, date: $date})\"\n",
        "    create_chat_item_query = \"CREATE (:ChatItem {id: $chat_item})\"\n",
        "    create_chat_relation_query = \"MATCH (c1), (c2) WHERE c1.id = $chatid1 AND c2.id = $chatid2 CREATE (c1)-[:RESPONDS_TO]->(c2)\"\n",
        "    create_mention_relation_query = \"MATCH (u), (c) WHERE u.id = $user_id AND c.id = $chat_item CREATE (u)-[:MENTIONS]->(c)\"\n",
        "    create_join_relation_query = \"MATCH (u), (t) WHERE u.id = $user_id AND t.id = $teamchat_session_id CREATE (u)-[:JOINS]->(t)\"\n",
        "    create_leave_relation_query = \"MATCH (u), (t) WHERE u.id = $user_id AND t.id = $teamchat_session_id CREATE (u)-[:LEAVES]->(t)\"\n",
        "\n",
        "    # Define list of queries and parameters to execute\n",
        "    queries = [\n",
        "        (create_user_query, data_chat_join_team_chat.select(\"user_id\").distinct()),\n",
        "        (create_teamchat_session_query, data_chat_join_team_chat.select(\"teamchat_session_id\", \"date\").distinct()),\n",
        "        (create_chat_item_query, data_chat_mention_team_chat.select(\"chat_item\").distinct()),\n",
        "        (create_chat_relation_query, data_chat_respond_team_chat.select(\"chatid1\", \"chatid2\")),\n",
        "        (create_mention_relation_query, data_chat_mention_team_chat.select(\"user_id\", \"chat_item\")),\n",
        "        (create_join_relation_query, data_chat_join_team_chat.select(\"user_id\", \"teamchat_session_id\")),\n",
        "        (create_leave_relation_query, data_chat_leave_team_chat.select(\"user_id\", \"teamchat_session_id\"))\n",
        "    ]\n",
        "\n",
        "    # Execute queries\n",
        "    with driver.session() as session:\n",
        "        for query, data in queries:\n",
        "            for row in data.collect():\n",
        "                session.run(query, **row.asDict())\n",
        "                \n",
        "def create_msg_between_users(data_chat_join_team_chat, data_chat_leave_team_chat, data_chat_mention_team_chat, data_chat_respond_team_chat):\n",
        "    # Connect to Neo4j instance\n",
        "    uri, user, password = get_creds(1)\n",
        "    driver = GraphDatabase.driver(uri, auth=(user, password))\n",
        "\n",
        "    # Define Cypher queries\n",
        "    create_user_query = \"MERGE (:User {id: $user_id})\"\n",
        "    create_teamchat_session_query = \"MERGE (:TeamchatSession {id: $teamchat_session_id, date: $date})\"\n",
        "    create_chat_item_query = \"MERGE (:ChatItem {id: $chat_item})\"\n",
        "    create_chat_relation_query = \"\"\"\n",
        "        MATCH (c1), (c2) \n",
        "        WHERE c1.id = $chatid1 AND c2.id = $chatid2 \n",
        "        AND c1.user_id <> c2.user_id \n",
        "        CREATE (c1)-[:RESPONDS_TO]->(c2)\n",
        "    \"\"\"\n",
        "    create_mention_relation_query = \"MATCH (u), (c) WHERE u.id = $user_id AND c.id = $chat_item CREATE (u)-[:MENTIONS]->(c)\"\n",
        "    create_join_relation_query = \"MATCH (u), (t) WHERE u.id = $user_id AND t.id = $teamchat_session_id CREATE (u)-[:JOINS]->(t)\"\n",
        "    create_leave_relation_query = \"MATCH (u), (t) WHERE u.id = $user_id AND t.id = $teamchat_session_id CREATE (u)-[:LEAVES]->(t)\"\n",
        "    create_send_relation_query = \"MATCH (u), (c), (t) WHERE u.id = $user_id AND c.id = $chat_item AND t.id = $teamchat_session_id CREATE (u)-[:SENDS]->(c)-[:IN]->(t)\"\n",
        "\n",
        "    # Define list of queries and parameters to execute\n",
        "    queries = [\n",
        "        (create_user_query, data_chat_join_team_chat.select(\"user_id\").distinct()),\n",
        "        (create_teamchat_session_query, data_chat_join_team_chat.select(\"teamchat_session_id\", \"date\").distinct()),\n",
        "        (create_chat_item_query, data_chat_mention_team_chat.select(\"chat_item\").distinct()),\n",
        "        (create_chat_relation_query, data_chat_respond_team_chat.select(\"chatid1\", \"chatid2\")),\n",
        "        (create_mention_relation_query, data_chat_mention_team_chat.select(\"user_id\", \"chat_item\")),\n",
        "        (create_join_relation_query, data_chat_join_team_chat.select(\"user_id\", \"teamchat_session_id\")),\n",
        "        (create_leave_relation_query, data_chat_leave_team_chat.select(\"user_id\", \"teamchat_session_id\")),\n",
        "        (create_send_relation_query, data_chat_mention_team_chat.join(data_chat_join_team_chat, [\"user_id\"]).join(data_chat_leave_team_chat, [\"user_id\", \"teamchat_session_id\"]).select(\"user_id\", \"chat_item\", \"teamchat_session_id\"))\n",
        "    ]\n",
        "\n",
        "    # Execute queries\n",
        "    with driver.session() as session:\n",
        "        for query, data in queries:\n",
        "            for row in data.collect():\n",
        "                session.run(query, **row.asDict())\n",
        "\n",
        "def create_mega_graph(mega_dataframe):\n",
        "    # Connect to Neo4j instance\n",
        "    uri, user, password = get_creds(2)\n",
        "    driver = GraphDatabase.driver(uri, auth=(user, password))\n",
        "\n",
        "    # Define Cypher queries\n",
        "    create_user_query = \"MERGE (:User {id: $userId})\"\n",
        "    create_country_query = \"MERGE (:Country {name: $country})\"\n",
        "    create_team_query = \"MERGE (:Team {id: $teamId, name: $name})\"\n",
        "    create_platform_query = \"MERGE (:PlatformType {name: $platformType})\"\n",
        "    create_ad_query = \"MERGE (:Ad {id: $adId})\"\n",
        "    create_category_query = \"MERGE (:AdCategory {name: $adCategory})\"\n",
        "    create_country_user_rel_query = \"MATCH (u:User), (c:Country) WHERE u.id = $userId AND c.name = $country CREATE (u)-[:BELONGS_TO_COUNTRY]->(c)\"\n",
        "    create_team_user_rel_query = \"MATCH (u:User), (t:Team) WHERE u.id = $userId AND t.id = $teamId CREATE (u)-[:MEMBER_OF_TEAM {strength: $strength}]->(t)\"\n",
        "    create_platform_user_rel_query = \"MATCH (u:User), (p:PlatformType) WHERE u.id = $userId AND p.name = $platformType CREATE (u)-[:USES_PLATFORM]->(p)\"\n",
        "    create_ad_user_rel_query = \"MATCH (u:User), (a:Ad) WHERE u.id = $userId AND a.id = $adId CREATE (u)-[:VIEWED_AD]->(a)\"\n",
        "    create_category_ad_rel_query = \"MATCH (a:Ad), (c:AdCategory) WHERE a.id = $adId AND c.name = $adCategory CREATE (a)-[:BELONGS_TO_CATEGORY]->(c)\"\n",
        "\n",
        "    # Define list of queries and parameters to execute\n",
        "    queries = [\n",
        "        (create_user_query, mega_dataframe.select(\"userId\").distinct()),\n",
        "        (create_country_query, mega_dataframe.select(\"country\").distinct()),\n",
        "        (create_team_query, mega_dataframe.select(\"teamId\", \"name\").distinct()),\n",
        "        (create_platform_query, mega_dataframe.select(\"platformType\").distinct()),\n",
        "        (create_ad_query, mega_dataframe.select(\"adId\").distinct()),\n",
        "        (create_category_query, mega_dataframe.select(\"adCategory\").distinct()),\n",
        "        (create_country_user_rel_query, mega_dataframe.select(\"userId\", \"country\")),\n",
        "        (create_team_user_rel_query, mega_dataframe.select(\"userId\", \"teamId\", \"strength\", \"name\")),\n",
        "        (create_platform_user_rel_query, mega_dataframe.select(\"userId\", \"platformType\")),\n",
        "        (create_ad_user_rel_query, mega_dataframe.select(\"userId\", \"adId\")),\n",
        "        (create_category_ad_rel_query, mega_dataframe.select(\"adId\", \"adCategory\"))\n",
        "    ]\n",
        "\n",
        "    # Execute queries\n",
        "    with driver.session() as session:\n",
        "        for query, data in queries:\n",
        "            for row in data.collect():\n",
        "                session.run(query, **row.asDict())\n",
        "\n",
        "def create_ad_graph(ad_dataframe):\n",
        "    # Connect to Neo4j instance\n",
        "    uri, user, password = get_creds(3)\n",
        "    driver = GraphDatabase.driver(uri, auth=(user, password))\n",
        "\n",
        "    # Define Cypher queries\n",
        "    create_user_query = \"MERGE (:User {id: $userId})\"\n",
        "    create_country_query = \"MERGE (:Country {name: $country})\"\n",
        "    create_team_query = \"MERGE (:Team {id: $teamId, name: $team, price: $price})\"\n",
        "    create_ad_query = \"MERGE (:Ad {id: $adId, category: $adCategory})\"\n",
        "    create_user_country_relation_query = \"MATCH (u:User), (c:Country) WHERE u.id = $userId AND c.name = $country CREATE (u)-[:LIVES_IN]->(c)\"\n",
        "    create_user_team_relation_query = \"MATCH (u:User), (t:Team) WHERE u.id = $userId AND t.id = $teamId CREATE (u)-[:SUPPORTS]->(t)\"\n",
        "    create_team_ad_relation_query = \"MATCH (t:Team), (a:Ad) WHERE t.id = $teamId AND a.id = $adId CREATE (t)-[:SHOWS]->(a)\"\n",
        "\n",
        "    # Define list of queries and parameters to execute\n",
        "    queries = [\n",
        "        (create_user_query, ad_dataframe.select(\"userId\").distinct()),\n",
        "        (create_country_query, ad_dataframe.select(\"country\").distinct()),\n",
        "        (create_team_query, ad_dataframe.select(\"teamId\", \"team\", \"price\").distinct()),\n",
        "        (create_ad_query, ad_dataframe.select(\"adId\", \"adCategory\").distinct()),\n",
        "        (create_user_country_relation_query, ad_dataframe.select(\"userId\", \"country\")),\n",
        "        (create_user_team_relation_query, ad_dataframe.select(\"userId\", \"teamId\")),\n",
        "        (create_team_ad_relation_query, ad_dataframe.select(\"teamId\", \"adId\"))\n",
        "    ]\n",
        "\n",
        "    # Execute queries\n",
        "    with driver.session() as session:\n",
        "        for query, data in queries:\n",
        "            for row in data.collect():\n",
        "                session.run(query, **row.asDict())"
      ]
    },
    {
      "attachments": {},
      "cell_type": "markdown",
      "metadata": {},
      "source": [
        "## Create graphs"
      ]
    },
    {
      "attachments": {},
      "cell_type": "markdown",
      "metadata": {},
      "source": [
        "### User sessions"
      ]
    },
    {
      "cell_type": "code",
      "execution_count": null,
      "metadata": {},
      "outputs": [],
      "source": [
        "create_user_sessions(data_chat_join_team_chat.limit(500), \n",
        "                     data_chat_leave_team_chat.limit(500), \n",
        "                     data_chat_mention_team_chat.limit(500), \n",
        "                     data_chat_respond_team_chat.limit(500))"
      ]
    },
    {
      "attachments": {},
      "cell_type": "markdown",
      "metadata": {},
      "source": [
        "### Messages between users"
      ]
    },
    {
      "cell_type": "code",
      "execution_count": null,
      "metadata": {},
      "outputs": [],
      "source": [
        "create_msg_between_users(data_chat_join_team_chat.limit(500), \n",
        "                         data_chat_leave_team_chat.limit(500), \n",
        "                         data_chat_mention_team_chat.limit(500), \n",
        "                         data_chat_respond_team_chat.limit(500))"
      ]
    },
    {
      "attachments": {},
      "cell_type": "markdown",
      "metadata": {},
      "source": [
        "### Mega dataframe graph"
      ]
    },
    {
      "cell_type": "code",
      "execution_count": null,
      "metadata": {},
      "outputs": [],
      "source": [
        "create_mega_graph(mega_dataframe.limit(1000))"
      ]
    },
    {
      "attachments": {},
      "cell_type": "markdown",
      "metadata": {},
      "source": [
        "### Ad graph"
      ]
    },
    {
      "cell_type": "code",
      "execution_count": null,
      "metadata": {},
      "outputs": [],
      "source": [
        "create_ad_graph(ad_dataframe.limit(1000))"
      ]
    },
    {
      "attachments": {},
      "cell_type": "markdown",
      "metadata": {},
      "source": [
        "# ML"
      ]
    },
    {
      "attachments": {},
      "cell_type": "markdown",
      "metadata": {},
      "source": []
    },
    {
      "attachments": {},
      "cell_type": "markdown",
      "metadata": {},
      "source": [
        "## Classification"
      ]
    },
    {
      "cell_type": "code",
      "execution_count": 53,
      "metadata": {},
      "outputs": [],
      "source": [
        "from pyspark.sql import SparkSession\n",
        "from pyspark.ml.feature import StringIndexer, VectorAssembler\n",
        "from pyspark.ml.classification import DecisionTreeClassifier, LinearSVC\n",
        "from pyspark.ml.evaluation import MulticlassClassificationEvaluator\n",
        "from pyspark.mllib.evaluation import MulticlassMetrics\n",
        "from pyspark.ml.tuning import ParamGridBuilder, CrossValidator\n",
        "from pyspark.ml.classification import LinearSVC, OneVsRest\n",
        "from pyspark.ml.feature import StringIndexer, VectorAssembler\n",
        "from pyspark.ml.classification import LinearSVC, OneVsRest\n",
        "from pyspark.ml.evaluation import MulticlassClassificationEvaluator\n",
        "from pyspark.ml.tuning import ParamGridBuilder, CrossValidator\n",
        "import pandas as pd\n",
        "from pyspark.ml.feature import StringIndexer, VectorAssembler\n",
        "from pyspark.ml.classification import LinearSVC, OneVsRest\n",
        "from pyspark.ml.evaluation import MulticlassClassificationEvaluator\n",
        "from pyspark.ml.tuning import ParamGridBuilder, CrossValidator\n",
        "import pandas as pd\n",
        "\n",
        "import matplotlib.pyplot as plt\n",
        "import numpy as np\n",
        "import pandas as pd\n",
        "\n",
        "\n",
        "def split_data(df):\n",
        "    indexer = StringIndexer(inputCol=\"platformType\", outputCol=\"label\")\n",
        "    df = indexer.fit(df).transform(df)\n",
        "\n",
        "    split_ratio = [0.8, 0.2]\n",
        "    seed = 42\n",
        "    train_data, test_data = df.randomSplit(split_ratio, seed=seed)\n",
        "\n",
        "    x_train = train_data.select(\"platformType\").toPandas()\n",
        "    y_train = train_data.select(\"label\").toPandas()\n",
        "\n",
        "    x_test = test_data.select(\"platformType\").toPandas()\n",
        "    y_test = test_data.select(\"label\").toPandas()\n",
        "\n",
        "    return x_train, x_test, y_train, y_test\n",
        "\n",
        "def build_decision_tree_model(x_train, y_train):\n",
        "    train_data = spark.createDataFrame(pd.concat([x_train, y_train], axis=1))\n",
        "\n",
        "    platform_indexer = StringIndexer(inputCol=\"platformType\", outputCol=\"platformIndex\")\n",
        "    train_data = platform_indexer.fit(train_data).transform(train_data)\n",
        "\n",
        "    assembler = VectorAssembler(inputCols=[\"platformIndex\"], outputCol=\"features\")\n",
        "    train_data = assembler.transform(train_data)\n",
        "\n",
        "    dt = DecisionTreeClassifier(featuresCol=\"features\", labelCol=\"label\")\n",
        "\n",
        "    # Create a parameter grid for hyperparameter tuning\n",
        "    paramGrid = ParamGridBuilder() \\\n",
        "        .addGrid(dt.maxDepth, [2, 4, 6]) \\\n",
        "        .addGrid(dt.minInstancesPerNode, [1, 2, 4]) \\\n",
        "        .build()\n",
        "\n",
        "    # Create cross-validator\n",
        "    evaluator = MulticlassClassificationEvaluator(labelCol=\"label\", predictionCol=\"prediction\", metricName=\"accuracy\")\n",
        "    crossval = CrossValidator(estimator=dt, estimatorParamMaps=paramGrid, evaluator=evaluator, numFolds=5)\n",
        "\n",
        "    # Fit the model with cross-validation\n",
        "    cvModel = crossval.fit(train_data)\n",
        "\n",
        "    return cvModel.bestModel\n",
        "\n",
        "def build_svm_model(x_train, y_train):\n",
        "    train_data = spark.createDataFrame(pd.concat([x_train, y_train], axis=1))\n",
        "\n",
        "    platform_indexer = StringIndexer(inputCol=\"platformType\", outputCol=\"indexedLabel\")\n",
        "    train_data = platform_indexer.fit(train_data).transform(train_data)\n",
        "\n",
        "    assembler = VectorAssembler(inputCols=[\"indexedLabel\"], outputCol=\"features\")\n",
        "    train_data = assembler.transform(train_data)\n",
        "\n",
        "    svm = LinearSVC(featuresCol=\"features\", labelCol=\"indexedLabel\")\n",
        "\n",
        "    # Create a parameter grid for hyperparameter tuning\n",
        "    paramGrid = ParamGridBuilder() \\\n",
        "        .addGrid(svm.maxIter, [10, 100]) \\\n",
        "        .addGrid(svm.regParam, [0.1, 0.01]) \\\n",
        "        .build()\n",
        "\n",
        "    # Create OneVsRest classifier\n",
        "    ovr = OneVsRest(classifier=svm)\n",
        "\n",
        "    # Create cross-validator\n",
        "    evaluator = MulticlassClassificationEvaluator(labelCol=\"indexedLabel\", predictionCol=\"prediction\", metricName=\"accuracy\")\n",
        "    crossval = CrossValidator(estimator=ovr, estimatorParamMaps=paramGrid, evaluator=evaluator, numFolds=5)\n",
        "\n",
        "    # Fit the model with cross-validation\n",
        "    cvModel = crossval.fit(train_data)\n",
        "\n",
        "    return cvModel.bestModel\n",
        "\n",
        "def evaluate_model(model, x_test, y_test, file_Path):\n",
        "    test_data = spark.createDataFrame(pd.concat([x_test, y_test], axis=1))\n",
        "\n",
        "    platform_indexer = StringIndexer(inputCol=\"platformType\", outputCol=\"platformIndex\")\n",
        "    test_data = platform_indexer.fit(test_data).transform(test_data)\n",
        "\n",
        "    assembler = VectorAssembler(inputCols=[\"platformIndex\"], outputCol=\"features\")\n",
        "    test_data = assembler.transform(test_data)\n",
        "\n",
        "    predictions = model.transform(test_data)\n",
        "\n",
        "    evaluator = MulticlassClassificationEvaluator(labelCol=\"label\", predictionCol=\"prediction\")\n",
        "\n",
        "    # Calculate metrics for each class\n",
        "    class_labels = test_data.select(\"label\").distinct().rdd.flatMap(lambda x: x).collect()\n",
        "    metrics = {}\n",
        "\n",
        "    for label in class_labels:\n",
        "        evaluator.setMetricName(\"accuracy\")\n",
        "        evaluator.setMetricLabel(label)\n",
        "        accuracy = evaluator.evaluate(predictions)\n",
        "\n",
        "        evaluator.setMetricName(\"weightedPrecision\")\n",
        "        evaluator.setMetricLabel(label)\n",
        "        precision = evaluator.evaluate(predictions)\n",
        "\n",
        "        evaluator.setMetricName(\"weightedRecall\")\n",
        "        evaluator.setMetricLabel(label)\n",
        "        recall = evaluator.evaluate(predictions)\n",
        "\n",
        "        evaluator.setMetricName(\"weightedFMeasure\")\n",
        "        evaluator.setMetricLabel(label)\n",
        "        f1_score = evaluator.evaluate(predictions)\n",
        "\n",
        "        metrics[label] = {\"accuracy\": accuracy, \"precision\": precision, \"recall\": recall, \"f1-score\": f1_score}\n",
        "\n",
        "    predictionAndLabels = predictions.select(\"prediction\", \"label\").rdd\n",
        "    multiclass_metrics = MulticlassMetrics(predictionAndLabels)\n",
        "    confusion_matrix = multiclass_metrics.confusionMatrix().toArray()\n",
        "\n",
        "    label_counts = predictionAndLabels.map(lambda x: (x[1], 1)).reduceByKey(lambda x, y: x + y).collectAsMap()\n",
        "    support = {label: label_counts.get(label, 0) for label in class_labels}\n",
        "\n",
        "    # Print Metrics per Class as a Table\n",
        "    metrics_table = pd.DataFrame.from_dict(metrics, orient=\"index\")\n",
        "    print(\"Metrics per Class:\")\n",
        "    print(metrics_table)\n",
        "\n",
        "    # Print Support as a Table\n",
        "    support_table = pd.DataFrame.from_dict(support, orient=\"index\", columns=[\"Support\"])\n",
        "    print(\"Support:\")\n",
        "    print(support_table)\n",
        "\n",
        "    # Plot Confusion Matrix\n",
        "    fig, ax = plt.subplots()\n",
        "    im = ax.imshow(confusion_matrix, cmap=\"Blues\")\n",
        "\n",
        "    # Create tick labels\n",
        "    tick_labels = np.arange(len(class_labels))\n",
        "    ax.set_xticks(tick_labels)\n",
        "    ax.set_yticks(tick_labels)\n",
        "    ax.set_xticklabels(class_labels, rotation=45)\n",
        "    ax.set_yticklabels(class_labels)\n",
        "    plt.xlabel(\"Predicted\")\n",
        "    plt.ylabel(\"Actual\")\n",
        "\n",
        "    # Add colorbar\n",
        "    cbar = ax.figure.colorbar(im, ax=ax)\n",
        "    cbar.ax.set_ylabel(\"Count\", rotation=-90, va=\"bottom\")\n",
        "\n",
        "    # Add value annotations\n",
        "    for i in range(len(class_labels)):\n",
        "        for j in range(len(class_labels)):\n",
        "            text = ax.text(j, i, int(confusion_matrix[i, j]), ha=\"center\", va=\"center\", color=\"w\")\n",
        "\n",
        "    plt.title(\"Confusion Matrix\")\n",
        "    \n",
        "    # Save the metrics and confusion matrix plots to the specified file path\n",
        "    metrics_table.to_csv(file_Path + \"/metrics.csv\")\n",
        "    plt.savefig(file_Path + \"/confusion_matrix.png\")\n",
        "\n",
        "    # Close the figure to free up resources\n",
        "    plt.close()\n"
      ]
    },
    {
      "cell_type": "code",
      "execution_count": 54,
      "metadata": {},
      "outputs": [],
      "source": [
        "x_train, x_test, y_train, y_test = split_data(mega_dataframe)\n",
        "\n",
        "dt_model = build_decision_tree_model(x_train, y_train)\n",
        "\n",
        "svm_model = build_svm_model(x_train, y_train)"
      ]
    },
    {
      "cell_type": "code",
      "execution_count": 55,
      "metadata": {},
      "outputs": [
        {
          "name": "stderr",
          "output_type": "stream",
          "text": [
            "/Users/zanzver/opt/anaconda3/lib/python3.8/site-packages/pyspark/sql/context.py:157: FutureWarning:\n",
            "\n",
            "Deprecated in 3.0.0. Use SparkSession.builder.getOrCreate() instead.\n",
            "\n"
          ]
        },
        {
          "name": "stdout",
          "output_type": "stream",
          "text": [
            "Metrics per Class:\n",
            "     accuracy  precision  recall  f1-score\n",
            "0.0       1.0        1.0     1.0       1.0\n",
            "1.0       1.0        1.0     1.0       1.0\n",
            "4.0       1.0        1.0     1.0       1.0\n",
            "3.0       1.0        1.0     1.0       1.0\n",
            "2.0       1.0        1.0     1.0       1.0\n",
            "5.0       1.0        1.0     1.0       1.0\n",
            "Support:\n",
            "     Support\n",
            "0.0      830\n",
            "1.0      696\n",
            "4.0       62\n",
            "3.0      122\n",
            "2.0      264\n",
            "5.0       34\n"
          ]
        }
      ],
      "source": [
        "evaluate_model(dt_model, x_test, y_test, file_Path = \"Models/Classification/DecisionTree\")"
      ]
    },
    {
      "cell_type": "code",
      "execution_count": 56,
      "metadata": {},
      "outputs": [
        {
          "name": "stderr",
          "output_type": "stream",
          "text": [
            "/Users/zanzver/opt/anaconda3/lib/python3.8/site-packages/pyspark/sql/context.py:157: FutureWarning:\n",
            "\n",
            "Deprecated in 3.0.0. Use SparkSession.builder.getOrCreate() instead.\n",
            "\n"
          ]
        },
        {
          "name": "stdout",
          "output_type": "stream",
          "text": [
            "Metrics per Class:\n",
            "     accuracy  precision    recall  f1-score\n",
            "0.0  0.575697   0.465366  0.575697  0.489153\n",
            "1.0  0.575697   0.465366  0.575697  0.489153\n",
            "4.0  0.575697   0.465366  0.575697  0.489153\n",
            "3.0  0.575697   0.465366  0.575697  0.489153\n",
            "2.0  0.575697   0.465366  0.575697  0.489153\n",
            "5.0  0.575697   0.465366  0.575697  0.489153\n",
            "Support:\n",
            "     Support\n",
            "0.0      830\n",
            "1.0      696\n",
            "4.0       62\n",
            "3.0      122\n",
            "2.0      264\n",
            "5.0       34\n"
          ]
        }
      ],
      "source": [
        "\n",
        "evaluate_model(svm_model, x_test, y_test, file_Path = \"Models/Classification/SVM\")"
      ]
    },
    {
      "attachments": {},
      "cell_type": "markdown",
      "metadata": {},
      "source": [
        "## Clustering"
      ]
    },
    {
      "cell_type": "code",
      "execution_count": 57,
      "metadata": {},
      "outputs": [],
      "source": [
        "import matplotlib.pyplot as plt\n",
        "import numpy as np\n",
        "from pyspark.ml.feature import VectorAssembler\n",
        "from pyspark.ml.clustering import KMeans\n",
        "from pyspark.sql.functions import col\n",
        "from pyspark.ml.evaluation import ClusteringEvaluator\n",
        "import matplotlib.pyplot as plt\n",
        "import numpy as np\n",
        "from pyspark.ml.feature import VectorAssembler\n",
        "from pyspark.ml.clustering import GaussianMixture\n",
        "from pyspark.sql.functions import col\n",
        "from pyspark.ml.evaluation import ClusteringEvaluator\n",
        "\n",
        "def train_test_split(dataframe, test_ratio=0.2):\n",
        "    # Convert the 'strength' column to a numerical data type\n",
        "    dataframe = dataframe.withColumn('strength', col('strength').cast('double'))\n",
        "\n",
        "    # Split the data into training and testing sets\n",
        "    train_df, test_df = dataframe.randomSplit([1 - test_ratio, test_ratio], seed=42)\n",
        "\n",
        "    return train_df, test_df\n",
        "\n",
        "def create_kmeans_model(train_df, test_df, k):\n",
        "    # Create a VectorAssembler to combine features into a single vector column\n",
        "    assembler = VectorAssembler(inputCols=['strength'], outputCol='features')\n",
        "\n",
        "    # Assemble the features for training data\n",
        "    x_train = assembler.transform(train_df).select('features')\n",
        "\n",
        "    # Assemble the features for testing data\n",
        "    x_test = assembler.transform(test_df).select('features')\n",
        "\n",
        "    # Create a KMeans instance with the given k value\n",
        "    kmeans = KMeans(k=k, seed=42)\n",
        "\n",
        "    # Fit the model on the training data\n",
        "    model = kmeans.fit(x_train)\n",
        "\n",
        "    # Make predictions on the testing data\n",
        "    predictions = model.transform(x_test)\n",
        "\n",
        "    return predictions\n",
        "\n",
        "def create_gmm_model(train_df, test_df, k):\n",
        "    # Create a VectorAssembler to combine features into a single vector column\n",
        "    assembler = VectorAssembler(inputCols=['strength'], outputCol='features')\n",
        "\n",
        "    # Assemble the features for training data\n",
        "    x_train = assembler.transform(train_df).select('features')\n",
        "\n",
        "    # Assemble the features for testing data\n",
        "    x_test = assembler.transform(test_df).select('features')\n",
        "\n",
        "    # Create a KMeans instance with the given k value\n",
        "    gmm = GaussianMixture(k=k, seed=42)\n",
        "\n",
        "    # Fit the model on the training data\n",
        "    model = gmm.fit(x_train)\n",
        "\n",
        "    # Make predictions on the testing data\n",
        "    predictions = model.transform(x_test)\n",
        "\n",
        "    return predictions\n",
        "\n",
        "def evaluate_kmeans_model(train_df, test_df, max_k, file_Path):\n",
        "    # Store the Silhouette scores for different k values\n",
        "    silhouette_scores = []\n",
        "\n",
        "    for k in range(2, max_k + 1):\n",
        "        # Predict platform type using the given k value\n",
        "        predictions = create_kmeans_model(train_df, test_df, k)\n",
        "\n",
        "        # Evaluate the clustering model using Silhouette score\n",
        "        evaluator = ClusteringEvaluator()\n",
        "\n",
        "        # Calculate the Silhouette score\n",
        "        silhouette = evaluator.evaluate(predictions)\n",
        "\n",
        "        silhouette_scores.append(silhouette)\n",
        "\n",
        "    # Plot the Silhouette scores\n",
        "    plt.plot(range(2, max_k + 1), silhouette_scores, marker='o')\n",
        "    plt.xlabel('Number of Clusters (k)')\n",
        "    plt.ylabel('Silhouette Score')\n",
        "    plt.title('Silhouette Score vs. Number of Clusters')\n",
        "\n",
        "    # Save the plot to the specified file path\n",
        "    plt.savefig(file_Path)\n",
        "\n",
        "    # Close the plot\n",
        "    plt.close()\n",
        "\n",
        "\n",
        "\n",
        "def evaluate_gmm_model(train_df, test_df, max_k, file_Path):\n",
        "    # Store the Silhouette scores for different k values\n",
        "    silhouette_scores = []\n",
        "\n",
        "    for k in range(2, max_k + 1):\n",
        "        # Predict platform type using the given k value\n",
        "        predictions = create_gmm_model(train_df, test_df, k)\n",
        "\n",
        "        # Evaluate the clustering model using Silhouette score\n",
        "        evaluator = ClusteringEvaluator()\n",
        "\n",
        "        # Calculate the Silhouette score\n",
        "        silhouette = evaluator.evaluate(predictions)\n",
        "\n",
        "        silhouette_scores.append(silhouette)\n",
        "\n",
        "    # Plot the Silhouette scores\n",
        "    plt.plot(range(2, max_k + 1), silhouette_scores, marker='o')\n",
        "    plt.xlabel('Number of Clusters (k)')\n",
        "    plt.ylabel('Silhouette Score')\n",
        "    plt.title('Silhouette Score vs. Number of Clusters')\n",
        "\n",
        "    # Save the plot to the specified file path\n",
        "    plt.savefig(file_Path)\n",
        "\n",
        "    # Close the plot\n",
        "    plt.close()\n",
        "\n",
        "\n",
        "# Assuming 'df' is your input DataFrame\n",
        "train_df, test_df = train_test_split(mega_dataframe)\n",
        "\n",
        "# Assuming 'df' is your input DataFrame\n",
        "train_df, test_df = train_test_split(mega_dataframe)\n",
        "\n",
        "# Evaluate the clustering model and plot the graph\n",
        "#evaluate_model(train_df, test_df, 10, 10)\n",
        "evaluate_kmeans_model(train_df, test_df, 50, file_Path = \"Models/Clustering/kmenas\")\n",
        "evaluate_gmm_model(train_df, test_df, 200, file_Path = \"Models/Clustering/gmm\")\n"
      ]
    },
    {
      "attachments": {},
      "cell_type": "markdown",
      "metadata": {
        "id": "_oEr1DHBnEzG"
      },
      "source": [
        "# Testing"
      ]
    },
    {
      "cell_type": "code",
      "execution_count": null,
      "metadata": {
        "colab": {
          "base_uri": "https://localhost:8080/"
        },
        "id": "4gDyUCCNmmdE",
        "outputId": "2eaeb2d7-2af5-4552-9827-70abadc601bc"
      },
      "outputs": [],
      "source": [
        "data_chat_join_team_chat.show()\n",
        "data_chat_join_team_chat.printSchema()\n",
        "\n",
        "data_chat_leave_team_chat.show()\n",
        "data_chat_leave_team_chat.printSchema()\n",
        "\n",
        "data_chat_mention_team_chat.show()\n",
        "data_chat_mention_team_chat.printSchema()\n",
        "\n",
        "data_chat_respond_team_chat.show()\n",
        "data_chat_respond_team_chat.printSchema()\n",
        "\n",
        "data_ad_clicks.show()\n",
        "data_ad_clicks.printSchema()\n",
        "\n",
        "data_buy_clicks.show()\n",
        "data_buy_clicks.printSchema()\n",
        "\n",
        "data_combined_data.show()\n",
        "data_combined_data.printSchema()\n",
        "\n",
        "data_game_clicks.show()\n",
        "data_game_clicks.printSchema()\n",
        "\n",
        "data_level_events.show()\n",
        "data_level_events.printSchema()\n",
        "\n",
        "data_team_assignments.show()\n",
        "data_team_assignments.printSchema()\n",
        "\n",
        "data_team.show()\n",
        "data_team.printSchema()\n",
        "\n",
        "data_user_session.show()\n",
        "data_user_session.printSchema()\n",
        "\n",
        "data_users.show()\n",
        "data_users.printSchema()"
      ]
    },
    {
      "cell_type": "code",
      "execution_count": null,
      "metadata": {},
      "outputs": [],
      "source": []
    },
    {
      "cell_type": "code",
      "execution_count": null,
      "metadata": {},
      "outputs": [],
      "source": [
        "\n",
        "\n",
        "#joined_df = data_ad_clicks.join(data_buy_clicks, data_ad_clicks.userId == data_buy_clicks.userId, 'full')\n",
        "#joined_df.show()"
      ]
    }
  ],
  "metadata": {
    "colab": {
      "collapsed_sections": [
        "sVq6Gj3pFB5y",
        "EAXV4gTbG5zH",
        "49TkXBaKGz8q",
        "-2X1B-vTJmGm",
        "dOAfTMe6pv8G",
        "RgOuld40s2nB",
        "C3n7U-59_Z4m",
        "s_WUQoQ0_dXA",
        "svkVK29P_hZn",
        "udqShxwt_nKX",
        "V4RxktLq_qL1",
        "FgdSMzLz_1jx",
        "XPK7kBI2_4Jq",
        "Q9UKQQge_5xj",
        "HIHR6bkZllRw"
      ],
      "provenance": []
    },
    "kernelspec": {
      "display_name": "Python 3",
      "name": "python3"
    },
    "language_info": {
      "codemirror_mode": {
        "name": "ipython",
        "version": 3
      },
      "file_extension": ".py",
      "mimetype": "text/x-python",
      "name": "python",
      "nbconvert_exporter": "python",
      "pygments_lexer": "ipython3",
      "version": "3.8.8"
    }
  },
  "nbformat": 4,
  "nbformat_minor": 0
}
